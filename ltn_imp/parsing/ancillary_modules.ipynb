{
 "cells": [
  {
   "cell_type": "code",
   "execution_count": 1,
   "metadata": {},
   "outputs": [],
   "source": [
    "from ltn_imp.parsing.expression_transformations import transform\n",
    "from nltk.sem.logic import Expression # type: ignore"
   ]
  },
  {
   "cell_type": "code",
   "execution_count": 2,
   "metadata": {},
   "outputs": [],
   "source": [
    "rules = [ Expression.fromstring( transform(\"forall t1 b1 t2 b2. in(t1, b1, t2, b2) <-> (t1 < t2 and b1 < b2)\")),\n",
    "        Expression.fromstring( transform(\"forall t1 b1 t2 b2. in(t1, b1, t2, b2) -> (t1 < t2 and b1 < b2)\")) ]"
   ]
  },
  {
   "cell_type": "code",
   "execution_count": 3,
   "metadata": {},
   "outputs": [],
   "source": [
    "set = {}\n",
    "for rule in rules:\n",
    "    set[rule] = {str(predicate) for predicate in rule.predicates()}"
   ]
  },
  {
   "cell_type": "code",
   "execution_count": 4,
   "metadata": {},
   "outputs": [],
   "source": [
    "candidates = []\n",
    "for rule in rules:\n",
    "    if \"in\" in set[rule]:\n",
    "        candidates.append(rule)"
   ]
  },
  {
   "cell_type": "code",
   "execution_count": 5,
   "metadata": {},
   "outputs": [
    {
     "data": {
      "text/plain": [
       "[nltk.sem.logic.IffExpression, nltk.sem.logic.ImpExpression]"
      ]
     },
     "execution_count": 5,
     "metadata": {},
     "output_type": "execute_result"
    }
   ],
   "source": [
    "[type(rule) for rule in candidates]"
   ]
  },
  {
   "cell_type": "code",
   "execution_count": 6,
   "metadata": {},
   "outputs": [
    {
     "data": {
      "text/plain": [
       "'in(t1,b1,t2,b2)'"
      ]
     },
     "execution_count": 6,
     "metadata": {},
     "output_type": "execute_result"
    }
   ],
   "source": [
    "str( rules[0].first.term.term.term.term )"
   ]
  }
 ],
 "metadata": {
  "kernelspec": {
   "display_name": ".venv",
   "language": "python",
   "name": "python3"
  },
  "language_info": {
   "codemirror_mode": {
    "name": "ipython",
    "version": 3
   },
   "file_extension": ".py",
   "mimetype": "text/x-python",
   "name": "python",
   "nbconvert_exporter": "python",
   "pygments_lexer": "ipython3",
   "version": "3.12.4"
  }
 },
 "nbformat": 4,
 "nbformat_minor": 2
}
