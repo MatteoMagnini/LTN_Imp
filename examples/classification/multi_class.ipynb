{
 "cells": [
  {
   "cell_type": "code",
   "execution_count": null,
   "metadata": {
    "ExecuteTime": {
     "end_time": "2024-08-08T08:56:19.138449Z",
     "start_time": "2024-08-08T08:56:17.175083Z"
    }
   },
   "outputs": [],
   "source": [
    "import torch\n",
    "import pandas as pd\n",
    "import numpy as np\n",
    "\n",
    "from ltn_imp.automation.knowledge_base import KnowledgeBase\n",
    "from ltn_imp.automation.data_loaders import LoaderWrapper"
   ]
  },
  {
   "cell_type": "markdown",
   "metadata": {},
   "source": [
    "## Data Preparation"
   ]
  },
  {
   "cell_type": "code",
   "execution_count": null,
   "metadata": {
    "ExecuteTime": {
     "end_time": "2024-08-08T08:56:20.649886Z",
     "start_time": "2024-08-08T08:56:19.140967Z"
    }
   },
   "outputs": [],
   "source": [
    "!poetry run poe download-class-datasets"
   ]
  },
  {
   "cell_type": "code",
   "execution_count": null,
   "metadata": {
    "ExecuteTime": {
     "end_time": "2024-08-08T08:56:20.691280Z",
     "start_time": "2024-08-08T08:56:20.687338Z"
    }
   },
   "outputs": [],
   "source": [
    "def compute_accuracy(loader, model, num_classes):\n",
    "    class_correct = np.zeros(num_classes)\n",
    "    class_total = np.zeros(num_classes)\n",
    "\n",
    "    for data, labels in loader:\n",
    "        predictions = model(data).detach().numpy()\n",
    "        predictions = np.argmax(predictions, axis=1)\n",
    "        labels = labels.numpy()  # Convert labels to numpy array\n",
    "\n",
    "        for i in range(num_classes):\n",
    "            class_mask = (labels == i)\n",
    "            class_correct[i] += np.sum(predictions[class_mask] == labels[class_mask])\n",
    "            class_total[i] += np.sum(class_mask)\n",
    "\n",
    "    class_accuracy = class_correct / class_total\n",
    "\n",
    "    # Print accuracy for each class\n",
    "    for i in range(num_classes):\n",
    "        print(f'Accuracy for class {i}: {class_accuracy[i]:.2f}')\n",
    "\n",
    "    # Compute and print general accuracy\n",
    "    overall_accuracy = np.sum(class_correct) / np.sum(class_total)\n",
    "    print(f'Overall accuracy: {overall_accuracy:.2f}')"
   ]
  },
  {
   "cell_type": "code",
   "execution_count": null,
   "metadata": {},
   "outputs": [],
   "source": [
    "kb = KnowledgeBase(\"multi_config.yaml\")"
   ]
  },
  {
   "cell_type": "markdown",
   "metadata": {},
   "source": [
    "## My Implementation"
   ]
  },
  {
   "cell_type": "code",
   "execution_count": null,
   "metadata": {
    "ExecuteTime": {
     "end_time": "2024-08-08T08:56:20.703113Z",
     "start_time": "2024-08-08T08:56:20.698712Z"
    }
   },
   "outputs": [],
   "source": [
    "compute_accuracy(kb.loaders[0], model = kb.predicates[\"Iris\"], num_classes=3)"
   ]
  },
  {
   "cell_type": "code",
   "execution_count": null,
   "metadata": {
    "ExecuteTime": {
     "end_time": "2024-08-08T08:56:24.332425Z",
     "start_time": "2024-08-08T08:56:20.714998Z"
    }
   },
   "outputs": [],
   "source": [
    "kb.optimize(num_epochs=801, log_steps=200)"
   ]
  },
  {
   "cell_type": "code",
   "execution_count": null,
   "metadata": {
    "ExecuteTime": {
     "end_time": "2024-08-08T08:56:24.347324Z",
     "start_time": "2024-08-08T08:56:24.343802Z"
    }
   },
   "outputs": [],
   "source": [
    "compute_accuracy(kb.loaders[0], model = kb.predicates[\"Iris\"], num_classes=3)"
   ]
  },
  {
   "cell_type": "markdown",
   "metadata": {},
   "source": [
    "## Computation Graph "
   ]
  },
  {
   "cell_type": "code",
   "execution_count": null,
   "metadata": {
    "ExecuteTime": {
     "end_time": "2024-08-08T08:56:24.611771Z",
     "start_time": "2024-08-08T08:56:24.348654Z"
    }
   },
   "outputs": [],
   "source": [
    "batch = next(iter(kb.loaders[0]))\n",
    "\n",
    "var_mapping = {}\n",
    "\n",
    "kb.partition_data(var_mapping,batch, kb.loaders[0] )\n",
    "\n",
    "kb.rules[0].comp_graph(var_mapping)"
   ]
  },
  {
   "cell_type": "code",
   "execution_count": null,
   "metadata": {},
   "outputs": [],
   "source": []
  }
 ],
 "metadata": {
  "kernelspec": {
   "display_name": ".venv",
   "language": "python",
   "name": "python3"
  },
  "language_info": {
   "codemirror_mode": {
    "name": "ipython",
    "version": 3
   },
   "file_extension": ".py",
   "mimetype": "text/x-python",
   "name": "python",
   "nbconvert_exporter": "python",
   "pygments_lexer": "ipython3",
   "version": "3.12.4"
  }
 },
 "nbformat": 4,
 "nbformat_minor": 2
}
