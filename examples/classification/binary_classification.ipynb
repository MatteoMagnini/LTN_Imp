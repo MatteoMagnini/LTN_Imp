{
 "cells": [
  {
   "cell_type": "code",
   "execution_count": 1,
   "metadata": {
    "ExecuteTime": {
     "end_time": "2024-08-08T08:56:08.310959Z",
     "start_time": "2024-08-08T08:56:07.448217Z"
    }
   },
   "outputs": [],
   "source": [
    "import torch\n",
    "import numpy as np\n",
    "from ltn_imp.automation.knowledge_base import KnowledgeBase\n",
    "from ltn_imp.automation.data_loaders import LoaderWrapper"
   ]
  },
  {
   "cell_type": "markdown",
   "metadata": {},
   "source": [
    "## Data and Model Preparation"
   ]
  },
  {
   "cell_type": "code",
   "execution_count": 2,
   "metadata": {
    "ExecuteTime": {
     "end_time": "2024-08-08T08:56:08.317938Z",
     "start_time": "2024-08-08T08:56:08.312886Z"
    }
   },
   "outputs": [],
   "source": [
    "nr_samples = 100\n",
    "dataset = torch.rand((nr_samples, 2))\n",
    "labels_dataset = torch.sum(torch.square(dataset - torch.tensor([.5, .5])), dim=1) < .09"
   ]
  },
  {
   "cell_type": "code",
   "execution_count": 3,
   "metadata": {
    "ExecuteTime": {
     "end_time": "2024-08-08T08:56:08.324149Z",
     "start_time": "2024-08-08T08:56:08.319022Z"
    }
   },
   "outputs": [
    {
     "name": "stderr",
     "output_type": "stream",
     "text": [
      "/var/folders/mv/_dg3pqgn2zdf7f95_1dg07rw0000gn/T/ipykernel_55619/118873506.py:28: UserWarning: To copy construct from a tensor, it is recommended to use sourceTensor.clone().detach() or sourceTensor.clone().detach().requires_grad_(True), rather than torch.tensor(sourceTensor).\n",
      "  train_labels = torch.tensor(labels_dataset[:50], dtype=torch.float32)\n",
      "/var/folders/mv/_dg3pqgn2zdf7f95_1dg07rw0000gn/T/ipykernel_55619/118873506.py:29: UserWarning: To copy construct from a tensor, it is recommended to use sourceTensor.clone().detach() or sourceTensor.clone().detach().requires_grad_(True), rather than torch.tensor(sourceTensor).\n",
      "  test_labels = torch.tensor(labels_dataset[50:],  dtype=torch.float32)\n"
     ]
    }
   ],
   "source": [
    "class DataLoader(object):\n",
    "    def __init__(self,\n",
    "                 data,\n",
    "                 labels,\n",
    "                 batch_size=1,\n",
    "                 shuffle=True):\n",
    "        \n",
    "        self.data = data\n",
    "        self.labels = labels\n",
    "        self.batch_size = batch_size\n",
    "        self.shuffle = shuffle\n",
    "\n",
    "    def __len__(self):\n",
    "        return int(np.ceil(self.data.shape[0] / self.batch_size))\n",
    "\n",
    "    def __iter__(self):\n",
    "        n = self.data.shape[0]\n",
    "        idxlist = list(range(n))\n",
    "        if self.shuffle:\n",
    "            np.random.shuffle(idxlist)\n",
    "\n",
    "        for _, start_idx in enumerate(range(0, n, self.batch_size)):\n",
    "            end_idx = min(start_idx + self.batch_size, n)\n",
    "            data = self.data[idxlist[start_idx:end_idx]]\n",
    "            labels = self.labels[idxlist[start_idx:end_idx]]\n",
    "            yield data, labels\n",
    "            \n",
    "train_labels = torch.tensor(labels_dataset[:50], dtype=torch.float32)\n",
    "test_labels = torch.tensor(labels_dataset[50:],  dtype=torch.float32)\n",
    "\n",
    "train_loader = DataLoader(dataset[:50], train_labels, batch_size=64, shuffle=True)\n",
    "test_loader = DataLoader(dataset[50:], test_labels, batch_size=64, shuffle=False)"
   ]
  },
  {
   "cell_type": "code",
   "execution_count": 4,
   "metadata": {
    "ExecuteTime": {
     "end_time": "2024-08-08T08:56:08.330516Z",
     "start_time": "2024-08-08T08:56:08.325678Z"
    }
   },
   "outputs": [],
   "source": [
    "import torch.nn as nn \n",
    "\n",
    "class ModelA(nn.Module):\n",
    "    def __init__(self):\n",
    "        super(ModelA, self).__init__()\n",
    "        self.elu = nn.ELU()\n",
    "        self.layer1 = nn.Linear(2, 16)\n",
    "        self.layer2 = nn.Linear(16, 16)\n",
    "        self.layer3 = nn.Linear(16, 1)  # Output a single value per input\n",
    "        self.sigmoid = nn.Sigmoid()\n",
    "\n",
    "    def forward(self, x):\n",
    "        x = self.elu(self.layer1(x))\n",
    "        x = self.elu(self.layer2(x))\n",
    "        logits = self.layer3(x)\n",
    "        probs = self.sigmoid(logits)\n",
    "        return probs\n",
    "\n",
    "    def predict(self, x):\n",
    "        probs = self.forward(x)\n",
    "        preds = (probs > 0.49999).float()\n",
    "        return preds\n",
    "\n",
    "    def compute_accuracy(self, data_loader):\n",
    "        correct = 0\n",
    "        total = 0\n",
    "        \n",
    "        with torch.no_grad():\n",
    "            for data, labels in data_loader:\n",
    "                preds = self.predict(data)\n",
    "                predicted_labels = preds.squeeze()\n",
    "                true_labels = labels.float()\n",
    "                correct += (predicted_labels == true_labels).sum().item()\n",
    "                total += labels.size(0)\n",
    "\n",
    "        accuracy = correct / total\n",
    "        return accuracy"
   ]
  },
  {
   "cell_type": "markdown",
   "metadata": {},
   "source": [
    "## My Implementation "
   ]
  },
  {
   "cell_type": "code",
   "execution_count": 5,
   "metadata": {
    "ExecuteTime": {
     "end_time": "2024-08-08T08:56:08.353368Z",
     "start_time": "2024-08-08T08:56:08.333858Z"
    }
   },
   "outputs": [
    {
     "data": {
      "text/plain": [
       "0.22"
      ]
     },
     "execution_count": 5,
     "metadata": {},
     "output_type": "execute_result"
    }
   ],
   "source": [
    "a = ModelA() \n",
    "a.compute_accuracy(train_loader)"
   ]
  },
  {
   "cell_type": "code",
   "execution_count": 6,
   "metadata": {
    "ExecuteTime": {
     "end_time": "2024-08-08T08:56:08.359497Z",
     "start_time": "2024-08-08T08:56:08.355134Z"
    }
   },
   "outputs": [
    {
     "data": {
      "text/plain": [
       "0.22"
      ]
     },
     "execution_count": 6,
     "metadata": {},
     "output_type": "execute_result"
    }
   ],
   "source": [
    "a.compute_accuracy(test_loader)"
   ]
  },
  {
   "cell_type": "code",
   "execution_count": 7,
   "metadata": {
    "ExecuteTime": {
     "end_time": "2024-08-08T08:56:09.164858Z",
     "start_time": "2024-08-08T08:56:08.360638Z"
    }
   },
   "outputs": [],
   "source": [
    "loaders = [LoaderWrapper(loader=train_loader, variables=[\"x\"], targets=[\"y\"])]\n",
    "\n",
    "predicates = {\n",
    "    \"Classifier\": a\n",
    "}\n",
    "\n",
    "constant_mapping = {\n",
    "    \"pos\": torch.tensor([1.]),\n",
    "    \"neg\": torch.tensor([0.])\n",
    "}\n",
    "\n",
    "kb = KnowledgeBase(\"binary_config.yaml\", predicates, loaders, constant_mapping)"
   ]
  },
  {
   "cell_type": "code",
   "execution_count": 8,
   "metadata": {},
   "outputs": [
    {
     "data": {
      "text/plain": [
       "{'Classifier': ModelA(\n",
       "   (elu): ELU(alpha=1.0)\n",
       "   (layer1): Linear(in_features=2, out_features=16, bias=True)\n",
       "   (layer2): Linear(in_features=16, out_features=16, bias=True)\n",
       "   (layer3): Linear(in_features=16, out_features=1, bias=True)\n",
       "   (sigmoid): Sigmoid()\n",
       " )}"
      ]
     },
     "execution_count": 8,
     "metadata": {},
     "output_type": "execute_result"
    }
   ],
   "source": [
    "kb.predicates"
   ]
  },
  {
   "cell_type": "code",
   "execution_count": 9,
   "metadata": {},
   "outputs": [
    {
     "data": {
      "text/plain": [
       "[∀ x.(((y == pos) -> Classifier(x))), ∀ x.(((y == neg) -> ~(Classifier(x))))]"
      ]
     },
     "execution_count": 9,
     "metadata": {},
     "output_type": "execute_result"
    }
   ],
   "source": [
    "kb.rules"
   ]
  },
  {
   "cell_type": "code",
   "execution_count": 10,
   "metadata": {},
   "outputs": [
    {
     "data": {
      "text/plain": [
       "{∀ x.(((y == pos) -> Classifier(x))): [ <Loader>:(['x'] -> ['y']),\n",
       "   <Loader>:(['x'] -> ['y'])],\n",
       " ∀ x.(((y == neg) -> ~(Classifier(x)))): [ <Loader>:(['x'] -> ['y']),\n",
       "   <Loader>:(['x'] -> ['y'])]}"
      ]
     },
     "execution_count": 10,
     "metadata": {},
     "output_type": "execute_result"
    }
   ],
   "source": [
    "kb.rule_to_data_loader_mapping"
   ]
  },
  {
   "cell_type": "code",
   "execution_count": 11,
   "metadata": {
    "ExecuteTime": {
     "end_time": "2024-08-08T08:56:11.145967Z",
     "start_time": "2024-08-08T08:56:09.166004Z"
    }
   },
   "outputs": [
    {
     "name": "stdout",
     "output_type": "stream",
     "text": [
      "['∀ x.(((y == pos) -> Classifier(x)))', '∀ x.(((y == neg) -> ~(Classifier(x))))']\n",
      "Rule Outputs:  [tensor(0.5735, grad_fn=<RsubBackward1>), tensor(0.4750, grad_fn=<RsubBackward1>)]\n",
      "Epoch 1/2001, Loss: 0.47826921939849854\n",
      "\n",
      "['∀ x.(((y == pos) -> Classifier(x)))', '∀ x.(((y == neg) -> ~(Classifier(x))))']\n",
      "Rule Outputs:  [tensor(0.4665, grad_fn=<RsubBackward1>), tensor(0.8181, grad_fn=<RsubBackward1>)]\n",
      "Epoch 501/2001, Loss: 0.3985416293144226\n",
      "\n",
      "['∀ x.(((y == pos) -> Classifier(x)))', '∀ x.(((y == neg) -> ~(Classifier(x))))']\n",
      "Rule Outputs:  [tensor(0.4788, grad_fn=<RsubBackward1>), tensor(0.8079, grad_fn=<RsubBackward1>)]\n",
      "Epoch 1001/2001, Loss: 0.3927980661392212\n",
      "\n",
      "['∀ x.(((y == pos) -> Classifier(x)))', '∀ x.(((y == neg) -> ~(Classifier(x))))']\n",
      "Rule Outputs:  [tensor(0.5991, grad_fn=<RsubBackward1>), tensor(0.7545, grad_fn=<RsubBackward1>)]\n",
      "Epoch 1501/2001, Loss: 0.3323928117752075\n",
      "\n",
      "['∀ x.(((y == pos) -> Classifier(x)))', '∀ x.(((y == neg) -> ~(Classifier(x))))']\n",
      "Rule Outputs:  [tensor(0.6187, grad_fn=<RsubBackward1>), tensor(0.7854, grad_fn=<RsubBackward1>)]\n",
      "Epoch 2001/2001, Loss: 0.30939894914627075\n",
      "\n"
     ]
    }
   ],
   "source": [
    "kb.optimize(num_epochs=2001, log_steps=500)"
   ]
  },
  {
   "cell_type": "code",
   "execution_count": 12,
   "metadata": {
    "ExecuteTime": {
     "end_time": "2024-08-08T08:56:11.152303Z",
     "start_time": "2024-08-08T08:56:11.147582Z"
    }
   },
   "outputs": [
    {
     "data": {
      "text/plain": [
       "1.0"
      ]
     },
     "execution_count": 12,
     "metadata": {},
     "output_type": "execute_result"
    }
   ],
   "source": [
    "a.compute_accuracy(train_loader)"
   ]
  },
  {
   "cell_type": "code",
   "execution_count": 13,
   "metadata": {
    "ExecuteTime": {
     "end_time": "2024-08-08T08:56:11.159533Z",
     "start_time": "2024-08-08T08:56:11.154231Z"
    }
   },
   "outputs": [
    {
     "data": {
      "text/plain": [
       "0.98"
      ]
     },
     "execution_count": 13,
     "metadata": {},
     "output_type": "execute_result"
    }
   ],
   "source": [
    "a.compute_accuracy(test_loader)"
   ]
  },
  {
   "cell_type": "markdown",
   "metadata": {},
   "source": [
    "## Computation Graph"
   ]
  },
  {
   "cell_type": "code",
   "execution_count": 14,
   "metadata": {
    "ExecuteTime": {
     "end_time": "2024-08-08T08:56:11.401566Z",
     "start_time": "2024-08-08T08:56:11.161544Z"
    }
   },
   "outputs": [
    {
     "data": {
      "image/svg+xml": [
       "<?xml version=\"1.0\" encoding=\"UTF-8\" standalone=\"no\"?>\n",
       "<!DOCTYPE svg PUBLIC \"-//W3C//DTD SVG 1.1//EN\"\n",
       " \"http://www.w3.org/Graphics/SVG/1.1/DTD/svg11.dtd\">\n",
       "<!-- Generated by graphviz version 11.0.0 (20240428.1522)\n",
       " -->\n",
       "<!-- Pages: 1 -->\n",
       "<svg width=\"330pt\" height=\"864pt\"\n",
       " viewBox=\"0.00 0.00 330.11 864.00\" xmlns=\"http://www.w3.org/2000/svg\" xmlns:xlink=\"http://www.w3.org/1999/xlink\">\n",
       "<g id=\"graph0\" class=\"graph\" transform=\"scale(0.846436 0.846436) rotate(0) translate(4 1016.75)\">\n",
       "<polygon fill=\"white\" stroke=\"none\" points=\"-4,4 -4,-1016.75 386,-1016.75 386,4 -4,4\"/>\n",
       "<!-- 4708075872 -->\n",
       "<g id=\"node1\" class=\"node\">\n",
       "<title>4708075872</title>\n",
       "<polygon fill=\"#caff70\" stroke=\"black\" points=\"215,-32.75 161,-32.75 161,0 215,0 215,-32.75\"/>\n",
       "<text text-anchor=\"middle\" x=\"188\" y=\"-7.25\" font-family=\"monospace\" font-size=\"10.00\"> ()</text>\n",
       "</g>\n",
       "<!-- 4716058352 -->\n",
       "<g id=\"node2\" class=\"node\">\n",
       "<title>4716058352</title>\n",
       "<polygon fill=\"lightgrey\" stroke=\"black\" points=\"235,-89.5 141,-89.5 141,-68.75 235,-68.75 235,-89.5\"/>\n",
       "<text text-anchor=\"middle\" x=\"188\" y=\"-76\" font-family=\"monospace\" font-size=\"10.00\">RsubBackward1</text>\n",
       "</g>\n",
       "<!-- 4716058352&#45;&gt;4708075872 -->\n",
       "<g id=\"edge28\" class=\"edge\">\n",
       "<title>4716058352&#45;&gt;4708075872</title>\n",
       "<path fill=\"none\" stroke=\"black\" d=\"M188,-68.36C188,-61.89 188,-53.05 188,-44.55\"/>\n",
       "<polygon fill=\"black\" stroke=\"black\" points=\"191.5,-44.55 188,-34.55 184.5,-44.55 191.5,-44.55\"/>\n",
       "</g>\n",
       "<!-- 4727533536 -->\n",
       "<g id=\"node3\" class=\"node\">\n",
       "<title>4727533536</title>\n",
       "<polygon fill=\"lightgrey\" stroke=\"black\" points=\"232,-146.25 144,-146.25 144,-125.5 232,-125.5 232,-146.25\"/>\n",
       "<text text-anchor=\"middle\" x=\"188\" y=\"-132.75\" font-family=\"monospace\" font-size=\"10.00\">PowBackward0</text>\n",
       "</g>\n",
       "<!-- 4727533536&#45;&gt;4716058352 -->\n",
       "<g id=\"edge1\" class=\"edge\">\n",
       "<title>4727533536&#45;&gt;4716058352</title>\n",
       "<path fill=\"none\" stroke=\"black\" d=\"M188,-125.09C188,-118.47 188,-109.47 188,-101.27\"/>\n",
       "<polygon fill=\"black\" stroke=\"black\" points=\"191.5,-101.34 188,-91.34 184.5,-101.34 191.5,-101.34\"/>\n",
       "</g>\n",
       "<!-- 4717511584 -->\n",
       "<g id=\"node4\" class=\"node\">\n",
       "<title>4717511584</title>\n",
       "<polygon fill=\"lightgrey\" stroke=\"black\" points=\"232,-203 144,-203 144,-182.25 232,-182.25 232,-203\"/>\n",
       "<text text-anchor=\"middle\" x=\"188\" y=\"-189.5\" font-family=\"monospace\" font-size=\"10.00\">DivBackward0</text>\n",
       "</g>\n",
       "<!-- 4717511584&#45;&gt;4727533536 -->\n",
       "<g id=\"edge2\" class=\"edge\">\n",
       "<title>4717511584&#45;&gt;4727533536</title>\n",
       "<path fill=\"none\" stroke=\"black\" d=\"M188,-181.84C188,-175.22 188,-166.22 188,-158.02\"/>\n",
       "<polygon fill=\"black\" stroke=\"black\" points=\"191.5,-158.09 188,-148.09 184.5,-158.09 191.5,-158.09\"/>\n",
       "</g>\n",
       "<!-- 4756079472 -->\n",
       "<g id=\"node5\" class=\"node\">\n",
       "<title>4756079472</title>\n",
       "<polygon fill=\"lightgrey\" stroke=\"black\" points=\"232,-259.75 144,-259.75 144,-239 232,-239 232,-259.75\"/>\n",
       "<text text-anchor=\"middle\" x=\"188\" y=\"-246.25\" font-family=\"monospace\" font-size=\"10.00\">SumBackward1</text>\n",
       "</g>\n",
       "<!-- 4756079472&#45;&gt;4717511584 -->\n",
       "<g id=\"edge3\" class=\"edge\">\n",
       "<title>4756079472&#45;&gt;4717511584</title>\n",
       "<path fill=\"none\" stroke=\"black\" d=\"M188,-238.59C188,-231.97 188,-222.97 188,-214.77\"/>\n",
       "<polygon fill=\"black\" stroke=\"black\" points=\"191.5,-214.84 188,-204.84 184.5,-214.84 191.5,-214.84\"/>\n",
       "</g>\n",
       "<!-- 4756079376 -->\n",
       "<g id=\"node6\" class=\"node\">\n",
       "<title>4756079376</title>\n",
       "<polygon fill=\"lightgrey\" stroke=\"black\" points=\"232,-316.5 144,-316.5 144,-295.75 232,-295.75 232,-316.5\"/>\n",
       "<text text-anchor=\"middle\" x=\"188\" y=\"-303\" font-family=\"monospace\" font-size=\"10.00\">PowBackward0</text>\n",
       "</g>\n",
       "<!-- 4756079376&#45;&gt;4756079472 -->\n",
       "<g id=\"edge4\" class=\"edge\">\n",
       "<title>4756079376&#45;&gt;4756079472</title>\n",
       "<path fill=\"none\" stroke=\"black\" d=\"M188,-295.34C188,-288.72 188,-279.72 188,-271.52\"/>\n",
       "<polygon fill=\"black\" stroke=\"black\" points=\"191.5,-271.59 188,-261.59 184.5,-271.59 191.5,-271.59\"/>\n",
       "</g>\n",
       "<!-- 4756080192 -->\n",
       "<g id=\"node7\" class=\"node\">\n",
       "<title>4756080192</title>\n",
       "<polygon fill=\"lightgrey\" stroke=\"black\" points=\"235,-373.25 141,-373.25 141,-352.5 235,-352.5 235,-373.25\"/>\n",
       "<text text-anchor=\"middle\" x=\"188\" y=\"-359.75\" font-family=\"monospace\" font-size=\"10.00\">RsubBackward1</text>\n",
       "</g>\n",
       "<!-- 4756080192&#45;&gt;4756079376 -->\n",
       "<g id=\"edge5\" class=\"edge\">\n",
       "<title>4756080192&#45;&gt;4756079376</title>\n",
       "<path fill=\"none\" stroke=\"black\" d=\"M188,-352.09C188,-345.47 188,-336.47 188,-328.27\"/>\n",
       "<polygon fill=\"black\" stroke=\"black\" points=\"191.5,-328.34 188,-318.34 184.5,-328.34 191.5,-328.34\"/>\n",
       "</g>\n",
       "<!-- 4756079760 -->\n",
       "<g id=\"node8\" class=\"node\">\n",
       "<title>4756079760</title>\n",
       "<polygon fill=\"lightgrey\" stroke=\"black\" points=\"244,-430 132,-430 132,-409.25 244,-409.25 244,-430\"/>\n",
       "<text text-anchor=\"middle\" x=\"188\" y=\"-416.5\" font-family=\"monospace\" font-size=\"10.00\">MaximumBackward0</text>\n",
       "</g>\n",
       "<!-- 4756079760&#45;&gt;4756080192 -->\n",
       "<g id=\"edge6\" class=\"edge\">\n",
       "<title>4756079760&#45;&gt;4756080192</title>\n",
       "<path fill=\"none\" stroke=\"black\" d=\"M188,-408.84C188,-402.22 188,-393.22 188,-385.02\"/>\n",
       "<polygon fill=\"black\" stroke=\"black\" points=\"191.5,-385.09 188,-375.09 184.5,-385.09 191.5,-385.09\"/>\n",
       "</g>\n",
       "<!-- 4756079904 -->\n",
       "<g id=\"node9\" class=\"node\">\n",
       "<title>4756079904</title>\n",
       "<polygon fill=\"lightgrey\" stroke=\"black\" points=\"244,-486.75 132,-486.75 132,-466 244,-466 244,-486.75\"/>\n",
       "<text text-anchor=\"middle\" x=\"188\" y=\"-473.25\" font-family=\"monospace\" font-size=\"10.00\">SigmoidBackward0</text>\n",
       "</g>\n",
       "<!-- 4756079904&#45;&gt;4756079760 -->\n",
       "<g id=\"edge7\" class=\"edge\">\n",
       "<title>4756079904&#45;&gt;4756079760</title>\n",
       "<path fill=\"none\" stroke=\"black\" d=\"M188,-465.59C188,-458.97 188,-449.97 188,-441.77\"/>\n",
       "<polygon fill=\"black\" stroke=\"black\" points=\"191.5,-441.84 188,-431.84 184.5,-441.84 191.5,-441.84\"/>\n",
       "</g>\n",
       "<!-- 4756080240 -->\n",
       "<g id=\"node10\" class=\"node\">\n",
       "<title>4756080240</title>\n",
       "<polygon fill=\"lightgrey\" stroke=\"black\" points=\"238,-543.5 138,-543.5 138,-522.75 238,-522.75 238,-543.5\"/>\n",
       "<text text-anchor=\"middle\" x=\"188\" y=\"-530\" font-family=\"monospace\" font-size=\"10.00\">AddmmBackward0</text>\n",
       "</g>\n",
       "<!-- 4756080240&#45;&gt;4756079904 -->\n",
       "<g id=\"edge8\" class=\"edge\">\n",
       "<title>4756080240&#45;&gt;4756079904</title>\n",
       "<path fill=\"none\" stroke=\"black\" d=\"M188,-522.34C188,-515.72 188,-506.72 188,-498.52\"/>\n",
       "<polygon fill=\"black\" stroke=\"black\" points=\"191.5,-498.59 188,-488.59 184.5,-498.59 191.5,-498.59\"/>\n",
       "</g>\n",
       "<!-- 4756080336 -->\n",
       "<g id=\"node11\" class=\"node\">\n",
       "<title>4756080336</title>\n",
       "<polygon fill=\"lightgrey\" stroke=\"black\" points=\"126,-600.25 26,-600.25 26,-579.5 126,-579.5 126,-600.25\"/>\n",
       "<text text-anchor=\"middle\" x=\"76\" y=\"-586.75\" font-family=\"monospace\" font-size=\"10.00\">AccumulateGrad</text>\n",
       "</g>\n",
       "<!-- 4756080336&#45;&gt;4756080240 -->\n",
       "<g id=\"edge9\" class=\"edge\">\n",
       "<title>4756080336&#45;&gt;4756080240</title>\n",
       "<path fill=\"none\" stroke=\"black\" d=\"M96.02,-579.09C113.22,-570.68 138.28,-558.43 157.9,-548.84\"/>\n",
       "<polygon fill=\"black\" stroke=\"black\" points=\"159.34,-552.03 166.79,-544.49 156.27,-545.74 159.34,-552.03\"/>\n",
       "</g>\n",
       "<!-- 4708084112 -->\n",
       "<g id=\"node12\" class=\"node\">\n",
       "<title>4708084112</title>\n",
       "<polygon fill=\"lightblue\" stroke=\"black\" points=\"103,-669 49,-669 49,-636.25 103,-636.25 103,-669\"/>\n",
       "<text text-anchor=\"middle\" x=\"76\" y=\"-643.5\" font-family=\"monospace\" font-size=\"10.00\"> (1)</text>\n",
       "</g>\n",
       "<!-- 4708084112&#45;&gt;4756080336 -->\n",
       "<g id=\"edge10\" class=\"edge\">\n",
       "<title>4708084112&#45;&gt;4756080336</title>\n",
       "<path fill=\"none\" stroke=\"black\" d=\"M76,-635.98C76,-628.6 76,-619.68 76,-611.74\"/>\n",
       "<polygon fill=\"black\" stroke=\"black\" points=\"79.5,-611.91 76,-601.91 72.5,-611.91 79.5,-611.91\"/>\n",
       "</g>\n",
       "<!-- 4756080288 -->\n",
       "<g id=\"node13\" class=\"node\">\n",
       "<title>4756080288</title>\n",
       "<polygon fill=\"lightgrey\" stroke=\"black\" points=\"232,-600.25 144,-600.25 144,-579.5 232,-579.5 232,-600.25\"/>\n",
       "<text text-anchor=\"middle\" x=\"188\" y=\"-586.75\" font-family=\"monospace\" font-size=\"10.00\">EluBackward0</text>\n",
       "</g>\n",
       "<!-- 4756080288&#45;&gt;4756080240 -->\n",
       "<g id=\"edge11\" class=\"edge\">\n",
       "<title>4756080288&#45;&gt;4756080240</title>\n",
       "<path fill=\"none\" stroke=\"black\" d=\"M188,-579.09C188,-572.47 188,-563.47 188,-555.27\"/>\n",
       "<polygon fill=\"black\" stroke=\"black\" points=\"191.5,-555.34 188,-545.34 184.5,-555.34 191.5,-555.34\"/>\n",
       "</g>\n",
       "<!-- 4756080432 -->\n",
       "<g id=\"node14\" class=\"node\">\n",
       "<title>4756080432</title>\n",
       "<polygon fill=\"lightgrey\" stroke=\"black\" points=\"229,-663 129,-663 129,-642.25 229,-642.25 229,-663\"/>\n",
       "<text text-anchor=\"middle\" x=\"179\" y=\"-649.5\" font-family=\"monospace\" font-size=\"10.00\">AddmmBackward0</text>\n",
       "</g>\n",
       "<!-- 4756080432&#45;&gt;4756080288 -->\n",
       "<g id=\"edge12\" class=\"edge\">\n",
       "<title>4756080432&#45;&gt;4756080288</title>\n",
       "<path fill=\"none\" stroke=\"black\" d=\"M180.45,-641.86C181.65,-633.76 183.4,-621.94 184.91,-611.72\"/>\n",
       "<polygon fill=\"black\" stroke=\"black\" points=\"188.36,-612.31 186.37,-601.91 181.44,-611.29 188.36,-612.31\"/>\n",
       "</g>\n",
       "<!-- 4756080624 -->\n",
       "<g id=\"node15\" class=\"node\">\n",
       "<title>4756080624</title>\n",
       "<polygon fill=\"lightgrey\" stroke=\"black\" points=\"100,-731.75 0,-731.75 0,-711 100,-711 100,-731.75\"/>\n",
       "<text text-anchor=\"middle\" x=\"50\" y=\"-718.25\" font-family=\"monospace\" font-size=\"10.00\">AccumulateGrad</text>\n",
       "</g>\n",
       "<!-- 4756080624&#45;&gt;4756080432 -->\n",
       "<g id=\"edge13\" class=\"edge\">\n",
       "<title>4756080624&#45;&gt;4756080432</title>\n",
       "<path fill=\"none\" stroke=\"black\" d=\"M69.03,-710.53C90.5,-699.42 125.63,-681.24 150.4,-668.43\"/>\n",
       "<polygon fill=\"black\" stroke=\"black\" points=\"151.69,-671.7 158.96,-663.99 148.47,-665.48 151.69,-671.7\"/>\n",
       "</g>\n",
       "<!-- 4708083952 -->\n",
       "<g id=\"node16\" class=\"node\">\n",
       "<title>4708083952</title>\n",
       "<polygon fill=\"lightblue\" stroke=\"black\" points=\"77,-806.5 23,-806.5 23,-773.75 77,-773.75 77,-806.5\"/>\n",
       "<text text-anchor=\"middle\" x=\"50\" y=\"-781\" font-family=\"monospace\" font-size=\"10.00\"> (16)</text>\n",
       "</g>\n",
       "<!-- 4708083952&#45;&gt;4756080624 -->\n",
       "<g id=\"edge14\" class=\"edge\">\n",
       "<title>4708083952&#45;&gt;4756080624</title>\n",
       "<path fill=\"none\" stroke=\"black\" d=\"M50,-773.31C50,-764.41 50,-753.18 50,-743.53\"/>\n",
       "<polygon fill=\"black\" stroke=\"black\" points=\"53.5,-743.6 50,-733.6 46.5,-743.6 53.5,-743.6\"/>\n",
       "</g>\n",
       "<!-- 4756080576 -->\n",
       "<g id=\"node17\" class=\"node\">\n",
       "<title>4756080576</title>\n",
       "<polygon fill=\"lightgrey\" stroke=\"black\" points=\"206,-731.75 118,-731.75 118,-711 206,-711 206,-731.75\"/>\n",
       "<text text-anchor=\"middle\" x=\"162\" y=\"-718.25\" font-family=\"monospace\" font-size=\"10.00\">EluBackward0</text>\n",
       "</g>\n",
       "<!-- 4756080576&#45;&gt;4756080432 -->\n",
       "<g id=\"edge15\" class=\"edge\">\n",
       "<title>4756080576&#45;&gt;4756080432</title>\n",
       "<path fill=\"none\" stroke=\"black\" d=\"M164.51,-710.53C166.95,-700.95 170.72,-686.12 173.81,-674\"/>\n",
       "<polygon fill=\"black\" stroke=\"black\" points=\"177.14,-675.1 176.22,-664.55 170.36,-673.38 177.14,-675.1\"/>\n",
       "</g>\n",
       "<!-- 4756080720 -->\n",
       "<g id=\"node18\" class=\"node\">\n",
       "<title>4756080720</title>\n",
       "<polygon fill=\"lightgrey\" stroke=\"black\" points=\"203,-800.5 103,-800.5 103,-779.75 203,-779.75 203,-800.5\"/>\n",
       "<text text-anchor=\"middle\" x=\"153\" y=\"-787\" font-family=\"monospace\" font-size=\"10.00\">AddmmBackward0</text>\n",
       "</g>\n",
       "<!-- 4756080720&#45;&gt;4756080576 -->\n",
       "<g id=\"edge16\" class=\"edge\">\n",
       "<title>4756080720&#45;&gt;4756080576</title>\n",
       "<path fill=\"none\" stroke=\"black\" d=\"M154.33,-779.28C155.61,-769.8 157.58,-755.18 159.2,-743.13\"/>\n",
       "<polygon fill=\"black\" stroke=\"black\" points=\"162.65,-743.71 160.52,-733.33 155.72,-742.77 162.65,-743.71\"/>\n",
       "</g>\n",
       "<!-- 4756080912 -->\n",
       "<g id=\"node19\" class=\"node\">\n",
       "<title>4756080912</title>\n",
       "<polygon fill=\"lightgrey\" stroke=\"black\" points=\"110,-869.25 10,-869.25 10,-848.5 110,-848.5 110,-869.25\"/>\n",
       "<text text-anchor=\"middle\" x=\"60\" y=\"-855.75\" font-family=\"monospace\" font-size=\"10.00\">AccumulateGrad</text>\n",
       "</g>\n",
       "<!-- 4756080912&#45;&gt;4756080720 -->\n",
       "<g id=\"edge17\" class=\"edge\">\n",
       "<title>4756080912&#45;&gt;4756080720</title>\n",
       "<path fill=\"none\" stroke=\"black\" d=\"M73.72,-848.03C88.64,-837.32 112.73,-820.03 130.44,-807.32\"/>\n",
       "<polygon fill=\"black\" stroke=\"black\" points=\"132.21,-810.35 138.29,-801.68 128.13,-804.67 132.21,-810.35\"/>\n",
       "</g>\n",
       "<!-- 4708075152 -->\n",
       "<g id=\"node20\" class=\"node\">\n",
       "<title>4708075152</title>\n",
       "<polygon fill=\"lightblue\" stroke=\"black\" points=\"87,-944 33,-944 33,-911.25 87,-911.25 87,-944\"/>\n",
       "<text text-anchor=\"middle\" x=\"60\" y=\"-918.5\" font-family=\"monospace\" font-size=\"10.00\"> (16)</text>\n",
       "</g>\n",
       "<!-- 4708075152&#45;&gt;4756080912 -->\n",
       "<g id=\"edge18\" class=\"edge\">\n",
       "<title>4708075152&#45;&gt;4756080912</title>\n",
       "<path fill=\"none\" stroke=\"black\" d=\"M60,-910.81C60,-901.91 60,-890.68 60,-881.03\"/>\n",
       "<polygon fill=\"black\" stroke=\"black\" points=\"63.5,-881.1 60,-871.1 56.5,-881.1 63.5,-881.1\"/>\n",
       "</g>\n",
       "<!-- 4756080864 -->\n",
       "<g id=\"node21\" class=\"node\">\n",
       "<title>4756080864</title>\n",
       "<polygon fill=\"lightgrey\" stroke=\"black\" points=\"204,-869.25 128,-869.25 128,-848.5 204,-848.5 204,-869.25\"/>\n",
       "<text text-anchor=\"middle\" x=\"166\" y=\"-855.75\" font-family=\"monospace\" font-size=\"10.00\">TBackward0</text>\n",
       "</g>\n",
       "<!-- 4756080864&#45;&gt;4756080720 -->\n",
       "<g id=\"edge19\" class=\"edge\">\n",
       "<title>4756080864&#45;&gt;4756080720</title>\n",
       "<path fill=\"none\" stroke=\"black\" d=\"M164.08,-848.03C162.24,-838.55 159.39,-823.93 157.04,-811.88\"/>\n",
       "<polygon fill=\"black\" stroke=\"black\" points=\"160.48,-811.21 155.13,-802.07 153.61,-812.55 160.48,-811.21\"/>\n",
       "</g>\n",
       "<!-- 4756080960 -->\n",
       "<g id=\"node22\" class=\"node\">\n",
       "<title>4756080960</title>\n",
       "<polygon fill=\"lightgrey\" stroke=\"black\" points=\"216,-938 116,-938 116,-917.25 216,-917.25 216,-938\"/>\n",
       "<text text-anchor=\"middle\" x=\"166\" y=\"-924.5\" font-family=\"monospace\" font-size=\"10.00\">AccumulateGrad</text>\n",
       "</g>\n",
       "<!-- 4756080960&#45;&gt;4756080864 -->\n",
       "<g id=\"edge20\" class=\"edge\">\n",
       "<title>4756080960&#45;&gt;4756080864</title>\n",
       "<path fill=\"none\" stroke=\"black\" d=\"M166,-916.78C166,-907.3 166,-892.68 166,-880.63\"/>\n",
       "<polygon fill=\"black\" stroke=\"black\" points=\"169.5,-880.85 166,-870.85 162.5,-880.85 169.5,-880.85\"/>\n",
       "</g>\n",
       "<!-- 4708082912 -->\n",
       "<g id=\"node23\" class=\"node\">\n",
       "<title>4708082912</title>\n",
       "<polygon fill=\"lightblue\" stroke=\"black\" points=\"198,-1012.75 134,-1012.75 134,-980 198,-980 198,-1012.75\"/>\n",
       "<text text-anchor=\"middle\" x=\"166\" y=\"-987.25\" font-family=\"monospace\" font-size=\"10.00\"> (16, 2)</text>\n",
       "</g>\n",
       "<!-- 4708082912&#45;&gt;4756080960 -->\n",
       "<g id=\"edge21\" class=\"edge\">\n",
       "<title>4708082912&#45;&gt;4756080960</title>\n",
       "<path fill=\"none\" stroke=\"black\" d=\"M166,-979.56C166,-970.66 166,-959.43 166,-949.78\"/>\n",
       "<polygon fill=\"black\" stroke=\"black\" points=\"169.5,-949.85 166,-939.85 162.5,-949.85 169.5,-949.85\"/>\n",
       "</g>\n",
       "<!-- 4756080528 -->\n",
       "<g id=\"node24\" class=\"node\">\n",
       "<title>4756080528</title>\n",
       "<polygon fill=\"lightgrey\" stroke=\"black\" points=\"300,-731.75 224,-731.75 224,-711 300,-711 300,-731.75\"/>\n",
       "<text text-anchor=\"middle\" x=\"262\" y=\"-718.25\" font-family=\"monospace\" font-size=\"10.00\">TBackward0</text>\n",
       "</g>\n",
       "<!-- 4756080528&#45;&gt;4756080432 -->\n",
       "<g id=\"edge22\" class=\"edge\">\n",
       "<title>4756080528&#45;&gt;4756080432</title>\n",
       "<path fill=\"none\" stroke=\"black\" d=\"M249.75,-710.53C236.56,-699.92 215.34,-682.85 199.58,-670.17\"/>\n",
       "<polygon fill=\"black\" stroke=\"black\" points=\"202.19,-667.79 192.21,-664.25 197.81,-673.24 202.19,-667.79\"/>\n",
       "</g>\n",
       "<!-- 4756081008 -->\n",
       "<g id=\"node25\" class=\"node\">\n",
       "<title>4756081008</title>\n",
       "<polygon fill=\"lightgrey\" stroke=\"black\" points=\"321,-800.5 221,-800.5 221,-779.75 321,-779.75 321,-800.5\"/>\n",
       "<text text-anchor=\"middle\" x=\"271\" y=\"-787\" font-family=\"monospace\" font-size=\"10.00\">AccumulateGrad</text>\n",
       "</g>\n",
       "<!-- 4756081008&#45;&gt;4756080528 -->\n",
       "<g id=\"edge23\" class=\"edge\">\n",
       "<title>4756081008&#45;&gt;4756080528</title>\n",
       "<path fill=\"none\" stroke=\"black\" d=\"M269.67,-779.28C268.39,-769.8 266.42,-755.18 264.8,-743.13\"/>\n",
       "<polygon fill=\"black\" stroke=\"black\" points=\"268.28,-742.77 263.48,-733.33 261.35,-743.71 268.28,-742.77\"/>\n",
       "</g>\n",
       "<!-- 4708083872 -->\n",
       "<g id=\"node26\" class=\"node\">\n",
       "<title>4708083872</title>\n",
       "<polygon fill=\"lightblue\" stroke=\"black\" points=\"306,-875.25 236,-875.25 236,-842.5 306,-842.5 306,-875.25\"/>\n",
       "<text text-anchor=\"middle\" x=\"271\" y=\"-849.75\" font-family=\"monospace\" font-size=\"10.00\"> (16, 16)</text>\n",
       "</g>\n",
       "<!-- 4708083872&#45;&gt;4756081008 -->\n",
       "<g id=\"edge24\" class=\"edge\">\n",
       "<title>4708083872&#45;&gt;4756081008</title>\n",
       "<path fill=\"none\" stroke=\"black\" d=\"M271,-842.06C271,-833.16 271,-821.93 271,-812.28\"/>\n",
       "<polygon fill=\"black\" stroke=\"black\" points=\"274.5,-812.35 271,-802.35 267.5,-812.35 274.5,-812.35\"/>\n",
       "</g>\n",
       "<!-- 4756079664 -->\n",
       "<g id=\"node27\" class=\"node\">\n",
       "<title>4756079664</title>\n",
       "<polygon fill=\"lightgrey\" stroke=\"black\" points=\"348,-600.25 272,-600.25 272,-579.5 348,-579.5 348,-600.25\"/>\n",
       "<text text-anchor=\"middle\" x=\"310\" y=\"-586.75\" font-family=\"monospace\" font-size=\"10.00\">TBackward0</text>\n",
       "</g>\n",
       "<!-- 4756079664&#45;&gt;4756080240 -->\n",
       "<g id=\"edge25\" class=\"edge\">\n",
       "<title>4756079664&#45;&gt;4756080240</title>\n",
       "<path fill=\"none\" stroke=\"black\" d=\"M288.19,-579.09C269.19,-570.56 241.4,-558.09 219.91,-548.44\"/>\n",
       "<polygon fill=\"black\" stroke=\"black\" points=\"221.56,-545.35 211,-544.45 218.69,-551.74 221.56,-545.35\"/>\n",
       "</g>\n",
       "<!-- 4756080816 -->\n",
       "<g id=\"node28\" class=\"node\">\n",
       "<title>4756080816</title>\n",
       "<polygon fill=\"lightgrey\" stroke=\"black\" points=\"382,-663 282,-663 282,-642.25 382,-642.25 382,-663\"/>\n",
       "<text text-anchor=\"middle\" x=\"332\" y=\"-649.5\" font-family=\"monospace\" font-size=\"10.00\">AccumulateGrad</text>\n",
       "</g>\n",
       "<!-- 4756080816&#45;&gt;4756079664 -->\n",
       "<g id=\"edge26\" class=\"edge\">\n",
       "<title>4756080816&#45;&gt;4756079664</title>\n",
       "<path fill=\"none\" stroke=\"black\" d=\"M328.47,-641.86C325.46,-633.58 321.06,-621.42 317.31,-611.05\"/>\n",
       "<polygon fill=\"black\" stroke=\"black\" points=\"320.66,-610.04 313.97,-601.83 314.08,-612.43 320.66,-610.04\"/>\n",
       "</g>\n",
       "<!-- 4708084032 -->\n",
       "<g id=\"node29\" class=\"node\">\n",
       "<title>4708084032</title>\n",
       "<polygon fill=\"lightblue\" stroke=\"black\" points=\"382,-737.75 318,-737.75 318,-705 382,-705 382,-737.75\"/>\n",
       "<text text-anchor=\"middle\" x=\"350\" y=\"-712.25\" font-family=\"monospace\" font-size=\"10.00\"> (1, 16)</text>\n",
       "</g>\n",
       "<!-- 4708084032&#45;&gt;4756080816 -->\n",
       "<g id=\"edge27\" class=\"edge\">\n",
       "<title>4708084032&#45;&gt;4756080816</title>\n",
       "<path fill=\"none\" stroke=\"black\" d=\"M345.73,-704.56C343.28,-695.46 340.17,-683.92 337.53,-674.13\"/>\n",
       "<polygon fill=\"black\" stroke=\"black\" points=\"341,-673.54 335.01,-664.8 334.24,-675.37 341,-673.54\"/>\n",
       "</g>\n",
       "</g>\n",
       "</svg>\n"
      ],
      "text/plain": [
       "<graphviz.graphs.Digraph at 0x119194b60>"
      ]
     },
     "execution_count": 14,
     "metadata": {},
     "output_type": "execute_result"
    }
   ],
   "source": [
    "batch = next(iter(test_loader))\n",
    "\n",
    "var_mapping = {}\n",
    "\n",
    "kb.partition_data(var_mapping,batch, loaders[0])\n",
    "\n",
    "kb.rules[0].comp_graph(var_mapping)"
   ]
  },
  {
   "cell_type": "code",
   "execution_count": null,
   "metadata": {},
   "outputs": [],
   "source": []
  }
 ],
 "metadata": {
  "kernelspec": {
   "display_name": ".venv",
   "language": "python",
   "name": "python3"
  },
  "language_info": {
   "codemirror_mode": {
    "name": "ipython",
    "version": 3
   },
   "file_extension": ".py",
   "mimetype": "text/x-python",
   "name": "python",
   "nbconvert_exporter": "python",
   "pygments_lexer": "ipython3",
   "version": "3.12.4"
  }
 },
 "nbformat": 4,
 "nbformat_minor": 2
}
