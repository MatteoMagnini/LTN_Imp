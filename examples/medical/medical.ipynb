{
 "cells": [
  {
   "cell_type": "code",
   "execution_count": 1,
   "metadata": {},
   "outputs": [],
   "source": [
    "from ltn_imp.automation.knowledge_base import KnowledgeBase\n",
    "import torch\n",
    "import pandas as pd"
   ]
  },
  {
   "cell_type": "code",
   "execution_count": 2,
   "metadata": {},
   "outputs": [
    {
     "name": "stdout",
     "output_type": "stream",
     "text": [
      "\u001b[37mPoe =>\u001b[0m \u001b[94mmkdir -p examples/medical/datasets\u001b[0m\n",
      "\u001b[37mPoe =>\u001b[0m \u001b[94mcurl -L -o examples/medical/datasets/pima_indians_imputed.csv https://raw.githubusercontent.com/ChristelSirocchi/hybrid-ML/main/pima_indians_imputed.csv\u001b[0m\n",
      "  % Total    % Received % Xferd  Average Speed   Time    Time     Time  Current\n",
      "                                 Dload  Upload   Total   Spent    Left  Speed\n",
      "100 33428  100 33428    0     0   561k      0 --:--:-- --:--:-- --:--:--  562k\n"
     ]
    }
   ],
   "source": [
    "!poetry run poe download-medical-datasets"
   ]
  },
  {
   "cell_type": "code",
   "execution_count": 3,
   "metadata": {},
   "outputs": [],
   "source": [
    "import warnings\n",
    "warnings.filterwarnings('ignore')"
   ]
  },
  {
   "cell_type": "code",
   "execution_count": 4,
   "metadata": {},
   "outputs": [],
   "source": [
    "import random\n",
    "import numpy as np\n",
    "\n",
    "seed = 42\n",
    "\n",
    "# Set the random seed for reproducibility\n",
    "random.seed(seed)\n",
    "np.random.seed(seed)\n",
    "torch.manual_seed(seed)\n",
    "torch.cuda.manual_seed(seed)\n",
    "torch.backends.cudnn.deterministic = True"
   ]
  },
  {
   "cell_type": "code",
   "execution_count": 5,
   "metadata": {},
   "outputs": [],
   "source": [
    "from sklearn.model_selection import train_test_split\n",
    "\n",
    "test_data = pd.read_csv('datasets/pima_indians_imputed.csv', index_col=0).astype(float)\n",
    "\n",
    "y = test_data.iloc[:, -1]\n",
    "\n",
    "x_train, x_test = train_test_split(test_data, test_size=0.5, random_state=seed, stratify=y)\n",
    "y_train = x_train.iloc[:, -1]  # Extract labels from the training split\n",
    "x_train, x_val = train_test_split(x_train, test_size=0.1, random_state=seed, stratify=y_train)\n",
    "\n",
    "x_train.to_csv('datasets/train.csv')\n",
    "x_val.to_csv('datasets/val.csv')\n",
    "x_test.to_csv('datasets/test.csv')"
   ]
  },
  {
   "cell_type": "code",
   "execution_count": 6,
   "metadata": {},
   "outputs": [],
   "source": [
    "import torch\n",
    "from sklearn.metrics import matthews_corrcoef\n",
    "\n",
    "def predict(model, x):\n",
    "    model.eval()  # Ensure the model is in evaluation mode\n",
    "    with torch.no_grad():  # No need to track gradients\n",
    "        # Ensure x is a tensor and has the right dtype\n",
    "        if not isinstance(x, torch.Tensor):\n",
    "            x = torch.tensor(x, dtype=torch.float32)\n",
    "        elif x.dtype != torch.float32:\n",
    "            x = x.float()\n",
    "        \n",
    "        # Forward pass through the model\n",
    "        probs = model(x)\n",
    "        \n",
    "        # Apply binary classification threshold at 0.5\n",
    "        preds = (probs > 0.5).float()\n",
    "    return preds\n",
    "\n",
    "def compute_metrics(model, data_loader):\n",
    "    correct = 0\n",
    "    total = 0\n",
    "    \n",
    "    true_positives = 0\n",
    "    false_positives = 0\n",
    "    false_negatives = 0\n",
    "    true_negatives = 0\n",
    "    \n",
    "    all_true_labels = []\n",
    "    all_predicted_labels = []\n",
    "    \n",
    "    with torch.no_grad():  # Disable gradient computation\n",
    "        for data, labels in data_loader:\n",
    "            # Ensure data and labels are the correct dtype\n",
    "            if not isinstance(data, torch.Tensor):\n",
    "                data = torch.tensor(data, dtype=torch.float32)\n",
    "            elif data.dtype != torch.float32:\n",
    "                data = data.float()\n",
    "            \n",
    "            if not isinstance(labels, torch.Tensor):\n",
    "                labels = torch.tensor(labels, dtype=torch.float32)\n",
    "            elif labels.dtype != torch.float32:\n",
    "                labels = labels.float()\n",
    "            \n",
    "            # Get predictions\n",
    "            preds = predict(model, data)\n",
    "            \n",
    "            # Squeeze predictions and labels to remove dimensions of size 1\n",
    "            predicted_labels = preds.squeeze()\n",
    "            true_labels = labels.squeeze()\n",
    "\n",
    "            # Ensure the shapes match before comparison\n",
    "            if predicted_labels.shape != true_labels.shape:\n",
    "                true_labels = true_labels.view_as(predicted_labels)\n",
    "            \n",
    "            # Collect all predictions and true labels for MCC\n",
    "            all_true_labels.extend(true_labels.cpu().numpy())\n",
    "            all_predicted_labels.extend(predicted_labels.cpu().numpy())\n",
    "\n",
    "            # Count correct predictions\n",
    "            correct += (predicted_labels == true_labels).sum().item()\n",
    "            total += true_labels.size(0)\n",
    "            \n",
    "            # Calculate TP, FP, FN, TN\n",
    "            true_positives += ((predicted_labels == 1) & (true_labels == 1)).sum().item()\n",
    "            false_positives += ((predicted_labels == 1) & (true_labels == 0)).sum().item()\n",
    "            false_negatives += ((predicted_labels == 0) & (true_labels == 1)).sum().item()\n",
    "            true_negatives += ((predicted_labels == 0) & (true_labels == 0)).sum().item()\n",
    "    \n",
    "    accuracy = correct / total if total > 0 else 0\n",
    "    precision = true_positives / (true_positives + false_positives) if (true_positives + false_positives) > 0 else 0\n",
    "    recall = true_positives / (true_positives + false_negatives) if (true_positives + false_negatives) > 0 else 0\n",
    "    f1_score = 2 * (precision * recall) / (precision + recall) if (precision + recall) > 0 else 0\n",
    "    balanced_accuracy = 0.5 * (recall + (true_negatives / (true_negatives + false_positives) if (true_negatives + false_positives) > 0 else 0))\n",
    "    mcc = matthews_corrcoef(all_true_labels, all_predicted_labels)\n",
    "    tnr = true_negatives / (true_negatives + false_positives) if (true_negatives + false_positives) > 0 else 0  # True Negative Rate\n",
    "    fpr = false_positives / (false_positives + true_negatives) if (false_positives + true_negatives) > 0 else 0  # False Positive Rate\n",
    "    fnr = false_negatives / (false_negatives + true_positives) if (false_negatives + true_positives) > 0 else 0  # False Negative Rate\n",
    "    tpr = recall  # True Positive Rate is the same as recall\n",
    "\n",
    "    print(f\"True Positives: {true_positives}, False Positives: {false_positives}, False Negatives: {false_negatives}, True Negatives: {true_negatives}, Total: {total}\")\n",
    "    print()\n",
    "    print(f\"A (Accuracy): {accuracy:.4f}\")\n",
    "    print(f\"P (Precision): {precision:.4f}\")\n",
    "    print(f\"R (Recall): {recall:.4f}\")\n",
    "    print(f\"F1 (F1 Score): {f1_score:.4f}\")\n",
    "    print(f\"BA (Balanced Accuracy): {balanced_accuracy:.4f}\")\n",
    "    print(f\"MCC (Matthews Correlation Coefficient): {mcc:.4f}\")\n",
    "    print(f\"TNR (True Negative Rate): {tnr:.4f}\")\n",
    "    print(f\"FPR (False Positive Rate): {fpr:.4f}\")\n",
    "    print(f\"FNR (False Negative Rate): {fnr:.4f}\")\n",
    "    print(f\"TPR (True Positive Rate): {tpr:.4f}\")\n",
    "    model.train()"
   ]
  },
  {
   "cell_type": "code",
   "execution_count": 7,
   "metadata": {},
   "outputs": [
    {
     "name": "stdout",
     "output_type": "stream",
     "text": [
      "Using device: cpu\n"
     ]
    }
   ],
   "source": [
    "kb = KnowledgeBase(\"with_logic.yaml\", device=\"cpu\")"
   ]
  },
  {
   "cell_type": "code",
   "execution_count": 8,
   "metadata": {},
   "outputs": [
    {
     "name": "stdout",
     "output_type": "stream",
     "text": [
      "Epoch 1, Train Loss: 0.655768, Val Loss: 0.664067\n",
      "Epoch 11, Train Loss: 0.583104, Val Loss: 0.436683\n",
      "Early Stopping at: Epoch 18, Train Loss: 0.469982, Val Loss: 0.489238\n"
     ]
    }
   ],
   "source": [
    "fine_tune = True\n",
    "\n",
    "if fine_tune:\n",
    "    model = kb.predicates[\"Diabetic\"]\n",
    "\n",
    "    criteria = torch.nn.BCELoss()\n",
    "    optimizer = torch.optim.Adam(model.parameters(), lr=0.0001, weight_decay=0.0001)\n",
    "\n",
    "    patience = 5\n",
    "    min_delta = 0.0\n",
    "    best_val_loss = float('inf')\n",
    "    epochs_no_improve = 0\n",
    "\n",
    "    for epoch in range(50):\n",
    "        model.train()\n",
    "        total_loss = 0.0\n",
    "        num_batches = 0\n",
    "        \n",
    "        # Training loop\n",
    "        for data, labels in kb.loaders[0]:\n",
    "            optimizer.zero_grad()\n",
    "            predictions = model(data)\n",
    "            loss = criteria(predictions, labels)\n",
    "            loss.backward()\n",
    "            optimizer.step()\n",
    "            \n",
    "            total_loss += loss.item()\n",
    "            num_batches += 1\n",
    "\n",
    "        avg_train_loss = total_loss / num_batches\n",
    "\n",
    "        model.eval()\n",
    "        total_val_loss = 0.0\n",
    "        num_val_batches = 0\n",
    "\n",
    "        for data, labels in kb.val_loaders[0]:\n",
    "            with torch.no_grad():\n",
    "                predictions = model(data)\n",
    "                val_loss = criteria(predictions, labels)\n",
    "                total_val_loss += val_loss.item()\n",
    "                num_val_batches += 1\n",
    "\n",
    "        avg_val_loss = total_val_loss / num_val_batches\n",
    "\n",
    "        # Early stopping logic\n",
    "        if avg_val_loss + min_delta < best_val_loss:\n",
    "            best_val_loss = avg_val_loss\n",
    "            epochs_no_improve = 0\n",
    "        else:\n",
    "            epochs_no_improve += 1\n",
    "\n",
    "        if epochs_no_improve >= patience:\n",
    "            print(f\"Early Stopping at: Epoch {epoch + 1}, Train Loss: {avg_train_loss:.6f}, Val Loss: {avg_val_loss:.6f}\")\n",
    "            break\n",
    "\n",
    "        if epoch % 10 == 0:\n",
    "            print(f\"Epoch {epoch + 1}, Train Loss: {avg_train_loss:.6f}, Val Loss: {avg_val_loss:.6f}\")\n",
    "\n",
    "        model.train()"
   ]
  },
  {
   "cell_type": "code",
   "execution_count": 9,
   "metadata": {},
   "outputs": [
    {
     "name": "stdout",
     "output_type": "stream",
     "text": [
      "True Positives: 93, False Positives: 60, False Negatives: 27, True Negatives: 165, Total: 345\n",
      "\n",
      "A (Accuracy): 0.7478\n",
      "P (Precision): 0.6078\n",
      "R (Recall): 0.7750\n",
      "F1 (F1 Score): 0.6813\n",
      "BA (Balanced Accuracy): 0.7542\n",
      "MCC (Matthews Correlation Coefficient): 0.4873\n",
      "TNR (True Negative Rate): 0.7333\n",
      "FPR (False Positive Rate): 0.2667\n",
      "FNR (False Negative Rate): 0.2250\n",
      "TPR (True Positive Rate): 0.7750\n"
     ]
    }
   ],
   "source": [
    "compute_metrics(kb.predicates[\"Diabetic\"], kb.loaders[0])"
   ]
  },
  {
   "cell_type": "code",
   "execution_count": 10,
   "metadata": {},
   "outputs": [
    {
     "name": "stdout",
     "output_type": "stream",
     "text": [
      "['∀ person.(((y == diabetes) -> Diabetic(person)))', '∀ person.(((y == healthy) -> ~(Diabetic(person))))', '∀ person.((((person[BMI] > 29) & (person[Glucose] > 125)) -> Diabetic(person)))', '∀ person.((((person[BMI] < 26) & (person[Glucose] < 101)) -> ~(Diabetic(person))))', '∀ person.((((person[Glucose] > 143.5) & (person[DiabetesPedigreeFunction] > 0.32)) -> Diabetic(person)))', '∀ person.((((person[Glucose] > 143.5) & ((person[DiabetesPedigreeFunction] <= 0.32) & (person[BMI] > 31.40))) -> Diabetic(person)))', '∀ person.((((person[Glucose] > 143.5) & ((person[DiabetesPedigreeFunction] <= 0.32) & (person[BMI] <= 31.40))) -> ~(Diabetic(person))))', '∀ person.((((person[Glucose] <= 143.5) & ((person[Pregnancies] > 7.5) & (person[DiabetesPedigreeFunction] > 0.50))) -> Diabetic(person)))', '∀ person.((((person[Glucose] <= 143.5) & ((person[Pregnancies] <= 7.5) & (person[BMI] > 45.44))) -> Diabetic(person)))', '∀ person.((((person[Glucose] <= 143.5) & ((person[Pregnancies] <= 7.5) & (person[BMI] <= 45.44))) -> ~(Diabetic(person))))', '∀ person.((((person[Glucose] <= 143.5) & ((person[Pregnancies] > 7.5) & ((person[DiabetesPedigreeFunction] <= 0.50) & (person[BloodPressure] > 91.0)))) -> Diabetic(person)))', '∀ person.((((person[Glucose] <= 143.5) & ((person[Pregnancies] > 7.5) & ((person[DiabetesPedigreeFunction] <= 0.50) & (person[BloodPressure] <= 91.0)))) -> ~(Diabetic(person))))']\n",
      "Rule Outputs:  [tensor(0.7395, grad_fn=<RsubBackward1>), tensor(0.6877, grad_fn=<RsubBackward1>), tensor(0.7526, grad_fn=<RsubBackward1>), tensor(0.9892, grad_fn=<RsubBackward1>), tensor(0.8955, grad_fn=<RsubBackward1>), tensor(0.7925, grad_fn=<RsubBackward1>), tensor(0.8563, grad_fn=<RsubBackward1>), tensor(0.8469, grad_fn=<RsubBackward1>), tensor(1.0000, grad_fn=<RsubBackward1>), tensor(0.5685, grad_fn=<RsubBackward1>), tensor(1.0000, grad_fn=<RsubBackward1>), tensor(0.7732, grad_fn=<RsubBackward1>)]\n",
      "Epoch 1/100, Train Loss: 0.2323298454284668, Validation Loss: 0.22562921047210693\n",
      "\n",
      "['∀ person.(((y == diabetes) -> Diabetic(person)))', '∀ person.(((y == healthy) -> ~(Diabetic(person))))', '∀ person.((((person[BMI] > 29) & (person[Glucose] > 125)) -> Diabetic(person)))', '∀ person.((((person[BMI] < 26) & (person[Glucose] < 101)) -> ~(Diabetic(person))))', '∀ person.((((person[Glucose] > 143.5) & (person[DiabetesPedigreeFunction] > 0.32)) -> Diabetic(person)))', '∀ person.((((person[Glucose] > 143.5) & ((person[DiabetesPedigreeFunction] <= 0.32) & (person[BMI] > 31.40))) -> Diabetic(person)))', '∀ person.((((person[Glucose] > 143.5) & ((person[DiabetesPedigreeFunction] <= 0.32) & (person[BMI] <= 31.40))) -> ~(Diabetic(person))))', '∀ person.((((person[Glucose] <= 143.5) & ((person[Pregnancies] > 7.5) & (person[DiabetesPedigreeFunction] > 0.50))) -> Diabetic(person)))', '∀ person.((((person[Glucose] <= 143.5) & ((person[Pregnancies] <= 7.5) & (person[BMI] > 45.44))) -> Diabetic(person)))', '∀ person.((((person[Glucose] <= 143.5) & ((person[Pregnancies] <= 7.5) & (person[BMI] <= 45.44))) -> ~(Diabetic(person))))', '∀ person.((((person[Glucose] <= 143.5) & ((person[Pregnancies] > 7.5) & ((person[DiabetesPedigreeFunction] <= 0.50) & (person[BloodPressure] > 91.0)))) -> Diabetic(person)))', '∀ person.((((person[Glucose] <= 143.5) & ((person[Pregnancies] > 7.5) & ((person[DiabetesPedigreeFunction] <= 0.50) & (person[BloodPressure] <= 91.0)))) -> ~(Diabetic(person))))']\n",
      "Rule Outputs:  [tensor(0.7380, grad_fn=<RsubBackward1>), tensor(0.6912, grad_fn=<RsubBackward1>), tensor(0.7515, grad_fn=<RsubBackward1>), tensor(0.9891, grad_fn=<RsubBackward1>), tensor(0.8951, grad_fn=<RsubBackward1>), tensor(0.7917, grad_fn=<RsubBackward1>), tensor(0.8571, grad_fn=<RsubBackward1>), tensor(0.8462, grad_fn=<RsubBackward1>), tensor(1.0000, grad_fn=<RsubBackward1>), tensor(0.5711, grad_fn=<RsubBackward1>), tensor(1.0000, grad_fn=<RsubBackward1>), tensor(0.7746, grad_fn=<RsubBackward1>)]\n",
      "Epoch 11/100, Train Loss: 0.23187893629074097, Validation Loss: 0.22496163845062256\n",
      "\n",
      "['∀ person.(((y == diabetes) -> Diabetic(person)))', '∀ person.(((y == healthy) -> ~(Diabetic(person))))', '∀ person.((((person[BMI] > 29) & (person[Glucose] > 125)) -> Diabetic(person)))', '∀ person.((((person[BMI] < 26) & (person[Glucose] < 101)) -> ~(Diabetic(person))))', '∀ person.((((person[Glucose] > 143.5) & (person[DiabetesPedigreeFunction] > 0.32)) -> Diabetic(person)))', '∀ person.((((person[Glucose] > 143.5) & ((person[DiabetesPedigreeFunction] <= 0.32) & (person[BMI] > 31.40))) -> Diabetic(person)))', '∀ person.((((person[Glucose] > 143.5) & ((person[DiabetesPedigreeFunction] <= 0.32) & (person[BMI] <= 31.40))) -> ~(Diabetic(person))))', '∀ person.((((person[Glucose] <= 143.5) & ((person[Pregnancies] > 7.5) & (person[DiabetesPedigreeFunction] > 0.50))) -> Diabetic(person)))', '∀ person.((((person[Glucose] <= 143.5) & ((person[Pregnancies] <= 7.5) & (person[BMI] > 45.44))) -> Diabetic(person)))', '∀ person.((((person[Glucose] <= 143.5) & ((person[Pregnancies] <= 7.5) & (person[BMI] <= 45.44))) -> ~(Diabetic(person))))', '∀ person.((((person[Glucose] <= 143.5) & ((person[Pregnancies] > 7.5) & ((person[DiabetesPedigreeFunction] <= 0.50) & (person[BloodPressure] > 91.0)))) -> Diabetic(person)))', '∀ person.((((person[Glucose] <= 143.5) & ((person[Pregnancies] > 7.5) & ((person[DiabetesPedigreeFunction] <= 0.50) & (person[BloodPressure] <= 91.0)))) -> ~(Diabetic(person))))']\n",
      "Rule Outputs:  [tensor(0.7385, grad_fn=<RsubBackward1>), tensor(0.6922, grad_fn=<RsubBackward1>), tensor(0.7523, grad_fn=<RsubBackward1>), tensor(0.9889, grad_fn=<RsubBackward1>), tensor(0.8952, grad_fn=<RsubBackward1>), tensor(0.7917, grad_fn=<RsubBackward1>), tensor(0.8573, grad_fn=<RsubBackward1>), tensor(0.8461, grad_fn=<RsubBackward1>), tensor(1.0000, grad_fn=<RsubBackward1>), tensor(0.5717, grad_fn=<RsubBackward1>), tensor(1.0000, grad_fn=<RsubBackward1>), tensor(0.7750, grad_fn=<RsubBackward1>)]\n",
      "Epoch 21/100, Train Loss: 0.23145031929016113, Validation Loss: 0.22453653812408447\n",
      "\n",
      "['∀ person.(((y == diabetes) -> Diabetic(person)))', '∀ person.(((y == healthy) -> ~(Diabetic(person))))', '∀ person.((((person[BMI] > 29) & (person[Glucose] > 125)) -> Diabetic(person)))', '∀ person.((((person[BMI] < 26) & (person[Glucose] < 101)) -> ~(Diabetic(person))))', '∀ person.((((person[Glucose] > 143.5) & (person[DiabetesPedigreeFunction] > 0.32)) -> Diabetic(person)))', '∀ person.((((person[Glucose] > 143.5) & ((person[DiabetesPedigreeFunction] <= 0.32) & (person[BMI] > 31.40))) -> Diabetic(person)))', '∀ person.((((person[Glucose] > 143.5) & ((person[DiabetesPedigreeFunction] <= 0.32) & (person[BMI] <= 31.40))) -> ~(Diabetic(person))))', '∀ person.((((person[Glucose] <= 143.5) & ((person[Pregnancies] > 7.5) & (person[DiabetesPedigreeFunction] > 0.50))) -> Diabetic(person)))', '∀ person.((((person[Glucose] <= 143.5) & ((person[Pregnancies] <= 7.5) & (person[BMI] > 45.44))) -> Diabetic(person)))', '∀ person.((((person[Glucose] <= 143.5) & ((person[Pregnancies] <= 7.5) & (person[BMI] <= 45.44))) -> ~(Diabetic(person))))', '∀ person.((((person[Glucose] <= 143.5) & ((person[Pregnancies] > 7.5) & ((person[DiabetesPedigreeFunction] <= 0.50) & (person[BloodPressure] > 91.0)))) -> Diabetic(person)))', '∀ person.((((person[Glucose] <= 143.5) & ((person[Pregnancies] > 7.5) & ((person[DiabetesPedigreeFunction] <= 0.50) & (person[BloodPressure] <= 91.0)))) -> ~(Diabetic(person))))']\n",
      "Rule Outputs:  [tensor(0.7390, grad_fn=<RsubBackward1>), tensor(0.6930, grad_fn=<RsubBackward1>), tensor(0.7531, grad_fn=<RsubBackward1>), tensor(0.9887, grad_fn=<RsubBackward1>), tensor(0.8954, grad_fn=<RsubBackward1>), tensor(0.7917, grad_fn=<RsubBackward1>), tensor(0.8575, grad_fn=<RsubBackward1>), tensor(0.8460, grad_fn=<RsubBackward1>), tensor(1.0000, grad_fn=<RsubBackward1>), tensor(0.5720, grad_fn=<RsubBackward1>), tensor(1.0000, grad_fn=<RsubBackward1>), tensor(0.7752, grad_fn=<RsubBackward1>)]\n",
      "Epoch 31/100, Train Loss: 0.23103618621826172, Validation Loss: 0.22415125370025635\n",
      "\n",
      "['∀ person.(((y == diabetes) -> Diabetic(person)))', '∀ person.(((y == healthy) -> ~(Diabetic(person))))', '∀ person.((((person[BMI] > 29) & (person[Glucose] > 125)) -> Diabetic(person)))', '∀ person.((((person[BMI] < 26) & (person[Glucose] < 101)) -> ~(Diabetic(person))))', '∀ person.((((person[Glucose] > 143.5) & (person[DiabetesPedigreeFunction] > 0.32)) -> Diabetic(person)))', '∀ person.((((person[Glucose] > 143.5) & ((person[DiabetesPedigreeFunction] <= 0.32) & (person[BMI] > 31.40))) -> Diabetic(person)))', '∀ person.((((person[Glucose] > 143.5) & ((person[DiabetesPedigreeFunction] <= 0.32) & (person[BMI] <= 31.40))) -> ~(Diabetic(person))))', '∀ person.((((person[Glucose] <= 143.5) & ((person[Pregnancies] > 7.5) & (person[DiabetesPedigreeFunction] > 0.50))) -> Diabetic(person)))', '∀ person.((((person[Glucose] <= 143.5) & ((person[Pregnancies] <= 7.5) & (person[BMI] > 45.44))) -> Diabetic(person)))', '∀ person.((((person[Glucose] <= 143.5) & ((person[Pregnancies] <= 7.5) & (person[BMI] <= 45.44))) -> ~(Diabetic(person))))', '∀ person.((((person[Glucose] <= 143.5) & ((person[Pregnancies] > 7.5) & ((person[DiabetesPedigreeFunction] <= 0.50) & (person[BloodPressure] > 91.0)))) -> Diabetic(person)))', '∀ person.((((person[Glucose] <= 143.5) & ((person[Pregnancies] > 7.5) & ((person[DiabetesPedigreeFunction] <= 0.50) & (person[BloodPressure] <= 91.0)))) -> ~(Diabetic(person))))']\n",
      "Rule Outputs:  [tensor(0.7397, grad_fn=<RsubBackward1>), tensor(0.6936, grad_fn=<RsubBackward1>), tensor(0.7540, grad_fn=<RsubBackward1>), tensor(0.9885, grad_fn=<RsubBackward1>), tensor(0.8955, grad_fn=<RsubBackward1>), tensor(0.7917, grad_fn=<RsubBackward1>), tensor(0.8577, grad_fn=<RsubBackward1>), tensor(0.8459, grad_fn=<RsubBackward1>), tensor(1.0000, grad_fn=<RsubBackward1>), tensor(0.5722, grad_fn=<RsubBackward1>), tensor(1.0000, grad_fn=<RsubBackward1>), tensor(0.7754, grad_fn=<RsubBackward1>)]\n",
      "Epoch 41/100, Train Loss: 0.2306339144706726, Validation Loss: 0.22378945350646973\n",
      "\n",
      "['∀ person.(((y == diabetes) -> Diabetic(person)))', '∀ person.(((y == healthy) -> ~(Diabetic(person))))', '∀ person.((((person[BMI] > 29) & (person[Glucose] > 125)) -> Diabetic(person)))', '∀ person.((((person[BMI] < 26) & (person[Glucose] < 101)) -> ~(Diabetic(person))))', '∀ person.((((person[Glucose] > 143.5) & (person[DiabetesPedigreeFunction] > 0.32)) -> Diabetic(person)))', '∀ person.((((person[Glucose] > 143.5) & ((person[DiabetesPedigreeFunction] <= 0.32) & (person[BMI] > 31.40))) -> Diabetic(person)))', '∀ person.((((person[Glucose] > 143.5) & ((person[DiabetesPedigreeFunction] <= 0.32) & (person[BMI] <= 31.40))) -> ~(Diabetic(person))))', '∀ person.((((person[Glucose] <= 143.5) & ((person[Pregnancies] > 7.5) & (person[DiabetesPedigreeFunction] > 0.50))) -> Diabetic(person)))', '∀ person.((((person[Glucose] <= 143.5) & ((person[Pregnancies] <= 7.5) & (person[BMI] > 45.44))) -> Diabetic(person)))', '∀ person.((((person[Glucose] <= 143.5) & ((person[Pregnancies] <= 7.5) & (person[BMI] <= 45.44))) -> ~(Diabetic(person))))', '∀ person.((((person[Glucose] <= 143.5) & ((person[Pregnancies] > 7.5) & ((person[DiabetesPedigreeFunction] <= 0.50) & (person[BloodPressure] > 91.0)))) -> Diabetic(person)))', '∀ person.((((person[Glucose] <= 143.5) & ((person[Pregnancies] > 7.5) & ((person[DiabetesPedigreeFunction] <= 0.50) & (person[BloodPressure] <= 91.0)))) -> ~(Diabetic(person))))']\n",
      "Rule Outputs:  [tensor(0.7404, grad_fn=<RsubBackward1>), tensor(0.6942, grad_fn=<RsubBackward1>), tensor(0.7549, grad_fn=<RsubBackward1>), tensor(0.9884, grad_fn=<RsubBackward1>), tensor(0.8957, grad_fn=<RsubBackward1>), tensor(0.7918, grad_fn=<RsubBackward1>), tensor(0.8578, grad_fn=<RsubBackward1>), tensor(0.8459, grad_fn=<RsubBackward1>), tensor(1.0000, grad_fn=<RsubBackward1>), tensor(0.5723, grad_fn=<RsubBackward1>), tensor(1.0000, grad_fn=<RsubBackward1>), tensor(0.7756, grad_fn=<RsubBackward1>)]\n",
      "Epoch 51/100, Train Loss: 0.230241596698761, Validation Loss: 0.22344988584518433\n",
      "\n",
      "['∀ person.(((y == diabetes) -> Diabetic(person)))', '∀ person.(((y == healthy) -> ~(Diabetic(person))))', '∀ person.((((person[BMI] > 29) & (person[Glucose] > 125)) -> Diabetic(person)))', '∀ person.((((person[BMI] < 26) & (person[Glucose] < 101)) -> ~(Diabetic(person))))', '∀ person.((((person[Glucose] > 143.5) & (person[DiabetesPedigreeFunction] > 0.32)) -> Diabetic(person)))', '∀ person.((((person[Glucose] > 143.5) & ((person[DiabetesPedigreeFunction] <= 0.32) & (person[BMI] > 31.40))) -> Diabetic(person)))', '∀ person.((((person[Glucose] > 143.5) & ((person[DiabetesPedigreeFunction] <= 0.32) & (person[BMI] <= 31.40))) -> ~(Diabetic(person))))', '∀ person.((((person[Glucose] <= 143.5) & ((person[Pregnancies] > 7.5) & (person[DiabetesPedigreeFunction] > 0.50))) -> Diabetic(person)))', '∀ person.((((person[Glucose] <= 143.5) & ((person[Pregnancies] <= 7.5) & (person[BMI] > 45.44))) -> Diabetic(person)))', '∀ person.((((person[Glucose] <= 143.5) & ((person[Pregnancies] <= 7.5) & (person[BMI] <= 45.44))) -> ~(Diabetic(person))))', '∀ person.((((person[Glucose] <= 143.5) & ((person[Pregnancies] > 7.5) & ((person[DiabetesPedigreeFunction] <= 0.50) & (person[BloodPressure] > 91.0)))) -> Diabetic(person)))', '∀ person.((((person[Glucose] <= 143.5) & ((person[Pregnancies] > 7.5) & ((person[DiabetesPedigreeFunction] <= 0.50) & (person[BloodPressure] <= 91.0)))) -> ~(Diabetic(person))))']\n",
      "Rule Outputs:  [tensor(0.7411, grad_fn=<RsubBackward1>), tensor(0.6948, grad_fn=<RsubBackward1>), tensor(0.7557, grad_fn=<RsubBackward1>), tensor(0.9882, grad_fn=<RsubBackward1>), tensor(0.8958, grad_fn=<RsubBackward1>), tensor(0.7918, grad_fn=<RsubBackward1>), tensor(0.8580, grad_fn=<RsubBackward1>), tensor(0.8459, grad_fn=<RsubBackward1>), tensor(1.0000, grad_fn=<RsubBackward1>), tensor(0.5725, grad_fn=<RsubBackward1>), tensor(1.0000, grad_fn=<RsubBackward1>), tensor(0.7757, grad_fn=<RsubBackward1>)]\n",
      "Epoch 61/100, Train Loss: 0.22985804080963135, Validation Loss: 0.2231144905090332\n",
      "\n",
      "['∀ person.(((y == diabetes) -> Diabetic(person)))', '∀ person.(((y == healthy) -> ~(Diabetic(person))))', '∀ person.((((person[BMI] > 29) & (person[Glucose] > 125)) -> Diabetic(person)))', '∀ person.((((person[BMI] < 26) & (person[Glucose] < 101)) -> ~(Diabetic(person))))', '∀ person.((((person[Glucose] > 143.5) & (person[DiabetesPedigreeFunction] > 0.32)) -> Diabetic(person)))', '∀ person.((((person[Glucose] > 143.5) & ((person[DiabetesPedigreeFunction] <= 0.32) & (person[BMI] > 31.40))) -> Diabetic(person)))', '∀ person.((((person[Glucose] > 143.5) & ((person[DiabetesPedigreeFunction] <= 0.32) & (person[BMI] <= 31.40))) -> ~(Diabetic(person))))', '∀ person.((((person[Glucose] <= 143.5) & ((person[Pregnancies] > 7.5) & (person[DiabetesPedigreeFunction] > 0.50))) -> Diabetic(person)))', '∀ person.((((person[Glucose] <= 143.5) & ((person[Pregnancies] <= 7.5) & (person[BMI] > 45.44))) -> Diabetic(person)))', '∀ person.((((person[Glucose] <= 143.5) & ((person[Pregnancies] <= 7.5) & (person[BMI] <= 45.44))) -> ~(Diabetic(person))))', '∀ person.((((person[Glucose] <= 143.5) & ((person[Pregnancies] > 7.5) & ((person[DiabetesPedigreeFunction] <= 0.50) & (person[BloodPressure] > 91.0)))) -> Diabetic(person)))', '∀ person.((((person[Glucose] <= 143.5) & ((person[Pregnancies] > 7.5) & ((person[DiabetesPedigreeFunction] <= 0.50) & (person[BloodPressure] <= 91.0)))) -> ~(Diabetic(person))))']\n",
      "Rule Outputs:  [tensor(0.7413, grad_fn=<RsubBackward1>), tensor(0.6960, grad_fn=<RsubBackward1>), tensor(0.7562, grad_fn=<RsubBackward1>), tensor(0.9881, grad_fn=<RsubBackward1>), tensor(0.8959, grad_fn=<RsubBackward1>), tensor(0.7916, grad_fn=<RsubBackward1>), tensor(0.8583, grad_fn=<RsubBackward1>), tensor(0.8457, grad_fn=<RsubBackward1>), tensor(1.0000, grad_fn=<RsubBackward1>), tensor(0.5731, grad_fn=<RsubBackward1>), tensor(1.0000, grad_fn=<RsubBackward1>), tensor(0.7761, grad_fn=<RsubBackward1>)]\n",
      "Epoch 71/100, Train Loss: 0.22947931289672852, Validation Loss: 0.2227376103401184\n",
      "\n",
      "['∀ person.(((y == diabetes) -> Diabetic(person)))', '∀ person.(((y == healthy) -> ~(Diabetic(person))))', '∀ person.((((person[BMI] > 29) & (person[Glucose] > 125)) -> Diabetic(person)))', '∀ person.((((person[BMI] < 26) & (person[Glucose] < 101)) -> ~(Diabetic(person))))', '∀ person.((((person[Glucose] > 143.5) & (person[DiabetesPedigreeFunction] > 0.32)) -> Diabetic(person)))', '∀ person.((((person[Glucose] > 143.5) & ((person[DiabetesPedigreeFunction] <= 0.32) & (person[BMI] > 31.40))) -> Diabetic(person)))', '∀ person.((((person[Glucose] > 143.5) & ((person[DiabetesPedigreeFunction] <= 0.32) & (person[BMI] <= 31.40))) -> ~(Diabetic(person))))', '∀ person.((((person[Glucose] <= 143.5) & ((person[Pregnancies] > 7.5) & (person[DiabetesPedigreeFunction] > 0.50))) -> Diabetic(person)))', '∀ person.((((person[Glucose] <= 143.5) & ((person[Pregnancies] <= 7.5) & (person[BMI] > 45.44))) -> Diabetic(person)))', '∀ person.((((person[Glucose] <= 143.5) & ((person[Pregnancies] <= 7.5) & (person[BMI] <= 45.44))) -> ~(Diabetic(person))))', '∀ person.((((person[Glucose] <= 143.5) & ((person[Pregnancies] > 7.5) & ((person[DiabetesPedigreeFunction] <= 0.50) & (person[BloodPressure] > 91.0)))) -> Diabetic(person)))', '∀ person.((((person[Glucose] <= 143.5) & ((person[Pregnancies] > 7.5) & ((person[DiabetesPedigreeFunction] <= 0.50) & (person[BloodPressure] <= 91.0)))) -> ~(Diabetic(person))))']\n",
      "Rule Outputs:  [tensor(0.7420, grad_fn=<RsubBackward1>), tensor(0.6965, grad_fn=<RsubBackward1>), tensor(0.7570, grad_fn=<RsubBackward1>), tensor(0.9879, grad_fn=<RsubBackward1>), tensor(0.8960, grad_fn=<RsubBackward1>), tensor(0.7917, grad_fn=<RsubBackward1>), tensor(0.8584, grad_fn=<RsubBackward1>), tensor(0.8457, grad_fn=<RsubBackward1>), tensor(1.0000, grad_fn=<RsubBackward1>), tensor(0.5732, grad_fn=<RsubBackward1>), tensor(1.0000, grad_fn=<RsubBackward1>), tensor(0.7762, grad_fn=<RsubBackward1>)]\n",
      "Epoch 81/100, Train Loss: 0.2291090488433838, Validation Loss: 0.22243458032608032\n",
      "\n",
      "['∀ person.(((y == diabetes) -> Diabetic(person)))', '∀ person.(((y == healthy) -> ~(Diabetic(person))))', '∀ person.((((person[BMI] > 29) & (person[Glucose] > 125)) -> Diabetic(person)))', '∀ person.((((person[BMI] < 26) & (person[Glucose] < 101)) -> ~(Diabetic(person))))', '∀ person.((((person[Glucose] > 143.5) & (person[DiabetesPedigreeFunction] > 0.32)) -> Diabetic(person)))', '∀ person.((((person[Glucose] > 143.5) & ((person[DiabetesPedigreeFunction] <= 0.32) & (person[BMI] > 31.40))) -> Diabetic(person)))', '∀ person.((((person[Glucose] > 143.5) & ((person[DiabetesPedigreeFunction] <= 0.32) & (person[BMI] <= 31.40))) -> ~(Diabetic(person))))', '∀ person.((((person[Glucose] <= 143.5) & ((person[Pregnancies] > 7.5) & (person[DiabetesPedigreeFunction] > 0.50))) -> Diabetic(person)))', '∀ person.((((person[Glucose] <= 143.5) & ((person[Pregnancies] <= 7.5) & (person[BMI] > 45.44))) -> Diabetic(person)))', '∀ person.((((person[Glucose] <= 143.5) & ((person[Pregnancies] <= 7.5) & (person[BMI] <= 45.44))) -> ~(Diabetic(person))))', '∀ person.((((person[Glucose] <= 143.5) & ((person[Pregnancies] > 7.5) & ((person[DiabetesPedigreeFunction] <= 0.50) & (person[BloodPressure] > 91.0)))) -> Diabetic(person)))', '∀ person.((((person[Glucose] <= 143.5) & ((person[Pregnancies] > 7.5) & ((person[DiabetesPedigreeFunction] <= 0.50) & (person[BloodPressure] <= 91.0)))) -> ~(Diabetic(person))))']\n",
      "Rule Outputs:  [tensor(0.7428, grad_fn=<RsubBackward1>), tensor(0.6970, grad_fn=<RsubBackward1>), tensor(0.7579, grad_fn=<RsubBackward1>), tensor(0.9878, grad_fn=<RsubBackward1>), tensor(0.8962, grad_fn=<RsubBackward1>), tensor(0.7917, grad_fn=<RsubBackward1>), tensor(0.8585, grad_fn=<RsubBackward1>), tensor(0.8457, grad_fn=<RsubBackward1>), tensor(1.0000, grad_fn=<RsubBackward1>), tensor(0.5732, grad_fn=<RsubBackward1>), tensor(1.0000, grad_fn=<RsubBackward1>), tensor(0.7763, grad_fn=<RsubBackward1>)]\n",
      "Epoch 91/100, Train Loss: 0.22874701023101807, Validation Loss: 0.22215211391448975\n",
      "\n"
     ]
    }
   ],
   "source": [
    "if fine_tune:\n",
    "    kb.optimize(num_epochs=100, log_steps=10, lr=0.0000001, early_stopping=True, patience=5)\n",
    "else:\n",
    "    kb.optimize(num_epochs=150, log_steps=50, lr=0.00001, early_stopping=True, patience=5)"
   ]
  },
  {
   "cell_type": "code",
   "execution_count": 11,
   "metadata": {},
   "outputs": [
    {
     "name": "stdout",
     "output_type": "stream",
     "text": [
      "True Positives: 89, False Positives: 61, False Negatives: 31, True Negatives: 164, Total: 345\n",
      "\n",
      "A (Accuracy): 0.7333\n",
      "P (Precision): 0.5933\n",
      "R (Recall): 0.7417\n",
      "F1 (F1 Score): 0.6593\n",
      "BA (Balanced Accuracy): 0.7353\n",
      "MCC (Matthews Correlation Coefficient): 0.4521\n",
      "TNR (True Negative Rate): 0.7289\n",
      "FPR (False Positive Rate): 0.2711\n",
      "FNR (False Negative Rate): 0.2583\n",
      "TPR (True Positive Rate): 0.7417\n"
     ]
    }
   ],
   "source": [
    "compute_metrics(kb.predicates[\"Diabetic\"], kb.loaders[0])"
   ]
  },
  {
   "cell_type": "code",
   "execution_count": null,
   "metadata": {},
   "outputs": [],
   "source": [
    "compute_metrics(kb.predicates[\"Diabetic\"], kb.loaders[0])"
   ]
  },
  {
   "cell_type": "markdown",
   "metadata": {},
   "source": [
    "# A"
   ]
  },
  {
   "cell_type": "code",
   "execution_count": 12,
   "metadata": {},
   "outputs": [
    {
     "data": {
      "text/plain": [
       "0.7786458333333334"
      ]
     },
     "execution_count": 12,
     "metadata": {},
     "output_type": "execute_result"
    }
   ],
   "source": [
    "from sklearn.linear_model import LogisticRegression\n",
    "from sklearn.neural_network import MLPClassifier\n",
    "\n",
    "x = test_data.iloc[:, :-1]\n",
    "\n",
    "lr = LogisticRegression(random_state=seed)\n",
    "lr.fit(x,y)\n",
    "lr.score(x, y)"
   ]
  },
  {
   "cell_type": "code",
   "execution_count": 13,
   "metadata": {},
   "outputs": [
    {
     "data": {
      "text/plain": [
       "0.6927083333333334"
      ]
     },
     "execution_count": 13,
     "metadata": {},
     "output_type": "execute_result"
    }
   ],
   "source": [
    "mlp = MLPClassifier(random_state=seed, max_iter=10)\n",
    "mlp.fit(x,y)\n",
    "mlp.score(x, y)"
   ]
  },
  {
   "cell_type": "code",
   "execution_count": 14,
   "metadata": {},
   "outputs": [
    {
     "name": "stdout",
     "output_type": "stream",
     "text": [
      "Step 1/1000\n",
      "Loss: 0.6884763836860657\n",
      "\n",
      "Step 251/1000\n",
      "Loss: 0.5577901005744934\n",
      "\n",
      "Step 501/1000\n",
      "Loss: 0.5307449698448181\n",
      "\n",
      "Step 751/1000\n",
      "Loss: 0.5070579648017883\n",
      "\n",
      "Step 1001/1000\n",
      "Loss: 0.48979267477989197\n",
      "\n"
     ]
    }
   ],
   "source": [
    "import torch.nn.functional as F\n",
    "from torch import optim\n",
    "\n",
    "class InPlaceParameter(torch.nn.Parameter):\n",
    "    def __new__(cls, data, model_ref, model_attr):\n",
    "        instance = super().__new__(cls, data, requires_grad=True)\n",
    "        instance.model_ref = model_ref\n",
    "        instance.model_attr = model_attr\n",
    "        return instance\n",
    "\n",
    "    def __setitem__(self, key, value):\n",
    "        super().__setitem__(key, value)\n",
    "        self.update_model_param()\n",
    "\n",
    "    def __setattr__(self, name, value):\n",
    "        super().__setattr__(name, value)\n",
    "        if name in ['data', 'grad', 'requires_grad']:\n",
    "            self.update_model_param()\n",
    "\n",
    "    def update_model_param(self):\n",
    "        setattr(self.model_ref, self.model_attr, self.detach().numpy())\n",
    "\n",
    "def predict(X, coef, intercept):\n",
    "    logits = X @ coef.T + intercept  \n",
    "    probs = torch.sigmoid(logits)    \n",
    "    return probs\n",
    "\n",
    "def custom_loss(X, y, coef, intercept):\n",
    "    probs = predict(X, coef, intercept)\n",
    "    bce_loss = F.binary_cross_entropy(probs.squeeze(), y)\n",
    "    return bce_loss\n",
    "\n",
    "\n",
    "lr = LogisticRegression(random_state=seed, max_iter=1)\n",
    "lr.fit(x,y)\n",
    "\n",
    "model = lr\n",
    "\n",
    "coef = InPlaceParameter(torch.tensor(model.coef_, dtype=torch.float32), model, 'coef_')\n",
    "intercept = InPlaceParameter(torch.tensor(model.intercept_, dtype=torch.float32), model, 'intercept_')\n",
    "\n",
    "optimizer = optim.Adam([coef, intercept], lr=0.02)\n",
    "X_tensor = torch.tensor(x.values, dtype=torch.float32)\n",
    "y_tensor = torch.tensor(y.values, dtype=torch.float32)\n",
    "\n",
    "for epoch in range(1001):\n",
    "    optimizer.zero_grad()\n",
    "    loss = custom_loss(X_tensor, y_tensor, coef, intercept)\n",
    "    loss.backward()\n",
    "    optimizer.step()\n",
    "\n",
    "    if epoch % 250 == 0:\n",
    "        print(f\"Step {epoch + 1}/1000\")\n",
    "        print(f\"Loss: {loss.item()}\")\n",
    "        print()"
   ]
  },
  {
   "cell_type": "code",
   "execution_count": 15,
   "metadata": {},
   "outputs": [
    {
     "data": {
      "text/plain": [
       "0.76171875"
      ]
     },
     "execution_count": 15,
     "metadata": {},
     "output_type": "execute_result"
    }
   ],
   "source": [
    "model.score(x, y)"
   ]
  }
 ],
 "metadata": {
  "kernelspec": {
   "display_name": ".venv",
   "language": "python",
   "name": "python3"
  },
  "language_info": {
   "codemirror_mode": {
    "name": "ipython",
    "version": 3
   },
   "file_extension": ".py",
   "mimetype": "text/x-python",
   "name": "python",
   "nbconvert_exporter": "python",
   "pygments_lexer": "ipython3",
   "version": "3.12.4"
  }
 },
 "nbformat": 4,
 "nbformat_minor": 2
}
