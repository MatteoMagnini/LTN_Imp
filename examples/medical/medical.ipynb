{
 "cells": [
  {
   "cell_type": "code",
   "execution_count": 1,
   "metadata": {},
   "outputs": [],
   "source": [
    "from ltn_imp.automation.knowledge_base import KnowledgeBase\n",
    "import torch\n",
    "import pandas as pd"
   ]
  },
  {
   "cell_type": "code",
   "execution_count": 2,
   "metadata": {},
   "outputs": [
    {
     "name": "stdout",
     "output_type": "stream",
     "text": [
      "\u001b[37mPoe =>\u001b[0m \u001b[94mmkdir -p examples/medical/datasets\u001b[0m\n",
      "\u001b[37mPoe =>\u001b[0m \u001b[94mcurl -L -o examples/medical/datasets/pima_indians_imputed.csv https://raw.githubusercontent.com/ChristelSirocchi/hybrid-ML/main/pima_indians_imputed.csv\u001b[0m\n",
      "  % Total    % Received % Xferd  Average Speed   Time    Time     Time  Current\n",
      "                                 Dload  Upload   Total   Spent    Left  Speed\n",
      "100 33428  100 33428    0     0   132k      0 --:--:-- --:--:-- --:--:--  133k\n"
     ]
    }
   ],
   "source": [
    "!poetry run poe download-medical-datasets"
   ]
  },
  {
   "cell_type": "code",
   "execution_count": 3,
   "metadata": {},
   "outputs": [],
   "source": [
    "import random\n",
    "import numpy as np\n",
    "import torch\n",
    "\n",
    "# Set the random seed for reproducibility\n",
    "random.seed(42)\n",
    "np.random.seed(42)\n",
    "torch.manual_seed(42)\n",
    "torch.cuda.manual_seed(42)\n",
    "torch.backends.cudnn.deterministic = True"
   ]
  },
  {
   "cell_type": "code",
   "execution_count": 4,
   "metadata": {},
   "outputs": [],
   "source": [
    "from sklearn.model_selection import train_test_split\n",
    "test_data = pd.read_csv('datasets/pima_indians_imputed.csv').astype(float)\n",
    "x_train, x_test = train_test_split(test_data, test_size=0.5, random_state=42)\n",
    "x_train, x_val = train_test_split(x_train, test_size=0.1, random_state=42)\n",
    "x_train.to_csv('datasets/train.csv')\n",
    "x_val.to_csv('datasets/val.csv')\n",
    "x_test.to_csv('datasets/test.csv')"
   ]
  },
  {
   "cell_type": "code",
   "execution_count": 5,
   "metadata": {},
   "outputs": [],
   "source": [
    "import torch\n",
    "from sklearn.metrics import matthews_corrcoef\n",
    "\n",
    "def predict(model, x):\n",
    "    model.eval()  # Ensure the model is in evaluation mode\n",
    "    with torch.no_grad():  # No need to track gradients\n",
    "        # Ensure x is a tensor and has the right dtype\n",
    "        if not isinstance(x, torch.Tensor):\n",
    "            x = torch.tensor(x, dtype=torch.float32)\n",
    "        elif x.dtype != torch.float32:\n",
    "            x = x.float()\n",
    "        \n",
    "        # Forward pass through the model\n",
    "        probs = model(x)\n",
    "        \n",
    "        # Apply binary classification threshold at 0.5\n",
    "        preds = (probs > 0.5).float()\n",
    "    return preds\n",
    "\n",
    "def compute_metrics(model, data_loader):\n",
    "    correct = 0\n",
    "    total = 0\n",
    "    \n",
    "    true_positives = 0\n",
    "    false_positives = 0\n",
    "    false_negatives = 0\n",
    "    true_negatives = 0\n",
    "    \n",
    "    all_true_labels = []\n",
    "    all_predicted_labels = []\n",
    "    \n",
    "    model.eval()  # Set the model to evaluation mode\n",
    "    with torch.no_grad():  # Disable gradient computation\n",
    "        for data, labels in data_loader:\n",
    "            # Ensure data and labels are the correct dtype\n",
    "            if not isinstance(data, torch.Tensor):\n",
    "                data = torch.tensor(data, dtype=torch.float32)\n",
    "            elif data.dtype != torch.float32:\n",
    "                data = data.float()\n",
    "            \n",
    "            if not isinstance(labels, torch.Tensor):\n",
    "                labels = torch.tensor(labels, dtype=torch.float32)\n",
    "            elif labels.dtype != torch.float32:\n",
    "                labels = labels.float()\n",
    "            \n",
    "            # Get predictions\n",
    "            preds = predict(model, data)\n",
    "            \n",
    "            # Squeeze predictions and labels to remove dimensions of size 1\n",
    "            predicted_labels = preds.squeeze()\n",
    "            true_labels = labels.squeeze()\n",
    "\n",
    "            # Ensure the shapes match before comparison\n",
    "            if predicted_labels.shape != true_labels.shape:\n",
    "                true_labels = true_labels.view_as(predicted_labels)\n",
    "            \n",
    "            # Collect all predictions and true labels for MCC\n",
    "            all_true_labels.extend(true_labels.cpu().numpy())\n",
    "            all_predicted_labels.extend(predicted_labels.cpu().numpy())\n",
    "\n",
    "            # Count correct predictions\n",
    "            correct += (predicted_labels == true_labels).sum().item()\n",
    "            total += true_labels.size(0)\n",
    "            \n",
    "            # Calculate TP, FP, FN, TN\n",
    "            true_positives += ((predicted_labels == 1) & (true_labels == 1)).sum().item()\n",
    "            false_positives += ((predicted_labels == 1) & (true_labels == 0)).sum().item()\n",
    "            false_negatives += ((predicted_labels == 0) & (true_labels == 1)).sum().item()\n",
    "            true_negatives += ((predicted_labels == 0) & (true_labels == 0)).sum().item()\n",
    "    \n",
    "    accuracy = correct / total if total > 0 else 0\n",
    "    precision = true_positives / (true_positives + false_positives) if (true_positives + false_positives) > 0 else 0\n",
    "    recall = true_positives / (true_positives + false_negatives) if (true_positives + false_negatives) > 0 else 0\n",
    "    f1_score = 2 * (precision * recall) / (precision + recall) if (precision + recall) > 0 else 0\n",
    "    balanced_accuracy = 0.5 * (recall + (true_negatives / (true_negatives + false_positives) if (true_negatives + false_positives) > 0 else 0))\n",
    "    mcc = matthews_corrcoef(all_true_labels, all_predicted_labels)\n",
    "    tnr = true_negatives / (true_negatives + false_positives) if (true_negatives + false_positives) > 0 else 0  # True Negative Rate\n",
    "    fpr = false_positives / (false_positives + true_negatives) if (false_positives + true_negatives) > 0 else 0  # False Positive Rate\n",
    "    fnr = false_negatives / (false_negatives + true_positives) if (false_negatives + true_positives) > 0 else 0  # False Negative Rate\n",
    "    tpr = recall  # True Positive Rate is the same as recall\n",
    "\n",
    "    print(f\"True Positives: {true_positives}, False Positives: {false_positives}, False Negatives: {false_negatives}, True Negatives: {true_negatives}\")\n",
    "    print()\n",
    "    print(f\"A (Accuracy): {accuracy:.4f}\")\n",
    "    print(f\"P (Precision): {precision:.4f}\")\n",
    "    print(f\"R (Recall): {recall:.4f}\")\n",
    "    print(f\"F1 (F1 Score): {f1_score:.4f}\")\n",
    "    print(f\"BA (Balanced Accuracy): {balanced_accuracy:.4f}\")\n",
    "    print(f\"MCC (Matthews Correlation Coefficient): {mcc:.4f}\")\n",
    "    print(f\"TNR (True Negative Rate): {tnr:.4f}\")\n",
    "    print(f\"FPR (False Positive Rate): {fpr:.4f}\")\n",
    "    print(f\"FNR (False Negative Rate): {fnr:.4f}\")\n",
    "    print(f\"TPR (True Positive Rate): {tpr:.4f}\")"
   ]
  },
  {
   "cell_type": "code",
   "execution_count": 6,
   "metadata": {},
   "outputs": [],
   "source": [
    "kb = KnowledgeBase(\"medical_config.yaml\")"
   ]
  },
  {
   "cell_type": "code",
   "execution_count": 7,
   "metadata": {},
   "outputs": [],
   "source": [
    "x, y = next(iter(kb.loaders[0]))\n",
    "test_data = pd.DataFrame(x)\n",
    "high = test_data[(test_data[5] > 29) & (test_data[1] > 125)]\n",
    "low = test_data[(test_data[5] <= 25) & (test_data[1] <= 100)]"
   ]
  },
  {
   "cell_type": "code",
   "execution_count": 8,
   "metadata": {},
   "outputs": [
    {
     "data": {
      "text/plain": [
       "tensor(6.0966e-05, grad_fn=<MeanBackward0>)"
      ]
     },
     "execution_count": 8,
     "metadata": {},
     "output_type": "execute_result"
    }
   ],
   "source": [
    "kb.predicates[\"Diabetic\"](torch.tensor(high.values, dtype=torch.float32)).mean()"
   ]
  },
  {
   "cell_type": "code",
   "execution_count": 9,
   "metadata": {},
   "outputs": [
    {
     "data": {
      "text/plain": [
       "tensor(0.0052, grad_fn=<MeanBackward0>)"
      ]
     },
     "execution_count": 9,
     "metadata": {},
     "output_type": "execute_result"
    }
   ],
   "source": [
    "kb.predicates[\"Diabetic\"](torch.tensor(low.values, dtype=torch.float32)).mean()"
   ]
  },
  {
   "cell_type": "code",
   "execution_count": 10,
   "metadata": {},
   "outputs": [
    {
     "name": "stdout",
     "output_type": "stream",
     "text": [
      "True Positives: 0, False Positives: 0, False Negatives: 124, True Negatives: 221\n",
      "\n",
      "A (Accuracy): 0.6406\n",
      "P (Precision): 0.0000\n",
      "R (Recall): 0.0000\n",
      "F1 (F1 Score): 0.0000\n",
      "BA (Balanced Accuracy): 0.5000\n",
      "MCC (Matthews Correlation Coefficient): 0.0000\n",
      "TNR (True Negative Rate): 1.0000\n",
      "FPR (False Positive Rate): 0.0000\n",
      "FNR (False Negative Rate): 1.0000\n",
      "TPR (True Positive Rate): 0.0000\n"
     ]
    }
   ],
   "source": [
    "compute_metrics(kb.predicates[\"Diabetic\"], kb.loaders[0])"
   ]
  },
  {
   "cell_type": "code",
   "execution_count": 11,
   "metadata": {},
   "outputs": [
    {
     "name": "stdout",
     "output_type": "stream",
     "text": [
      "True Positives: 0, False Positives: 0, False Negatives: 130, True Negatives: 254\n",
      "\n",
      "A (Accuracy): 0.6615\n",
      "P (Precision): 0.0000\n",
      "R (Recall): 0.0000\n",
      "F1 (F1 Score): 0.0000\n",
      "BA (Balanced Accuracy): 0.5000\n",
      "MCC (Matthews Correlation Coefficient): 0.0000\n",
      "TNR (True Negative Rate): 1.0000\n",
      "FPR (False Positive Rate): 0.0000\n",
      "FNR (False Negative Rate): 1.0000\n",
      "TPR (True Positive Rate): 0.0000\n"
     ]
    }
   ],
   "source": [
    "compute_metrics(kb.predicates[\"Diabetic\"], kb.test_loaders[0])"
   ]
  },
  {
   "cell_type": "code",
   "execution_count": 12,
   "metadata": {},
   "outputs": [
    {
     "name": "stdout",
     "output_type": "stream",
     "text": [
      "['∀ person.(((y == diabetes) -> Diabetic(person)))', '∀ person.(((y == healthy) -> ~(Diabetic(person))))', '∀ person.((((person[BMI] < 26) & (person[Glucose] < 101)) -> ~(Diabetic(person))))', '∀ person.((((person[BMI] > 29) & (person[Glucose] > 125)) -> Diabetic(person)))', '∀ person.((((person[Glucose] > 143.5) & (person[DiabetesPedigreeFunction] > 0.32)) -> Diabetic(person)))', '∀ person.((((person[Glucose] > 143.5) & ((person[DiabetesPedigreeFunction] <= 0.32) & (person[BMI] <= 31.40))) -> ~(Diabetic(person))))', '∀ person.((((person[Glucose] > 143.5) & ((person[DiabetesPedigreeFunction] <= 0.32) & (person[BMI] > 31.40))) -> Diabetic(person)))', '∀ person.((((person[Glucose] <= 143.5) & ((person[Pregnancies] <= 7.5) & (person[BMI] <= 45.44))) -> ~(Diabetic(person))))', '∀ person.((((person[Glucose] <= 143.5) & ((person[Pregnancies] <= 7.5) & (person[BMI] > 45.44))) -> Diabetic(person)))', '∀ person.((((person[Glucose] <= 143.5) & ((person[Pregnancies] > 7.5) & (person[DiabetesPedigreeFunction] > 0.50))) -> Diabetic(person)))', '∀ person.((((person[Glucose] <= 143.5) & ((person[Pregnancies] > 7.5) & ((person[DiabetesPedigreeFunction] <= 0.50) & (person[BloodPressure] <= 91.0)))) -> ~(Diabetic(person))))', '∀ person.((((person[Glucose] <= 143.5) & ((person[Pregnancies] > 7.5) & ((person[DiabetesPedigreeFunction] <= 0.50) & (person[BloodPressure] > 91.0)))) -> Diabetic(person)))']\n",
      "Epoch 1/1001, Train Loss: 0.25657594203948975, Validation Loss: 0.2280368208885193\n",
      "\n",
      "Early stopping at Epoch 16/1001, Train Loss: 0.18661826848983765, Validation Loss: 0.21773678064346313\n"
     ]
    }
   ],
   "source": [
    "kb.optimize(num_epochs=1001, log_steps=500, lr=0.001, early_stopping=True)"
   ]
  },
  {
   "cell_type": "code",
   "execution_count": 13,
   "metadata": {},
   "outputs": [
    {
     "name": "stdout",
     "output_type": "stream",
     "text": [
      "True Positives: 72, False Positives: 48, False Negatives: 52, True Negatives: 173\n",
      "\n",
      "A (Accuracy): 0.7101\n",
      "P (Precision): 0.6000\n",
      "R (Recall): 0.5806\n",
      "F1 (F1 Score): 0.5902\n",
      "BA (Balanced Accuracy): 0.6817\n",
      "MCC (Matthews Correlation Coefficient): 0.3662\n",
      "TNR (True Negative Rate): 0.7828\n",
      "FPR (False Positive Rate): 0.2172\n",
      "FNR (False Negative Rate): 0.4194\n",
      "TPR (True Positive Rate): 0.5806\n"
     ]
    }
   ],
   "source": [
    "compute_metrics(kb.predicates[\"Diabetic\"], kb.loaders[0])"
   ]
  },
  {
   "cell_type": "code",
   "execution_count": 14,
   "metadata": {},
   "outputs": [
    {
     "name": "stdout",
     "output_type": "stream",
     "text": [
      "True Positives: 62, False Positives: 47, False Negatives: 68, True Negatives: 207\n",
      "\n",
      "A (Accuracy): 0.7005\n",
      "P (Precision): 0.5688\n",
      "R (Recall): 0.4769\n",
      "F1 (F1 Score): 0.5188\n",
      "BA (Balanced Accuracy): 0.6459\n",
      "MCC (Matthews Correlation Coefficient): 0.3064\n",
      "TNR (True Negative Rate): 0.8150\n",
      "FPR (False Positive Rate): 0.1850\n",
      "FNR (False Negative Rate): 0.5231\n",
      "TPR (True Positive Rate): 0.4769\n"
     ]
    }
   ],
   "source": [
    "compute_metrics(kb.predicates[\"Diabetic\"], kb.test_loaders[0])"
   ]
  },
  {
   "cell_type": "code",
   "execution_count": 15,
   "metadata": {},
   "outputs": [
    {
     "data": {
      "text/plain": [
       "tensor(0.5474, grad_fn=<MeanBackward0>)"
      ]
     },
     "execution_count": 15,
     "metadata": {},
     "output_type": "execute_result"
    }
   ],
   "source": [
    "kb.predicates[\"Diabetic\"](torch.tensor(high.values, dtype=torch.float32)).mean()"
   ]
  },
  {
   "cell_type": "code",
   "execution_count": 16,
   "metadata": {},
   "outputs": [
    {
     "data": {
      "text/plain": [
       "tensor(0.0959, grad_fn=<MeanBackward0>)"
      ]
     },
     "execution_count": 16,
     "metadata": {},
     "output_type": "execute_result"
    }
   ],
   "source": [
    "kb.predicates[\"Diabetic\"](torch.tensor(low.values, dtype=torch.float32)).mean()"
   ]
  }
 ],
 "metadata": {
  "kernelspec": {
   "display_name": ".venv",
   "language": "python",
   "name": "python3"
  },
  "language_info": {
   "codemirror_mode": {
    "name": "ipython",
    "version": 3
   },
   "file_extension": ".py",
   "mimetype": "text/x-python",
   "name": "python",
   "nbconvert_exporter": "python",
   "pygments_lexer": "ipython3",
   "version": "3.12.4"
  }
 },
 "nbformat": 4,
 "nbformat_minor": 2
}
