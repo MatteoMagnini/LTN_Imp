{
 "cells": [
  {
   "cell_type": "code",
   "execution_count": 1,
   "metadata": {},
   "outputs": [],
   "source": [
    "from ltn_imp.automation.knowledge_base import KnowledgeBase\n",
    "import torch\n",
    "import pandas as pd"
   ]
  },
  {
   "cell_type": "code",
   "execution_count": 2,
   "metadata": {},
   "outputs": [
    {
     "name": "stdout",
     "output_type": "stream",
     "text": [
      "\u001b[37mPoe =>\u001b[0m \u001b[94mmkdir -p examples/medical/datasets\u001b[0m\n",
      "\u001b[37mPoe =>\u001b[0m \u001b[94mcurl -L -o examples/medical/datasets/pima_indians_imputed.csv https://raw.githubusercontent.com/ChristelSirocchi/hybrid-ML/main/pima_indians_imputed.csv\u001b[0m\n",
      "  % Total    % Received % Xferd  Average Speed   Time    Time     Time  Current\n",
      "                                 Dload  Upload   Total   Spent    Left  Speed\n",
      "100 33428  100 33428    0     0  99103      0 --:--:-- --:--:-- --:--:--     0- --:--:-- --:--:-- 99192\n"
     ]
    }
   ],
   "source": [
    "!poetry run poe download-medical-datasets"
   ]
  },
  {
   "cell_type": "code",
   "execution_count": 3,
   "metadata": {},
   "outputs": [],
   "source": [
    "pd.read_csv(\"datasets/pima_indians_imputed.csv\", index_col=0).astype(float).to_csv(\"datasets/pima_indians_imputed.csv\")"
   ]
  },
  {
   "cell_type": "code",
   "execution_count": 4,
   "metadata": {},
   "outputs": [],
   "source": [
    "def predict(model, x):\n",
    "    model.eval()  # Ensure the model is in evaluation mode\n",
    "    with torch.no_grad():  # No need to track gradients\n",
    "        # Ensure x is a tensor and has the right dtype\n",
    "        if not isinstance(x, torch.Tensor):\n",
    "            x = torch.tensor(x, dtype=torch.float32)\n",
    "        elif x.dtype != torch.float32:\n",
    "            x = x.float()\n",
    "        \n",
    "        # Forward pass through the model\n",
    "        probs = model(x)\n",
    "        \n",
    "        # Apply binary classification threshold at 0.5\n",
    "        preds = (probs > 0.5).float()\n",
    "    return preds\n",
    "\n",
    "def compute_accuracy(model, data_loader):\n",
    "    correct = 0\n",
    "    total = 0\n",
    "    \n",
    "    model.eval()  # Set the model to evaluation mode\n",
    "    with torch.no_grad():  # Disable gradient computation\n",
    "        for data, labels in data_loader:\n",
    "            # Ensure data and labels are the correct dtype\n",
    "            if not isinstance(data, torch.Tensor):\n",
    "                data = torch.tensor(data, dtype=torch.float32)\n",
    "            elif data.dtype != torch.float32:\n",
    "                data = data.float()\n",
    "            \n",
    "            if not isinstance(labels, torch.Tensor):\n",
    "                labels = torch.tensor(labels, dtype=torch.float32)\n",
    "            elif labels.dtype != torch.float32:\n",
    "                labels = labels.float()\n",
    "            \n",
    "            # Get predictions\n",
    "            preds = predict(model, data)\n",
    "            \n",
    "            # Squeeze predictions and labels to remove dimensions of size 1\n",
    "            predicted_labels = preds.squeeze()\n",
    "            true_labels = labels.squeeze()\n",
    "\n",
    "            # Ensure the shapes match before comparison\n",
    "            if predicted_labels.shape != true_labels.shape:\n",
    "                true_labels = true_labels.view_as(predicted_labels)\n",
    "            \n",
    "            # Count correct predictions\n",
    "            correct += (predicted_labels == true_labels).sum().item()\n",
    "            total += true_labels.size(0)\n",
    "\n",
    "    accuracy = correct / total if total > 0 else 0\n",
    "    print(f\"Correct: {correct}, Total: {total}, Accuracy: {accuracy:.4f}\")\n",
    "    return accuracy\n"
   ]
  },
  {
   "cell_type": "code",
   "execution_count": 5,
   "metadata": {},
   "outputs": [],
   "source": [
    "kb = KnowledgeBase(\"medical_config.yaml\")"
   ]
  },
  {
   "cell_type": "code",
   "execution_count": 6,
   "metadata": {},
   "outputs": [],
   "source": [
    "x, y = next(iter(kb.loaders[0]))\n",
    "test_data = pd.DataFrame(x)\n",
    "high_BMI = test_data[test_data[5] > 35]\n",
    "low_BMI = test_data[test_data[5] <= 25]\n",
    "high_Glucose = test_data[test_data[1] > 127]\n",
    "low_Glucose = test_data[test_data[1] <= 100]"
   ]
  },
  {
   "cell_type": "code",
   "execution_count": 7,
   "metadata": {},
   "outputs": [
    {
     "data": {
      "text/plain": [
       "tensor(0.3475, grad_fn=<MeanBackward0>)"
      ]
     },
     "execution_count": 7,
     "metadata": {},
     "output_type": "execute_result"
    }
   ],
   "source": [
    "kb.predicates[\"Classifier\"](torch.tensor(high_BMI.values, dtype=torch.float32)).mean()"
   ]
  },
  {
   "cell_type": "code",
   "execution_count": 8,
   "metadata": {},
   "outputs": [
    {
     "data": {
      "text/plain": [
       "tensor(0.3185, grad_fn=<MeanBackward0>)"
      ]
     },
     "execution_count": 8,
     "metadata": {},
     "output_type": "execute_result"
    }
   ],
   "source": [
    "kb.predicates[\"Classifier\"](torch.tensor(low_BMI.values, dtype=torch.float32)).mean()"
   ]
  },
  {
   "cell_type": "code",
   "execution_count": 9,
   "metadata": {},
   "outputs": [
    {
     "data": {
      "text/plain": [
       "tensor(0.3785, grad_fn=<MeanBackward0>)"
      ]
     },
     "execution_count": 9,
     "metadata": {},
     "output_type": "execute_result"
    }
   ],
   "source": [
    "kb.predicates[\"Classifier\"](torch.tensor(high_Glucose.values, dtype=torch.float32)).mean()"
   ]
  },
  {
   "cell_type": "code",
   "execution_count": 10,
   "metadata": {},
   "outputs": [
    {
     "data": {
      "text/plain": [
       "tensor(0.2877, grad_fn=<MeanBackward0>)"
      ]
     },
     "execution_count": 10,
     "metadata": {},
     "output_type": "execute_result"
    }
   ],
   "source": [
    "kb.predicates[\"Classifier\"](torch.tensor(low_Glucose.values, dtype=torch.float32)).mean()"
   ]
  },
  {
   "cell_type": "code",
   "execution_count": 11,
   "metadata": {},
   "outputs": [
    {
     "name": "stdout",
     "output_type": "stream",
     "text": [
      "Correct: 491, Total: 768, Accuracy: 0.6393\n"
     ]
    },
    {
     "data": {
      "text/plain": [
       "0.6393229166666666"
      ]
     },
     "execution_count": 11,
     "metadata": {},
     "output_type": "execute_result"
    }
   ],
   "source": [
    "compute_accuracy(kb.predicates[\"Classifier\"], kb.loaders[0])"
   ]
  },
  {
   "cell_type": "code",
   "execution_count": 12,
   "metadata": {},
   "outputs": [
    {
     "name": "stdout",
     "output_type": "stream",
     "text": [
      "['∀ person.(((y == diabetes) -> Classifier(person)))', '∀ person.(((y == healthy) -> ~(Classifier(person))))', '∀ person.(((person[BMI] < 25) -> ~(Classifier(person))))', '∀ person.(((person[BMI] > 35) -> Classifier(person)))', '∀ person.(((person[Glucose] < 100) -> ~(Classifier(person))))', '∀ person.(((person[Glucose] > 127) -> Classifier(person)))']\n",
      "Rule Outputs:  [tensor(0.5465, grad_fn=<RsubBackward1>), tensor(0.5343, grad_fn=<RsubBackward1>), tensor(0.8165, grad_fn=<RsubBackward1>), tensor(0.6790, grad_fn=<RsubBackward1>), tensor(0.7955, grad_fn=<RsubBackward1>), tensor(0.6960, grad_fn=<RsubBackward1>)]\n",
      "Epoch 1/3001, Loss: 0.33997392654418945\n",
      "\n",
      "['∀ person.(((y == diabetes) -> Classifier(person)))', '∀ person.(((y == healthy) -> ~(Classifier(person))))', '∀ person.(((person[BMI] < 25) -> ~(Classifier(person))))', '∀ person.(((person[BMI] > 35) -> Classifier(person)))', '∀ person.(((person[Glucose] < 100) -> ~(Classifier(person))))', '∀ person.(((person[Glucose] > 127) -> Classifier(person)))']\n",
      "Rule Outputs:  [tensor(0.6384, grad_fn=<RsubBackward1>), tensor(0.5450, grad_fn=<RsubBackward1>), tensor(0.9151, grad_fn=<RsubBackward1>), tensor(0.8093, grad_fn=<RsubBackward1>), tensor(0.8625, grad_fn=<RsubBackward1>), tensor(0.8157, grad_fn=<RsubBackward1>)]\n",
      "Epoch 501/3001, Loss: 0.26899951696395874\n",
      "\n",
      "['∀ person.(((y == diabetes) -> Classifier(person)))', '∀ person.(((y == healthy) -> ~(Classifier(person))))', '∀ person.(((person[BMI] < 25) -> ~(Classifier(person))))', '∀ person.(((person[BMI] > 35) -> Classifier(person)))', '∀ person.(((person[Glucose] < 100) -> ~(Classifier(person))))', '∀ person.(((person[Glucose] > 127) -> Classifier(person)))']\n",
      "Rule Outputs:  [tensor(0.6555, grad_fn=<RsubBackward1>), tensor(0.5548, grad_fn=<RsubBackward1>), tensor(0.9226, grad_fn=<RsubBackward1>), tensor(0.8135, grad_fn=<RsubBackward1>), tensor(0.8902, grad_fn=<RsubBackward1>), tensor(0.8218, grad_fn=<RsubBackward1>)]\n",
      "Epoch 1001/3001, Loss: 0.2586595416069031\n",
      "\n",
      "['∀ person.(((y == diabetes) -> Classifier(person)))', '∀ person.(((y == healthy) -> ~(Classifier(person))))', '∀ person.(((person[BMI] < 25) -> ~(Classifier(person))))', '∀ person.(((person[BMI] > 35) -> Classifier(person)))', '∀ person.(((person[Glucose] < 100) -> ~(Classifier(person))))', '∀ person.(((person[Glucose] > 127) -> Classifier(person)))']\n",
      "Rule Outputs:  [tensor(0.6592, grad_fn=<RsubBackward1>), tensor(0.5586, grad_fn=<RsubBackward1>), tensor(0.9266, grad_fn=<RsubBackward1>), tensor(0.8169, grad_fn=<RsubBackward1>), tensor(0.8958, grad_fn=<RsubBackward1>), tensor(0.8248, grad_fn=<RsubBackward1>)]\n",
      "Epoch 1501/3001, Loss: 0.2554273009300232\n",
      "\n",
      "['∀ person.(((y == diabetes) -> Classifier(person)))', '∀ person.(((y == healthy) -> ~(Classifier(person))))', '∀ person.(((person[BMI] < 25) -> ~(Classifier(person))))', '∀ person.(((person[BMI] > 35) -> Classifier(person)))', '∀ person.(((person[Glucose] < 100) -> ~(Classifier(person))))', '∀ person.(((person[Glucose] > 127) -> Classifier(person)))']\n",
      "Rule Outputs:  [tensor(0.6641, grad_fn=<RsubBackward1>), tensor(0.5620, grad_fn=<RsubBackward1>), tensor(0.9267, grad_fn=<RsubBackward1>), tensor(0.8194, grad_fn=<RsubBackward1>), tensor(0.8965, grad_fn=<RsubBackward1>), tensor(0.8256, grad_fn=<RsubBackward1>)]\n",
      "Epoch 2001/3001, Loss: 0.2528996467590332\n",
      "\n",
      "['∀ person.(((y == diabetes) -> Classifier(person)))', '∀ person.(((y == healthy) -> ~(Classifier(person))))', '∀ person.(((person[BMI] < 25) -> ~(Classifier(person))))', '∀ person.(((person[BMI] > 35) -> Classifier(person)))', '∀ person.(((person[Glucose] < 100) -> ~(Classifier(person))))', '∀ person.(((person[Glucose] > 127) -> Classifier(person)))']\n",
      "Rule Outputs:  [tensor(0.6655, grad_fn=<RsubBackward1>), tensor(0.5636, grad_fn=<RsubBackward1>), tensor(0.9272, grad_fn=<RsubBackward1>), tensor(0.8226, grad_fn=<RsubBackward1>), tensor(0.8965, grad_fn=<RsubBackward1>), tensor(0.8256, grad_fn=<RsubBackward1>)]\n",
      "Epoch 2501/3001, Loss: 0.25174272060394287\n",
      "\n",
      "['∀ person.(((y == diabetes) -> Classifier(person)))', '∀ person.(((y == healthy) -> ~(Classifier(person))))', '∀ person.(((person[BMI] < 25) -> ~(Classifier(person))))', '∀ person.(((person[BMI] > 35) -> Classifier(person)))', '∀ person.(((person[Glucose] < 100) -> ~(Classifier(person))))', '∀ person.(((person[Glucose] > 127) -> Classifier(person)))']\n",
      "Rule Outputs:  [tensor(0.6670, grad_fn=<RsubBackward1>), tensor(0.5635, grad_fn=<RsubBackward1>), tensor(0.9269, grad_fn=<RsubBackward1>), tensor(0.8245, grad_fn=<RsubBackward1>), tensor(0.8960, grad_fn=<RsubBackward1>), tensor(0.8266, grad_fn=<RsubBackward1>)]\n",
      "Epoch 3001/3001, Loss: 0.25111883878707886\n",
      "\n"
     ]
    }
   ],
   "source": [
    "kb.optimize(num_epochs=3001, log_steps=500, lr=0.0001)"
   ]
  },
  {
   "cell_type": "code",
   "execution_count": 13,
   "metadata": {},
   "outputs": [
    {
     "name": "stdout",
     "output_type": "stream",
     "text": [
      "Correct: 552, Total: 768, Accuracy: 0.7188\n"
     ]
    },
    {
     "data": {
      "text/plain": [
       "0.71875"
      ]
     },
     "execution_count": 13,
     "metadata": {},
     "output_type": "execute_result"
    }
   ],
   "source": [
    "compute_accuracy(kb.predicates[\"Classifier\"], kb.loaders[0])"
   ]
  },
  {
   "cell_type": "code",
   "execution_count": 14,
   "metadata": {},
   "outputs": [
    {
     "data": {
      "text/plain": [
       "tensor(0.4901, grad_fn=<MeanBackward0>)"
      ]
     },
     "execution_count": 14,
     "metadata": {},
     "output_type": "execute_result"
    }
   ],
   "source": [
    "kb.predicates[\"Classifier\"](torch.tensor(high_BMI.values, dtype=torch.float32)).mean()"
   ]
  },
  {
   "cell_type": "code",
   "execution_count": 15,
   "metadata": {},
   "outputs": [
    {
     "data": {
      "text/plain": [
       "tensor(0.0109, grad_fn=<MeanBackward0>)"
      ]
     },
     "execution_count": 15,
     "metadata": {},
     "output_type": "execute_result"
    }
   ],
   "source": [
    "kb.predicates[\"Classifier\"](torch.tensor(low_BMI.values, dtype=torch.float32)).mean()"
   ]
  },
  {
   "cell_type": "code",
   "execution_count": 16,
   "metadata": {},
   "outputs": [
    {
     "data": {
      "text/plain": [
       "tensor(0.5827, grad_fn=<MeanBackward0>)"
      ]
     },
     "execution_count": 16,
     "metadata": {},
     "output_type": "execute_result"
    }
   ],
   "source": [
    "kb.predicates[\"Classifier\"](torch.tensor(high_Glucose.values, dtype=torch.float32)).mean()"
   ]
  },
  {
   "cell_type": "code",
   "execution_count": 17,
   "metadata": {},
   "outputs": [
    {
     "data": {
      "text/plain": [
       "tensor(0.1174, grad_fn=<MeanBackward0>)"
      ]
     },
     "execution_count": 17,
     "metadata": {},
     "output_type": "execute_result"
    }
   ],
   "source": [
    "kb.predicates[\"Classifier\"](torch.tensor(low_Glucose.values, dtype=torch.float32)).mean()"
   ]
  }
 ],
 "metadata": {
  "kernelspec": {
   "display_name": ".venv",
   "language": "python",
   "name": "python3"
  },
  "language_info": {
   "codemirror_mode": {
    "name": "ipython",
    "version": 3
   },
   "file_extension": ".py",
   "mimetype": "text/x-python",
   "name": "python",
   "nbconvert_exporter": "python",
   "pygments_lexer": "ipython3",
   "version": "3.12.4"
  }
 },
 "nbformat": 4,
 "nbformat_minor": 2
}
