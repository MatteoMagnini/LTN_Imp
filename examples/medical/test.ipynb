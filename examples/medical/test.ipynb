{
 "cells": [
  {
   "cell_type": "code",
   "execution_count": 1,
   "metadata": {},
   "outputs": [],
   "source": [
    "from ltn_imp.automation.knowledge_base import KnowledgeBase\n",
    "import torch\n",
    "import pandas as pd"
   ]
  },
  {
   "cell_type": "code",
   "execution_count": 2,
   "metadata": {},
   "outputs": [
    {
     "name": "stdout",
     "output_type": "stream",
     "text": [
      "\u001b[37mPoe =>\u001b[0m \u001b[94mmkdir -p examples/medical/datasets\u001b[0m\n",
      "\u001b[37mPoe =>\u001b[0m \u001b[94mcurl -L -o examples/medical/datasets/pima_indians_imputed.csv https://raw.githubusercontent.com/ChristelSirocchi/hybrid-ML/main/pima_indians_imputed.csv\u001b[0m\n",
      "  % Total    % Received % Xferd  Average Speed   Time    Time     Time  Current\n",
      "                                 Dload  Upload   Total   Spent    Left  Speed\n",
      "100 33428  100 33428    0     0      0      0 --:--:-- --:--:-- --:--:--     0 0   573k      0 --:--:-- --:--:-- --:--:--  582k\n"
     ]
    }
   ],
   "source": [
    "!poetry run poe download-medical-datasets"
   ]
  },
  {
   "cell_type": "code",
   "execution_count": 3,
   "metadata": {},
   "outputs": [],
   "source": [
    "import random\n",
    "import numpy as np\n",
    "\n",
    "seed = 1239129\n",
    "\n",
    "# Set the random seed for reproducibility\n",
    "random.seed(seed)\n",
    "np.random.seed(seed)\n",
    "torch.manual_seed(seed)\n",
    "torch.cuda.manual_seed(seed)\n",
    "torch.backends.cudnn.deterministic = True"
   ]
  },
  {
   "cell_type": "code",
   "execution_count": 4,
   "metadata": {},
   "outputs": [],
   "source": [
    "from sklearn.model_selection import train_test_split\n",
    "\n",
    "test_data = pd.read_csv('datasets/pima_indians_imputed.csv', index_col=0).astype(float)\n",
    "\n",
    "y = test_data.iloc[:, -1]\n",
    "\n",
    "x_train, x_test = train_test_split(test_data, test_size=0.5, random_state=seed, stratify=y)\n",
    "y_train = x_train.iloc[:, -1]  # Extract labels from the training split\n",
    "x_train, x_val = train_test_split(x_train, test_size=0.1, random_state=seed, stratify=y_train)\n",
    "\n",
    "x_train.to_csv('datasets/train.csv')\n",
    "x_val.to_csv('datasets/val.csv')\n",
    "x_test.to_csv('datasets/test.csv')"
   ]
  },
  {
   "cell_type": "code",
   "execution_count": 5,
   "metadata": {},
   "outputs": [],
   "source": [
    "import torch\n",
    "from sklearn.metrics import matthews_corrcoef\n",
    "\n",
    "def predict(model, x):\n",
    "    model.eval()  # Ensure the model is in evaluation mode\n",
    "    with torch.no_grad():  # No need to track gradients\n",
    "        # Ensure x is a tensor and has the right dtype\n",
    "        if not isinstance(x, torch.Tensor):\n",
    "            x = torch.tensor(x, dtype=torch.float32)\n",
    "        elif x.dtype != torch.float32:\n",
    "            x = x.float()\n",
    "        \n",
    "        # Forward pass through the model\n",
    "        probs = model(x)\n",
    "        \n",
    "        # Apply binary classification threshold at 0.5\n",
    "        preds = (probs > 0.5).float()\n",
    "    return preds\n",
    "\n",
    "def compute_metrics(model, data_loader):\n",
    "    correct = 0\n",
    "    total = 0\n",
    "    \n",
    "    true_positives = 0\n",
    "    false_positives = 0\n",
    "    false_negatives = 0\n",
    "    true_negatives = 0\n",
    "    \n",
    "    all_true_labels = []\n",
    "    all_predicted_labels = []\n",
    "    \n",
    "    with torch.no_grad():  # Disable gradient computation\n",
    "        for data, labels in data_loader:\n",
    "            # Ensure data and labels are the correct dtype\n",
    "            if not isinstance(data, torch.Tensor):\n",
    "                data = torch.tensor(data, dtype=torch.float32)\n",
    "            elif data.dtype != torch.float32:\n",
    "                data = data.float()\n",
    "            \n",
    "            if not isinstance(labels, torch.Tensor):\n",
    "                labels = torch.tensor(labels, dtype=torch.float32)\n",
    "            elif labels.dtype != torch.float32:\n",
    "                labels = labels.float()\n",
    "            \n",
    "            # Get predictions\n",
    "            preds = predict(model, data)\n",
    "            \n",
    "            # Squeeze predictions and labels to remove dimensions of size 1\n",
    "            predicted_labels = preds.squeeze()\n",
    "            true_labels = labels.squeeze()\n",
    "\n",
    "            # Ensure the shapes match before comparison\n",
    "            if predicted_labels.shape != true_labels.shape:\n",
    "                true_labels = true_labels.view_as(predicted_labels)\n",
    "            \n",
    "            # Collect all predictions and true labels for MCC\n",
    "            all_true_labels.extend(true_labels.cpu().numpy())\n",
    "            all_predicted_labels.extend(predicted_labels.cpu().numpy())\n",
    "\n",
    "            # Count correct predictions\n",
    "            correct += (predicted_labels == true_labels).sum().item()\n",
    "            total += true_labels.size(0)\n",
    "            \n",
    "            # Calculate TP, FP, FN, TN\n",
    "            true_positives += ((predicted_labels == 1) & (true_labels == 1)).sum().item()\n",
    "            false_positives += ((predicted_labels == 1) & (true_labels == 0)).sum().item()\n",
    "            false_negatives += ((predicted_labels == 0) & (true_labels == 1)).sum().item()\n",
    "            true_negatives += ((predicted_labels == 0) & (true_labels == 0)).sum().item()\n",
    "    \n",
    "    accuracy = correct / total if total > 0 else 0\n",
    "    precision = true_positives / (true_positives + false_positives) if (true_positives + false_positives) > 0 else 0\n",
    "    recall = true_positives / (true_positives + false_negatives) if (true_positives + false_negatives) > 0 else 0\n",
    "    f1_score = 2 * (precision * recall) / (precision + recall) if (precision + recall) > 0 else 0\n",
    "    balanced_accuracy = 0.5 * (recall + (true_negatives / (true_negatives + false_positives) if (true_negatives + false_positives) > 0 else 0))\n",
    "    mcc = matthews_corrcoef(all_true_labels, all_predicted_labels)\n",
    "    tnr = true_negatives / (true_negatives + false_positives) if (true_negatives + false_positives) > 0 else 0  # True Negative Rate\n",
    "    fpr = false_positives / (false_positives + true_negatives) if (false_positives + true_negatives) > 0 else 0  # False Positive Rate\n",
    "    fnr = false_negatives / (false_negatives + true_positives) if (false_negatives + true_positives) > 0 else 0  # False Negative Rate\n",
    "    tpr = recall  # True Positive Rate is the same as recall\n",
    "\n",
    "    print(f\"True Positives: {true_positives}, False Positives: {false_positives}, False Negatives: {false_negatives}, True Negatives: {true_negatives}, Total: {total}\")\n",
    "    print()\n",
    "    print(f\"A (Accuracy): {accuracy:.4f}\")\n",
    "    print(f\"P (Precision): {precision:.4f}\")\n",
    "    print(f\"R (Recall): {recall:.4f}\")\n",
    "    print(f\"F1 (F1 Score): {f1_score:.4f}\")\n",
    "    print(f\"BA (Balanced Accuracy): {balanced_accuracy:.4f}\")\n",
    "    print(f\"MCC (Matthews Correlation Coefficient): {mcc:.4f}\")\n",
    "    print(f\"TNR (True Negative Rate): {tnr:.4f}\")\n",
    "    print(f\"FPR (False Positive Rate): {fpr:.4f}\")\n",
    "    print(f\"FNR (False Negative Rate): {fnr:.4f}\")\n",
    "    print(f\"TPR (True Positive Rate): {tpr:.4f}\")\n",
    "    model.train()"
   ]
  },
  {
   "cell_type": "code",
   "execution_count": 6,
   "metadata": {},
   "outputs": [
    {
     "name": "stdout",
     "output_type": "stream",
     "text": [
      "Using device: cpu\n"
     ]
    }
   ],
   "source": [
    "kb = KnowledgeBase(\"with_logic.yaml\")"
   ]
  },
  {
   "cell_type": "code",
   "execution_count": 7,
   "metadata": {},
   "outputs": [
    {
     "data": {
      "text/plain": [
       "Sequential(\n",
       "  (0): Linear(in_features=8, out_features=256, bias=True)\n",
       "  (1): BatchNorm1d(256, eps=1e-05, momentum=0.1, affine=True, track_running_stats=True)\n",
       "  (2): LeakyReLU(negative_slope=0.01)\n",
       "  (3): Linear(in_features=256, out_features=128, bias=True)\n",
       "  (4): BatchNorm1d(128, eps=1e-05, momentum=0.1, affine=True, track_running_stats=True)\n",
       "  (5): LeakyReLU(negative_slope=0.01)\n",
       "  (6): Linear(in_features=128, out_features=64, bias=True)\n",
       "  (7): BatchNorm1d(64, eps=1e-05, momentum=0.1, affine=True, track_running_stats=True)\n",
       "  (8): LeakyReLU(negative_slope=0.01)\n",
       "  (9): Linear(in_features=64, out_features=1, bias=True)\n",
       "  (10): Sigmoid()\n",
       ")"
      ]
     },
     "execution_count": 7,
     "metadata": {},
     "output_type": "execute_result"
    }
   ],
   "source": [
    "kb.predicates[\"Diabetic\"]"
   ]
  },
  {
   "cell_type": "code",
   "execution_count": 8,
   "metadata": {},
   "outputs": [],
   "source": [
    "fine_tune = True"
   ]
  },
  {
   "cell_type": "code",
   "execution_count": 9,
   "metadata": {},
   "outputs": [
    {
     "name": "stdout",
     "output_type": "stream",
     "text": [
      "Epoch 1, Train Loss: 0.724868, Val Loss: 0.708135\n",
      "Epoch 11, Train Loss: 0.502120, Val Loss: 0.500337\n",
      "Epoch 21, Train Loss: 0.464619, Val Loss: 0.450116\n",
      "Epoch 31, Train Loss: 0.417476, Val Loss: 0.434266\n",
      "Early Stopping at: Epoch 35, Train Loss: 0.425944, Val Loss: 0.417529\n"
     ]
    }
   ],
   "source": [
    "if fine_tune:\n",
    "    model = kb.predicates[\"Diabetic\"]\n",
    "\n",
    "    criteria = torch.nn.BCELoss()\n",
    "    optimizer = torch.optim.Adam(model.parameters(), lr=0.0001, weight_decay=0.0001)\n",
    "\n",
    "    patience = 5\n",
    "    min_delta = 0.0\n",
    "    best_val_loss = float('inf')\n",
    "    epochs_no_improve = 0\n",
    "\n",
    "    for epoch in range(50):\n",
    "        model.train()\n",
    "        total_loss = 0.0\n",
    "        num_batches = 0\n",
    "        \n",
    "        # Training loop\n",
    "        for data, labels in kb.loaders[0]:\n",
    "            optimizer.zero_grad()\n",
    "            predictions = model(data)\n",
    "            loss = criteria(predictions, labels)\n",
    "            loss.backward()\n",
    "            optimizer.step()\n",
    "            \n",
    "            total_loss += loss.item()\n",
    "            num_batches += 1\n",
    "\n",
    "        avg_train_loss = total_loss / num_batches\n",
    "\n",
    "        model.eval()\n",
    "        total_val_loss = 0.0\n",
    "        num_val_batches = 0\n",
    "\n",
    "        for data, labels in kb.val_loaders[0]:\n",
    "            with torch.no_grad():\n",
    "                predictions = model(data)\n",
    "                val_loss = criteria(predictions, labels)\n",
    "                total_val_loss += val_loss.item()\n",
    "                num_val_batches += 1\n",
    "\n",
    "        avg_val_loss = total_val_loss / num_val_batches\n",
    "\n",
    "        # Early stopping logic\n",
    "        if avg_val_loss + min_delta < best_val_loss:\n",
    "            best_val_loss = avg_val_loss\n",
    "            epochs_no_improve = 0\n",
    "        else:\n",
    "            epochs_no_improve += 1\n",
    "\n",
    "        if epochs_no_improve >= patience:\n",
    "            print(f\"Early Stopping at: Epoch {epoch + 1}, Train Loss: {avg_train_loss:.6f}, Val Loss: {avg_val_loss:.6f}\")\n",
    "            break\n",
    "\n",
    "        if epoch % 10 == 0:\n",
    "            print(f\"Epoch {epoch + 1}, Train Loss: {avg_train_loss:.6f}, Val Loss: {avg_val_loss:.6f}\")\n",
    "\n",
    "        model.train()"
   ]
  },
  {
   "cell_type": "code",
   "execution_count": 10,
   "metadata": {},
   "outputs": [
    {
     "name": "stdout",
     "output_type": "stream",
     "text": [
      "True Positives: 94, False Positives: 32, False Negatives: 26, True Negatives: 193, Total: 345\n",
      "\n",
      "A (Accuracy): 0.8319\n",
      "P (Precision): 0.7460\n",
      "R (Recall): 0.7833\n",
      "F1 (F1 Score): 0.7642\n",
      "BA (Balanced Accuracy): 0.8206\n",
      "MCC (Matthews Correlation Coefficient): 0.6342\n",
      "TNR (True Negative Rate): 0.8578\n",
      "FPR (False Positive Rate): 0.1422\n",
      "FNR (False Negative Rate): 0.2167\n",
      "TPR (True Positive Rate): 0.7833\n"
     ]
    }
   ],
   "source": [
    "compute_metrics(kb.predicates[\"Diabetic\"], kb.loaders[0])"
   ]
  },
  {
   "cell_type": "code",
   "execution_count": 11,
   "metadata": {},
   "outputs": [
    {
     "name": "stdout",
     "output_type": "stream",
     "text": [
      "True Positives: 89, False Positives: 52, False Negatives: 45, True Negatives: 198, Total: 384\n",
      "\n",
      "A (Accuracy): 0.7474\n",
      "P (Precision): 0.6312\n",
      "R (Recall): 0.6642\n",
      "F1 (F1 Score): 0.6473\n",
      "BA (Balanced Accuracy): 0.7281\n",
      "MCC (Matthews Correlation Coefficient): 0.4511\n",
      "TNR (True Negative Rate): 0.7920\n",
      "FPR (False Positive Rate): 0.2080\n",
      "FNR (False Negative Rate): 0.3358\n",
      "TPR (True Positive Rate): 0.6642\n"
     ]
    }
   ],
   "source": [
    "compute_metrics(kb.predicates[\"Diabetic\"], kb.test_loaders[0])"
   ]
  },
  {
   "cell_type": "code",
   "execution_count": 12,
   "metadata": {},
   "outputs": [
    {
     "name": "stdout",
     "output_type": "stream",
     "text": [
      "[\"∀ ['person']. (((y == diabetes) -> Diabetic(person)))\", \"∀ ['person']. (((y == healthy) -> ~(Diabetic(person))))\", \"∀ ['person']. ((((person[BMI] > 29) & (person[Glucose] > 125)) -> Diabetic(person)))\", \"∀ ['person']. ((((person[BMI] < 26) & (person[Glucose] < 101)) -> ~(Diabetic(person))))\"]\n",
      "Rule Outputs:  [tensor(0.7130, grad_fn=<RsubBackward1>), tensor(0.7539, grad_fn=<RsubBackward1>), tensor(0.6711, grad_fn=<RsubBackward1>), tensor(0.8784, grad_fn=<RsubBackward1>)]\n",
      "Epoch 1/100, Train Loss: 0.25782549381256104, Validation Loss: 0.23529505729675293\n",
      "\n",
      "[\"∀ ['person']. (((y == diabetes) -> Diabetic(person)))\", \"∀ ['person']. (((y == healthy) -> ~(Diabetic(person))))\", \"∀ ['person']. ((((person[BMI] > 29) & (person[Glucose] > 125)) -> Diabetic(person)))\", \"∀ ['person']. ((((person[BMI] < 26) & (person[Glucose] < 101)) -> ~(Diabetic(person))))\"]\n",
      "Rule Outputs:  [tensor(0.7208, grad_fn=<RsubBackward1>), tensor(0.7554, grad_fn=<RsubBackward1>), tensor(0.6798, grad_fn=<RsubBackward1>), tensor(0.8797, grad_fn=<RsubBackward1>)]\n",
      "Epoch 11/100, Train Loss: 0.252377986907959, Validation Loss: 0.23385870456695557\n",
      "\n",
      "[\"∀ ['person']. (((y == diabetes) -> Diabetic(person)))\", \"∀ ['person']. (((y == healthy) -> ~(Diabetic(person))))\", \"∀ ['person']. ((((person[BMI] > 29) & (person[Glucose] > 125)) -> Diabetic(person)))\", \"∀ ['person']. ((((person[BMI] < 26) & (person[Glucose] < 101)) -> ~(Diabetic(person))))\"]\n",
      "Rule Outputs:  [tensor(0.7289, grad_fn=<RsubBackward1>), tensor(0.7557, grad_fn=<RsubBackward1>), tensor(0.6870, grad_fn=<RsubBackward1>), tensor(0.8803, grad_fn=<RsubBackward1>)]\n",
      "Epoch 21/100, Train Loss: 0.2477414608001709, Validation Loss: 0.23300224542617798\n",
      "\n",
      "[\"∀ ['person']. (((y == diabetes) -> Diabetic(person)))\", \"∀ ['person']. (((y == healthy) -> ~(Diabetic(person))))\", \"∀ ['person']. ((((person[BMI] > 29) & (person[Glucose] > 125)) -> Diabetic(person)))\", \"∀ ['person']. ((((person[BMI] < 26) & (person[Glucose] < 101)) -> ~(Diabetic(person))))\"]\n",
      "Rule Outputs:  [tensor(0.7370, grad_fn=<RsubBackward1>), tensor(0.7557, grad_fn=<RsubBackward1>), tensor(0.6928, grad_fn=<RsubBackward1>), tensor(0.8805, grad_fn=<RsubBackward1>)]\n",
      "Epoch 31/100, Train Loss: 0.24364429712295532, Validation Loss: 0.23285377025604248\n",
      "\n",
      "Rule Outputs:  [tensor(0.7386, grad_fn=<RsubBackward1>), tensor(0.7558, grad_fn=<RsubBackward1>), tensor(0.6938, grad_fn=<RsubBackward1>), tensor(0.8805, grad_fn=<RsubBackward1>)]\n",
      "Early stopping at Epoch 33/100, Train Loss: 0.2428784966468811, Validation Loss: 0.2328578233718872\n"
     ]
    }
   ],
   "source": [
    "if fine_tune:\n",
    "    kb.optimize(num_epochs=100, log_steps=10, lr=0.000001, early_stopping=True, patience=5)\n",
    "else:\n",
    "    kb.optimize(num_epochs=150, log_steps=10, lr=0.00001, early_stopping=False, patience=5)"
   ]
  },
  {
   "cell_type": "code",
   "execution_count": 13,
   "metadata": {},
   "outputs": [
    {
     "data": {
      "text/plain": [
       "[Parameter containing:\n",
       " tensor([10.0003], requires_grad=True),\n",
       " Parameter containing:\n",
       " tensor([10.0003], requires_grad=True),\n",
       " Parameter containing:\n",
       " tensor([10.0003], requires_grad=True),\n",
       " Parameter containing:\n",
       " tensor([10.0003], requires_grad=True)]"
      ]
     },
     "execution_count": 13,
     "metadata": {},
     "output_type": "execute_result"
    }
   ],
   "source": [
    "[op.k for op in kb.converter.visitor.comparision_operators]"
   ]
  },
  {
   "cell_type": "code",
   "execution_count": 14,
   "metadata": {},
   "outputs": [
    {
     "name": "stdout",
     "output_type": "stream",
     "text": [
      "True Positives: 91, False Positives: 32, False Negatives: 29, True Negatives: 193, Total: 345\n",
      "\n",
      "A (Accuracy): 0.8232\n",
      "P (Precision): 0.7398\n",
      "R (Recall): 0.7583\n",
      "F1 (F1 Score): 0.7490\n",
      "BA (Balanced Accuracy): 0.8081\n",
      "MCC (Matthews Correlation Coefficient): 0.6126\n",
      "TNR (True Negative Rate): 0.8578\n",
      "FPR (False Positive Rate): 0.1422\n",
      "FNR (False Negative Rate): 0.2417\n",
      "TPR (True Positive Rate): 0.7583\n"
     ]
    }
   ],
   "source": [
    "compute_metrics(kb.predicates[\"Diabetic\"], kb.loaders[0])"
   ]
  },
  {
   "cell_type": "code",
   "execution_count": 15,
   "metadata": {},
   "outputs": [
    {
     "name": "stdout",
     "output_type": "stream",
     "text": [
      "True Positives: 89, False Positives: 50, False Negatives: 45, True Negatives: 200, Total: 384\n",
      "\n",
      "A (Accuracy): 0.7526\n",
      "P (Precision): 0.6403\n",
      "R (Recall): 0.6642\n",
      "F1 (F1 Score): 0.6520\n",
      "BA (Balanced Accuracy): 0.7321\n",
      "MCC (Matthews Correlation Coefficient): 0.4604\n",
      "TNR (True Negative Rate): 0.8000\n",
      "FPR (False Positive Rate): 0.2000\n",
      "FNR (False Negative Rate): 0.3358\n",
      "TPR (True Positive Rate): 0.6642\n"
     ]
    }
   ],
   "source": [
    "compute_metrics(kb.predicates[\"Diabetic\"], kb.test_loaders[0])"
   ]
  },
  {
   "cell_type": "code",
   "execution_count": null,
   "metadata": {},
   "outputs": [],
   "source": []
  }
 ],
 "metadata": {
  "kernelspec": {
   "display_name": ".venv",
   "language": "python",
   "name": "python3"
  },
  "language_info": {
   "codemirror_mode": {
    "name": "ipython",
    "version": 3
   },
   "file_extension": ".py",
   "mimetype": "text/x-python",
   "name": "python",
   "nbconvert_exporter": "python",
   "pygments_lexer": "ipython3",
   "version": "3.12.4"
  }
 },
 "nbformat": 4,
 "nbformat_minor": 2
}
