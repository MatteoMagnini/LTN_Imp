{
 "cells": [
  {
   "cell_type": "code",
   "execution_count": 1,
   "metadata": {},
   "outputs": [],
   "source": [
    "from ltn_imp.automation.knowledge_base import KnowledgeBase\n",
    "import torch\n",
    "import pandas as pd"
   ]
  },
  {
   "cell_type": "code",
   "execution_count": 2,
   "metadata": {},
   "outputs": [
    {
     "name": "stdout",
     "output_type": "stream",
     "text": [
      "\u001b[37mPoe =>\u001b[0m \u001b[94mmkdir -p examples/medical/datasets\u001b[0m\n",
      "\u001b[37mPoe =>\u001b[0m \u001b[94mcurl -L -o examples/medical/datasets/pima_indians_imputed.csv https://raw.githubusercontent.com/ChristelSirocchi/hybrid-ML/main/pima_indians_imputed.csv\u001b[0m\n",
      "  % Total    % Received % Xferd  Average Speed   Time    Time     Time  Current\n",
      "                                 Dload  Upload   Total   Spent    Left  Speed\n",
      "100 33428  100 33428    0     0   179k      0 --:--:-- --:--:-- --:--:--  179k\n"
     ]
    }
   ],
   "source": [
    "!poetry run poe download-medical-datasets"
   ]
  },
  {
   "cell_type": "code",
   "execution_count": 3,
   "metadata": {},
   "outputs": [],
   "source": [
    "import random\n",
    "import numpy as np\n",
    "\n",
    "seed = 1282\n",
    "\n",
    "# Set the random seed for reproducibility\n",
    "random.seed(seed)\n",
    "np.random.seed(seed)\n",
    "torch.manual_seed(seed)\n",
    "torch.cuda.manual_seed(seed)\n",
    "torch.backends.cudnn.deterministic = True"
   ]
  },
  {
   "cell_type": "code",
   "execution_count": 4,
   "metadata": {},
   "outputs": [],
   "source": [
    "from sklearn.model_selection import train_test_split\n",
    "\n",
    "test_data = pd.read_csv('datasets/pima_indians_imputed.csv', index_col=0).astype(float)\n",
    "test_data[\"DiabetesPedigreeFunction\"] =  test_data[\"DiabetesPedigreeFunction\"] * 100\n",
    "test_data[\"Pregnancies\"] = test_data[\"Pregnancies\"] * 10\n",
    "\n",
    "y = test_data.iloc[:, -1]\n",
    "\n",
    "x_train, x_test = train_test_split(test_data, test_size=0.5, random_state=seed, stratify=y)\n",
    "y_train = x_train.iloc[:, -1]  # Extract labels from the training split\n",
    "x_train, x_val = train_test_split(x_train, test_size=0.1, random_state=seed, stratify=y_train)\n",
    "\n",
    "x_train.to_csv('datasets/train.csv')\n",
    "x_val.to_csv('datasets/val.csv')\n",
    "x_test.to_csv('datasets/test.csv')"
   ]
  },
  {
   "cell_type": "code",
   "execution_count": 5,
   "metadata": {},
   "outputs": [],
   "source": [
    "import torch\n",
    "from sklearn.metrics import matthews_corrcoef\n",
    "\n",
    "def predict(model, x):\n",
    "    model.eval()  # Ensure the model is in evaluation mode\n",
    "    with torch.no_grad():  # No need to track gradients\n",
    "        # Ensure x is a tensor and has the right dtype\n",
    "        if not isinstance(x, torch.Tensor):\n",
    "            x = torch.tensor(x, dtype=torch.float32)\n",
    "        elif x.dtype != torch.float32:\n",
    "            x = x.float()\n",
    "        \n",
    "        # Forward pass through the model\n",
    "        probs = model(x)\n",
    "        \n",
    "        # Apply binary classification threshold at 0.5\n",
    "        preds = (probs > 0.5).float()\n",
    "    return preds\n",
    "\n",
    "def compute_metrics(model, data_loader):\n",
    "    correct = 0\n",
    "    total = 0\n",
    "    \n",
    "    true_positives = 0\n",
    "    false_positives = 0\n",
    "    false_negatives = 0\n",
    "    true_negatives = 0\n",
    "    \n",
    "    all_true_labels = []\n",
    "    all_predicted_labels = []\n",
    "    \n",
    "    with torch.no_grad():  # Disable gradient computation\n",
    "        for data, labels in data_loader:\n",
    "            # Ensure data and labels are the correct dtype\n",
    "            if not isinstance(data, torch.Tensor):\n",
    "                data = torch.tensor(data, dtype=torch.float32)\n",
    "            elif data.dtype != torch.float32:\n",
    "                data = data.float()\n",
    "            \n",
    "            if not isinstance(labels, torch.Tensor):\n",
    "                labels = torch.tensor(labels, dtype=torch.float32)\n",
    "            elif labels.dtype != torch.float32:\n",
    "                labels = labels.float()\n",
    "            \n",
    "            # Get predictions\n",
    "            preds = predict(model, data)\n",
    "            \n",
    "            # Squeeze predictions and labels to remove dimensions of size 1\n",
    "            predicted_labels = preds.squeeze()\n",
    "            true_labels = labels.squeeze()\n",
    "\n",
    "            # Ensure the shapes match before comparison\n",
    "            if predicted_labels.shape != true_labels.shape:\n",
    "                true_labels = true_labels.view_as(predicted_labels)\n",
    "            \n",
    "            # Collect all predictions and true labels for MCC\n",
    "            all_true_labels.extend(true_labels.cpu().numpy())\n",
    "            all_predicted_labels.extend(predicted_labels.cpu().numpy())\n",
    "\n",
    "            # Count correct predictions\n",
    "            correct += (predicted_labels == true_labels).sum().item()\n",
    "            total += true_labels.size(0)\n",
    "            \n",
    "            # Calculate TP, FP, FN, TN\n",
    "            true_positives += ((predicted_labels == 1) & (true_labels == 1)).sum().item()\n",
    "            false_positives += ((predicted_labels == 1) & (true_labels == 0)).sum().item()\n",
    "            false_negatives += ((predicted_labels == 0) & (true_labels == 1)).sum().item()\n",
    "            true_negatives += ((predicted_labels == 0) & (true_labels == 0)).sum().item()\n",
    "    \n",
    "    accuracy = correct / total if total > 0 else 0\n",
    "    precision = true_positives / (true_positives + false_positives) if (true_positives + false_positives) > 0 else 0\n",
    "    recall = true_positives / (true_positives + false_negatives) if (true_positives + false_negatives) > 0 else 0\n",
    "    f1_score = 2 * (precision * recall) / (precision + recall) if (precision + recall) > 0 else 0\n",
    "    balanced_accuracy = 0.5 * (recall + (true_negatives / (true_negatives + false_positives) if (true_negatives + false_positives) > 0 else 0))\n",
    "    mcc = matthews_corrcoef(all_true_labels, all_predicted_labels)\n",
    "    tnr = true_negatives / (true_negatives + false_positives) if (true_negatives + false_positives) > 0 else 0  # True Negative Rate\n",
    "    fpr = false_positives / (false_positives + true_negatives) if (false_positives + true_negatives) > 0 else 0  # False Positive Rate\n",
    "    fnr = false_negatives / (false_negatives + true_positives) if (false_negatives + true_positives) > 0 else 0  # False Negative Rate\n",
    "    tpr = recall  # True Positive Rate is the same as recall\n",
    "\n",
    "    print(f\"True Positives: {true_positives}, False Positives: {false_positives}, False Negatives: {false_negatives}, True Negatives: {true_negatives}, Total: {total}\")\n",
    "    print()\n",
    "    print(f\"A (Accuracy): {accuracy:.4f}\")\n",
    "    print(f\"P (Precision): {precision:.4f}\")\n",
    "    print(f\"R (Recall): {recall:.4f}\")\n",
    "    print(f\"F1 (F1 Score): {f1_score:.4f}\")\n",
    "    print(f\"BA (Balanced Accuracy): {balanced_accuracy:.4f}\")\n",
    "    print(f\"MCC (Matthews Correlation Coefficient): {mcc:.4f}\")\n",
    "    print(f\"TNR (True Negative Rate): {tnr:.4f}\")\n",
    "    print(f\"FPR (False Positive Rate): {fpr:.4f}\")\n",
    "    print(f\"FNR (False Negative Rate): {fnr:.4f}\")\n",
    "    print(f\"TPR (True Positive Rate): {tpr:.4f}\")\n",
    "    model.train()"
   ]
  },
  {
   "cell_type": "code",
   "execution_count": 6,
   "metadata": {},
   "outputs": [
    {
     "name": "stdout",
     "output_type": "stream",
     "text": [
      "Using device: cpu\n"
     ]
    }
   ],
   "source": [
    "kb = KnowledgeBase(\"config.yaml\")"
   ]
  },
  {
   "cell_type": "code",
   "execution_count": 7,
   "metadata": {},
   "outputs": [
    {
     "data": {
      "text/plain": [
       "<LogicTensorNetwork: ['person']>"
      ]
     },
     "execution_count": 7,
     "metadata": {},
     "output_type": "execute_result"
    }
   ],
   "source": [
    "kb.predicates[\"Diabetic\"]"
   ]
  },
  {
   "cell_type": "code",
   "execution_count": 8,
   "metadata": {},
   "outputs": [],
   "source": [
    "fine_tune = True"
   ]
  },
  {
   "cell_type": "code",
   "execution_count": 9,
   "metadata": {},
   "outputs": [
    {
     "name": "stdout",
     "output_type": "stream",
     "text": [
      "Epoch 1, Train Loss: 0.647548, Val Loss: 0.691581\n",
      "Epoch 11, Train Loss: 0.458084, Val Loss: 0.586451\n",
      "Early Stopping at: Epoch 13, Train Loss: 0.439744, Val Loss: 0.581813\n"
     ]
    }
   ],
   "source": [
    "if fine_tune:\n",
    "    model = kb.predicates[\"Diabetic\"]\n",
    "\n",
    "    criteria = torch.nn.BCELoss()\n",
    "    optimizer = torch.optim.Adam(model.parameters(), lr=0.0001, weight_decay=0.0001)\n",
    "\n",
    "    patience = 5\n",
    "    min_delta = 0.0\n",
    "    best_val_loss = float('inf')\n",
    "    epochs_no_improve = 0\n",
    "\n",
    "    for epoch in range(50):\n",
    "        model.train()\n",
    "        total_loss = 0.0\n",
    "        num_batches = 0\n",
    "        \n",
    "        # Training loop\n",
    "        for data, labels in kb.loaders[0]:\n",
    "            optimizer.zero_grad()\n",
    "            predictions = model(data)\n",
    "            loss = criteria(predictions, labels)\n",
    "            loss.backward()\n",
    "            optimizer.step()\n",
    "            \n",
    "            total_loss += loss.item()\n",
    "            num_batches += 1\n",
    "\n",
    "        avg_train_loss = total_loss / num_batches\n",
    "\n",
    "        model.eval()\n",
    "        total_val_loss = 0.0\n",
    "        num_val_batches = 0\n",
    "\n",
    "        for data, labels in kb.val_loaders[0]:\n",
    "            with torch.no_grad():\n",
    "                predictions = model(data)\n",
    "                val_loss = criteria(predictions, labels)\n",
    "                total_val_loss += val_loss.item()\n",
    "                num_val_batches += 1\n",
    "\n",
    "        avg_val_loss = total_val_loss / num_val_batches\n",
    "\n",
    "        # Early stopping logic\n",
    "        if avg_val_loss + min_delta < best_val_loss:\n",
    "            best_val_loss = avg_val_loss\n",
    "            epochs_no_improve = 0\n",
    "        else:\n",
    "            epochs_no_improve += 1\n",
    "\n",
    "        if epochs_no_improve >= patience:\n",
    "            print(f\"Early Stopping at: Epoch {epoch + 1}, Train Loss: {avg_train_loss:.6f}, Val Loss: {avg_val_loss:.6f}\")\n",
    "            break\n",
    "\n",
    "        if epoch % 10 == 0:\n",
    "            print(f\"Epoch {epoch + 1}, Train Loss: {avg_train_loss:.6f}, Val Loss: {avg_val_loss:.6f}\")\n",
    "\n",
    "        model.train()"
   ]
  },
  {
   "cell_type": "code",
   "execution_count": 10,
   "metadata": {},
   "outputs": [
    {
     "name": "stdout",
     "output_type": "stream",
     "text": [
      "True Positives: 96, False Positives: 30, False Negatives: 24, True Negatives: 195, Total: 345\n",
      "\n",
      "A (Accuracy): 0.8435\n",
      "P (Precision): 0.7619\n",
      "R (Recall): 0.8000\n",
      "F1 (F1 Score): 0.7805\n",
      "BA (Balanced Accuracy): 0.8333\n",
      "MCC (Matthews Correlation Coefficient): 0.6595\n",
      "TNR (True Negative Rate): 0.8667\n",
      "FPR (False Positive Rate): 0.1333\n",
      "FNR (False Negative Rate): 0.2000\n",
      "TPR (True Positive Rate): 0.8000\n"
     ]
    }
   ],
   "source": [
    "compute_metrics(kb.predicates[\"Diabetic\"], kb.loaders[0])"
   ]
  },
  {
   "cell_type": "code",
   "execution_count": 11,
   "metadata": {},
   "outputs": [
    {
     "name": "stdout",
     "output_type": "stream",
     "text": [
      "True Positives: 91, False Positives: 54, False Negatives: 43, True Negatives: 196, Total: 384\n",
      "\n",
      "A (Accuracy): 0.7474\n",
      "P (Precision): 0.6276\n",
      "R (Recall): 0.6791\n",
      "F1 (F1 Score): 0.6523\n",
      "BA (Balanced Accuracy): 0.7316\n",
      "MCC (Matthews Correlation Coefficient): 0.4553\n",
      "TNR (True Negative Rate): 0.7840\n",
      "FPR (False Positive Rate): 0.2160\n",
      "FNR (False Negative Rate): 0.3209\n",
      "TPR (True Positive Rate): 0.6791\n"
     ]
    }
   ],
   "source": [
    "compute_metrics(kb.predicates[\"Diabetic\"], kb.test_loaders[0])"
   ]
  },
  {
   "cell_type": "code",
   "execution_count": 12,
   "metadata": {},
   "outputs": [
    {
     "name": "stdout",
     "output_type": "stream",
     "text": [
      "Rule: ∀ ['person']. (((y == diabetes) -> Diabetic(person))), Outcome: 0.7858288288116455\n",
      "Rule: ∀ ['person']. (((y == healthy) -> ~(Diabetic(person)))), Outcome: 0.7350112199783325\n",
      "Rule: ∀ ['person']. ((((person[BMI] > 29) & (person[Glucose] > 125)) -> Diabetic(person))), Outcome: 0.7607486248016357\n",
      "Rule: ∀ ['person']. ((((person[BMI] < 26) & (person[Glucose] < 101)) -> ~(Diabetic(person)))), Outcome: 0.8886827230453491\n",
      "Epoch 1/100, Train Loss: 0.2154768705368042, Validation Loss: 0.27148348093032837\n",
      "\n",
      "Rule: ∀ ['person']. (((y == diabetes) -> Diabetic(person))), Outcome: 0.794565737247467\n",
      "Rule: ∀ ['person']. (((y == healthy) -> ~(Diabetic(person)))), Outcome: 0.7391043901443481\n",
      "Rule: ∀ ['person']. ((((person[BMI] > 29) & (person[Glucose] > 125)) -> Diabetic(person))), Outcome: 0.7649934887886047\n",
      "Rule: ∀ ['person']. ((((person[BMI] < 26) & (person[Glucose] < 101)) -> ~(Diabetic(person)))), Outcome: 0.8911067247390747\n",
      "Epoch 11/100, Train Loss: 0.21056801080703735, Validation Loss: 0.2692527174949646\n",
      "\n",
      "Rule: ∀ ['person']. (((y == diabetes) -> Diabetic(person))), Outcome: 0.8028512001037598\n",
      "Rule: ∀ ['person']. (((y == healthy) -> ~(Diabetic(person)))), Outcome: 0.7430720329284668\n",
      "Rule: ∀ ['person']. ((((person[BMI] > 29) & (person[Glucose] > 125)) -> Diabetic(person))), Outcome: 0.770516037940979\n",
      "Rule: ∀ ['person']. ((((person[BMI] < 26) & (person[Glucose] < 101)) -> ~(Diabetic(person)))), Outcome: 0.8930228352546692\n",
      "Epoch 21/100, Train Loss: 0.20553994178771973, Validation Loss: 0.26732337474823\n",
      "\n",
      "Rule: ∀ ['person']. (((y == diabetes) -> Diabetic(person))), Outcome: 0.809629499912262\n",
      "Rule: ∀ ['person']. (((y == healthy) -> ~(Diabetic(person)))), Outcome: 0.7463570833206177\n",
      "Rule: ∀ ['person']. ((((person[BMI] > 29) & (person[Glucose] > 125)) -> Diabetic(person))), Outcome: 0.7744070291519165\n",
      "Rule: ∀ ['person']. ((((person[BMI] < 26) & (person[Glucose] < 101)) -> ~(Diabetic(person)))), Outcome: 0.8945895433425903\n",
      "Epoch 31/100, Train Loss: 0.20160555839538574, Validation Loss: 0.26601195335388184\n",
      "\n",
      "Rule: ∀ ['person']. (((y == diabetes) -> Diabetic(person))), Outcome: 0.8153117299079895\n",
      "Rule: ∀ ['person']. (((y == healthy) -> ~(Diabetic(person)))), Outcome: 0.7492603063583374\n",
      "Rule: ∀ ['person']. ((((person[BMI] > 29) & (person[Glucose] > 125)) -> Diabetic(person))), Outcome: 0.7772485613822937\n",
      "Rule: ∀ ['person']. ((((person[BMI] < 26) & (person[Glucose] < 101)) -> ~(Diabetic(person)))), Outcome: 0.8959968090057373\n",
      "Epoch 41/100, Train Loss: 0.198377788066864, Validation Loss: 0.26506054401397705\n",
      "\n",
      "Rule: ∀ ['person']. (((y == diabetes) -> Diabetic(person))), Outcome: 0.8202248811721802\n",
      "Rule: ∀ ['person']. (((y == healthy) -> ~(Diabetic(person)))), Outcome: 0.7521071434020996\n",
      "Rule: ∀ ['person']. ((((person[BMI] > 29) & (person[Glucose] > 125)) -> Diabetic(person))), Outcome: 0.7793593406677246\n",
      "Rule: ∀ ['person']. ((((person[BMI] < 26) & (person[Glucose] < 101)) -> ~(Diabetic(person)))), Outcome: 0.8973075151443481\n",
      "Epoch 51/100, Train Loss: 0.1955748200416565, Validation Loss: 0.26432204246520996\n",
      "\n",
      "Rule: ∀ ['person']. (((y == diabetes) -> Diabetic(person))), Outcome: 0.8246266841888428\n",
      "Rule: ∀ ['person']. (((y == healthy) -> ~(Diabetic(person)))), Outcome: 0.7549518942832947\n",
      "Rule: ∀ ['person']. ((((person[BMI] > 29) & (person[Glucose] > 125)) -> Diabetic(person))), Outcome: 0.78094881772995\n",
      "Rule: ∀ ['person']. ((((person[BMI] < 26) & (person[Glucose] < 101)) -> ~(Diabetic(person)))), Outcome: 0.89833664894104\n",
      "Epoch 61/100, Train Loss: 0.19308239221572876, Validation Loss: 0.2638270854949951\n",
      "\n",
      "Rule: ∀ ['person']. (((y == diabetes) -> Diabetic(person))), Outcome: 0.8286105394363403\n",
      "Rule: ∀ ['person']. (((y == healthy) -> ~(Diabetic(person)))), Outcome: 0.7576726675033569\n",
      "Rule: ∀ ['person']. ((((person[BMI] > 29) & (person[Glucose] > 125)) -> Diabetic(person))), Outcome: 0.7821776270866394\n",
      "Rule: ∀ ['person']. ((((person[BMI] < 26) & (person[Glucose] < 101)) -> ~(Diabetic(person)))), Outcome: 0.8992676734924316\n",
      "Epoch 71/100, Train Loss: 0.19084709882736206, Validation Loss: 0.26338183879852295\n",
      "\n",
      "Rule: ∀ ['person']. (((y == diabetes) -> Diabetic(person))), Outcome: 0.8324782848358154\n",
      "Rule: ∀ ['person']. (((y == healthy) -> ~(Diabetic(person)))), Outcome: 0.7602415680885315\n",
      "Rule: ∀ ['person']. ((((person[BMI] > 29) & (person[Glucose] > 125)) -> Diabetic(person))), Outcome: 0.7833417057991028\n",
      "Rule: ∀ ['person']. ((((person[BMI] < 26) & (person[Glucose] < 101)) -> ~(Diabetic(person)))), Outcome: 0.9001458287239075\n",
      "Epoch 81/100, Train Loss: 0.18871891498565674, Validation Loss: 0.2630774974822998\n",
      "\n",
      "Rule: ∀ ['person']. (((y == diabetes) -> Diabetic(person))), Outcome: 0.835868239402771\n",
      "Rule: ∀ ['person']. (((y == healthy) -> ~(Diabetic(person)))), Outcome: 0.7627625465393066\n",
      "Rule: ∀ ['person']. ((((person[BMI] > 29) & (person[Glucose] > 125)) -> Diabetic(person))), Outcome: 0.7841098308563232\n",
      "Rule: ∀ ['person']. ((((person[BMI] < 26) & (person[Glucose] < 101)) -> ~(Diabetic(person)))), Outcome: 0.9009203910827637\n",
      "Epoch 91/100, Train Loss: 0.1868463158607483, Validation Loss: 0.26280903816223145\n",
      "\n"
     ]
    }
   ],
   "source": [
    "if fine_tune:\n",
    "    kb.optimize(num_epochs=100, log_steps=10, lr=0.000001, early_stopping=True, patience=5)\n",
    "else:\n",
    "    kb.optimize(num_epochs=150, log_steps=10, lr=0.00001, early_stopping=False, patience=5)"
   ]
  },
  {
   "cell_type": "code",
   "execution_count": 13,
   "metadata": {},
   "outputs": [
    {
     "name": "stdout",
     "output_type": "stream",
     "text": [
      "True Positives: 89, False Positives: 32, False Negatives: 31, True Negatives: 193, Total: 345\n",
      "\n",
      "A (Accuracy): 0.8174\n",
      "P (Precision): 0.7355\n",
      "R (Recall): 0.7417\n",
      "F1 (F1 Score): 0.7386\n",
      "BA (Balanced Accuracy): 0.7997\n",
      "MCC (Matthews Correlation Coefficient): 0.5983\n",
      "TNR (True Negative Rate): 0.8578\n",
      "FPR (False Positive Rate): 0.1422\n",
      "FNR (False Negative Rate): 0.2583\n",
      "TPR (True Positive Rate): 0.7417\n"
     ]
    }
   ],
   "source": [
    "compute_metrics(kb.predicates[\"Diabetic\"], kb.loaders[0])"
   ]
  },
  {
   "cell_type": "code",
   "execution_count": 14,
   "metadata": {},
   "outputs": [
    {
     "name": "stdout",
     "output_type": "stream",
     "text": [
      "True Positives: 85, False Positives: 57, False Negatives: 49, True Negatives: 193, Total: 384\n",
      "\n",
      "A (Accuracy): 0.7240\n",
      "P (Precision): 0.5986\n",
      "R (Recall): 0.6343\n",
      "F1 (F1 Score): 0.6159\n",
      "BA (Balanced Accuracy): 0.7032\n",
      "MCC (Matthews Correlation Coefficient): 0.4012\n",
      "TNR (True Negative Rate): 0.7720\n",
      "FPR (False Positive Rate): 0.2280\n",
      "FNR (False Negative Rate): 0.3657\n",
      "TPR (True Positive Rate): 0.6343\n"
     ]
    }
   ],
   "source": [
    "compute_metrics(kb.predicates[\"Diabetic\"], kb.test_loaders[0])"
   ]
  },
  {
   "cell_type": "code",
   "execution_count": null,
   "metadata": {},
   "outputs": [],
   "source": []
  }
 ],
 "metadata": {
  "kernelspec": {
   "display_name": ".venv",
   "language": "python",
   "name": "python3"
  },
  "language_info": {
   "codemirror_mode": {
    "name": "ipython",
    "version": 3
   },
   "file_extension": ".py",
   "mimetype": "text/x-python",
   "name": "python",
   "nbconvert_exporter": "python",
   "pygments_lexer": "ipython3",
   "version": "3.12.4"
  }
 },
 "nbformat": 4,
 "nbformat_minor": 2
}
