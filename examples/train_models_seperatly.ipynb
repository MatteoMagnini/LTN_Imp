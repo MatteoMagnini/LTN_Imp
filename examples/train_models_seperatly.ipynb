{
 "cells": [
  {
   "cell_type": "code",
   "id": "initial_id",
   "metadata": {
    "collapsed": true,
    "ExecuteTime": {
     "end_time": "2024-08-07T12:36:06.981575Z",
     "start_time": "2024-08-07T12:36:06.225532Z"
    }
   },
   "source": [
    "import pandas as pd\n",
    "from models import *\n",
    "from generator import generate_balanced_dataset, draw_shapes\n",
    "import numpy as np\n",
    "from PIL import Image"
   ],
   "outputs": [],
   "execution_count": 1
  },
  {
   "metadata": {
    "ExecuteTime": {
     "end_time": "2024-08-07T12:36:07.497689Z",
     "start_time": "2024-08-07T12:36:06.982564Z"
    }
   },
   "cell_type": "code",
   "source": "data, metadata = generate_balanced_dataset(100)",
   "id": "967fcf7f9752f670",
   "outputs": [],
   "execution_count": 2
  },
  {
   "metadata": {
    "ExecuteTime": {
     "end_time": "2024-08-07T12:36:07.500257Z",
     "start_time": "2024-08-07T12:36:07.498415Z"
    }
   },
   "cell_type": "code",
   "source": "data = pd.DataFrame(data)",
   "id": "a9a55208b6363223",
   "outputs": [],
   "execution_count": 3
  },
  {
   "metadata": {
    "ExecuteTime": {
     "end_time": "2024-08-07T12:36:07.502965Z",
     "start_time": "2024-08-07T12:36:07.500913Z"
    }
   },
   "cell_type": "code",
   "source": "metadata = pd.DataFrame(metadata)",
   "id": "eee268618c7c6ecc",
   "outputs": [],
   "execution_count": 4
  },
  {
   "metadata": {
    "ExecuteTime": {
     "end_time": "2024-08-07T12:36:07.511082Z",
     "start_time": "2024-08-07T12:36:07.504158Z"
    }
   },
   "cell_type": "code",
   "source": "metadata",
   "id": "a685abe600437096",
   "outputs": [
    {
     "data": {
      "text/plain": [
       "     circle_center_x  circle_center_y  circle_radius  rect_tl_x  rect_tl_y  \\\n",
       "0           0.125000        -0.109375      -0.656250   0.203125  -0.593750   \n",
       "1          -0.671875        -0.343750      -0.765625  -0.218750   0.546875   \n",
       "2           0.171875        -0.578125      -0.718750  -0.203125  -0.687500   \n",
       "3           0.187500        -0.296875      -0.687500  -0.843750  -0.687500   \n",
       "4          -0.375000         0.734375      -0.750000  -0.750000   0.593750   \n",
       "..               ...              ...            ...        ...        ...   \n",
       "295        -0.625000         0.484375      -0.765625  -0.890625   0.093750   \n",
       "296         0.406250        -0.671875      -0.828125   0.156250  -0.906250   \n",
       "297         0.406250         0.546875      -0.812500   0.218750   0.281250   \n",
       "298        -0.312500         0.218750      -0.812500  -0.812500  -0.171875   \n",
       "299         0.375000         0.437500      -0.781250   0.125000   0.156250   \n",
       "\n",
       "     rect_br_x  rect_br_y  \n",
       "0     0.937500   0.062500  \n",
       "1     0.421875   0.953125  \n",
       "2     0.437500  -0.234375  \n",
       "3    -0.515625   0.000000  \n",
       "4    -0.265625   0.984375  \n",
       "..         ...        ...  \n",
       "295  -0.218750   0.718750  \n",
       "296   0.609375  -0.500000  \n",
       "297   0.859375   0.781250  \n",
       "298  -0.046875   0.406250  \n",
       "299   0.718750   0.828125  \n",
       "\n",
       "[300 rows x 7 columns]"
      ],
      "text/html": [
       "<div>\n",
       "<style scoped>\n",
       "    .dataframe tbody tr th:only-of-type {\n",
       "        vertical-align: middle;\n",
       "    }\n",
       "\n",
       "    .dataframe tbody tr th {\n",
       "        vertical-align: top;\n",
       "    }\n",
       "\n",
       "    .dataframe thead th {\n",
       "        text-align: right;\n",
       "    }\n",
       "</style>\n",
       "<table border=\"1\" class=\"dataframe\">\n",
       "  <thead>\n",
       "    <tr style=\"text-align: right;\">\n",
       "      <th></th>\n",
       "      <th>circle_center_x</th>\n",
       "      <th>circle_center_y</th>\n",
       "      <th>circle_radius</th>\n",
       "      <th>rect_tl_x</th>\n",
       "      <th>rect_tl_y</th>\n",
       "      <th>rect_br_x</th>\n",
       "      <th>rect_br_y</th>\n",
       "    </tr>\n",
       "  </thead>\n",
       "  <tbody>\n",
       "    <tr>\n",
       "      <th>0</th>\n",
       "      <td>0.125000</td>\n",
       "      <td>-0.109375</td>\n",
       "      <td>-0.656250</td>\n",
       "      <td>0.203125</td>\n",
       "      <td>-0.593750</td>\n",
       "      <td>0.937500</td>\n",
       "      <td>0.062500</td>\n",
       "    </tr>\n",
       "    <tr>\n",
       "      <th>1</th>\n",
       "      <td>-0.671875</td>\n",
       "      <td>-0.343750</td>\n",
       "      <td>-0.765625</td>\n",
       "      <td>-0.218750</td>\n",
       "      <td>0.546875</td>\n",
       "      <td>0.421875</td>\n",
       "      <td>0.953125</td>\n",
       "    </tr>\n",
       "    <tr>\n",
       "      <th>2</th>\n",
       "      <td>0.171875</td>\n",
       "      <td>-0.578125</td>\n",
       "      <td>-0.718750</td>\n",
       "      <td>-0.203125</td>\n",
       "      <td>-0.687500</td>\n",
       "      <td>0.437500</td>\n",
       "      <td>-0.234375</td>\n",
       "    </tr>\n",
       "    <tr>\n",
       "      <th>3</th>\n",
       "      <td>0.187500</td>\n",
       "      <td>-0.296875</td>\n",
       "      <td>-0.687500</td>\n",
       "      <td>-0.843750</td>\n",
       "      <td>-0.687500</td>\n",
       "      <td>-0.515625</td>\n",
       "      <td>0.000000</td>\n",
       "    </tr>\n",
       "    <tr>\n",
       "      <th>4</th>\n",
       "      <td>-0.375000</td>\n",
       "      <td>0.734375</td>\n",
       "      <td>-0.750000</td>\n",
       "      <td>-0.750000</td>\n",
       "      <td>0.593750</td>\n",
       "      <td>-0.265625</td>\n",
       "      <td>0.984375</td>\n",
       "    </tr>\n",
       "    <tr>\n",
       "      <th>...</th>\n",
       "      <td>...</td>\n",
       "      <td>...</td>\n",
       "      <td>...</td>\n",
       "      <td>...</td>\n",
       "      <td>...</td>\n",
       "      <td>...</td>\n",
       "      <td>...</td>\n",
       "    </tr>\n",
       "    <tr>\n",
       "      <th>295</th>\n",
       "      <td>-0.625000</td>\n",
       "      <td>0.484375</td>\n",
       "      <td>-0.765625</td>\n",
       "      <td>-0.890625</td>\n",
       "      <td>0.093750</td>\n",
       "      <td>-0.218750</td>\n",
       "      <td>0.718750</td>\n",
       "    </tr>\n",
       "    <tr>\n",
       "      <th>296</th>\n",
       "      <td>0.406250</td>\n",
       "      <td>-0.671875</td>\n",
       "      <td>-0.828125</td>\n",
       "      <td>0.156250</td>\n",
       "      <td>-0.906250</td>\n",
       "      <td>0.609375</td>\n",
       "      <td>-0.500000</td>\n",
       "    </tr>\n",
       "    <tr>\n",
       "      <th>297</th>\n",
       "      <td>0.406250</td>\n",
       "      <td>0.546875</td>\n",
       "      <td>-0.812500</td>\n",
       "      <td>0.218750</td>\n",
       "      <td>0.281250</td>\n",
       "      <td>0.859375</td>\n",
       "      <td>0.781250</td>\n",
       "    </tr>\n",
       "    <tr>\n",
       "      <th>298</th>\n",
       "      <td>-0.312500</td>\n",
       "      <td>0.218750</td>\n",
       "      <td>-0.812500</td>\n",
       "      <td>-0.812500</td>\n",
       "      <td>-0.171875</td>\n",
       "      <td>-0.046875</td>\n",
       "      <td>0.406250</td>\n",
       "    </tr>\n",
       "    <tr>\n",
       "      <th>299</th>\n",
       "      <td>0.375000</td>\n",
       "      <td>0.437500</td>\n",
       "      <td>-0.781250</td>\n",
       "      <td>0.125000</td>\n",
       "      <td>0.156250</td>\n",
       "      <td>0.718750</td>\n",
       "      <td>0.828125</td>\n",
       "    </tr>\n",
       "  </tbody>\n",
       "</table>\n",
       "<p>300 rows × 7 columns</p>\n",
       "</div>"
      ]
     },
     "execution_count": 5,
     "metadata": {},
     "output_type": "execute_result"
    }
   ],
   "execution_count": 5
  },
  {
   "metadata": {
    "ExecuteTime": {
     "end_time": "2024-08-07T12:36:07.613914Z",
     "start_time": "2024-08-07T12:36:07.511710Z"
    }
   },
   "cell_type": "code",
   "source": [
    "image_paths = [item for item in data[0]]\n",
    "images = []\n",
    "\n",
    "for path in image_paths:\n",
    "    try:\n",
    "        img = Image.open(path).convert('RGB')  # Convert to RGB to ensure consistency\n",
    "        img = np.array(img)\n",
    "        img_tensor = torch.tensor(img, dtype=torch.float32)  # Convert to PyTorch tensor\n",
    "        images.append(img_tensor)\n",
    "    except Exception as e:\n",
    "        print(f\"Error loading image {path}: {e}\")\n",
    "\n",
    "labels = torch.tensor(data[1], dtype=torch.float32)"
   ],
   "id": "59cd3fd112be9b64",
   "outputs": [],
   "execution_count": 6
  },
  {
   "metadata": {
    "ExecuteTime": {
     "end_time": "2024-08-07T12:36:07.617301Z",
     "start_time": "2024-08-07T12:36:07.614532Z"
    }
   },
   "cell_type": "code",
   "source": "draw_shapes( images[0][0], *metadata.iloc[0],)g",
   "id": "951965e6236c0d40",
   "outputs": [
    {
     "data": {
      "text/plain": [
       "<PIL.Image.Image image mode=L size=3x128>"
      ],
      "image/png": "[encoded data removed]",
      "image/jpeg": "[encoded data removed]"
     },
     "execution_count": 7,
     "metadata": {},
     "output_type": "execute_result"
    }
   ],
   "execution_count": 7
  },
  {
   "metadata": {
    "ExecuteTime": {
     "end_time": "2024-08-07T12:36:07.619150Z",
     "start_time": "2024-08-07T12:36:07.617893Z"
    }
   },
   "cell_type": "code",
   "source": "",
   "id": "a19de1f54aac414d",
   "outputs": [],
   "execution_count": 7
  }
 ],
 "metadata": {
  "kernelspec": {
   "display_name": "Python 3",
   "language": "python",
   "name": "python3"
  },
  "language_info": {
   "codemirror_mode": {
    "name": "ipython",
    "version": 2
   },
   "file_extension": ".py",
   "mimetype": "text/x-python",
   "name": "python",
   "nbconvert_exporter": "python",
   "pygments_lexer": "ipython2",
   "version": "2.7.6"
  }
 },
 "nbformat": 4,
 "nbformat_minor": 5
}
