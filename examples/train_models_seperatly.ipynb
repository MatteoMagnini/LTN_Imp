{
 "cells": [
  {
   "cell_type": "code",
   "execution_count": 1,
   "id": "initial_id",
   "metadata": {
    "ExecuteTime": {
     "end_time": "2024-08-07T12:36:06.981575Z",
     "start_time": "2024-08-07T12:36:06.225532Z"
    },
    "collapsed": true
   },
   "outputs": [],
   "source": [
    "# Data Processing\n",
    "import pandas as pd\n",
    "from PIL import Image\n",
    "from examples.generator import generate_balanced_dataset, draw_shapes\n",
    "import numpy as np\n",
    "import matplotlib.pyplot as plt\n",
    "from sklearn.model_selection import train_test_split\n",
    "from models import *\n",
    "from torch.utils.data import DataLoader, Dataset"
   ]
  },
  {
   "cell_type": "code",
   "execution_count": 2,
   "id": "967fcf7f9752f670",
   "metadata": {
    "ExecuteTime": {
     "end_time": "2024-08-07T12:36:07.497689Z",
     "start_time": "2024-08-07T12:36:06.982564Z"
    }
   },
   "outputs": [],
   "source": [
    "data, metadata = generate_balanced_dataset(100)"
   ]
  },
  {
   "cell_type": "code",
   "execution_count": 3,
   "id": "a9a55208b6363223",
   "metadata": {
    "ExecuteTime": {
     "end_time": "2024-08-07T12:36:07.500257Z",
     "start_time": "2024-08-07T12:36:07.498415Z"
    }
   },
   "outputs": [],
   "source": [
    "data = pd.DataFrame(data)"
   ]
  },
  {
   "cell_type": "code",
   "execution_count": 4,
   "id": "eee268618c7c6ecc",
   "metadata": {
    "ExecuteTime": {
     "end_time": "2024-08-07T12:36:07.502965Z",
     "start_time": "2024-08-07T12:36:07.500913Z"
    }
   },
   "outputs": [],
   "source": [
    "metadata = pd.DataFrame(metadata)"
   ]
  },
  {
   "cell_type": "code",
   "execution_count": 5,
   "id": "a685abe600437096",
   "metadata": {
    "ExecuteTime": {
     "end_time": "2024-08-07T12:36:07.511082Z",
     "start_time": "2024-08-07T12:36:07.504158Z"
    }
   },
   "outputs": [
    {
     "data": {
      "text/html": [
       "<div>\n",
       "<style scoped>\n",
       "    .dataframe tbody tr th:only-of-type {\n",
       "        vertical-align: middle;\n",
       "    }\n",
       "\n",
       "    .dataframe tbody tr th {\n",
       "        vertical-align: top;\n",
       "    }\n",
       "\n",
       "    .dataframe thead th {\n",
       "        text-align: right;\n",
       "    }\n",
       "</style>\n",
       "<table border=\"1\" class=\"dataframe\">\n",
       "  <thead>\n",
       "    <tr style=\"text-align: right;\">\n",
       "      <th></th>\n",
       "      <th>circle_center_x</th>\n",
       "      <th>circle_center_y</th>\n",
       "      <th>circle_radius</th>\n",
       "      <th>rect_tl_x</th>\n",
       "      <th>rect_tl_y</th>\n",
       "      <th>rect_br_x</th>\n",
       "      <th>rect_br_y</th>\n",
       "    </tr>\n",
       "  </thead>\n",
       "  <tbody>\n",
       "    <tr>\n",
       "      <th>0</th>\n",
       "      <td>0.312500</td>\n",
       "      <td>0.351562</td>\n",
       "      <td>0.195312</td>\n",
       "      <td>0.109375</td>\n",
       "      <td>0.703125</td>\n",
       "      <td>0.320312</td>\n",
       "      <td>0.867188</td>\n",
       "    </tr>\n",
       "    <tr>\n",
       "      <th>1</th>\n",
       "      <td>0.140625</td>\n",
       "      <td>0.335938</td>\n",
       "      <td>0.140625</td>\n",
       "      <td>0.523438</td>\n",
       "      <td>0.132812</td>\n",
       "      <td>0.742188</td>\n",
       "      <td>0.328125</td>\n",
       "    </tr>\n",
       "    <tr>\n",
       "      <th>2</th>\n",
       "      <td>0.570312</td>\n",
       "      <td>0.375000</td>\n",
       "      <td>0.117188</td>\n",
       "      <td>0.226562</td>\n",
       "      <td>0.453125</td>\n",
       "      <td>0.398438</td>\n",
       "      <td>0.820312</td>\n",
       "    </tr>\n",
       "    <tr>\n",
       "      <th>3</th>\n",
       "      <td>0.468750</td>\n",
       "      <td>0.242188</td>\n",
       "      <td>0.101562</td>\n",
       "      <td>0.476562</td>\n",
       "      <td>0.703125</td>\n",
       "      <td>0.664062</td>\n",
       "      <td>0.992188</td>\n",
       "    </tr>\n",
       "    <tr>\n",
       "      <th>4</th>\n",
       "      <td>0.757812</td>\n",
       "      <td>0.218750</td>\n",
       "      <td>0.101562</td>\n",
       "      <td>0.421875</td>\n",
       "      <td>0.453125</td>\n",
       "      <td>0.625000</td>\n",
       "      <td>0.625000</td>\n",
       "    </tr>\n",
       "    <tr>\n",
       "      <th>...</th>\n",
       "      <td>...</td>\n",
       "      <td>...</td>\n",
       "      <td>...</td>\n",
       "      <td>...</td>\n",
       "      <td>...</td>\n",
       "      <td>...</td>\n",
       "      <td>...</td>\n",
       "    </tr>\n",
       "    <tr>\n",
       "      <th>295</th>\n",
       "      <td>0.804688</td>\n",
       "      <td>0.296875</td>\n",
       "      <td>0.101562</td>\n",
       "      <td>0.648438</td>\n",
       "      <td>0.054688</td>\n",
       "      <td>0.976562</td>\n",
       "      <td>0.406250</td>\n",
       "    </tr>\n",
       "    <tr>\n",
       "      <th>296</th>\n",
       "      <td>0.804688</td>\n",
       "      <td>0.648438</td>\n",
       "      <td>0.101562</td>\n",
       "      <td>0.562500</td>\n",
       "      <td>0.453125</td>\n",
       "      <td>0.914062</td>\n",
       "      <td>0.757812</td>\n",
       "    </tr>\n",
       "    <tr>\n",
       "      <th>297</th>\n",
       "      <td>0.523438</td>\n",
       "      <td>0.304688</td>\n",
       "      <td>0.101562</td>\n",
       "      <td>0.335938</td>\n",
       "      <td>0.117188</td>\n",
       "      <td>0.679688</td>\n",
       "      <td>0.507812</td>\n",
       "    </tr>\n",
       "    <tr>\n",
       "      <th>298</th>\n",
       "      <td>0.242188</td>\n",
       "      <td>0.304688</td>\n",
       "      <td>0.078125</td>\n",
       "      <td>0.164062</td>\n",
       "      <td>0.117188</td>\n",
       "      <td>0.523438</td>\n",
       "      <td>0.382812</td>\n",
       "    </tr>\n",
       "    <tr>\n",
       "      <th>299</th>\n",
       "      <td>0.742188</td>\n",
       "      <td>0.156250</td>\n",
       "      <td>0.093750</td>\n",
       "      <td>0.632812</td>\n",
       "      <td>0.046875</td>\n",
       "      <td>0.937500</td>\n",
       "      <td>0.320312</td>\n",
       "    </tr>\n",
       "  </tbody>\n",
       "</table>\n",
       "<p>300 rows × 7 columns</p>\n",
       "</div>"
      ],
      "text/plain": [
       "     circle_center_x  circle_center_y  circle_radius  rect_tl_x  rect_tl_y  \\\n",
       "0           0.312500         0.351562       0.195312   0.109375   0.703125   \n",
       "1           0.140625         0.335938       0.140625   0.523438   0.132812   \n",
       "2           0.570312         0.375000       0.117188   0.226562   0.453125   \n",
       "3           0.468750         0.242188       0.101562   0.476562   0.703125   \n",
       "4           0.757812         0.218750       0.101562   0.421875   0.453125   \n",
       "..               ...              ...            ...        ...        ...   \n",
       "295         0.804688         0.296875       0.101562   0.648438   0.054688   \n",
       "296         0.804688         0.648438       0.101562   0.562500   0.453125   \n",
       "297         0.523438         0.304688       0.101562   0.335938   0.117188   \n",
       "298         0.242188         0.304688       0.078125   0.164062   0.117188   \n",
       "299         0.742188         0.156250       0.093750   0.632812   0.046875   \n",
       "\n",
       "     rect_br_x  rect_br_y  \n",
       "0     0.320312   0.867188  \n",
       "1     0.742188   0.328125  \n",
       "2     0.398438   0.820312  \n",
       "3     0.664062   0.992188  \n",
       "4     0.625000   0.625000  \n",
       "..         ...        ...  \n",
       "295   0.976562   0.406250  \n",
       "296   0.914062   0.757812  \n",
       "297   0.679688   0.507812  \n",
       "298   0.523438   0.382812  \n",
       "299   0.937500   0.320312  \n",
       "\n",
       "[300 rows x 7 columns]"
      ]
     },
     "execution_count": 5,
     "metadata": {},
     "output_type": "execute_result"
    }
   ],
   "source": [
    "metadata"
   ]
  },
  {
   "cell_type": "code",
   "execution_count": 6,
   "id": "59cd3fd112be9b64",
   "metadata": {
    "ExecuteTime": {
     "end_time": "2024-08-07T12:36:07.613914Z",
     "start_time": "2024-08-07T12:36:07.511710Z"
    }
   },
   "outputs": [],
   "source": [
    "image_paths = [item for item in data[0]]\n",
    "images = []\n",
    "\n",
    "for path in image_paths:\n",
    "    try:\n",
    "        img = Image.open(path).convert('RGB')  # Convert to RGB to ensure consistency\n",
    "        img = np.array(img)\n",
    "        img_tensor = torch.tensor(img, dtype=torch.float32)  # Convert to PyTorch tensor\n",
    "        images.append(img_tensor)\n",
    "    except Exception as e:\n",
    "        print(f\"Error loading image {path}: {e}\")\n",
    "\n",
    "labels = torch.tensor(data[1], dtype=torch.float32)"
   ]
  },
  {
   "cell_type": "code",
   "execution_count": 7,
   "id": "615ce622",
   "metadata": {},
   "outputs": [
    {
     "name": "stderr",
     "output_type": "stream",
     "text": [
      "/var/folders/mv/_dg3pqgn2zdf7f95_1dg07rw0000gn/T/ipykernel_63583/1380037448.py:4: UserWarning: To copy construct from a tensor, it is recommended to use sourceTensor.clone().detach() or sourceTensor.clone().detach().requires_grad_(True), rather than torch.tensor(sourceTensor).\n",
      "  self.images = torch.stack([torch.tensor(image).permute(2, 0, 1) for image in images])\n",
      "/var/folders/mv/_dg3pqgn2zdf7f95_1dg07rw0000gn/T/ipykernel_63583/1380037448.py:5: UserWarning: To copy construct from a tensor, it is recommended to use sourceTensor.clone().detach() or sourceTensor.clone().detach().requires_grad_(True), rather than torch.tensor(sourceTensor).\n",
      "  self.labels = torch.tensor(labels).float()\n"
     ]
    }
   ],
   "source": [
    "class ImageDataset(Dataset):\n",
    "    def __init__(self, images, labels):\n",
    "        # Convert the list of images to a tensor and permute dimensions to [batch_size, channels, height, width]\n",
    "        self.images = torch.stack([torch.tensor(image).permute(2, 0, 1) for image in images])\n",
    "        self.labels = torch.tensor(labels).float()\n",
    "\n",
    "    def __len__(self):\n",
    "        return len(self.images)\n",
    "\n",
    "    def __getitem__(self, idx):\n",
    "        image = self.images[idx]\n",
    "        label = self.labels[idx]\n",
    "        return image, label\n",
    "    \n",
    "batch_size = 25\n",
    "\n",
    "# Split the data into training and test sets\n",
    "train_data, test_data, train_labels, test_labels = train_test_split(images,labels, test_size=0.2, random_state=42)\n",
    "\n",
    "# Create the training dataset\n",
    "train_dataset = ImageDataset(train_data, train_labels)\n",
    "\n",
    "# Create the test dataset\n",
    "test_dataset = ImageDataset(test_data, test_labels)\n",
    "\n",
    "# Create the training dataloader\n",
    "train_dataloader = DataLoader(train_dataset, batch_size=batch_size, shuffle=True)\n",
    "\n",
    "# Create the test dataloader\n",
    "test_dataloader = DataLoader(test_dataset, batch_size=batch_size, shuffle=False)"
   ]
  },
  {
   "cell_type": "code",
   "execution_count": 8,
   "id": "bb4efd53",
   "metadata": {},
   "outputs": [
    {
     "data": {
      "text/plain": [
       "<matplotlib.image.AxesImage at 0x10596e2a0>"
      ]
     },
     "execution_count": 8,
     "metadata": {},
     "output_type": "execute_result"
    },
    {
     "data": {
      "image/png": "[encoded data removed]",
      "text/plain": [
       "<Figure size 640x480 with 1 Axes>"
      ]
     },
     "metadata": {},
     "output_type": "display_data"
    }
   ],
   "source": [
    "plt.imshow(draw_shapes(*metadata.iloc[0], *metadata.iloc[1]))"
   ]
  },
  {
   "cell_type": "code",
   "execution_count": 9,
   "id": "93fb61fe",
   "metadata": {},
   "outputs": [
    {
     "data": {
      "text/plain": [
       "<matplotlib.image.AxesImage at 0x13ce6da60>"
      ]
     },
     "execution_count": 9,
     "metadata": {},
     "output_type": "execute_result"
    },
    {
     "data": {
      "image/png": "[encoded data removed]",
      "text/plain": [
       "<Figure size 640x480 with 1 Axes>"
      ]
     },
     "metadata": {},
     "output_type": "display_data"
    }
   ],
   "source": [
    "plt.imshow(images[0].numpy().astype(np.uint8))"
   ]
  },
  {
   "cell_type": "code",
   "execution_count": 10,
   "id": "92d26a81",
   "metadata": {},
   "outputs": [
    {
     "data": {
      "text/plain": [
       "<matplotlib.image.AxesImage at 0x14077e090>"
      ]
     },
     "execution_count": 10,
     "metadata": {},
     "output_type": "execute_result"
    },
    {
     "data": {
      "image/png": "[encoded data removed]",
      "text/plain": [
       "<Figure size 640x480 with 1 Axes>"
      ]
     },
     "metadata": {},
     "output_type": "display_data"
    }
   ],
   "source": [
    "plt.imshow(images[1].numpy().astype(np.uint8))"
   ]
  },
  {
   "cell_type": "code",
   "execution_count": null,
   "id": "2a4374e7",
   "metadata": {},
   "outputs": [],
   "source": []
  }
 ],
 "metadata": {
  "kernelspec": {
   "display_name": "Python 3",
   "language": "python",
   "name": "python3"
  },
  "language_info": {
   "codemirror_mode": {
    "name": "ipython",
    "version": 3
   },
   "file_extension": ".py",
   "mimetype": "text/x-python",
   "name": "python",
   "nbconvert_exporter": "python",
   "pygments_lexer": "ipython3",
   "version": "3.12.4"
  }
 },
 "nbformat": 4,
 "nbformat_minor": 5
}
