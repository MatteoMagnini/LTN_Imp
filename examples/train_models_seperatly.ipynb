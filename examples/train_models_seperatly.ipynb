{
 "cells": [
  {
   "cell_type": "code",
   "id": "initial_id",
   "metadata": {
    "collapsed": true,
    "ExecuteTime": {
     "end_time": "2024-08-08T09:01:39.880343Z",
     "start_time": "2024-08-08T09:01:39.873801Z"
    }
   },
   "source": [
    "# Data Processing\n",
    "import pandas as pd\n",
    "from PIL import Image\n",
    "from examples.generator import generate_balanced_dataset, draw_circles, draw_rectangles\n",
    "import numpy as np\n",
    "import matplotlib.pyplot as plt\n",
    "from sklearn.model_selection import train_test_split\n",
    "from torch.utils.data import DataLoader, Dataset\n",
    "from sklearn.metrics import mean_absolute_error\n",
    "\n",
    "import torch\n",
    "import torch.nn as nn\n",
    "import torch.nn.functional as F"
   ],
   "outputs": [],
   "execution_count": 34
  },
  {
   "cell_type": "markdown",
   "id": "dce271d4",
   "metadata": {},
   "source": [
    "## Data Processing and Visualization"
   ]
  },
  {
   "cell_type": "code",
   "id": "967fcf7f9752f670",
   "metadata": {
    "ExecuteTime": {
     "end_time": "2024-08-08T09:01:40.400717Z",
     "start_time": "2024-08-08T09:01:39.894167Z"
    }
   },
   "source": [
    "data, metadata = generate_balanced_dataset(100)"
   ],
   "outputs": [],
   "execution_count": 35
  },
  {
   "cell_type": "code",
   "id": "a9a55208b6363223",
   "metadata": {
    "ExecuteTime": {
     "end_time": "2024-08-08T09:01:40.404356Z",
     "start_time": "2024-08-08T09:01:40.401587Z"
    }
   },
   "source": [
    "data = pd.DataFrame(data)"
   ],
   "outputs": [],
   "execution_count": 36
  },
  {
   "cell_type": "code",
   "id": "eee268618c7c6ecc",
   "metadata": {
    "ExecuteTime": {
     "end_time": "2024-08-08T09:01:40.407480Z",
     "start_time": "2024-08-08T09:01:40.404882Z"
    }
   },
   "source": "metadata = pd.DataFrame(metadata)",
   "outputs": [],
   "execution_count": 37
  },
  {
   "cell_type": "code",
   "id": "59cd3fd112be9b64",
   "metadata": {
    "ExecuteTime": {
     "end_time": "2024-08-08T09:01:40.507609Z",
     "start_time": "2024-08-08T09:01:40.408566Z"
    }
   },
   "source": [
    "image_paths = [item for item in data[0]]\n",
    "images = []\n",
    "\n",
    "for path in image_paths:\n",
    "    try:\n",
    "        img = Image.open(path).convert('RGB')  # Convert to RGB to ensure consistency\n",
    "        img = np.array(img)\n",
    "        img_tensor = torch.tensor(img, dtype=torch.float32)  # Convert to PyTorch tensor\n",
    "        images.append(img_tensor)\n",
    "    except Exception as e:\n",
    "        print(f\"Error loading image {path}: {e}\")"
   ],
   "outputs": [],
   "execution_count": 38
  },
  {
   "cell_type": "code",
   "id": "615ce622",
   "metadata": {
    "ExecuteTime": {
     "end_time": "2024-08-08T09:01:40.554357Z",
     "start_time": "2024-08-08T09:01:40.508240Z"
    }
   },
   "source": [
    "class EvalDataset(Dataset):\n",
    "    def __init__(self, images, metadata):\n",
    "        self.images = torch.stack([torch.tensor(image).permute(2, 0, 1) for image in images])\n",
    "        self.metadata = torch.tensor(metadata).float()\n",
    "\n",
    "    def __len__(self):\n",
    "        return len(self.images)\n",
    "\n",
    "    def __getitem__(self, idx):\n",
    "        image = self.images[idx]\n",
    "        metadata = self.metadata[idx]\n",
    "        return image, metadata\n",
    "    \n",
    "batch_size = 25\n",
    "\n",
    "circle_metadata = metadata[[\"circle_center_x\",\"circle_center_y\", \"circle_radius\"]]\n",
    "\n",
    "rectangle_metadata = metadata[[\"rect_tl_x\",\t\"rect_tl_y\"\t,\"rect_br_x\"\t,\"rect_br_y\"]]\n",
    "\n",
    "train_images, test_images, train_circle_labels, test_circle_labels = train_test_split( images, circle_metadata.values, test_size=0.2, random_state=42)\n",
    "\n",
    "train_images, test_images, train_rect_labels, test_rect_labels = train_test_split(images, rectangle_metadata.values, test_size=0.2, random_state=42)\n",
    "\n",
    "# Create the training and test datasets for circles\n",
    "train_circle_dataset = EvalDataset(train_images, train_circle_labels)\n",
    "test_circle_dataset = EvalDataset(test_images, test_circle_labels)\n",
    "\n",
    "# Create the training and test datasets for rectangles\n",
    "train_rect_dataset = EvalDataset(train_images, train_rect_labels)\n",
    "test_rect_dataset = EvalDataset(test_images, test_rect_labels)\n",
    "\n",
    "# Create the dataloaders\n",
    "batch_size = 25\n",
    "\n",
    "# Circle dataloaders\n",
    "train_circle_dataloader = DataLoader(train_circle_dataset, batch_size=batch_size, shuffle=True)\n",
    "test_circle_dataloader = DataLoader(test_circle_dataset, batch_size=batch_size, shuffle=False)\n",
    "\n",
    "# Rectangle dataloaders\n",
    "train_rect_dataloader = DataLoader(train_rect_dataset, batch_size=batch_size, shuffle=True)\n",
    "test_rect_dataloader = DataLoader(test_rect_dataset, batch_size=batch_size, shuffle=False)"
   ],
   "outputs": [
    {
     "name": "stderr",
     "output_type": "stream",
     "text": [
      "/var/folders/mv/_dg3pqgn2zdf7f95_1dg07rw0000gn/T/ipykernel_71265/2891219731.py:3: UserWarning: To copy construct from a tensor, it is recommended to use sourceTensor.clone().detach() or sourceTensor.clone().detach().requires_grad_(True), rather than torch.tensor(sourceTensor).\n",
      "  self.images = torch.stack([torch.tensor(image).permute(2, 0, 1) for image in images])\n"
     ]
    }
   ],
   "execution_count": 39
  },
  {
   "cell_type": "markdown",
   "id": "debee8d5",
   "metadata": {},
   "source": [
    "# Models and Evaluation Functions"
   ]
  },
  {
   "cell_type": "code",
   "id": "2a4374e7",
   "metadata": {
    "ExecuteTime": {
     "end_time": "2024-08-08T09:01:40.561240Z",
     "start_time": "2024-08-08T09:01:40.555204Z"
    }
   },
   "source": [
    "class CircleDetector(nn.Module):\n",
    "    def __init__(self):\n",
    "        super(CircleDetector, self).__init__()\n",
    "        self.conv1 = nn.Conv2d(in_channels=3, out_channels=16, kernel_size=3, stride=1, padding=1)\n",
    "        self.bn1 = nn.BatchNorm2d(16)\n",
    "        self.conv2 = nn.Conv2d(in_channels=16, out_channels=32, kernel_size=3, stride=1, padding=1)\n",
    "        self.bn2 = nn.BatchNorm2d(32)\n",
    "        self.conv3 = nn.Conv2d(in_channels=32, out_channels=64, kernel_size=3, stride=1, padding=1)\n",
    "        self.bn3 = nn.BatchNorm2d(64)\n",
    "        self.fc1 = nn.Linear(in_features=64*16*16, out_features=128)\n",
    "        self.bn_fc1 = nn.BatchNorm1d(128)\n",
    "        self.fc2 = nn.Linear(in_features=128, out_features=3)\n",
    "\n",
    "    def forward(self, x):\n",
    "        x = F.leaky_relu(self.bn1(self.conv1(x)))\n",
    "        x = F.max_pool2d(x, 2)\n",
    "        x = F.leaky_relu(self.bn2(self.conv2(x)))\n",
    "        x = F.max_pool2d(x, 2)\n",
    "        x = F.leaky_relu(self.bn3(self.conv3(x)))\n",
    "        x = F.max_pool2d(x, 2)\n",
    "        x = x.view(x.size(0), -1)\n",
    "        x = F.leaky_relu(self.bn_fc1(self.fc1(x)))\n",
    "        x = self.fc2(x)\n",
    "        c_x, c_y, r = torch.sigmoid(x[:, 0]), torch.sigmoid(x[:, 1]), torch.sigmoid(x[:, 2])\n",
    "        return c_x, c_y, r\n",
    "class RectangleDetector(torch.nn.Module):\n",
    "    def __init__(self):\n",
    "        super(RectangleDetector, self).__init__()\n",
    "        self.conv1 = nn.Conv2d(in_channels=3, out_channels=16, kernel_size=3, stride=1, padding=1)\n",
    "        self.bn1 = nn.BatchNorm2d(16)\n",
    "        self.conv2 = nn.Conv2d(in_channels=16, out_channels=32, kernel_size=3, stride=1, padding=1)\n",
    "        self.bn2 = nn.BatchNorm2d(32)\n",
    "        self.conv3 = nn.Conv2d(in_channels=32, out_channels=64, kernel_size=3, stride=1, padding=1)\n",
    "        self.bn3 = nn.BatchNorm2d(64)\n",
    "        self.fc1 = nn.Linear(in_features=64*16*16, out_features=128)\n",
    "        self.bn_fc1 = nn.BatchNorm1d(128)\n",
    "        self.fc2 = nn.Linear(in_features=128, out_features=4)\n",
    "\n",
    "    def forward(self, x):\n",
    "        x = F.leaky_relu(self.bn1(self.conv1(x)))\n",
    "        x = F.max_pool2d(x, 2)\n",
    "        x = F.leaky_relu(self.bn2(self.conv2(x)))\n",
    "        x = F.max_pool2d(x, 2)\n",
    "        x = F.leaky_relu(self.bn3(self.conv3(x)))\n",
    "        x = F.max_pool2d(x, 2)\n",
    "        x = x.view(x.size(0), -1)\n",
    "        x = F.leaky_relu(self.bn_fc1(self.fc1(x)))\n",
    "        x = self.fc2(x)\n",
    "        t_x, t_y,b_x, b_y = torch.sigmoid(x[:, 0]), torch.sigmoid(x[:, 1]), torch.sigmoid(x[:, 2]), torch.sigmoid(x[:, 3])\n",
    "        return t_x, t_y, b_x, b_y"
   ],
   "outputs": [],
   "execution_count": 40
  },
  {
   "cell_type": "code",
   "id": "365387f7",
   "metadata": {
    "ExecuteTime": {
     "end_time": "2024-08-08T09:01:40.567713Z",
     "start_time": "2024-08-08T09:01:40.561966Z"
    }
   },
   "source": [
    "def train_circle(model, dataloader, criterion, optimizer, num_epochs=25, device='cpu'):\n",
    "    model.to(device)\n",
    "    model.train()\n",
    "    for epoch in range(num_epochs):\n",
    "        running_loss = 0.0\n",
    "        for inputs, labels in dataloader:\n",
    "            inputs = inputs.to(device)\n",
    "            labels = labels.to(device)\n",
    "\n",
    "            # Zero the parameter gradients\n",
    "            optimizer.zero_grad()\n",
    "\n",
    "            # Forward pass\n",
    "            c_x, c_y, r = model(inputs)\n",
    "            outputs = torch.stack((c_x, c_y, r), dim=1)\n",
    "            \n",
    "            # Calculate loss\n",
    "            loss = criterion(outputs, labels)\n",
    "            \n",
    "            # Backward pass and optimize\n",
    "            loss.backward()\n",
    "            optimizer.step()\n",
    "\n",
    "            running_loss += loss.item() * inputs.size(0)\n",
    "\n",
    "        epoch_loss = running_loss / len(dataloader.dataset)\n",
    "        print(f'Epoch {epoch}/{num_epochs - 1}, Loss: {epoch_loss:.4f}')\n",
    "\n",
    "def train_rect(model, dataloader, criterion, optimizer, num_epochs=25, device='cpu'):\n",
    "    model.to(device)\n",
    "    model.train()\n",
    "    for epoch in range(num_epochs):\n",
    "        running_loss = 0.0\n",
    "        for inputs, labels in dataloader:\n",
    "            inputs = inputs.to(device)\n",
    "            labels = labels.to(device)\n",
    "\n",
    "            # Zero the parameter gradients\n",
    "            optimizer.zero_grad()\n",
    "\n",
    "            # Forward pass\n",
    "            tl_x, tl_y, br_x, br_y = model(inputs)\n",
    "            outputs = torch.stack((tl_x, tl_y, br_x, br_y), dim=1)\n",
    "            \n",
    "            # Calculate loss\n",
    "            loss = criterion(outputs, labels)\n",
    "            \n",
    "            # Backward pass and optimize\n",
    "            loss.backward()\n",
    "            optimizer.step()\n",
    "\n",
    "            running_loss += loss.item() * inputs.size(0)\n",
    "\n",
    "        epoch_loss = running_loss / len(dataloader.dataset)\n",
    "        print(f'Epoch {epoch}/{num_epochs - 1}, Loss: {epoch_loss:.4f}')\n",
    "\n",
    "\n",
    "def evaluate_model_circle(model, dataloader, device='cpu'):\n",
    "    model.to(device)\n",
    "    model.eval()\n",
    "    all_preds = []\n",
    "    all_labels = []\n",
    "\n",
    "    with torch.no_grad():\n",
    "        for inputs, labels in dataloader:\n",
    "            inputs = inputs.to(device)\n",
    "            labels = labels.to(device)\n",
    "            c_x, c_y, r = model(inputs)\n",
    "            preds = torch.stack((c_x, c_y, r), dim=1)\n",
    "\n",
    "            all_preds.append(preds.cpu().numpy())\n",
    "            all_labels.append(labels.cpu().numpy())\n",
    "\n",
    "    all_preds = np.concatenate(all_preds, axis=0)\n",
    "    all_labels = np.concatenate(all_labels, axis=0)\n",
    "\n",
    "    mae = mean_absolute_error(all_labels, all_preds)\n",
    "    print(f'Mean Absolute Error: {mae:.4f}')\n",
    "    return mae\n",
    "\n",
    "\n",
    "def evaluate_model_rect(model, dataloader, device='cpu'):\n",
    "    model.to(device)\n",
    "    model.eval()\n",
    "    all_preds = []\n",
    "    all_labels = []\n",
    "\n",
    "    with torch.no_grad():\n",
    "        for inputs, labels in dataloader:\n",
    "            inputs = inputs.to(device)\n",
    "            labels = labels.to(device)\n",
    "            tl_x, tl_y, br_x, br_y = model(inputs)\n",
    "            preds = torch.stack((tl_x, tl_y, br_x, br_y), dim=1)\n",
    "\n",
    "            all_preds.append(preds.cpu().numpy())\n",
    "            all_labels.append(labels.cpu().numpy())\n",
    "\n",
    "    all_preds = np.concatenate(all_preds, axis=0)\n",
    "    all_labels = np.concatenate(all_labels, axis=0)\n",
    "\n",
    "    mae = mean_absolute_error(all_labels, all_preds)\n",
    "    print(f'Mean Absolute Error: {mae:.4f}')\n",
    "    return mae\n"
   ],
   "outputs": [],
   "execution_count": 41
  },
  {
   "cell_type": "markdown",
   "id": "3b2bda82",
   "metadata": {},
   "source": [
    "# Circle"
   ]
  },
  {
   "cell_type": "code",
   "id": "0220da3b",
   "metadata": {
    "ExecuteTime": {
     "end_time": "2024-08-08T09:02:03.453413Z",
     "start_time": "2024-08-08T09:01:40.568328Z"
    }
   },
   "source": [
    "circle = CircleDetector()\n",
    "evaluate_model_circle(circle, test_circle_dataloader, device='cpu')\n",
    "print()\n",
    "train_circle(circle, train_circle_dataloader, nn.MSELoss(), torch.optim.Adam(circle.parameters()), num_epochs=20, device='cpu')\n",
    "print()\n",
    "evaluate_model_circle(circle, test_circle_dataloader, device='cpu')"
   ],
   "outputs": [
    {
     "name": "stdout",
     "output_type": "stream",
     "text": [
      "Mean Absolute Error: 0.2129\n",
      "\n",
      "Epoch 0/19, Loss: 0.0455\n",
      "Epoch 1/19, Loss: 0.0144\n",
      "Epoch 2/19, Loss: 0.0057\n",
      "Epoch 3/19, Loss: 0.0025\n",
      "Epoch 4/19, Loss: 0.0027\n",
      "Epoch 5/19, Loss: 0.0018\n",
      "Epoch 6/19, Loss: 0.0019\n",
      "Epoch 7/19, Loss: 0.0010\n",
      "Epoch 8/19, Loss: 0.0012\n",
      "Epoch 9/19, Loss: 0.0026\n",
      "Epoch 10/19, Loss: 0.0010\n",
      "Epoch 11/19, Loss: 0.0014\n",
      "Epoch 12/19, Loss: 0.0017\n",
      "Epoch 13/19, Loss: 0.0015\n",
      "Epoch 14/19, Loss: 0.0011\n",
      "Epoch 15/19, Loss: 0.0010\n",
      "Epoch 16/19, Loss: 0.0009\n",
      "Epoch 17/19, Loss: 0.0013\n",
      "Epoch 18/19, Loss: 0.0010\n",
      "Epoch 19/19, Loss: 0.0006\n",
      "\n",
      "Mean Absolute Error: 0.0196\n"
     ]
    },
    {
     "data": {
      "text/plain": [
       "np.float32(0.019637495)"
      ]
     },
     "execution_count": 42,
     "metadata": {},
     "output_type": "execute_result"
    }
   ],
   "execution_count": 42
  },
  {
   "cell_type": "code",
   "id": "e5492dbe",
   "metadata": {
    "ExecuteTime": {
     "end_time": "2024-08-08T09:02:03.456730Z",
     "start_time": "2024-08-08T09:02:03.454182Z"
    }
   },
   "source": [
    "test_data, test_metadata = next(iter(test_circle_dataloader))"
   ],
   "outputs": [],
   "execution_count": 43
  },
  {
   "cell_type": "code",
   "id": "cda3d388",
   "metadata": {
    "ExecuteTime": {
     "end_time": "2024-08-08T09:02:03.466418Z",
     "start_time": "2024-08-08T09:02:03.458979Z"
    }
   },
   "source": [
    "circle.eval()\n",
    "instance = test_data[1].unsqueeze(0)\n",
    "c_x, c_y, r = circle(instance)"
   ],
   "outputs": [],
   "execution_count": 44
  },
  {
   "cell_type": "code",
   "id": "481ea89e",
   "metadata": {
    "ExecuteTime": {
     "end_time": "2024-08-08T09:02:03.523719Z",
     "start_time": "2024-08-08T09:02:03.467418Z"
    }
   },
   "source": [
    "plt.imshow(draw_circles(*test_metadata[1], c_x, c_y, r))"
   ],
   "outputs": [
    {
     "data": {
      "text/plain": [
       "<matplotlib.image.AxesImage at 0x301695fd0>"
      ]
     },
     "execution_count": 45,
     "metadata": {},
     "output_type": "execute_result"
    },
    {
     "data": {
      "text/plain": [
       "<Figure size 640x480 with 1 Axes>"
      ],
      "image/png": "[encoded data removed]"
     },
     "metadata": {},
     "output_type": "display_data"
    }
   ],
   "execution_count": 45
  },
  {
   "cell_type": "markdown",
   "id": "8cd3fadb",
   "metadata": {},
   "source": [
    "# Rectangle"
   ]
  },
  {
   "cell_type": "code",
   "id": "1a6145dc",
   "metadata": {
    "ExecuteTime": {
     "end_time": "2024-08-08T09:02:26.337002Z",
     "start_time": "2024-08-08T09:02:03.524496Z"
    }
   },
   "source": [
    "rect = RectangleDetector()\n",
    "evaluate_model_rect(rect, train_rect_dataloader, device='cpu')\n",
    "print()\n",
    "train_rect(rect, train_rect_dataloader, nn.MSELoss(), torch.optim.Adam(rect.parameters()), num_epochs=20, device='cpu')\n",
    "print()\n",
    "evaluate_model_rect(rect, test_rect_dataloader, device='cpu')"
   ],
   "outputs": [
    {
     "name": "stdout",
     "output_type": "stream",
     "text": [
      "Mean Absolute Error: 0.4679\n",
      "\n",
      "Epoch 0/19, Loss: 0.0388\n",
      "Epoch 1/19, Loss: 0.0068\n",
      "Epoch 2/19, Loss: 0.0041\n",
      "Epoch 3/19, Loss: 0.0033\n",
      "Epoch 4/19, Loss: 0.0022\n",
      "Epoch 5/19, Loss: 0.0025\n",
      "Epoch 6/19, Loss: 0.0022\n",
      "Epoch 7/19, Loss: 0.0021\n",
      "Epoch 8/19, Loss: 0.0017\n",
      "Epoch 9/19, Loss: 0.0017\n",
      "Epoch 10/19, Loss: 0.0018\n",
      "Epoch 11/19, Loss: 0.0013\n",
      "Epoch 12/19, Loss: 0.0014\n",
      "Epoch 13/19, Loss: 0.0019\n",
      "Epoch 14/19, Loss: 0.0011\n",
      "Epoch 15/19, Loss: 0.0014\n",
      "Epoch 16/19, Loss: 0.0018\n",
      "Epoch 17/19, Loss: 0.0013\n",
      "Epoch 18/19, Loss: 0.0018\n",
      "Epoch 19/19, Loss: 0.0011\n",
      "\n",
      "Mean Absolute Error: 0.0280\n"
     ]
    },
    {
     "data": {
      "text/plain": [
       "np.float32(0.02798656)"
      ]
     },
     "execution_count": 46,
     "metadata": {},
     "output_type": "execute_result"
    }
   ],
   "execution_count": 46
  },
  {
   "cell_type": "code",
   "id": "037b99c8",
   "metadata": {
    "ExecuteTime": {
     "end_time": "2024-08-08T09:02:26.340221Z",
     "start_time": "2024-08-08T09:02:26.337985Z"
    }
   },
   "source": [
    "test_data, test_metadata = next(iter(test_rect_dataloader))"
   ],
   "outputs": [],
   "execution_count": 47
  },
  {
   "cell_type": "code",
   "id": "51214285",
   "metadata": {
    "ExecuteTime": {
     "end_time": "2024-08-08T09:02:26.347742Z",
     "start_time": "2024-08-08T09:02:26.340724Z"
    }
   },
   "source": [
    "rect.eval()\n",
    "instance = test_data[2].unsqueeze(0)\n",
    "t_x, t_y, b_x, b_y = rect(instance)"
   ],
   "outputs": [],
   "execution_count": 48
  },
  {
   "cell_type": "code",
   "id": "ec28439d",
   "metadata": {
    "ExecuteTime": {
     "end_time": "2024-08-08T09:02:26.403745Z",
     "start_time": "2024-08-08T09:02:26.348535Z"
    }
   },
   "source": [
    "plt.imshow(draw_rectangles(*test_metadata[2], t_x, t_y, b_x, b_y))"
   ],
   "outputs": [
    {
     "name": "stdout",
     "output_type": "stream",
     "text": [
      "tensor(28.) tensor(71.) tensor(72.) tensor(115.)\n",
      "tensor([25.2425], grad_fn=<MulBackward0>) tensor([74.4211], grad_fn=<MulBackward0>) tensor([70.4309], grad_fn=<MulBackward0>) tensor([117.8755], grad_fn=<MulBackward0>)\n"
     ]
    },
    {
     "data": {
      "text/plain": [
       "<matplotlib.image.AxesImage at 0x30aadd760>"
      ]
     },
     "execution_count": 49,
     "metadata": {},
     "output_type": "execute_result"
    },
    {
     "data": {
      "text/plain": [
       "<Figure size 640x480 with 1 Axes>"
      ],
      "image/png": "[encoded data removed]"
     },
     "metadata": {},
     "output_type": "display_data"
    }
   ],
   "execution_count": 49
  }
 ],
 "metadata": {
  "kernelspec": {
   "display_name": "Python 3",
   "language": "python",
   "name": "python3"
  },
  "language_info": {
   "codemirror_mode": {
    "name": "ipython",
    "version": 3
   },
   "file_extension": ".py",
   "mimetype": "text/x-python",
   "name": "python",
   "nbconvert_exporter": "python",
   "pygments_lexer": "ipython3",
   "version": "3.12.4"
  }
 },
 "nbformat": 4,
 "nbformat_minor": 5
}
