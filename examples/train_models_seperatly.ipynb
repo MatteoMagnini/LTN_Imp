{
 "cells": [
  {
   "cell_type": "code",
   "execution_count": 1,
   "id": "initial_id",
   "metadata": {
    "ExecuteTime": {
     "end_time": "2024-08-07T12:36:06.981575Z",
     "start_time": "2024-08-07T12:36:06.225532Z"
    },
    "collapsed": true
   },
   "outputs": [],
   "source": [
    "# Data Processing\n",
    "import pandas as pd\n",
    "from PIL import Image\n",
    "from examples.generator import generate_balanced_dataset, draw_circles, draw_rectangles\n",
    "import numpy as np\n",
    "import matplotlib.pyplot as plt\n",
    "from sklearn.model_selection import train_test_split\n",
    "from torch.utils.data import DataLoader, Dataset\n",
    "from sklearn.metrics import mean_absolute_error\n",
    "\n",
    "import torch\n",
    "import torch.nn as nn\n",
    "import torch.nn.functional as F"
   ]
  },
  {
   "cell_type": "markdown",
   "id": "dce271d4",
   "metadata": {},
   "source": [
    "## Data Processing and Visualization"
   ]
  },
  {
   "cell_type": "code",
   "execution_count": 2,
   "id": "967fcf7f9752f670",
   "metadata": {
    "ExecuteTime": {
     "end_time": "2024-08-07T12:36:07.497689Z",
     "start_time": "2024-08-07T12:36:06.982564Z"
    }
   },
   "outputs": [],
   "source": [
    "data, metadata = generate_balanced_dataset(100)"
   ]
  },
  {
   "cell_type": "code",
   "execution_count": 3,
   "id": "a9a55208b6363223",
   "metadata": {
    "ExecuteTime": {
     "end_time": "2024-08-07T12:36:07.500257Z",
     "start_time": "2024-08-07T12:36:07.498415Z"
    }
   },
   "outputs": [],
   "source": [
    "data = pd.DataFrame(data)"
   ]
  },
  {
   "cell_type": "code",
   "execution_count": 4,
   "id": "eee268618c7c6ecc",
   "metadata": {
    "ExecuteTime": {
     "end_time": "2024-08-07T12:36:07.502965Z",
     "start_time": "2024-08-07T12:36:07.500913Z"
    }
   },
   "outputs": [],
   "source": [
    "metadata = pd.DataFrame(metadata)"
   ]
  },
  {
   "cell_type": "code",
   "execution_count": 5,
   "id": "59cd3fd112be9b64",
   "metadata": {
    "ExecuteTime": {
     "end_time": "2024-08-07T12:36:07.613914Z",
     "start_time": "2024-08-07T12:36:07.511710Z"
    }
   },
   "outputs": [],
   "source": [
    "image_paths = [item for item in data[0]]\n",
    "images = []\n",
    "\n",
    "for path in image_paths:\n",
    "    try:\n",
    "        img = Image.open(path).convert('RGB')  # Convert to RGB to ensure consistency\n",
    "        img = np.array(img)\n",
    "        img_tensor = torch.tensor(img, dtype=torch.float32)  # Convert to PyTorch tensor\n",
    "        images.append(img_tensor)\n",
    "    except Exception as e:\n",
    "        print(f\"Error loading image {path}: {e}\")"
   ]
  },
  {
   "cell_type": "code",
   "execution_count": 6,
   "id": "615ce622",
   "metadata": {},
   "outputs": [
    {
     "name": "stderr",
     "output_type": "stream",
     "text": [
      "/var/folders/mv/_dg3pqgn2zdf7f95_1dg07rw0000gn/T/ipykernel_65540/1755259665.py:3: UserWarning: To copy construct from a tensor, it is recommended to use sourceTensor.clone().detach() or sourceTensor.clone().detach().requires_grad_(True), rather than torch.tensor(sourceTensor).\n",
      "  self.images = torch.stack([torch.tensor(image).permute(2, 0, 1) for image in images])\n"
     ]
    }
   ],
   "source": [
    "class ImageDataset(Dataset):\n",
    "    def __init__(self, images, metadata):\n",
    "        self.images = torch.stack([torch.tensor(image).permute(2, 0, 1) for image in images])\n",
    "        self.metadata = torch.tensor(metadata).float()\n",
    "\n",
    "    def __len__(self):\n",
    "        return len(self.images)\n",
    "\n",
    "    def __getitem__(self, idx):\n",
    "        image = self.images[idx]\n",
    "        metadata = self.metadata[idx]\n",
    "        return image, metadata\n",
    "    \n",
    "batch_size = 25\n",
    "\n",
    "circle_metadata = metadata[[\"circle_center_x\",\"circle_center_y\", \"circle_radius\"]]\n",
    "\n",
    "rectangle_metadata = metadata[[\"rect_tl_x\",\t\"rect_tl_y\"\t,\"rect_br_x\"\t,\"rect_br_y\"]]\n",
    "\n",
    "train_images, test_images, train_circle_labels, test_circle_labels = train_test_split( images, circle_metadata.values, test_size=0.2, random_state=42)\n",
    "\n",
    "train_images, test_images, train_rect_labels, test_rect_labels = train_test_split(images, rectangle_metadata.values, test_size=0.2, random_state=42)\n",
    "\n",
    "# Create the training and test datasets for circles\n",
    "train_circle_dataset = ImageDataset(train_images, train_circle_labels)\n",
    "test_circle_dataset = ImageDataset(test_images, test_circle_labels)\n",
    "\n",
    "# Create the training and test datasets for rectangles\n",
    "train_rect_dataset = ImageDataset(train_images, train_rect_labels)\n",
    "test_rect_dataset = ImageDataset(test_images, test_rect_labels)\n",
    "\n",
    "# Create the dataloaders\n",
    "batch_size = 25\n",
    "\n",
    "# Circle dataloaders\n",
    "train_circle_dataloader = DataLoader(train_circle_dataset, batch_size=batch_size, shuffle=True)\n",
    "test_circle_dataloader = DataLoader(test_circle_dataset, batch_size=batch_size, shuffle=False)\n",
    "\n",
    "# Rectangle dataloaders\n",
    "train_rect_dataloader = DataLoader(train_rect_dataset, batch_size=batch_size, shuffle=True)\n",
    "test_rect_dataloader = DataLoader(test_rect_dataset, batch_size=batch_size, shuffle=False)"
   ]
  },
  {
   "cell_type": "markdown",
   "id": "debee8d5",
   "metadata": {},
   "source": [
    "# Models and Evaluation Functions"
   ]
  },
  {
   "cell_type": "code",
   "execution_count": 7,
   "id": "2a4374e7",
   "metadata": {},
   "outputs": [],
   "source": [
    "class CircleDetector(nn.Module):\n",
    "    def __init__(self):\n",
    "        super(CircleDetector, self).__init__()\n",
    "        self.conv1 = nn.Conv2d(in_channels=3, out_channels=16, kernel_size=3, stride=1, padding=1)\n",
    "        self.bn1 = nn.BatchNorm2d(16)\n",
    "        self.conv2 = nn.Conv2d(in_channels=16, out_channels=32, kernel_size=3, stride=1, padding=1)\n",
    "        self.bn2 = nn.BatchNorm2d(32)\n",
    "        self.conv3 = nn.Conv2d(in_channels=32, out_channels=64, kernel_size=3, stride=1, padding=1)\n",
    "        self.bn3 = nn.BatchNorm2d(64)\n",
    "        self.fc1 = nn.Linear(in_features=64*16*16, out_features=128)\n",
    "        self.bn_fc1 = nn.BatchNorm1d(128)\n",
    "        self.fc2 = nn.Linear(in_features=128, out_features=3)\n",
    "\n",
    "    def forward(self, x):\n",
    "        x = F.leaky_relu(self.bn1(self.conv1(x)))\n",
    "        x = F.max_pool2d(x, 2)\n",
    "        x = F.leaky_relu(self.bn2(self.conv2(x)))\n",
    "        x = F.max_pool2d(x, 2)\n",
    "        x = F.leaky_relu(self.bn3(self.conv3(x)))\n",
    "        x = F.max_pool2d(x, 2)\n",
    "        x = x.view(x.size(0), -1)\n",
    "        x = F.leaky_relu(self.bn_fc1(self.fc1(x)))\n",
    "        x = self.fc2(x)\n",
    "        c_x, c_y, r = torch.tanh(x[:, 0]), torch.tanh(x[:, 1]), torch.sigmoid(x[:, 2])\n",
    "        return c_x, c_y, r\n",
    "    \n",
    "class RectangleDetector(torch.nn.Module):\n",
    "    def __init__(self):\n",
    "        super(RectangleDetector, self).__init__()\n",
    "        self.conv1 = nn.Conv2d(in_channels=3, out_channels=16, kernel_size=3, stride=1, padding=1)\n",
    "        self.bn1 = nn.BatchNorm2d(16)\n",
    "        self.conv2 = nn.Conv2d(in_channels=16, out_channels=32, kernel_size=3, stride=1, padding=1)\n",
    "        self.bn2 = nn.BatchNorm2d(32)\n",
    "        self.conv3 = nn.Conv2d(in_channels=32, out_channels=64, kernel_size=3, stride=1, padding=1)\n",
    "        self.bn3 = nn.BatchNorm2d(64)\n",
    "        self.fc1 = nn.Linear(in_features=64*16*16, out_features=128)\n",
    "        self.bn_fc1 = nn.BatchNorm1d(128)\n",
    "        self.fc2 = nn.Linear(in_features=128, out_features=4)\n",
    "\n",
    "    def forward(self, x):\n",
    "        x = F.leaky_relu(self.bn1(self.conv1(x)))\n",
    "        x = F.max_pool2d(x, 2)\n",
    "        x = F.leaky_relu(self.bn2(self.conv2(x)))\n",
    "        x = F.max_pool2d(x, 2)\n",
    "        x = F.leaky_relu(self.bn3(self.conv3(x)))\n",
    "        x = F.max_pool2d(x, 2)\n",
    "        x = x.view(x.size(0), -1)\n",
    "        x = F.leaky_relu(self.bn_fc1(self.fc1(x)))\n",
    "        x = self.fc2(x)\n",
    "        t_x, t_y,b_x, b_y = torch.tanh(x[:, 0]), torch.tanh(x[:, 1]), torch.tanh(x[:, 2]), torch.tanh(x[:, 3])\n",
    "        return t_x, t_y, b_x, b_y"
   ]
  },
  {
   "cell_type": "code",
   "execution_count": 8,
   "id": "365387f7",
   "metadata": {},
   "outputs": [],
   "source": [
    "def train_circle(model, dataloader, criterion, optimizer, num_epochs=25, device='cpu'):\n",
    "    model.to(device)\n",
    "    model.train()\n",
    "    for epoch in range(num_epochs):\n",
    "        running_loss = 0.0\n",
    "        for inputs, labels in dataloader:\n",
    "            inputs = inputs.to(device)\n",
    "            labels = labels.to(device)\n",
    "\n",
    "            # Zero the parameter gradients\n",
    "            optimizer.zero_grad()\n",
    "\n",
    "            # Forward pass\n",
    "            c_x, c_y, r = model(inputs)\n",
    "            outputs = torch.stack((c_x, c_y, r), dim=1)\n",
    "            \n",
    "            # Calculate loss\n",
    "            loss = criterion(outputs, labels)\n",
    "            \n",
    "            # Backward pass and optimize\n",
    "            loss.backward()\n",
    "            optimizer.step()\n",
    "\n",
    "            running_loss += loss.item() * inputs.size(0)\n",
    "\n",
    "        epoch_loss = running_loss / len(dataloader.dataset)\n",
    "        print(f'Epoch {epoch}/{num_epochs - 1}, Loss: {epoch_loss:.4f}')\n",
    "\n",
    "def train_rect(model, dataloader, criterion, optimizer, num_epochs=25, device='cpu'):\n",
    "    model.to(device)\n",
    "    model.train()\n",
    "    for epoch in range(num_epochs):\n",
    "        running_loss = 0.0\n",
    "        for inputs, labels in dataloader:\n",
    "            inputs = inputs.to(device)\n",
    "            labels = labels.to(device)\n",
    "\n",
    "            # Zero the parameter gradients\n",
    "            optimizer.zero_grad()\n",
    "\n",
    "            # Forward pass\n",
    "            tl_x, tl_y, br_x, br_y = model(inputs)\n",
    "            outputs = torch.stack((tl_x, tl_y, br_x, br_y), dim=1)\n",
    "            \n",
    "            # Calculate loss\n",
    "            loss = criterion(outputs, labels)\n",
    "            \n",
    "            # Backward pass and optimize\n",
    "            loss.backward()\n",
    "            optimizer.step()\n",
    "\n",
    "            running_loss += loss.item() * inputs.size(0)\n",
    "\n",
    "        epoch_loss = running_loss / len(dataloader.dataset)\n",
    "        print(f'Epoch {epoch}/{num_epochs - 1}, Loss: {epoch_loss:.4f}')\n",
    "\n",
    "\n",
    "def evaluate_model_circle(model, dataloader, device='cpu'):\n",
    "    model.to(device)\n",
    "    model.eval()\n",
    "    all_preds = []\n",
    "    all_labels = []\n",
    "\n",
    "    with torch.no_grad():\n",
    "        for inputs, labels in dataloader:\n",
    "            inputs = inputs.to(device)\n",
    "            labels = labels.to(device)\n",
    "            c_x, c_y, r = model(inputs)\n",
    "            preds = torch.stack((c_x, c_y, r), dim=1)\n",
    "\n",
    "            all_preds.append(preds.cpu().numpy())\n",
    "            all_labels.append(labels.cpu().numpy())\n",
    "\n",
    "    all_preds = np.concatenate(all_preds, axis=0)\n",
    "    all_labels = np.concatenate(all_labels, axis=0)\n",
    "\n",
    "    mae = mean_absolute_error(all_labels, all_preds)\n",
    "    print(f'Mean Absolute Error: {mae:.4f}')\n",
    "    return mae\n",
    "\n",
    "\n",
    "def evaluate_model_rect(model, dataloader, device='cpu'):\n",
    "    model.to(device)\n",
    "    model.eval()\n",
    "    all_preds = []\n",
    "    all_labels = []\n",
    "\n",
    "    with torch.no_grad():\n",
    "        for inputs, labels in dataloader:\n",
    "            inputs = inputs.to(device)\n",
    "            labels = labels.to(device)\n",
    "            tl_x, tl_y, br_x, br_y = model(inputs)\n",
    "            preds = torch.stack((tl_x, tl_y, br_x, br_y), dim=1)\n",
    "\n",
    "            all_preds.append(preds.cpu().numpy())\n",
    "            all_labels.append(labels.cpu().numpy())\n",
    "\n",
    "    all_preds = np.concatenate(all_preds, axis=0)\n",
    "    all_labels = np.concatenate(all_labels, axis=0)\n",
    "\n",
    "    mae = mean_absolute_error(all_labels, all_preds)\n",
    "    print(f'Mean Absolute Error: {mae:.4f}')\n",
    "    return mae\n"
   ]
  },
  {
   "cell_type": "markdown",
   "id": "3b2bda82",
   "metadata": {},
   "source": [
    "# Circle"
   ]
  },
  {
   "cell_type": "code",
   "execution_count": 9,
   "id": "0220da3b",
   "metadata": {},
   "outputs": [
    {
     "name": "stdout",
     "output_type": "stream",
     "text": [
      "Mean Absolute Error: 0.9793\n",
      "\n",
      "Epoch 0/9, Loss: 0.3352\n",
      "Epoch 1/9, Loss: 0.1172\n",
      "Epoch 2/9, Loss: 0.0476\n",
      "Epoch 3/9, Loss: 0.0237\n",
      "Epoch 4/9, Loss: 0.0130\n",
      "Epoch 5/9, Loss: 0.0097\n",
      "Epoch 6/9, Loss: 0.0067\n",
      "Epoch 7/9, Loss: 0.0047\n",
      "Epoch 8/9, Loss: 0.0049\n",
      "Epoch 9/9, Loss: 0.0037\n",
      "\n",
      "Mean Absolute Error: 0.0544\n"
     ]
    },
    {
     "data": {
      "text/plain": [
       "np.float32(0.054447632)"
      ]
     },
     "execution_count": 9,
     "metadata": {},
     "output_type": "execute_result"
    }
   ],
   "source": [
    "circle = CircleDetector()\n",
    "evaluate_model_circle(circle, train_circle_dataloader, device='cpu')\n",
    "print()\n",
    "train_circle(circle, train_circle_dataloader, nn.MSELoss(), torch.optim.Adam(circle.parameters()), num_epochs=10, device='cpu')\n",
    "print()\n",
    "evaluate_model_circle(circle, test_circle_dataloader, device='cpu')"
   ]
  },
  {
   "cell_type": "code",
   "execution_count": 10,
   "id": "e5492dbe",
   "metadata": {},
   "outputs": [],
   "source": [
    "test_data, test_metadata = next(iter(test_circle_dataloader))"
   ]
  },
  {
   "cell_type": "code",
   "execution_count": 11,
   "id": "cda3d388",
   "metadata": {},
   "outputs": [],
   "source": [
    "circle.eval()\n",
    "instance = test_data[1].unsqueeze(0)\n",
    "c_x, c_y, r = circle(instance)"
   ]
  },
  {
   "cell_type": "code",
   "execution_count": 12,
   "id": "481ea89e",
   "metadata": {},
   "outputs": [
    {
     "data": {
      "image/jpeg": "[encoded data removed]",
      "image/png": "[encoded data removed]",
      "text/plain": [
       "<PIL.Image.Image image mode=RGB size=128x128>"
      ]
     },
     "execution_count": 12,
     "metadata": {},
     "output_type": "execute_result"
    }
   ],
   "source": [
    "draw_circles(*test_metadata[1], c_x, c_y, r)"
   ]
  },
  {
   "cell_type": "markdown",
   "id": "8cd3fadb",
   "metadata": {},
   "source": [
    "# Rectangle"
   ]
  },
  {
   "cell_type": "code",
   "execution_count": 13,
   "id": "1a6145dc",
   "metadata": {},
   "outputs": [
    {
     "name": "stdout",
     "output_type": "stream",
     "text": [
      "Mean Absolute Error: 0.9521\n",
      "\n",
      "Epoch 0/9, Loss: 0.2560\n",
      "Epoch 1/9, Loss: 0.0624\n",
      "Epoch 2/9, Loss: 0.0246\n",
      "Epoch 3/9, Loss: 0.0143\n",
      "Epoch 4/9, Loss: 0.0092\n",
      "Epoch 5/9, Loss: 0.0080\n",
      "Epoch 6/9, Loss: 0.0078\n",
      "Epoch 7/9, Loss: 0.0067\n",
      "Epoch 8/9, Loss: 0.0045\n",
      "Epoch 9/9, Loss: 0.0040\n",
      "\n",
      "Mean Absolute Error: 0.0423\n"
     ]
    },
    {
     "data": {
      "text/plain": [
       "np.float32(0.04227316)"
      ]
     },
     "execution_count": 13,
     "metadata": {},
     "output_type": "execute_result"
    }
   ],
   "source": [
    "rect = RectangleDetector()\n",
    "evaluate_model_rect(rect, train_rect_dataloader, device='cpu')\n",
    "print()\n",
    "train_rect(rect, train_rect_dataloader, nn.MSELoss(), torch.optim.Adam(rect.parameters()), num_epochs=10, device='cpu')\n",
    "print()\n",
    "evaluate_model_rect(rect, test_rect_dataloader, device='cpu')"
   ]
  },
  {
   "cell_type": "code",
   "execution_count": 17,
   "id": "037b99c8",
   "metadata": {},
   "outputs": [],
   "source": [
    "test_data, test_metadata = next(iter(test_rect_dataloader))"
   ]
  },
  {
   "cell_type": "code",
   "execution_count": 22,
   "id": "51214285",
   "metadata": {},
   "outputs": [],
   "source": [
    "rect.eval()\n",
    "instance = test_data[2].unsqueeze(0)\n",
    "t_x, t_y, b_x, b_y = rect(instance)"
   ]
  },
  {
   "cell_type": "code",
   "execution_count": 23,
   "id": "ec28439d",
   "metadata": {},
   "outputs": [
    {
     "data": {
      "image/jpeg": "[encoded data removed]",
      "image/png": "[encoded data removed]",
      "text/plain": [
       "<PIL.Image.Image image mode=RGB size=128x128>"
      ]
     },
     "execution_count": 23,
     "metadata": {},
     "output_type": "execute_result"
    }
   ],
   "source": [
    "draw_rectangles(*test_metadata[2], t_x, t_y, b_x, b_y)"
   ]
  }
 ],
 "metadata": {
  "kernelspec": {
   "display_name": "Python 3",
   "language": "python",
   "name": "python3"
  },
  "language_info": {
   "codemirror_mode": {
    "name": "ipython",
    "version": 3
   },
   "file_extension": ".py",
   "mimetype": "text/x-python",
   "name": "python",
   "nbconvert_exporter": "python",
   "pygments_lexer": "ipython3",
   "version": "3.12.4"
  }
 },
 "nbformat": 4,
 "nbformat_minor": 5
}
