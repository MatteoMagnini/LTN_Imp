{
 "cells": [
  {
   "cell_type": "code",
   "id": "initial_id",
   "metadata": {
    "collapsed": true,
    "ExecuteTime": {
     "end_time": "2024-08-08T13:55:14.211011Z",
     "start_time": "2024-08-08T13:55:14.207988Z"
    }
   },
   "source": [
    "# Data Processing\n",
    "import pandas as pd\n",
    "from PIL import Image\n",
    "from examples.generator import generate_balanced_dataset, draw_circles, draw_rectangles\n",
    "import numpy as np\n",
    "import matplotlib.pyplot as plt\n",
    "from sklearn.model_selection import train_test_split\n",
    "from torch.utils.data import DataLoader, Dataset\n",
    "from sklearn.metrics import mean_absolute_error\n",
    "\n",
    "import torch\n",
    "import torch.nn as nn\n",
    "import torch.nn.functional as F"
   ],
   "outputs": [],
   "execution_count": 109
  },
  {
   "cell_type": "markdown",
   "id": "dce271d4",
   "metadata": {},
   "source": [
    "## Data Processing and Visualization"
   ]
  },
  {
   "cell_type": "code",
   "id": "967fcf7f9752f670",
   "metadata": {
    "ExecuteTime": {
     "end_time": "2024-08-08T13:55:14.896083Z",
     "start_time": "2024-08-08T13:55:14.247538Z"
    }
   },
   "source": [
    "data, metadata = generate_balanced_dataset(100)"
   ],
   "outputs": [],
   "execution_count": 110
  },
  {
   "cell_type": "code",
   "id": "a9a55208b6363223",
   "metadata": {
    "ExecuteTime": {
     "end_time": "2024-08-08T13:55:14.898971Z",
     "start_time": "2024-08-08T13:55:14.897058Z"
    }
   },
   "source": [
    "data = pd.DataFrame(data)"
   ],
   "outputs": [],
   "execution_count": 111
  },
  {
   "cell_type": "code",
   "id": "eee268618c7c6ecc",
   "metadata": {
    "ExecuteTime": {
     "end_time": "2024-08-08T13:55:14.901034Z",
     "start_time": "2024-08-08T13:55:14.899457Z"
    }
   },
   "source": "metadata = pd.DataFrame(metadata)",
   "outputs": [],
   "execution_count": 112
  },
  {
   "cell_type": "code",
   "id": "59cd3fd112be9b64",
   "metadata": {
    "ExecuteTime": {
     "end_time": "2024-08-08T13:55:15.039399Z",
     "start_time": "2024-08-08T13:55:14.902001Z"
    }
   },
   "source": [
    "image_paths = [item for item in data[0]]\n",
    "images = []\n",
    "\n",
    "for path in image_paths:\n",
    "    try:\n",
    "        img = Image.open(path).convert('RGB')  # Convert to RGB to ensure consistency\n",
    "        img = np.array(img)\n",
    "        img_tensor = torch.tensor(img, dtype=torch.float32)  # Convert to PyTorch tensor\n",
    "        images.append(img_tensor)\n",
    "    except Exception as e:\n",
    "        print(f\"Error loading image {path}: {e}\")"
   ],
   "outputs": [],
   "execution_count": 113
  },
  {
   "cell_type": "code",
   "id": "615ce622",
   "metadata": {
    "ExecuteTime": {
     "end_time": "2024-08-08T13:55:15.236196Z",
     "start_time": "2024-08-08T13:55:15.040175Z"
    }
   },
   "source": [
    "class EvalDataset(Dataset):\n",
    "    def __init__(self, images, metadata):\n",
    "        self.images = torch.stack([torch.tensor(image).permute(2, 0, 1) for image in images])\n",
    "        self.metadata = torch.tensor(metadata).float()\n",
    "\n",
    "    def __len__(self):\n",
    "        return len(self.images)\n",
    "\n",
    "    def __getitem__(self, idx):\n",
    "        image = self.images[idx]\n",
    "        metadata = self.metadata[idx]\n",
    "        return image, metadata\n",
    "    \n",
    "batch_size = 25\n",
    "\n",
    "circle_metadata = metadata[[\"circle_center_x\",\"circle_center_y\", \"circle_radius\"]]\n",
    "\n",
    "rectangle_metadata = metadata[[\"rect_tl_x\",\t\"rect_tl_y\"\t,\"rect_br_x\"\t,\"rect_br_y\"]]\n",
    "\n",
    "train_images, test_images, train_circle_labels, test_circle_labels = train_test_split( images, circle_metadata.values, test_size=0.2, random_state=42)\n",
    "\n",
    "train_images, test_images, train_rect_labels, test_rect_labels = train_test_split(images, rectangle_metadata.values, test_size=0.2, random_state=42)\n",
    "\n",
    "# Create the training and test datasets for circles\n",
    "train_circle_dataset = EvalDataset(train_images, train_circle_labels)\n",
    "test_circle_dataset = EvalDataset(test_images, test_circle_labels)\n",
    "\n",
    "# Create the training and test datasets for rectangles\n",
    "train_rect_dataset = EvalDataset(train_images, train_rect_labels)\n",
    "test_rect_dataset = EvalDataset(test_images, test_rect_labels)\n",
    "\n",
    "# Create the dataloaders\n",
    "batch_size = 25\n",
    "\n",
    "# Circle dataloaders\n",
    "train_circle_dataloader = DataLoader(train_circle_dataset, batch_size=batch_size, shuffle=True)\n",
    "test_circle_dataloader = DataLoader(test_circle_dataset, batch_size=batch_size, shuffle=False)\n",
    "\n",
    "# Rectangle dataloaders\n",
    "train_rect_dataloader = DataLoader(train_rect_dataset, batch_size=batch_size, shuffle=True)\n",
    "test_rect_dataloader = DataLoader(test_rect_dataset, batch_size=batch_size, shuffle=False)"
   ],
   "outputs": [
    {
     "name": "stderr",
     "output_type": "stream",
     "text": [
      "/var/folders/mv/_dg3pqgn2zdf7f95_1dg07rw0000gn/T/ipykernel_71265/2891219731.py:3: UserWarning: To copy construct from a tensor, it is recommended to use sourceTensor.clone().detach() or sourceTensor.clone().detach().requires_grad_(True), rather than torch.tensor(sourceTensor).\n",
      "  self.images = torch.stack([torch.tensor(image).permute(2, 0, 1) for image in images])\n"
     ]
    }
   ],
   "execution_count": 114
  },
  {
   "cell_type": "markdown",
   "id": "debee8d5",
   "metadata": {},
   "source": [
    "# Models and Evaluation Functions"
   ]
  },
  {
   "cell_type": "code",
   "id": "2a4374e7",
   "metadata": {
    "ExecuteTime": {
     "end_time": "2024-08-08T13:55:15.241611Z",
     "start_time": "2024-08-08T13:55:15.236809Z"
    }
   },
   "source": [
    "class CircleDetector(nn.Module):\n",
    "    def __init__(self):\n",
    "        super(CircleDetector, self).__init__()\n",
    "        self.conv1 = nn.Conv2d(in_channels=3, out_channels=16, kernel_size=3, stride=1, padding=1)\n",
    "        self.bn1 = nn.BatchNorm2d(16)\n",
    "        self.conv2 = nn.Conv2d(in_channels=16, out_channels=32, kernel_size=3, stride=1, padding=1)\n",
    "        self.bn2 = nn.BatchNorm2d(32)\n",
    "        self.conv3 = nn.Conv2d(in_channels=32, out_channels=64, kernel_size=3, stride=1, padding=1)\n",
    "        self.bn3 = nn.BatchNorm2d(64)\n",
    "        self.fc1 = nn.Linear(in_features=64*16*16, out_features=128)\n",
    "        self.bn_fc1 = nn.BatchNorm1d(128)\n",
    "        self.fc2 = nn.Linear(in_features=128, out_features=3)\n",
    "\n",
    "    def forward(self, x):\n",
    "        x = F.leaky_relu(self.bn1(self.conv1(x)))\n",
    "        x = F.max_pool2d(x, 2)\n",
    "        x = F.leaky_relu(self.bn2(self.conv2(x)))\n",
    "        x = F.max_pool2d(x, 2)\n",
    "        x = F.leaky_relu(self.bn3(self.conv3(x)))\n",
    "        x = F.max_pool2d(x, 2)\n",
    "        x = x.view(x.size(0), -1)\n",
    "        x = F.leaky_relu(self.bn_fc1(self.fc1(x)))\n",
    "        x = self.fc2(x)\n",
    "        c_x, c_y, r = torch.sigmoid(x[:, 0]), torch.sigmoid(x[:, 1]), torch.sigmoid(x[:, 2])\n",
    "        return c_x, c_y, r\n",
    "class RectangleDetector(torch.nn.Module):\n",
    "    def __init__(self):\n",
    "        super(RectangleDetector, self).__init__()\n",
    "        self.conv1 = nn.Conv2d(in_channels=3, out_channels=16, kernel_size=3, stride=1, padding=1)\n",
    "        self.bn1 = nn.BatchNorm2d(16)\n",
    "        self.conv2 = nn.Conv2d(in_channels=16, out_channels=32, kernel_size=3, stride=1, padding=1)\n",
    "        self.bn2 = nn.BatchNorm2d(32)\n",
    "        self.conv3 = nn.Conv2d(in_channels=32, out_channels=64, kernel_size=3, stride=1, padding=1)\n",
    "        self.bn3 = nn.BatchNorm2d(64)\n",
    "        self.fc1 = nn.Linear(in_features=64*16*16, out_features=128)\n",
    "        self.bn_fc1 = nn.BatchNorm1d(128)\n",
    "        self.fc2 = nn.Linear(in_features=128, out_features=4)\n",
    "\n",
    "    def forward(self, x):\n",
    "        x = F.leaky_relu(self.bn1(self.conv1(x)))\n",
    "        x = F.max_pool2d(x, 2)\n",
    "        x = F.leaky_relu(self.bn2(self.conv2(x)))\n",
    "        x = F.max_pool2d(x, 2)\n",
    "        x = F.leaky_relu(self.bn3(self.conv3(x)))\n",
    "        x = F.max_pool2d(x, 2)\n",
    "        x = x.view(x.size(0), -1)\n",
    "        x = F.leaky_relu(self.bn_fc1(self.fc1(x)))\n",
    "        x = self.fc2(x)\n",
    "        t_x, t_y,b_x, b_y = torch.sigmoid(x[:, 0]), torch.sigmoid(x[:, 1]), torch.sigmoid(x[:, 2]), torch.sigmoid(x[:, 3])\n",
    "        return t_x, t_y, b_x, b_y"
   ],
   "outputs": [],
   "execution_count": 115
  },
  {
   "cell_type": "code",
   "id": "365387f7",
   "metadata": {
    "ExecuteTime": {
     "end_time": "2024-08-08T13:55:15.247713Z",
     "start_time": "2024-08-08T13:55:15.242166Z"
    }
   },
   "source": [
    "def train_circle(model, dataloader, criterion, optimizer, num_epochs=25, device='cpu'):\n",
    "    model.to(device)\n",
    "    model.train()\n",
    "    for epoch in range(num_epochs):\n",
    "        running_loss = 0.0\n",
    "        for inputs, labels in dataloader:\n",
    "            inputs = inputs.to(device)\n",
    "            labels = labels.to(device)\n",
    "\n",
    "            # Zero the parameter gradients\n",
    "            optimizer.zero_grad()\n",
    "\n",
    "            # Forward pass\n",
    "            c_x, c_y, r = model(inputs)\n",
    "            outputs = torch.stack((c_x, c_y, r), dim=1)\n",
    "            \n",
    "            # Calculate loss\n",
    "            loss = criterion(outputs, labels)\n",
    "            \n",
    "            # Backward pass and optimize\n",
    "            loss.backward()\n",
    "            optimizer.step()\n",
    "\n",
    "            running_loss += loss.item() * inputs.size(0)\n",
    "\n",
    "        epoch_loss = running_loss / len(dataloader.dataset)\n",
    "        print(f'Epoch {epoch}/{num_epochs - 1}, Loss: {epoch_loss:.4f}')\n",
    "\n",
    "def train_rect(model, dataloader, criterion, optimizer, num_epochs=25, device='cpu'):\n",
    "    model.to(device)\n",
    "    model.train()\n",
    "    for epoch in range(num_epochs):\n",
    "        running_loss = 0.0\n",
    "        for inputs, labels in dataloader:\n",
    "            inputs = inputs.to(device)\n",
    "            labels = labels.to(device)\n",
    "\n",
    "            # Zero the parameter gradients\n",
    "            optimizer.zero_grad()\n",
    "\n",
    "            # Forward pass\n",
    "            tl_x, tl_y, br_x, br_y = model(inputs)\n",
    "            outputs = torch.stack((tl_x, tl_y, br_x, br_y), dim=1)\n",
    "            \n",
    "            # Calculate loss\n",
    "            loss = criterion(outputs, labels)\n",
    "            \n",
    "            # Backward pass and optimize\n",
    "            loss.backward()\n",
    "            optimizer.step()\n",
    "\n",
    "            running_loss += loss.item() * inputs.size(0)\n",
    "\n",
    "        epoch_loss = running_loss / len(dataloader.dataset)\n",
    "        print(f'Epoch {epoch}/{num_epochs - 1}, Loss: {epoch_loss:.4f}')\n",
    "\n",
    "\n",
    "def evaluate_model_circle(model, dataloader, device='cpu'):\n",
    "    model.to(device)\n",
    "    model.eval()\n",
    "    all_preds = []\n",
    "    all_labels = []\n",
    "\n",
    "    with torch.no_grad():\n",
    "        for inputs, labels in dataloader:\n",
    "            inputs = inputs.to(device)\n",
    "            labels = labels.to(device)\n",
    "            c_x, c_y, r = model(inputs)\n",
    "            preds = torch.stack((c_x, c_y, r), dim=1)\n",
    "\n",
    "            all_preds.append(preds.cpu().numpy())\n",
    "            all_labels.append(labels.cpu().numpy())\n",
    "\n",
    "    all_preds = np.concatenate(all_preds, axis=0)\n",
    "    all_labels = np.concatenate(all_labels, axis=0)\n",
    "\n",
    "    mae = mean_absolute_error(all_labels, all_preds)\n",
    "    print(f'Mean Absolute Error: {mae:.4f}')\n",
    "    return mae\n",
    "\n",
    "\n",
    "def evaluate_model_rect(model, dataloader, device='cpu'):\n",
    "    model.to(device)\n",
    "    model.eval()\n",
    "    all_preds = []\n",
    "    all_labels = []\n",
    "\n",
    "    with torch.no_grad():\n",
    "        for inputs, labels in dataloader:\n",
    "            inputs = inputs.to(device)\n",
    "            labels = labels.to(device)\n",
    "            tl_x, tl_y, br_x, br_y = model(inputs)\n",
    "            preds = torch.stack((tl_x, tl_y, br_x, br_y), dim=1)\n",
    "\n",
    "            all_preds.append(preds.cpu().numpy())\n",
    "            all_labels.append(labels.cpu().numpy())\n",
    "\n",
    "    all_preds = np.concatenate(all_preds, axis=0)\n",
    "    all_labels = np.concatenate(all_labels, axis=0)\n",
    "\n",
    "    mae = mean_absolute_error(all_labels, all_preds)\n",
    "    print(f'Mean Absolute Error: {mae:.4f}')\n",
    "    return mae\n"
   ],
   "outputs": [],
   "execution_count": 116
  },
  {
   "cell_type": "markdown",
   "id": "3b2bda82",
   "metadata": {},
   "source": [
    "# Circle"
   ]
  },
  {
   "cell_type": "code",
   "id": "0220da3b",
   "metadata": {
    "ExecuteTime": {
     "end_time": "2024-08-08T13:55:27.336283Z",
     "start_time": "2024-08-08T13:55:15.248328Z"
    }
   },
   "source": [
    "circle = CircleDetector()\n",
    "evaluate_model_circle(circle, test_circle_dataloader, device='cpu')\n",
    "print()\n",
    "train_circle(circle, train_circle_dataloader, nn.MSELoss(), torch.optim.Adam(circle.parameters()), num_epochs=10, device='cpu')\n",
    "print()\n",
    "evaluate_model_circle(circle, test_circle_dataloader, device='cpu')"
   ],
   "outputs": [
    {
     "name": "stdout",
     "output_type": "stream",
     "text": [
      "Mean Absolute Error: 0.4795\n",
      "\n",
      "Epoch 0/9, Loss: 0.0558\n",
      "Epoch 1/9, Loss: 0.0170\n",
      "Epoch 2/9, Loss: 0.0056\n",
      "Epoch 3/9, Loss: 0.0034\n",
      "Epoch 4/9, Loss: 0.0022\n",
      "Epoch 5/9, Loss: 0.0020\n",
      "Epoch 6/9, Loss: 0.0020\n",
      "Epoch 7/9, Loss: 0.0013\n",
      "Epoch 8/9, Loss: 0.0013\n",
      "Epoch 9/9, Loss: 0.0013\n",
      "\n",
      "Mean Absolute Error: 0.0216\n"
     ]
    },
    {
     "data": {
      "text/plain": [
       "np.float32(0.021648781)"
      ]
     },
     "execution_count": 117,
     "metadata": {},
     "output_type": "execute_result"
    }
   ],
   "execution_count": 117
  },
  {
   "cell_type": "code",
   "id": "e5492dbe",
   "metadata": {
    "ExecuteTime": {
     "end_time": "2024-08-08T13:55:27.339598Z",
     "start_time": "2024-08-08T13:55:27.337232Z"
    }
   },
   "source": [
    "test_data, test_metadata = next(iter(test_circle_dataloader))"
   ],
   "outputs": [],
   "execution_count": 118
  },
  {
   "cell_type": "code",
   "id": "cda3d388",
   "metadata": {
    "ExecuteTime": {
     "end_time": "2024-08-08T13:55:27.347703Z",
     "start_time": "2024-08-08T13:55:27.341793Z"
    }
   },
   "source": [
    "circle.eval()\n",
    "instance = test_data[1].unsqueeze(0)\n",
    "c_x, c_y, r = circle(instance)"
   ],
   "outputs": [],
   "execution_count": 119
  },
  {
   "cell_type": "code",
   "id": "481ea89e",
   "metadata": {
    "ExecuteTime": {
     "end_time": "2024-08-08T13:55:27.406906Z",
     "start_time": "2024-08-08T13:55:27.348468Z"
    }
   },
   "source": [
    "plt.imshow(draw_circles(*test_metadata[1], c_x, c_y, r))"
   ],
   "outputs": [
    {
     "data": {
      "text/plain": [
       "<matplotlib.image.AxesImage at 0x17fc2ad80>"
      ]
     },
     "execution_count": 120,
     "metadata": {},
     "output_type": "execute_result"
    },
    {
     "data": {
      "text/plain": [
       "<Figure size 640x480 with 1 Axes>"
      ],
      "image/png": "[encoded data removed]"
     },
     "metadata": {},
     "output_type": "display_data"
    }
   ],
   "execution_count": 120
  },
  {
   "cell_type": "markdown",
   "id": "8cd3fadb",
   "metadata": {},
   "source": [
    "# Rectangle"
   ]
  },
  {
   "cell_type": "code",
   "id": "1a6145dc",
   "metadata": {
    "ExecuteTime": {
     "end_time": "2024-08-08T13:55:39.634367Z",
     "start_time": "2024-08-08T13:55:27.407960Z"
    }
   },
   "source": [
    "rect = RectangleDetector()\n",
    "evaluate_model_rect(rect, train_rect_dataloader, device='cpu')\n",
    "print()\n",
    "train_rect(rect, train_rect_dataloader, nn.MSELoss(), torch.optim.Adam(rect.parameters()), num_epochs=10, device='cpu')\n",
    "print()\n",
    "evaluate_model_rect(rect, test_rect_dataloader, device='cpu')"
   ],
   "outputs": [
    {
     "name": "stdout",
     "output_type": "stream",
     "text": [
      "Mean Absolute Error: 0.3912\n",
      "\n",
      "Epoch 0/9, Loss: 0.0335\n",
      "Epoch 1/9, Loss: 0.0066\n",
      "Epoch 2/9, Loss: 0.0032\n",
      "Epoch 3/9, Loss: 0.0025\n",
      "Epoch 4/9, Loss: 0.0021\n",
      "Epoch 5/9, Loss: 0.0021\n",
      "Epoch 6/9, Loss: 0.0026\n",
      "Epoch 7/9, Loss: 0.0015\n",
      "Epoch 8/9, Loss: 0.0019\n",
      "Epoch 9/9, Loss: 0.0017\n",
      "\n",
      "Mean Absolute Error: 0.0272\n"
     ]
    },
    {
     "data": {
      "text/plain": [
       "np.float32(0.027208077)"
      ]
     },
     "execution_count": 121,
     "metadata": {},
     "output_type": "execute_result"
    }
   ],
   "execution_count": 121
  },
  {
   "cell_type": "code",
   "id": "037b99c8",
   "metadata": {
    "ExecuteTime": {
     "end_time": "2024-08-08T13:55:39.637383Z",
     "start_time": "2024-08-08T13:55:39.635133Z"
    }
   },
   "source": [
    "test_data, test_metadata = next(iter(test_rect_dataloader))"
   ],
   "outputs": [],
   "execution_count": 122
  },
  {
   "cell_type": "code",
   "id": "51214285",
   "metadata": {
    "ExecuteTime": {
     "end_time": "2024-08-08T13:55:39.649389Z",
     "start_time": "2024-08-08T13:55:39.641718Z"
    }
   },
   "source": [
    "rect.eval()\n",
    "instance = test_data[2].unsqueeze(0)\n",
    "t_x, t_y, b_x, b_y = rect(instance)"
   ],
   "outputs": [],
   "execution_count": 124
  },
  {
   "cell_type": "code",
   "id": "ec28439d",
   "metadata": {
    "ExecuteTime": {
     "end_time": "2024-08-08T13:55:39.702098Z",
     "start_time": "2024-08-08T13:55:39.650170Z"
    }
   },
   "source": [
    "plt.imshow(draw_rectangles(*test_metadata[2], t_x, t_y, b_x, b_y))"
   ],
   "outputs": [
    {
     "name": "stdout",
     "output_type": "stream",
     "text": [
      "tensor(81.) tensor(11.) tensor(116.) tensor(61.)\n",
      "tensor([82.5456], grad_fn=<MulBackward0>) tensor([12.0328], grad_fn=<MulBackward0>) tensor([118.4455], grad_fn=<MulBackward0>) tensor([59.3748], grad_fn=<MulBackward0>)\n"
     ]
    },
    {
     "data": {
      "text/plain": [
       "<matplotlib.image.AxesImage at 0x306f7eae0>"
      ]
     },
     "execution_count": 125,
     "metadata": {},
     "output_type": "execute_result"
    },
    {
     "data": {
      "text/plain": [
       "<Figure size 640x480 with 1 Axes>"
      ],
      "image/png": "[encoded data removed]"
     },
     "metadata": {},
     "output_type": "display_data"
    }
   ],
   "execution_count": 125
  },
  {
   "metadata": {},
   "cell_type": "markdown",
   "source": "# Rectangle With SKI ",
   "id": "df491d3ff1801fc9"
  },
  {
   "metadata": {
    "ExecuteTime": {
     "end_time": "2024-08-08T13:55:39.724578Z",
     "start_time": "2024-08-08T13:55:39.702988Z"
    }
   },
   "cell_type": "code",
   "source": [
    "class EvalDataset(Dataset):\n",
    "    def __init__(self, images, metadata):\n",
    "        self.images = torch.stack([torch.tensor(image).permute(2, 0, 1) for image in images])\n",
    "        \n",
    "        # Unpack the metadata into separate variables\n",
    "        metadata_tensor = torch.tensor(metadata).float()\n",
    "        self.t_x, self.t_y, self.b_x, self.b_y = metadata_tensor[:, 0], metadata_tensor[:, 1], metadata_tensor[:, 2], metadata_tensor[:, 3]\n",
    "\n",
    "    def __len__(self):\n",
    "        return len(self.images)\n",
    "\n",
    "    def __getitem__(self, idx):\n",
    "        image = self.images[idx]\n",
    "        t_x, t_y, b_x, b_y = self.t_x[idx], self.t_y[idx], self.b_x[idx], self.b_y[idx]\n",
    "        return image, t_x, t_y, b_x, b_y\n",
    "\n",
    "batch_size = 25\n",
    "\n",
    "rectangle_metadata = metadata[[\"rect_tl_x\", \"rect_tl_y\", \"rect_br_x\", \"rect_br_y\"]]\n",
    "train_images, test_images, train_rect_labels, test_rect_labels = train_test_split(images, rectangle_metadata.values, test_size=0.2, random_state=42)\n",
    "\n",
    "# Create the training and test datasets for rectangles\n",
    "train_rect_dataset = EvalDataset(train_images, train_rect_labels)\n",
    "test_rect_dataset = EvalDataset(test_images, test_rect_labels)\n",
    "\n",
    "train_rect_dataloader = DataLoader(train_rect_dataset, batch_size=batch_size, shuffle=True)\n",
    "test_rect_dataloader = DataLoader(test_rect_dataset, batch_size=batch_size, shuffle=False)"
   ],
   "id": "1582ebb1aa168759",
   "outputs": [
    {
     "name": "stderr",
     "output_type": "stream",
     "text": [
      "/var/folders/mv/_dg3pqgn2zdf7f95_1dg07rw0000gn/T/ipykernel_71265/4063876233.py:3: UserWarning: To copy construct from a tensor, it is recommended to use sourceTensor.clone().detach() or sourceTensor.clone().detach().requires_grad_(True), rather than torch.tensor(sourceTensor).\n",
      "  self.images = torch.stack([torch.tensor(image).permute(2, 0, 1) for image in images])\n"
     ]
    }
   ],
   "execution_count": 126
  },
  {
   "metadata": {
    "ExecuteTime": {
     "end_time": "2024-08-08T13:55:39.728043Z",
     "start_time": "2024-08-08T13:55:39.725360Z"
    }
   },
   "cell_type": "code",
   "source": [
    "def evaluate_model_rect(model, dataloader, device='cpu'):\n",
    "    model.to(device)\n",
    "    model.eval()\n",
    "    all_preds = []\n",
    "    all_labels = []\n",
    "\n",
    "    with torch.no_grad():\n",
    "        for inputs, t_x, t_y, b_x, b_y in dataloader:\n",
    "            inputs = inputs.to(device)\n",
    "            t_x, t_y, b_x, b_y = t_x.to(device), t_y.to(device), b_x.to(device), b_y.to(device)\n",
    "            tl_x, tl_y, br_x, br_y = model(inputs)\n",
    "            preds = torch.stack((tl_x, tl_y, br_x, br_y), dim=1)\n",
    "            labels = torch.stack((t_x, t_y, b_x, b_y), dim=1)\n",
    "\n",
    "            all_preds.append(preds.cpu().numpy())\n",
    "            all_labels.append(labels.cpu().numpy())\n",
    "\n",
    "    all_preds = np.concatenate(all_preds, axis=0)\n",
    "    all_labels = np.concatenate(all_labels, axis=0)\n",
    "\n",
    "    mae = mean_absolute_error(all_labels, all_preds)\n",
    "    print(f'Mean Absolute Error: {mae:.4f}')\n",
    "    return mae"
   ],
   "id": "a0960a0d9a83a18d",
   "outputs": [],
   "execution_count": 127
  },
  {
   "metadata": {
    "ExecuteTime": {
     "end_time": "2024-08-08T13:55:39.731320Z",
     "start_time": "2024-08-08T13:55:39.729077Z"
    }
   },
   "cell_type": "code",
   "source": [
    "from ltn_imp.automation.knowledge_base import KnowledgeBase\n",
    "from ltn_imp.automation.data_loaders import LoaderWrapper"
   ],
   "id": "b838bb139d0063f5",
   "outputs": [],
   "execution_count": 128
  },
  {
   "metadata": {
    "ExecuteTime": {
     "end_time": "2024-08-08T13:56:58.321894Z",
     "start_time": "2024-08-08T13:56:46.694134Z"
    }
   },
   "cell_type": "code",
   "source": [
    "rect = RectangleDetector()\n",
    "\n",
    "expression_1 = \"all i. (Rect(i, t1, t2, b1, b2) and (t1 < b1) and (t2 > b2))\"\n",
    "expression_2 = \"all i. ((t11 = t11) and (t22 = t22) and (b11 = b1) and (b22 = b2))\"\n",
    "learning_rules = [expression_1, expression_2]\n",
    "\n",
    "loader = LoaderWrapper(loader=train_rect_dataloader, variables=[\"i\"], targets=[\"t11\", \"t22\", \"b11\", \"b22\"])\n",
    "\n",
    "rule_to_data_loader_mapping = {\n",
    "    expression_1: [loader],\n",
    "    expression_2: [loader],\n",
    "}\n",
    "\n",
    "predicates = {\n",
    "    \"Rect\": rect\n",
    "}\n",
    "\n",
    "quantifier_impls = { \"forall\" : \"pmean_error\" }\n",
    "\n",
    "connective_impls = {\"eq\": \"sqrt\"}\n",
    "\n",
    "kb = KnowledgeBase(learning_rules = learning_rules, ancillary_rules=[], rule_to_data_loader_mapping=rule_to_data_loader_mapping, \n",
    "                   predicates=predicates, quantifier_impls=quantifier_impls,connective_impls=connective_impls)\n",
    "\n",
    "\n",
    "evaluate_model_rect(rect, train_rect_dataloader, device='cpu')\n",
    "print()\n",
    "kb.optimize(num_epochs=10, lr=0.001, log_steps=2)\n",
    "print()\n",
    "evaluate_model_rect(rect, test_rect_dataloader, device='cpu')"
   ],
   "id": "4cb1e9575bd72544",
   "outputs": [
    {
     "name": "stdout",
     "output_type": "stream",
     "text": [
      "Mean Absolute Error: 0.3651\n",
      "\n",
      "['all i.(Rect(i,t1,t2,b1,b2) & (t1 < b1) & (t2 > b2))', 'all i.((t11 = t11) & (t22 = t22) & (b11 = b1) & (b22 = b2))']\n",
      "Rule Outputs:  [tensor(0., grad_fn=<RsubBackward1>), tensor(0.9736, grad_fn=<RsubBackward1>)]\n",
      "Epoch 1/10, Loss: 0.7073529362678528\n",
      "\n",
      "['all i.(Rect(i,t1,t2,b1,b2) & (t1 < b1) & (t2 > b2))', 'all i.((t11 = t11) & (t22 = t22) & (b11 = b1) & (b22 = b2))']\n",
      "Rule Outputs:  [tensor(0., grad_fn=<RsubBackward1>), tensor(0.9736, grad_fn=<RsubBackward1>)]\n",
      "Epoch 3/10, Loss: 0.7073529362678528\n",
      "\n",
      "['all i.(Rect(i,t1,t2,b1,b2) & (t1 < b1) & (t2 > b2))', 'all i.((t11 = t11) & (t22 = t22) & (b11 = b1) & (b22 = b2))']\n",
      "Rule Outputs:  [tensor(0., grad_fn=<RsubBackward1>), tensor(0.9736, grad_fn=<RsubBackward1>)]\n",
      "Epoch 5/10, Loss: 0.7073529362678528\n",
      "\n",
      "['all i.(Rect(i,t1,t2,b1,b2) & (t1 < b1) & (t2 > b2))', 'all i.((t11 = t11) & (t22 = t22) & (b11 = b1) & (b22 = b2))']\n",
      "Rule Outputs:  [tensor(0., grad_fn=<RsubBackward1>), tensor(0.9736, grad_fn=<RsubBackward1>)]\n",
      "Epoch 7/10, Loss: 0.7073529362678528\n",
      "\n",
      "['all i.(Rect(i,t1,t2,b1,b2) & (t1 < b1) & (t2 > b2))', 'all i.((t11 = t11) & (t22 = t22) & (b11 = b1) & (b22 = b2))']\n",
      "Rule Outputs:  [tensor(0., grad_fn=<RsubBackward1>), tensor(0.9736, grad_fn=<RsubBackward1>)]\n",
      "Epoch 9/10, Loss: 0.7073529362678528\n",
      "\n",
      "\n",
      "Mean Absolute Error: 0.3582\n"
     ]
    },
    {
     "data": {
      "text/plain": [
       "np.float32(0.35817057)"
      ]
     },
     "execution_count": 132,
     "metadata": {},
     "output_type": "execute_result"
    }
   ],
   "execution_count": 132
  },
  {
   "metadata": {
    "ExecuteTime": {
     "end_time": "2024-08-08T13:58:16.945011Z",
     "start_time": "2024-08-08T13:58:16.682106Z"
    }
   },
   "cell_type": "code",
   "source": [
    "batch = next(iter(train_rect_dataloader))\n",
    "\n",
    "var_mapping = {}\n",
    "\n",
    "kb.partition_data(var_mapping,batch, loader )\n",
    "\n",
    "kb.rules[0].comp_graph(var_mapping)"
   ],
   "id": "95dae95ad40dd992",
   "outputs": [
    {
     "data": {
      "image/svg+xml": "<?xml version=\"1.0\" encoding=\"UTF-8\" standalone=\"no\"?>\n<!DOCTYPE svg PUBLIC \"-//W3C//DTD SVG 1.1//EN\"\n \"http://www.w3.org/Graphics/SVG/1.1/DTD/svg11.dtd\">\n<!-- Generated by graphviz version 11.0.0 (20240428.1522)\n -->\n<!-- Pages: 1 -->\n<svg width=\"1277pt\" height=\"1836pt\"\n viewBox=\"0.00 0.00 1276.95 1836.00\" xmlns=\"http://www.w3.org/2000/svg\" xmlns:xlink=\"http://www.w3.org/1999/xlink\">\n<g id=\"graph0\" class=\"graph\" transform=\"scale(0.892345 0.892345) rotate(0) translate(4 2053.5)\">\n<polygon fill=\"white\" stroke=\"none\" points=\"-4,4 -4,-2053.5 1427,-2053.5 1427,4 -4,4\"/>\n<!-- 13036485872 -->\n<g id=\"node1\" class=\"node\">\n<title>13036485872</title>\n<polygon fill=\"#caff70\" stroke=\"black\" points=\"1199,-32.75 1145,-32.75 1145,0 1199,0 1199,-32.75\"/>\n<text text-anchor=\"middle\" x=\"1172\" y=\"-7.25\" font-family=\"monospace\" font-size=\"10.00\"> ()</text>\n</g>\n<!-- 13036633632 -->\n<g id=\"node2\" class=\"node\">\n<title>13036633632</title>\n<polygon fill=\"lightgrey\" stroke=\"black\" points=\"1219,-89.5 1125,-89.5 1125,-68.75 1219,-68.75 1219,-89.5\"/>\n<text text-anchor=\"middle\" x=\"1172\" y=\"-76\" font-family=\"monospace\" font-size=\"10.00\">RsubBackward1</text>\n</g>\n<!-- 13036633632&#45;&gt;13036485872 -->\n<g id=\"edge86\" class=\"edge\">\n<title>13036633632&#45;&gt;13036485872</title>\n<path fill=\"none\" stroke=\"black\" d=\"M1172,-68.36C1172,-61.89 1172,-53.05 1172,-44.55\"/>\n<polygon fill=\"black\" stroke=\"black\" points=\"1175.5,-44.55 1172,-34.55 1168.5,-44.55 1175.5,-44.55\"/>\n</g>\n<!-- 13036632912 -->\n<g id=\"node3\" class=\"node\">\n<title>13036632912</title>\n<polygon fill=\"lightgrey\" stroke=\"black\" points=\"1216,-146.25 1128,-146.25 1128,-125.5 1216,-125.5 1216,-146.25\"/>\n<text text-anchor=\"middle\" x=\"1172\" y=\"-132.75\" font-family=\"monospace\" font-size=\"10.00\">PowBackward0</text>\n</g>\n<!-- 13036632912&#45;&gt;13036633632 -->\n<g id=\"edge1\" class=\"edge\">\n<title>13036632912&#45;&gt;13036633632</title>\n<path fill=\"none\" stroke=\"black\" d=\"M1172,-125.09C1172,-118.47 1172,-109.47 1172,-101.27\"/>\n<polygon fill=\"black\" stroke=\"black\" points=\"1175.5,-101.34 1172,-91.34 1168.5,-101.34 1175.5,-101.34\"/>\n</g>\n<!-- 13036633152 -->\n<g id=\"node4\" class=\"node\">\n<title>13036633152</title>\n<polygon fill=\"lightgrey\" stroke=\"black\" points=\"1216,-203 1128,-203 1128,-182.25 1216,-182.25 1216,-203\"/>\n<text text-anchor=\"middle\" x=\"1172\" y=\"-189.5\" font-family=\"monospace\" font-size=\"10.00\">DivBackward0</text>\n</g>\n<!-- 13036633152&#45;&gt;13036632912 -->\n<g id=\"edge2\" class=\"edge\">\n<title>13036633152&#45;&gt;13036632912</title>\n<path fill=\"none\" stroke=\"black\" d=\"M1172,-181.84C1172,-175.22 1172,-166.22 1172,-158.02\"/>\n<polygon fill=\"black\" stroke=\"black\" points=\"1175.5,-158.09 1172,-148.09 1168.5,-158.09 1175.5,-158.09\"/>\n</g>\n<!-- 13036621104 -->\n<g id=\"node5\" class=\"node\">\n<title>13036621104</title>\n<polygon fill=\"lightgrey\" stroke=\"black\" points=\"1216,-259.75 1128,-259.75 1128,-239 1216,-239 1216,-259.75\"/>\n<text text-anchor=\"middle\" x=\"1172\" y=\"-246.25\" font-family=\"monospace\" font-size=\"10.00\">SumBackward1</text>\n</g>\n<!-- 13036621104&#45;&gt;13036633152 -->\n<g id=\"edge3\" class=\"edge\">\n<title>13036621104&#45;&gt;13036633152</title>\n<path fill=\"none\" stroke=\"black\" d=\"M1172,-238.59C1172,-231.97 1172,-222.97 1172,-214.77\"/>\n<polygon fill=\"black\" stroke=\"black\" points=\"1175.5,-214.84 1172,-204.84 1168.5,-214.84 1175.5,-214.84\"/>\n</g>\n<!-- 13036626384 -->\n<g id=\"node6\" class=\"node\">\n<title>13036626384</title>\n<polygon fill=\"lightgrey\" stroke=\"black\" points=\"1216,-316.5 1128,-316.5 1128,-295.75 1216,-295.75 1216,-316.5\"/>\n<text text-anchor=\"middle\" x=\"1172\" y=\"-303\" font-family=\"monospace\" font-size=\"10.00\">PowBackward0</text>\n</g>\n<!-- 13036626384&#45;&gt;13036621104 -->\n<g id=\"edge4\" class=\"edge\">\n<title>13036626384&#45;&gt;13036621104</title>\n<path fill=\"none\" stroke=\"black\" d=\"M1172,-295.34C1172,-288.72 1172,-279.72 1172,-271.52\"/>\n<polygon fill=\"black\" stroke=\"black\" points=\"1175.5,-271.59 1172,-261.59 1168.5,-271.59 1175.5,-271.59\"/>\n</g>\n<!-- 13036630416 -->\n<g id=\"node7\" class=\"node\">\n<title>13036630416</title>\n<polygon fill=\"lightgrey\" stroke=\"black\" points=\"1219,-373.25 1125,-373.25 1125,-352.5 1219,-352.5 1219,-373.25\"/>\n<text text-anchor=\"middle\" x=\"1172\" y=\"-359.75\" font-family=\"monospace\" font-size=\"10.00\">RsubBackward1</text>\n</g>\n<!-- 13036630416&#45;&gt;13036626384 -->\n<g id=\"edge5\" class=\"edge\">\n<title>13036630416&#45;&gt;13036626384</title>\n<path fill=\"none\" stroke=\"black\" d=\"M1172,-352.09C1172,-345.47 1172,-336.47 1172,-328.27\"/>\n<polygon fill=\"black\" stroke=\"black\" points=\"1175.5,-328.34 1172,-318.34 1168.5,-328.34 1175.5,-328.34\"/>\n</g>\n<!-- 13036631808 -->\n<g id=\"node8\" class=\"node\">\n<title>13036631808</title>\n<polygon fill=\"lightgrey\" stroke=\"black\" points=\"1228,-430 1116,-430 1116,-409.25 1228,-409.25 1228,-430\"/>\n<text text-anchor=\"middle\" x=\"1172\" y=\"-416.5\" font-family=\"monospace\" font-size=\"10.00\">MinimumBackward0</text>\n</g>\n<!-- 13036631808&#45;&gt;13036630416 -->\n<g id=\"edge6\" class=\"edge\">\n<title>13036631808&#45;&gt;13036630416</title>\n<path fill=\"none\" stroke=\"black\" d=\"M1172,-408.84C1172,-402.22 1172,-393.22 1172,-385.02\"/>\n<polygon fill=\"black\" stroke=\"black\" points=\"1175.5,-385.09 1172,-375.09 1168.5,-385.09 1175.5,-385.09\"/>\n</g>\n<!-- 13036626192 -->\n<g id=\"node9\" class=\"node\">\n<title>13036626192</title>\n<polygon fill=\"lightgrey\" stroke=\"black\" points=\"1163,-486.75 1051,-486.75 1051,-466 1163,-466 1163,-486.75\"/>\n<text text-anchor=\"middle\" x=\"1107\" y=\"-473.25\" font-family=\"monospace\" font-size=\"10.00\">MinimumBackward0</text>\n</g>\n<!-- 13036626192&#45;&gt;13036631808 -->\n<g id=\"edge7\" class=\"edge\">\n<title>13036626192&#45;&gt;13036631808</title>\n<path fill=\"none\" stroke=\"black\" d=\"M1118.62,-465.59C1127.86,-457.8 1141.01,-446.72 1151.95,-437.51\"/>\n<polygon fill=\"black\" stroke=\"black\" points=\"1153.93,-440.42 1159.32,-431.3 1149.42,-435.07 1153.93,-440.42\"/>\n</g>\n<!-- 13036624656 -->\n<g id=\"node10\" class=\"node\">\n<title>13036624656</title>\n<polygon fill=\"lightgrey\" stroke=\"black\" points=\"1033,-543.5 933,-543.5 933,-522.75 1033,-522.75 1033,-543.5\"/>\n<text text-anchor=\"middle\" x=\"983\" y=\"-530\" font-family=\"monospace\" font-size=\"10.00\">AccumulateGrad</text>\n</g>\n<!-- 13036624656&#45;&gt;13036626192 -->\n<g id=\"edge8\" class=\"edge\">\n<title>13036624656&#45;&gt;13036626192</title>\n<path fill=\"none\" stroke=\"black\" d=\"M1005.17,-522.34C1024.48,-513.81 1052.72,-501.34 1074.57,-491.69\"/>\n<polygon fill=\"black\" stroke=\"black\" points=\"1075.9,-494.93 1083.64,-487.69 1073.08,-488.53 1075.9,-494.93\"/>\n</g>\n<!-- 13034727584 -->\n<g id=\"node11\" class=\"node\">\n<title>13034727584</title>\n<polygon fill=\"lightblue\" stroke=\"black\" points=\"1010,-612.25 956,-612.25 956,-579.5 1010,-579.5 1010,-612.25\"/>\n<text text-anchor=\"middle\" x=\"983\" y=\"-586.75\" font-family=\"monospace\" font-size=\"10.00\"> (1)</text>\n</g>\n<!-- 13034727584&#45;&gt;13036624656 -->\n<g id=\"edge9\" class=\"edge\">\n<title>13034727584&#45;&gt;13036624656</title>\n<path fill=\"none\" stroke=\"black\" d=\"M983,-579.23C983,-571.85 983,-562.93 983,-554.99\"/>\n<polygon fill=\"black\" stroke=\"black\" points=\"986.5,-555.16 983,-545.16 979.5,-555.16 986.5,-555.16\"/>\n</g>\n<!-- 13036620816 -->\n<g id=\"node12\" class=\"node\">\n<title>13036620816</title>\n<polygon fill=\"lightgrey\" stroke=\"black\" points=\"1163,-543.5 1051,-543.5 1051,-522.75 1163,-522.75 1163,-543.5\"/>\n<text text-anchor=\"middle\" x=\"1107\" y=\"-530\" font-family=\"monospace\" font-size=\"10.00\">SigmoidBackward0</text>\n</g>\n<!-- 13036620816&#45;&gt;13036626192 -->\n<g id=\"edge10\" class=\"edge\">\n<title>13036620816&#45;&gt;13036626192</title>\n<path fill=\"none\" stroke=\"black\" d=\"M1107,-522.34C1107,-515.72 1107,-506.72 1107,-498.52\"/>\n<polygon fill=\"black\" stroke=\"black\" points=\"1110.5,-498.59 1107,-488.59 1103.5,-498.59 1110.5,-498.59\"/>\n</g>\n<!-- 13035645072 -->\n<g id=\"node13\" class=\"node\">\n<title>13035645072</title>\n<polygon fill=\"lightgrey\" stroke=\"black\" points=\"1151,-606.25 1063,-606.25 1063,-585.5 1151,-585.5 1151,-606.25\"/>\n<text text-anchor=\"middle\" x=\"1107\" y=\"-592.75\" font-family=\"monospace\" font-size=\"10.00\">MulBackward0</text>\n</g>\n<!-- 13035645072&#45;&gt;13036620816 -->\n<g id=\"edge11\" class=\"edge\">\n<title>13035645072&#45;&gt;13036620816</title>\n<path fill=\"none\" stroke=\"black\" d=\"M1107,-585.11C1107,-577.01 1107,-565.19 1107,-554.97\"/>\n<polygon fill=\"black\" stroke=\"black\" points=\"1110.5,-555.17 1107,-545.17 1103.5,-555.17 1110.5,-555.17\"/>\n</g>\n<!-- 13035637104 -->\n<g id=\"node14\" class=\"node\">\n<title>13035637104</title>\n<polygon fill=\"lightgrey\" stroke=\"black\" points=\"1151,-669 1063,-669 1063,-648.25 1151,-648.25 1151,-669\"/>\n<text text-anchor=\"middle\" x=\"1107\" y=\"-655.5\" font-family=\"monospace\" font-size=\"10.00\">SubBackward0</text>\n</g>\n<!-- 13035637104&#45;&gt;13035645072 -->\n<g id=\"edge12\" class=\"edge\">\n<title>13035637104&#45;&gt;13035645072</title>\n<path fill=\"none\" stroke=\"black\" d=\"M1107,-647.86C1107,-639.76 1107,-627.94 1107,-617.72\"/>\n<polygon fill=\"black\" stroke=\"black\" points=\"1110.5,-617.92 1107,-607.92 1103.5,-617.92 1110.5,-617.92\"/>\n</g>\n<!-- 13035643488 -->\n<g id=\"node15\" class=\"node\">\n<title>13035643488</title>\n<polygon fill=\"lightgrey\" stroke=\"black\" points=\"1033,-725.75 921,-725.75 921,-705 1033,-705 1033,-725.75\"/>\n<text text-anchor=\"middle\" x=\"977\" y=\"-712.25\" font-family=\"monospace\" font-size=\"10.00\">SigmoidBackward0</text>\n</g>\n<!-- 13035643488&#45;&gt;13035637104 -->\n<g id=\"edge13\" class=\"edge\">\n<title>13035643488&#45;&gt;13035637104</title>\n<path fill=\"none\" stroke=\"black\" d=\"M1000.24,-704.59C1020.67,-695.98 1050.64,-683.36 1073.63,-673.68\"/>\n<polygon fill=\"black\" stroke=\"black\" points=\"1074.71,-677.02 1082.56,-669.92 1071.99,-670.57 1074.71,-677.02\"/>\n</g>\n<!-- 13035644832 -->\n<g id=\"node16\" class=\"node\">\n<title>13035644832</title>\n<polygon fill=\"lightgrey\" stroke=\"black\" points=\"1036,-782.5 930,-782.5 930,-761.75 1036,-761.75 1036,-782.5\"/>\n<text text-anchor=\"middle\" x=\"983\" y=\"-769\" font-family=\"monospace\" font-size=\"10.00\">SelectBackward0</text>\n</g>\n<!-- 13035644832&#45;&gt;13035643488 -->\n<g id=\"edge14\" class=\"edge\">\n<title>13035644832&#45;&gt;13035643488</title>\n<path fill=\"none\" stroke=\"black\" d=\"M981.93,-761.34C981.2,-754.72 980.22,-745.72 979.32,-737.52\"/>\n<polygon fill=\"black\" stroke=\"black\" points=\"982.8,-737.14 978.23,-727.58 975.84,-737.9 982.8,-737.14\"/>\n</g>\n<!-- 13035650400 -->\n<g id=\"node17\" class=\"node\">\n<title>13035650400</title>\n<polygon fill=\"lightgrey\" stroke=\"black\" points=\"1041,-839.25 941,-839.25 941,-818.5 1041,-818.5 1041,-839.25\"/>\n<text text-anchor=\"middle\" x=\"991\" y=\"-825.75\" font-family=\"monospace\" font-size=\"10.00\">SliceBackward0</text>\n</g>\n<!-- 13035650400&#45;&gt;13035644832 -->\n<g id=\"edge15\" class=\"edge\">\n<title>13035650400&#45;&gt;13035644832</title>\n<path fill=\"none\" stroke=\"black\" d=\"M989.57,-818.09C988.59,-811.39 987.26,-802.26 986.05,-793.98\"/>\n<polygon fill=\"black\" stroke=\"black\" points=\"989.55,-793.71 984.64,-784.33 982.62,-794.73 989.55,-793.71\"/>\n</g>\n<!-- 13035642336 -->\n<g id=\"node18\" class=\"node\">\n<title>13035642336</title>\n<polygon fill=\"lightgrey\" stroke=\"black\" points=\"1223,-896 1123,-896 1123,-875.25 1223,-875.25 1223,-896\"/>\n<text text-anchor=\"middle\" x=\"1173\" y=\"-882.5\" font-family=\"monospace\" font-size=\"10.00\">AddmmBackward0</text>\n</g>\n<!-- 13035642336&#45;&gt;13035650400 -->\n<g id=\"edge16\" class=\"edge\">\n<title>13035642336&#45;&gt;13035650400</title>\n<path fill=\"none\" stroke=\"black\" d=\"M1140.46,-874.84C1110.92,-865.95 1067.12,-852.77 1034.57,-842.98\"/>\n<polygon fill=\"black\" stroke=\"black\" points=\"1035.6,-839.64 1025.01,-840.11 1033.58,-846.34 1035.6,-839.64\"/>\n</g>\n<!-- 13035641568 -->\n<g id=\"node75\" class=\"node\">\n<title>13035641568</title>\n<polygon fill=\"lightgrey\" stroke=\"black\" points=\"1163,-839.25 1063,-839.25 1063,-818.5 1163,-818.5 1163,-839.25\"/>\n<text text-anchor=\"middle\" x=\"1113\" y=\"-825.75\" font-family=\"monospace\" font-size=\"10.00\">SliceBackward0</text>\n</g>\n<!-- 13035642336&#45;&gt;13035641568 -->\n<g id=\"edge74\" class=\"edge\">\n<title>13035642336&#45;&gt;13035641568</title>\n<path fill=\"none\" stroke=\"black\" d=\"M1162.27,-874.84C1153.91,-867.21 1142.09,-856.42 1132.12,-847.32\"/>\n<polygon fill=\"black\" stroke=\"black\" points=\"1134.5,-844.75 1124.75,-840.6 1129.78,-849.92 1134.5,-844.75\"/>\n</g>\n<!-- 13035647424 -->\n<g id=\"node81\" class=\"node\">\n<title>13035647424</title>\n<polygon fill=\"lightgrey\" stroke=\"black\" points=\"1283,-839.25 1183,-839.25 1183,-818.5 1283,-818.5 1283,-839.25\"/>\n<text text-anchor=\"middle\" x=\"1233\" y=\"-825.75\" font-family=\"monospace\" font-size=\"10.00\">SliceBackward0</text>\n</g>\n<!-- 13035642336&#45;&gt;13035647424 -->\n<g id=\"edge81\" class=\"edge\">\n<title>13035642336&#45;&gt;13035647424</title>\n<path fill=\"none\" stroke=\"black\" d=\"M1183.73,-874.84C1192.09,-867.21 1203.91,-856.42 1213.88,-847.32\"/>\n<polygon fill=\"black\" stroke=\"black\" points=\"1216.22,-849.92 1221.25,-840.6 1211.5,-844.75 1216.22,-849.92\"/>\n</g>\n<!-- 13035648672 -->\n<g id=\"node84\" class=\"node\">\n<title>13035648672</title>\n<polygon fill=\"lightgrey\" stroke=\"black\" points=\"1407,-839.25 1307,-839.25 1307,-818.5 1407,-818.5 1407,-839.25\"/>\n<text text-anchor=\"middle\" x=\"1357\" y=\"-825.75\" font-family=\"monospace\" font-size=\"10.00\">SliceBackward0</text>\n</g>\n<!-- 13035642336&#45;&gt;13035648672 -->\n<g id=\"edge85\" class=\"edge\">\n<title>13035642336&#45;&gt;13035648672</title>\n<path fill=\"none\" stroke=\"black\" d=\"M1205.9,-874.84C1235.89,-865.91 1280.43,-852.66 1313.38,-842.85\"/>\n<polygon fill=\"black\" stroke=\"black\" points=\"1314.04,-846.31 1322.63,-840.1 1312.05,-839.6 1314.04,-846.31\"/>\n</g>\n<!-- 13035642192 -->\n<g id=\"node19\" class=\"node\">\n<title>13035642192</title>\n<polygon fill=\"lightgrey\" stroke=\"black\" points=\"1093,-952.75 993,-952.75 993,-932 1093,-932 1093,-952.75\"/>\n<text text-anchor=\"middle\" x=\"1043\" y=\"-939.25\" font-family=\"monospace\" font-size=\"10.00\">AccumulateGrad</text>\n</g>\n<!-- 13035642192&#45;&gt;13035642336 -->\n<g id=\"edge17\" class=\"edge\">\n<title>13035642192&#45;&gt;13035642336</title>\n<path fill=\"none\" stroke=\"black\" d=\"M1066.24,-931.59C1086.67,-922.98 1116.64,-910.36 1139.63,-900.68\"/>\n<polygon fill=\"black\" stroke=\"black\" points=\"1140.71,-904.02 1148.56,-896.92 1137.99,-897.57 1140.71,-904.02\"/>\n</g>\n<!-- 13035949904 -->\n<g id=\"node20\" class=\"node\">\n<title>13035949904</title>\n<polygon fill=\"lightblue\" stroke=\"black\" points=\"1070,-1021.5 1016,-1021.5 1016,-988.75 1070,-988.75 1070,-1021.5\"/>\n<text text-anchor=\"middle\" x=\"1043\" y=\"-996\" font-family=\"monospace\" font-size=\"10.00\"> (4)</text>\n</g>\n<!-- 13035949904&#45;&gt;13035642192 -->\n<g id=\"edge18\" class=\"edge\">\n<title>13035949904&#45;&gt;13035642192</title>\n<path fill=\"none\" stroke=\"black\" d=\"M1043,-988.48C1043,-981.1 1043,-972.18 1043,-964.24\"/>\n<polygon fill=\"black\" stroke=\"black\" points=\"1046.5,-964.41 1043,-954.41 1039.5,-964.41 1046.5,-964.41\"/>\n</g>\n<!-- 13035650496 -->\n<g id=\"node21\" class=\"node\">\n<title>13035650496</title>\n<polygon fill=\"lightgrey\" stroke=\"black\" points=\"1235,-952.75 1111,-952.75 1111,-932 1235,-932 1235,-952.75\"/>\n<text text-anchor=\"middle\" x=\"1173\" y=\"-939.25\" font-family=\"monospace\" font-size=\"10.00\">LeakyReluBackward0</text>\n</g>\n<!-- 13035650496&#45;&gt;13035642336 -->\n<g id=\"edge19\" class=\"edge\">\n<title>13035650496&#45;&gt;13035642336</title>\n<path fill=\"none\" stroke=\"black\" d=\"M1173,-931.59C1173,-924.97 1173,-915.97 1173,-907.77\"/>\n<polygon fill=\"black\" stroke=\"black\" points=\"1176.5,-907.84 1173,-897.84 1169.5,-907.84 1176.5,-907.84\"/>\n</g>\n<!-- 13035637392 -->\n<g id=\"node22\" class=\"node\">\n<title>13035637392</title>\n<polygon fill=\"lightgrey\" stroke=\"black\" points=\"1250,-1015.5 1090,-1015.5 1090,-994.75 1250,-994.75 1250,-1015.5\"/>\n<text text-anchor=\"middle\" x=\"1170\" y=\"-1002\" font-family=\"monospace\" font-size=\"10.00\">NativeBatchNormBackward0</text>\n</g>\n<!-- 13035637392&#45;&gt;13035650496 -->\n<g id=\"edge20\" class=\"edge\">\n<title>13035637392&#45;&gt;13035650496</title>\n<path fill=\"none\" stroke=\"black\" d=\"M1170.48,-994.36C1170.88,-986.26 1171.47,-974.44 1171.97,-964.22\"/>\n<polygon fill=\"black\" stroke=\"black\" points=\"1175.46,-964.58 1172.45,-954.42 1168.47,-964.24 1175.46,-964.58\"/>\n</g>\n<!-- 13035641472 -->\n<g id=\"node23\" class=\"node\">\n<title>13035641472</title>\n<polygon fill=\"lightgrey\" stroke=\"black\" points=\"1061,-1084.25 961,-1084.25 961,-1063.5 1061,-1063.5 1061,-1084.25\"/>\n<text text-anchor=\"middle\" x=\"1011\" y=\"-1070.75\" font-family=\"monospace\" font-size=\"10.00\">AddmmBackward0</text>\n</g>\n<!-- 13035641472&#45;&gt;13035637392 -->\n<g id=\"edge21\" class=\"edge\">\n<title>13035641472&#45;&gt;13035637392</title>\n<path fill=\"none\" stroke=\"black\" d=\"M1034.46,-1063.03C1061.31,-1051.75 1105.51,-1033.2 1136.1,-1020.35\"/>\n<polygon fill=\"black\" stroke=\"black\" points=\"1137.44,-1023.59 1145.31,-1016.49 1134.73,-1017.14 1137.44,-1023.59\"/>\n</g>\n<!-- 13035641232 -->\n<g id=\"node24\" class=\"node\">\n<title>13035641232</title>\n<polygon fill=\"lightgrey\" stroke=\"black\" points=\"912,-1153 812,-1153 812,-1132.25 912,-1132.25 912,-1153\"/>\n<text text-anchor=\"middle\" x=\"862\" y=\"-1139.5\" font-family=\"monospace\" font-size=\"10.00\">AccumulateGrad</text>\n</g>\n<!-- 13035641232&#45;&gt;13035641472 -->\n<g id=\"edge22\" class=\"edge\">\n<title>13035641232&#45;&gt;13035641472</title>\n<path fill=\"none\" stroke=\"black\" d=\"M883.99,-1131.78C909.11,-1120.52 950.44,-1102 979.1,-1089.16\"/>\n<polygon fill=\"black\" stroke=\"black\" points=\"980.33,-1092.45 988.03,-1085.17 977.47,-1086.06 980.33,-1092.45\"/>\n</g>\n<!-- 13035961984 -->\n<g id=\"node25\" class=\"node\">\n<title>13035961984</title>\n<polygon fill=\"lightblue\" stroke=\"black\" points=\"876,-1227.75 822,-1227.75 822,-1195 876,-1195 876,-1227.75\"/>\n<text text-anchor=\"middle\" x=\"849\" y=\"-1202.25\" font-family=\"monospace\" font-size=\"10.00\"> (128)</text>\n</g>\n<!-- 13035961984&#45;&gt;13035641232 -->\n<g id=\"edge23\" class=\"edge\">\n<title>13035961984&#45;&gt;13035641232</title>\n<path fill=\"none\" stroke=\"black\" d=\"M852.08,-1194.56C853.83,-1185.56 856.05,-1174.18 857.94,-1164.46\"/>\n<polygon fill=\"black\" stroke=\"black\" points=\"861.34,-1165.31 859.82,-1154.82 854.47,-1163.97 861.34,-1165.31\"/>\n</g>\n<!-- 13035649536 -->\n<g id=\"node26\" class=\"node\">\n<title>13035649536</title>\n<polygon fill=\"lightgrey\" stroke=\"black\" points=\"1036,-1153 942,-1153 942,-1132.25 1036,-1132.25 1036,-1153\"/>\n<text text-anchor=\"middle\" x=\"989\" y=\"-1139.5\" font-family=\"monospace\" font-size=\"10.00\">ViewBackward0</text>\n</g>\n<!-- 13035649536&#45;&gt;13035641472 -->\n<g id=\"edge24\" class=\"edge\">\n<title>13035649536&#45;&gt;13035641472</title>\n<path fill=\"none\" stroke=\"black\" d=\"M992.25,-1131.78C995.4,-1122.2 1000.29,-1107.37 1004.28,-1095.25\"/>\n<polygon fill=\"black\" stroke=\"black\" points=\"1007.6,-1096.36 1007.41,-1085.77 1000.95,-1094.17 1007.6,-1096.36\"/>\n</g>\n<!-- 13035648768 -->\n<g id=\"node27\" class=\"node\">\n<title>13035648768</title>\n<polygon fill=\"lightgrey\" stroke=\"black\" points=\"1084,-1221.75 894,-1221.75 894,-1201 1084,-1201 1084,-1221.75\"/>\n<text text-anchor=\"middle\" x=\"989\" y=\"-1208.25\" font-family=\"monospace\" font-size=\"10.00\">MaxPool2DWithIndicesBackward0</text>\n</g>\n<!-- 13035648768&#45;&gt;13035649536 -->\n<g id=\"edge25\" class=\"edge\">\n<title>13035648768&#45;&gt;13035649536</title>\n<path fill=\"none\" stroke=\"black\" d=\"M989,-1200.53C989,-1191.05 989,-1176.43 989,-1164.38\"/>\n<polygon fill=\"black\" stroke=\"black\" points=\"992.5,-1164.6 989,-1154.6 985.5,-1164.6 992.5,-1164.6\"/>\n</g>\n<!-- 13035640560 -->\n<g id=\"node28\" class=\"node\">\n<title>13035640560</title>\n<polygon fill=\"lightgrey\" stroke=\"black\" points=\"1051,-1290.5 927,-1290.5 927,-1269.75 1051,-1269.75 1051,-1290.5\"/>\n<text text-anchor=\"middle\" x=\"989\" y=\"-1277\" font-family=\"monospace\" font-size=\"10.00\">LeakyReluBackward0</text>\n</g>\n<!-- 13035640560&#45;&gt;13035648768 -->\n<g id=\"edge26\" class=\"edge\">\n<title>13035640560&#45;&gt;13035648768</title>\n<path fill=\"none\" stroke=\"black\" d=\"M989,-1269.28C989,-1259.8 989,-1245.18 989,-1233.13\"/>\n<polygon fill=\"black\" stroke=\"black\" points=\"992.5,-1233.35 989,-1223.35 985.5,-1233.35 992.5,-1233.35\"/>\n</g>\n<!-- 13035639840 -->\n<g id=\"node29\" class=\"node\">\n<title>13035639840</title>\n<polygon fill=\"lightgrey\" stroke=\"black\" points=\"1069,-1353.25 909,-1353.25 909,-1332.5 1069,-1332.5 1069,-1353.25\"/>\n<text text-anchor=\"middle\" x=\"989\" y=\"-1339.75\" font-family=\"monospace\" font-size=\"10.00\">NativeBatchNormBackward0</text>\n</g>\n<!-- 13035639840&#45;&gt;13035640560 -->\n<g id=\"edge27\" class=\"edge\">\n<title>13035639840&#45;&gt;13035640560</title>\n<path fill=\"none\" stroke=\"black\" d=\"M989,-1332.11C989,-1324.01 989,-1312.19 989,-1301.97\"/>\n<polygon fill=\"black\" stroke=\"black\" points=\"992.5,-1302.17 989,-1292.17 985.5,-1302.17 992.5,-1302.17\"/>\n</g>\n<!-- 13035647568 -->\n<g id=\"node30\" class=\"node\">\n<title>13035647568</title>\n<polygon fill=\"lightgrey\" stroke=\"black\" points=\"894,-1410 758,-1410 758,-1389.25 894,-1389.25 894,-1410\"/>\n<text text-anchor=\"middle\" x=\"826\" y=\"-1396.5\" font-family=\"monospace\" font-size=\"10.00\">ConvolutionBackward0</text>\n</g>\n<!-- 13035647568&#45;&gt;13035639840 -->\n<g id=\"edge28\" class=\"edge\">\n<title>13035647568&#45;&gt;13035639840</title>\n<path fill=\"none\" stroke=\"black\" d=\"M855.14,-1388.84C881.37,-1380.03 920.14,-1367 949.21,-1357.24\"/>\n<polygon fill=\"black\" stroke=\"black\" points=\"950.04,-1360.65 958.4,-1354.15 947.81,-1354.02 950.04,-1360.65\"/>\n</g>\n<!-- 13035645744 -->\n<g id=\"node31\" class=\"node\">\n<title>13035645744</title>\n<polygon fill=\"lightgrey\" stroke=\"black\" points=\"731,-1472.75 541,-1472.75 541,-1452 731,-1452 731,-1472.75\"/>\n<text text-anchor=\"middle\" x=\"636\" y=\"-1459.25\" font-family=\"monospace\" font-size=\"10.00\">MaxPool2DWithIndicesBackward0</text>\n</g>\n<!-- 13035645744&#45;&gt;13035647568 -->\n<g id=\"edge29\" class=\"edge\">\n<title>13035645744&#45;&gt;13035647568</title>\n<path fill=\"none\" stroke=\"black\" d=\"M666.53,-1451.61C698.56,-1441.37 749.12,-1425.21 784.71,-1413.83\"/>\n<polygon fill=\"black\" stroke=\"black\" points=\"785.33,-1417.3 793.79,-1410.92 783.2,-1410.63 785.33,-1417.3\"/>\n</g>\n<!-- 13035636672 -->\n<g id=\"node32\" class=\"node\">\n<title>13035636672</title>\n<polygon fill=\"lightgrey\" stroke=\"black\" points=\"698,-1541.5 574,-1541.5 574,-1520.75 698,-1520.75 698,-1541.5\"/>\n<text text-anchor=\"middle\" x=\"636\" y=\"-1528\" font-family=\"monospace\" font-size=\"10.00\">LeakyReluBackward0</text>\n</g>\n<!-- 13035636672&#45;&gt;13035645744 -->\n<g id=\"edge30\" class=\"edge\">\n<title>13035636672&#45;&gt;13035645744</title>\n<path fill=\"none\" stroke=\"black\" d=\"M636,-1520.28C636,-1510.8 636,-1496.18 636,-1484.13\"/>\n<polygon fill=\"black\" stroke=\"black\" points=\"639.5,-1484.35 636,-1474.35 632.5,-1484.35 639.5,-1484.35\"/>\n</g>\n<!-- 13035644544 -->\n<g id=\"node33\" class=\"node\">\n<title>13035644544</title>\n<polygon fill=\"lightgrey\" stroke=\"black\" points=\"716,-1604.25 556,-1604.25 556,-1583.5 716,-1583.5 716,-1604.25\"/>\n<text text-anchor=\"middle\" x=\"636\" y=\"-1590.75\" font-family=\"monospace\" font-size=\"10.00\">NativeBatchNormBackward0</text>\n</g>\n<!-- 13035644544&#45;&gt;13035636672 -->\n<g id=\"edge31\" class=\"edge\">\n<title>13035644544&#45;&gt;13035636672</title>\n<path fill=\"none\" stroke=\"black\" d=\"M636,-1583.11C636,-1575.01 636,-1563.19 636,-1552.97\"/>\n<polygon fill=\"black\" stroke=\"black\" points=\"639.5,-1553.17 636,-1543.17 632.5,-1553.17 639.5,-1553.17\"/>\n</g>\n<!-- 13035635712 -->\n<g id=\"node34\" class=\"node\">\n<title>13035635712</title>\n<polygon fill=\"lightgrey\" stroke=\"black\" points=\"541,-1661 405,-1661 405,-1640.25 541,-1640.25 541,-1661\"/>\n<text text-anchor=\"middle\" x=\"473\" y=\"-1647.5\" font-family=\"monospace\" font-size=\"10.00\">ConvolutionBackward0</text>\n</g>\n<!-- 13035635712&#45;&gt;13035644544 -->\n<g id=\"edge32\" class=\"edge\">\n<title>13035635712&#45;&gt;13035644544</title>\n<path fill=\"none\" stroke=\"black\" d=\"M502.14,-1639.84C528.37,-1631.03 567.14,-1618 596.21,-1608.24\"/>\n<polygon fill=\"black\" stroke=\"black\" points=\"597.04,-1611.65 605.4,-1605.15 594.81,-1605.02 597.04,-1611.65\"/>\n</g>\n<!-- 13035645024 -->\n<g id=\"node35\" class=\"node\">\n<title>13035645024</title>\n<polygon fill=\"lightgrey\" stroke=\"black\" points=\"378,-1723.75 188,-1723.75 188,-1703 378,-1703 378,-1723.75\"/>\n<text text-anchor=\"middle\" x=\"283\" y=\"-1710.25\" font-family=\"monospace\" font-size=\"10.00\">MaxPool2DWithIndicesBackward0</text>\n</g>\n<!-- 13035645024&#45;&gt;13035635712 -->\n<g id=\"edge33\" class=\"edge\">\n<title>13035645024&#45;&gt;13035635712</title>\n<path fill=\"none\" stroke=\"black\" d=\"M313.53,-1702.61C345.56,-1692.37 396.12,-1676.21 431.71,-1664.83\"/>\n<polygon fill=\"black\" stroke=\"black\" points=\"432.33,-1668.3 440.79,-1661.92 430.2,-1661.63 432.33,-1668.3\"/>\n</g>\n<!-- 13035645312 -->\n<g id=\"node36\" class=\"node\">\n<title>13035645312</title>\n<polygon fill=\"lightgrey\" stroke=\"black\" points=\"345,-1792.5 221,-1792.5 221,-1771.75 345,-1771.75 345,-1792.5\"/>\n<text text-anchor=\"middle\" x=\"283\" y=\"-1779\" font-family=\"monospace\" font-size=\"10.00\">LeakyReluBackward0</text>\n</g>\n<!-- 13035645312&#45;&gt;13035645024 -->\n<g id=\"edge34\" class=\"edge\">\n<title>13035645312&#45;&gt;13035645024</title>\n<path fill=\"none\" stroke=\"black\" d=\"M283,-1771.28C283,-1761.8 283,-1747.18 283,-1735.13\"/>\n<polygon fill=\"black\" stroke=\"black\" points=\"286.5,-1735.35 283,-1725.35 279.5,-1735.35 286.5,-1735.35\"/>\n</g>\n<!-- 13035641520 -->\n<g id=\"node37\" class=\"node\">\n<title>13035641520</title>\n<polygon fill=\"lightgrey\" stroke=\"black\" points=\"363,-1855.25 203,-1855.25 203,-1834.5 363,-1834.5 363,-1855.25\"/>\n<text text-anchor=\"middle\" x=\"283\" y=\"-1841.75\" font-family=\"monospace\" font-size=\"10.00\">NativeBatchNormBackward0</text>\n</g>\n<!-- 13035641520&#45;&gt;13035645312 -->\n<g id=\"edge35\" class=\"edge\">\n<title>13035641520&#45;&gt;13035645312</title>\n<path fill=\"none\" stroke=\"black\" d=\"M283,-1834.11C283,-1826.01 283,-1814.19 283,-1803.97\"/>\n<polygon fill=\"black\" stroke=\"black\" points=\"286.5,-1804.17 283,-1794.17 279.5,-1804.17 286.5,-1804.17\"/>\n</g>\n<!-- 13035635808 -->\n<g id=\"node38\" class=\"node\">\n<title>13035635808</title>\n<polygon fill=\"lightgrey\" stroke=\"black\" points=\"215,-1912 79,-1912 79,-1891.25 215,-1891.25 215,-1912\"/>\n<text text-anchor=\"middle\" x=\"147\" y=\"-1898.5\" font-family=\"monospace\" font-size=\"10.00\">ConvolutionBackward0</text>\n</g>\n<!-- 13035635808&#45;&gt;13035641520 -->\n<g id=\"edge36\" class=\"edge\">\n<title>13035635808&#45;&gt;13035641520</title>\n<path fill=\"none\" stroke=\"black\" d=\"M171.31,-1890.84C192.78,-1882.19 224.32,-1869.5 248.41,-1859.8\"/>\n<polygon fill=\"black\" stroke=\"black\" points=\"249.52,-1863.13 257.49,-1856.14 246.91,-1856.63 249.52,-1863.13\"/>\n</g>\n<!-- 13035648960 -->\n<g id=\"node39\" class=\"node\">\n<title>13035648960</title>\n<polygon fill=\"lightgrey\" stroke=\"black\" points=\"100,-1974.75 0,-1974.75 0,-1954 100,-1954 100,-1974.75\"/>\n<text text-anchor=\"middle\" x=\"50\" y=\"-1961.25\" font-family=\"monospace\" font-size=\"10.00\">AccumulateGrad</text>\n</g>\n<!-- 13035648960&#45;&gt;13035635808 -->\n<g id=\"edge37\" class=\"edge\">\n<title>13035648960&#45;&gt;13035635808</title>\n<path fill=\"none\" stroke=\"black\" d=\"M65.58,-1953.61C80.72,-1944.14 103.94,-1929.59 121.72,-1918.46\"/>\n<polygon fill=\"black\" stroke=\"black\" points=\"123.55,-1921.44 130.17,-1913.16 119.84,-1915.51 123.55,-1921.44\"/>\n</g>\n<!-- 13035512976 -->\n<g id=\"node40\" class=\"node\">\n<title>13035512976</title>\n<polygon fill=\"lightblue\" stroke=\"black\" points=\"100,-2049.5 0,-2049.5 0,-2016.75 100,-2016.75 100,-2049.5\"/>\n<text text-anchor=\"middle\" x=\"50\" y=\"-2024\" font-family=\"monospace\" font-size=\"10.00\"> (16, 3, 3, 3)</text>\n</g>\n<!-- 13035512976&#45;&gt;13035648960 -->\n<g id=\"edge38\" class=\"edge\">\n<title>13035512976&#45;&gt;13035648960</title>\n<path fill=\"none\" stroke=\"black\" d=\"M50,-2016.31C50,-2007.41 50,-1996.18 50,-1986.53\"/>\n<polygon fill=\"black\" stroke=\"black\" points=\"53.5,-1986.6 50,-1976.6 46.5,-1986.6 53.5,-1986.6\"/>\n</g>\n<!-- 13035639216 -->\n<g id=\"node41\" class=\"node\">\n<title>13035639216</title>\n<polygon fill=\"lightgrey\" stroke=\"black\" points=\"218,-1974.75 118,-1974.75 118,-1954 218,-1954 218,-1974.75\"/>\n<text text-anchor=\"middle\" x=\"168\" y=\"-1961.25\" font-family=\"monospace\" font-size=\"10.00\">AccumulateGrad</text>\n</g>\n<!-- 13035639216&#45;&gt;13035635808 -->\n<g id=\"edge39\" class=\"edge\">\n<title>13035639216&#45;&gt;13035635808</title>\n<path fill=\"none\" stroke=\"black\" d=\"M164.63,-1953.61C161.76,-1945.33 157.56,-1933.17 153.97,-1922.8\"/>\n<polygon fill=\"black\" stroke=\"black\" points=\"157.37,-1921.9 150.79,-1913.59 150.75,-1924.19 157.37,-1921.9\"/>\n</g>\n<!-- 13035511056 -->\n<g id=\"node42\" class=\"node\">\n<title>13035511056</title>\n<polygon fill=\"lightblue\" stroke=\"black\" points=\"195,-2049.5 141,-2049.5 141,-2016.75 195,-2016.75 195,-2049.5\"/>\n<text text-anchor=\"middle\" x=\"168\" y=\"-2024\" font-family=\"monospace\" font-size=\"10.00\"> (16)</text>\n</g>\n<!-- 13035511056&#45;&gt;13035639216 -->\n<g id=\"edge40\" class=\"edge\">\n<title>13035511056&#45;&gt;13035639216</title>\n<path fill=\"none\" stroke=\"black\" d=\"M168,-2016.31C168,-2007.41 168,-1996.18 168,-1986.53\"/>\n<polygon fill=\"black\" stroke=\"black\" points=\"171.5,-1986.6 168,-1976.6 164.5,-1986.6 171.5,-1986.6\"/>\n</g>\n<!-- 13035642288 -->\n<g id=\"node43\" class=\"node\">\n<title>13035642288</title>\n<polygon fill=\"lightgrey\" stroke=\"black\" points=\"333,-1912 233,-1912 233,-1891.25 333,-1891.25 333,-1912\"/>\n<text text-anchor=\"middle\" x=\"283\" y=\"-1898.5\" font-family=\"monospace\" font-size=\"10.00\">AccumulateGrad</text>\n</g>\n<!-- 13035642288&#45;&gt;13035641520 -->\n<g id=\"edge41\" class=\"edge\">\n<title>13035642288&#45;&gt;13035641520</title>\n<path fill=\"none\" stroke=\"black\" d=\"M283,-1890.84C283,-1884.22 283,-1875.22 283,-1867.02\"/>\n<polygon fill=\"black\" stroke=\"black\" points=\"286.5,-1867.09 283,-1857.09 279.5,-1867.09 286.5,-1867.09\"/>\n</g>\n<!-- 6293224928 -->\n<g id=\"node44\" class=\"node\">\n<title>6293224928</title>\n<polygon fill=\"lightblue\" stroke=\"black\" points=\"310,-1980.75 256,-1980.75 256,-1948 310,-1948 310,-1980.75\"/>\n<text text-anchor=\"middle\" x=\"283\" y=\"-1955.25\" font-family=\"monospace\" font-size=\"10.00\"> (16)</text>\n</g>\n<!-- 6293224928&#45;&gt;13035642288 -->\n<g id=\"edge42\" class=\"edge\">\n<title>6293224928&#45;&gt;13035642288</title>\n<path fill=\"none\" stroke=\"black\" d=\"M283,-1947.73C283,-1940.35 283,-1931.43 283,-1923.49\"/>\n<polygon fill=\"black\" stroke=\"black\" points=\"286.5,-1923.66 283,-1913.66 279.5,-1923.66 286.5,-1923.66\"/>\n</g>\n<!-- 13035650928 -->\n<g id=\"node45\" class=\"node\">\n<title>13035650928</title>\n<polygon fill=\"lightgrey\" stroke=\"black\" points=\"451,-1912 351,-1912 351,-1891.25 451,-1891.25 451,-1912\"/>\n<text text-anchor=\"middle\" x=\"401\" y=\"-1898.5\" font-family=\"monospace\" font-size=\"10.00\">AccumulateGrad</text>\n</g>\n<!-- 13035650928&#45;&gt;13035641520 -->\n<g id=\"edge43\" class=\"edge\">\n<title>13035650928&#45;&gt;13035641520</title>\n<path fill=\"none\" stroke=\"black\" d=\"M379.9,-1890.84C361.61,-1882.35 334.9,-1869.95 314.14,-1860.33\"/>\n<polygon fill=\"black\" stroke=\"black\" points=\"315.83,-1857.25 305.29,-1856.22 312.88,-1863.6 315.83,-1857.25\"/>\n</g>\n<!-- 13002473872 -->\n<g id=\"node46\" class=\"node\">\n<title>13002473872</title>\n<polygon fill=\"lightblue\" stroke=\"black\" points=\"428,-1980.75 374,-1980.75 374,-1948 428,-1948 428,-1980.75\"/>\n<text text-anchor=\"middle\" x=\"401\" y=\"-1955.25\" font-family=\"monospace\" font-size=\"10.00\"> (16)</text>\n</g>\n<!-- 13002473872&#45;&gt;13035650928 -->\n<g id=\"edge44\" class=\"edge\">\n<title>13002473872&#45;&gt;13035650928</title>\n<path fill=\"none\" stroke=\"black\" d=\"M401,-1947.73C401,-1940.35 401,-1931.43 401,-1923.49\"/>\n<polygon fill=\"black\" stroke=\"black\" points=\"404.5,-1923.66 401,-1913.66 397.5,-1923.66 404.5,-1923.66\"/>\n</g>\n<!-- 13035642960 -->\n<g id=\"node47\" class=\"node\">\n<title>13035642960</title>\n<polygon fill=\"lightgrey\" stroke=\"black\" points=\"496,-1723.75 396,-1723.75 396,-1703 496,-1703 496,-1723.75\"/>\n<text text-anchor=\"middle\" x=\"446\" y=\"-1710.25\" font-family=\"monospace\" font-size=\"10.00\">AccumulateGrad</text>\n</g>\n<!-- 13035642960&#45;&gt;13035635712 -->\n<g id=\"edge45\" class=\"edge\">\n<title>13035642960&#45;&gt;13035635712</title>\n<path fill=\"none\" stroke=\"black\" d=\"M450.34,-1702.61C454.06,-1694.24 459.54,-1681.91 464.18,-1671.47\"/>\n<polygon fill=\"black\" stroke=\"black\" points=\"467.28,-1673.1 468.15,-1662.54 460.89,-1670.26 467.28,-1673.1\"/>\n</g>\n<!-- 13034725264 -->\n<g id=\"node48\" class=\"node\">\n<title>13034725264</title>\n<polygon fill=\"lightblue\" stroke=\"black\" points=\"499,-1798.5 393,-1798.5 393,-1765.75 499,-1765.75 499,-1798.5\"/>\n<text text-anchor=\"middle\" x=\"446\" y=\"-1773\" font-family=\"monospace\" font-size=\"10.00\"> (32, 16, 3, 3)</text>\n</g>\n<!-- 13034725264&#45;&gt;13035642960 -->\n<g id=\"edge46\" class=\"edge\">\n<title>13034725264&#45;&gt;13035642960</title>\n<path fill=\"none\" stroke=\"black\" d=\"M446,-1765.31C446,-1756.41 446,-1745.18 446,-1735.53\"/>\n<polygon fill=\"black\" stroke=\"black\" points=\"449.5,-1735.6 446,-1725.6 442.5,-1735.6 449.5,-1735.6\"/>\n</g>\n<!-- 13035643440 -->\n<g id=\"node49\" class=\"node\">\n<title>13035643440</title>\n<polygon fill=\"lightgrey\" stroke=\"black\" points=\"614,-1723.75 514,-1723.75 514,-1703 614,-1703 614,-1723.75\"/>\n<text text-anchor=\"middle\" x=\"564\" y=\"-1710.25\" font-family=\"monospace\" font-size=\"10.00\">AccumulateGrad</text>\n</g>\n<!-- 13035643440&#45;&gt;13035635712 -->\n<g id=\"edge47\" class=\"edge\">\n<title>13035643440&#45;&gt;13035635712</title>\n<path fill=\"none\" stroke=\"black\" d=\"M549.38,-1702.61C535.18,-1693.14 513.4,-1678.59 496.72,-1667.46\"/>\n<polygon fill=\"black\" stroke=\"black\" points=\"499.1,-1664.84 488.84,-1662.2 495.22,-1670.66 499.1,-1664.84\"/>\n</g>\n<!-- 13034732464 -->\n<g id=\"node50\" class=\"node\">\n<title>13034732464</title>\n<polygon fill=\"lightblue\" stroke=\"black\" points=\"591,-1798.5 537,-1798.5 537,-1765.75 591,-1765.75 591,-1798.5\"/>\n<text text-anchor=\"middle\" x=\"564\" y=\"-1773\" font-family=\"monospace\" font-size=\"10.00\"> (32)</text>\n</g>\n<!-- 13034732464&#45;&gt;13035643440 -->\n<g id=\"edge48\" class=\"edge\">\n<title>13034732464&#45;&gt;13035643440</title>\n<path fill=\"none\" stroke=\"black\" d=\"M564,-1765.31C564,-1756.41 564,-1745.18 564,-1735.53\"/>\n<polygon fill=\"black\" stroke=\"black\" points=\"567.5,-1735.6 564,-1725.6 560.5,-1735.6 567.5,-1735.6\"/>\n</g>\n<!-- 13035635760 -->\n<g id=\"node51\" class=\"node\">\n<title>13035635760</title>\n<polygon fill=\"lightgrey\" stroke=\"black\" points=\"686,-1661 586,-1661 586,-1640.25 686,-1640.25 686,-1661\"/>\n<text text-anchor=\"middle\" x=\"636\" y=\"-1647.5\" font-family=\"monospace\" font-size=\"10.00\">AccumulateGrad</text>\n</g>\n<!-- 13035635760&#45;&gt;13035644544 -->\n<g id=\"edge49\" class=\"edge\">\n<title>13035635760&#45;&gt;13035644544</title>\n<path fill=\"none\" stroke=\"black\" d=\"M636,-1639.84C636,-1633.22 636,-1624.22 636,-1616.02\"/>\n<polygon fill=\"black\" stroke=\"black\" points=\"639.5,-1616.09 636,-1606.09 632.5,-1616.09 639.5,-1616.09\"/>\n</g>\n<!-- 13034727824 -->\n<g id=\"node52\" class=\"node\">\n<title>13034727824</title>\n<polygon fill=\"lightblue\" stroke=\"black\" points=\"686,-1729.75 632,-1729.75 632,-1697 686,-1697 686,-1729.75\"/>\n<text text-anchor=\"middle\" x=\"659\" y=\"-1704.25\" font-family=\"monospace\" font-size=\"10.00\"> (32)</text>\n</g>\n<!-- 13034727824&#45;&gt;13035635760 -->\n<g id=\"edge50\" class=\"edge\">\n<title>13034727824&#45;&gt;13035635760</title>\n<path fill=\"none\" stroke=\"black\" d=\"M653.08,-1696.73C650.18,-1689.08 646.66,-1679.79 643.58,-1671.64\"/>\n<polygon fill=\"black\" stroke=\"black\" points=\"646.96,-1670.68 640.14,-1662.57 640.41,-1673.16 646.96,-1670.68\"/>\n</g>\n<!-- 13035644688 -->\n<g id=\"node53\" class=\"node\">\n<title>13035644688</title>\n<polygon fill=\"lightgrey\" stroke=\"black\" points=\"804,-1661 704,-1661 704,-1640.25 804,-1640.25 804,-1661\"/>\n<text text-anchor=\"middle\" x=\"754\" y=\"-1647.5\" font-family=\"monospace\" font-size=\"10.00\">AccumulateGrad</text>\n</g>\n<!-- 13035644688&#45;&gt;13035644544 -->\n<g id=\"edge51\" class=\"edge\">\n<title>13035644688&#45;&gt;13035644544</title>\n<path fill=\"none\" stroke=\"black\" d=\"M732.9,-1639.84C714.61,-1631.35 687.9,-1618.95 667.14,-1609.33\"/>\n<polygon fill=\"black\" stroke=\"black\" points=\"668.83,-1606.25 658.29,-1605.22 665.88,-1612.6 668.83,-1606.25\"/>\n</g>\n<!-- 13034726144 -->\n<g id=\"node54\" class=\"node\">\n<title>13034726144</title>\n<polygon fill=\"lightblue\" stroke=\"black\" points=\"781,-1729.75 727,-1729.75 727,-1697 781,-1697 781,-1729.75\"/>\n<text text-anchor=\"middle\" x=\"754\" y=\"-1704.25\" font-family=\"monospace\" font-size=\"10.00\"> (32)</text>\n</g>\n<!-- 13034726144&#45;&gt;13035644688 -->\n<g id=\"edge52\" class=\"edge\">\n<title>13034726144&#45;&gt;13035644688</title>\n<path fill=\"none\" stroke=\"black\" d=\"M754,-1696.73C754,-1689.35 754,-1680.43 754,-1672.49\"/>\n<polygon fill=\"black\" stroke=\"black\" points=\"757.5,-1672.66 754,-1662.66 750.5,-1672.66 757.5,-1672.66\"/>\n</g>\n<!-- 13035646992 -->\n<g id=\"node55\" class=\"node\">\n<title>13035646992</title>\n<polygon fill=\"lightgrey\" stroke=\"black\" points=\"849,-1472.75 749,-1472.75 749,-1452 849,-1452 849,-1472.75\"/>\n<text text-anchor=\"middle\" x=\"799\" y=\"-1459.25\" font-family=\"monospace\" font-size=\"10.00\">AccumulateGrad</text>\n</g>\n<!-- 13035646992&#45;&gt;13035647568 -->\n<g id=\"edge53\" class=\"edge\">\n<title>13035646992&#45;&gt;13035647568</title>\n<path fill=\"none\" stroke=\"black\" d=\"M803.34,-1451.61C807.06,-1443.24 812.54,-1430.91 817.18,-1420.47\"/>\n<polygon fill=\"black\" stroke=\"black\" points=\"820.28,-1422.1 821.15,-1411.54 813.89,-1419.26 820.28,-1422.1\"/>\n</g>\n<!-- 13035962304 -->\n<g id=\"node56\" class=\"node\">\n<title>13035962304</title>\n<polygon fill=\"lightblue\" stroke=\"black\" points=\"852,-1547.5 746,-1547.5 746,-1514.75 852,-1514.75 852,-1547.5\"/>\n<text text-anchor=\"middle\" x=\"799\" y=\"-1522\" font-family=\"monospace\" font-size=\"10.00\"> (64, 32, 3, 3)</text>\n</g>\n<!-- 13035962304&#45;&gt;13035646992 -->\n<g id=\"edge54\" class=\"edge\">\n<title>13035962304&#45;&gt;13035646992</title>\n<path fill=\"none\" stroke=\"black\" d=\"M799,-1514.31C799,-1505.41 799,-1494.18 799,-1484.53\"/>\n<polygon fill=\"black\" stroke=\"black\" points=\"802.5,-1484.6 799,-1474.6 795.5,-1484.6 802.5,-1484.6\"/>\n</g>\n<!-- 13035647376 -->\n<g id=\"node57\" class=\"node\">\n<title>13035647376</title>\n<polygon fill=\"lightgrey\" stroke=\"black\" points=\"967,-1472.75 867,-1472.75 867,-1452 967,-1452 967,-1472.75\"/>\n<text text-anchor=\"middle\" x=\"917\" y=\"-1459.25\" font-family=\"monospace\" font-size=\"10.00\">AccumulateGrad</text>\n</g>\n<!-- 13035647376&#45;&gt;13035647568 -->\n<g id=\"edge55\" class=\"edge\">\n<title>13035647376&#45;&gt;13035647568</title>\n<path fill=\"none\" stroke=\"black\" d=\"M902.38,-1451.61C888.18,-1442.14 866.4,-1427.59 849.72,-1416.46\"/>\n<polygon fill=\"black\" stroke=\"black\" points=\"852.1,-1413.84 841.84,-1411.2 848.22,-1419.66 852.1,-1413.84\"/>\n</g>\n<!-- 13035959344 -->\n<g id=\"node58\" class=\"node\">\n<title>13035959344</title>\n<polygon fill=\"lightblue\" stroke=\"black\" points=\"944,-1547.5 890,-1547.5 890,-1514.75 944,-1514.75 944,-1547.5\"/>\n<text text-anchor=\"middle\" x=\"917\" y=\"-1522\" font-family=\"monospace\" font-size=\"10.00\"> (64)</text>\n</g>\n<!-- 13035959344&#45;&gt;13035647376 -->\n<g id=\"edge56\" class=\"edge\">\n<title>13035959344&#45;&gt;13035647376</title>\n<path fill=\"none\" stroke=\"black\" d=\"M917,-1514.31C917,-1505.41 917,-1494.18 917,-1484.53\"/>\n<polygon fill=\"black\" stroke=\"black\" points=\"920.5,-1484.6 917,-1474.6 913.5,-1484.6 920.5,-1484.6\"/>\n</g>\n<!-- 13035639504 -->\n<g id=\"node59\" class=\"node\">\n<title>13035639504</title>\n<polygon fill=\"lightgrey\" stroke=\"black\" points=\"1039,-1410 939,-1410 939,-1389.25 1039,-1389.25 1039,-1410\"/>\n<text text-anchor=\"middle\" x=\"989\" y=\"-1396.5\" font-family=\"monospace\" font-size=\"10.00\">AccumulateGrad</text>\n</g>\n<!-- 13035639504&#45;&gt;13035639840 -->\n<g id=\"edge57\" class=\"edge\">\n<title>13035639504&#45;&gt;13035639840</title>\n<path fill=\"none\" stroke=\"black\" d=\"M989,-1388.84C989,-1382.22 989,-1373.22 989,-1365.02\"/>\n<polygon fill=\"black\" stroke=\"black\" points=\"992.5,-1365.09 989,-1355.09 985.5,-1365.09 992.5,-1365.09\"/>\n</g>\n<!-- 13035959424 -->\n<g id=\"node60\" class=\"node\">\n<title>13035959424</title>\n<polygon fill=\"lightblue\" stroke=\"black\" points=\"1039,-1478.75 985,-1478.75 985,-1446 1039,-1446 1039,-1478.75\"/>\n<text text-anchor=\"middle\" x=\"1012\" y=\"-1453.25\" font-family=\"monospace\" font-size=\"10.00\"> (64)</text>\n</g>\n<!-- 13035959424&#45;&gt;13035639504 -->\n<g id=\"edge58\" class=\"edge\">\n<title>13035959424&#45;&gt;13035639504</title>\n<path fill=\"none\" stroke=\"black\" d=\"M1006.08,-1445.73C1003.18,-1438.08 999.66,-1428.79 996.58,-1420.64\"/>\n<polygon fill=\"black\" stroke=\"black\" points=\"999.96,-1419.68 993.14,-1411.57 993.41,-1422.16 999.96,-1419.68\"/>\n</g>\n<!-- 13035648576 -->\n<g id=\"node61\" class=\"node\">\n<title>13035648576</title>\n<polygon fill=\"lightgrey\" stroke=\"black\" points=\"1157,-1410 1057,-1410 1057,-1389.25 1157,-1389.25 1157,-1410\"/>\n<text text-anchor=\"middle\" x=\"1107\" y=\"-1396.5\" font-family=\"monospace\" font-size=\"10.00\">AccumulateGrad</text>\n</g>\n<!-- 13035648576&#45;&gt;13035639840 -->\n<g id=\"edge59\" class=\"edge\">\n<title>13035648576&#45;&gt;13035639840</title>\n<path fill=\"none\" stroke=\"black\" d=\"M1085.9,-1388.84C1067.61,-1380.35 1040.9,-1367.95 1020.14,-1358.33\"/>\n<polygon fill=\"black\" stroke=\"black\" points=\"1021.83,-1355.25 1011.29,-1354.22 1018.88,-1361.6 1021.83,-1355.25\"/>\n</g>\n<!-- 13035960304 -->\n<g id=\"node62\" class=\"node\">\n<title>13035960304</title>\n<polygon fill=\"lightblue\" stroke=\"black\" points=\"1134,-1478.75 1080,-1478.75 1080,-1446 1134,-1446 1134,-1478.75\"/>\n<text text-anchor=\"middle\" x=\"1107\" y=\"-1453.25\" font-family=\"monospace\" font-size=\"10.00\"> (64)</text>\n</g>\n<!-- 13035960304&#45;&gt;13035648576 -->\n<g id=\"edge60\" class=\"edge\">\n<title>13035960304&#45;&gt;13035648576</title>\n<path fill=\"none\" stroke=\"black\" d=\"M1107,-1445.73C1107,-1438.35 1107,-1429.43 1107,-1421.49\"/>\n<polygon fill=\"black\" stroke=\"black\" points=\"1110.5,-1421.66 1107,-1411.66 1103.5,-1421.66 1110.5,-1421.66\"/>\n</g>\n<!-- 13035641424 -->\n<g id=\"node63\" class=\"node\">\n<title>13035641424</title>\n<polygon fill=\"lightgrey\" stroke=\"black\" points=\"1130,-1153 1054,-1153 1054,-1132.25 1130,-1132.25 1130,-1153\"/>\n<text text-anchor=\"middle\" x=\"1092\" y=\"-1139.5\" font-family=\"monospace\" font-size=\"10.00\">TBackward0</text>\n</g>\n<!-- 13035641424&#45;&gt;13035641472 -->\n<g id=\"edge61\" class=\"edge\">\n<title>13035641424&#45;&gt;13035641472</title>\n<path fill=\"none\" stroke=\"black\" d=\"M1080.05,-1131.78C1067.29,-1121.26 1046.85,-1104.42 1031.51,-1091.78\"/>\n<polygon fill=\"black\" stroke=\"black\" points=\"1033.85,-1089.17 1023.91,-1085.51 1029.4,-1094.57 1033.85,-1089.17\"/>\n</g>\n<!-- 13035648336 -->\n<g id=\"node64\" class=\"node\">\n<title>13035648336</title>\n<polygon fill=\"lightgrey\" stroke=\"black\" points=\"1202,-1221.75 1102,-1221.75 1102,-1201 1202,-1201 1202,-1221.75\"/>\n<text text-anchor=\"middle\" x=\"1152\" y=\"-1208.25\" font-family=\"monospace\" font-size=\"10.00\">AccumulateGrad</text>\n</g>\n<!-- 13035648336&#45;&gt;13035641424 -->\n<g id=\"edge62\" class=\"edge\">\n<title>13035648336&#45;&gt;13035641424</title>\n<path fill=\"none\" stroke=\"black\" d=\"M1143.15,-1200.53C1133.91,-1190.25 1119.24,-1173.93 1107.98,-1161.4\"/>\n<polygon fill=\"black\" stroke=\"black\" points=\"1110.8,-1159.31 1101.51,-1154.21 1105.59,-1163.98 1110.8,-1159.31\"/>\n</g>\n<!-- 13035961664 -->\n<g id=\"node65\" class=\"node\">\n<title>13035961664</title>\n<polygon fill=\"lightblue\" stroke=\"black\" points=\"1199,-1296.5 1105,-1296.5 1105,-1263.75 1199,-1263.75 1199,-1296.5\"/>\n<text text-anchor=\"middle\" x=\"1152\" y=\"-1271\" font-family=\"monospace\" font-size=\"10.00\"> (128, 16384)</text>\n</g>\n<!-- 13035961664&#45;&gt;13035648336 -->\n<g id=\"edge63\" class=\"edge\">\n<title>13035961664&#45;&gt;13035648336</title>\n<path fill=\"none\" stroke=\"black\" d=\"M1152,-1263.31C1152,-1254.41 1152,-1243.18 1152,-1233.53\"/>\n<polygon fill=\"black\" stroke=\"black\" points=\"1155.5,-1233.6 1152,-1223.6 1148.5,-1233.6 1155.5,-1233.6\"/>\n</g>\n<!-- 13035649680 -->\n<g id=\"node66\" class=\"node\">\n<title>13035649680</title>\n<polygon fill=\"lightgrey\" stroke=\"black\" points=\"1202,-1084.25 1102,-1084.25 1102,-1063.5 1202,-1063.5 1202,-1084.25\"/>\n<text text-anchor=\"middle\" x=\"1152\" y=\"-1070.75\" font-family=\"monospace\" font-size=\"10.00\">AccumulateGrad</text>\n</g>\n<!-- 13035649680&#45;&gt;13035637392 -->\n<g id=\"edge64\" class=\"edge\">\n<title>13035649680&#45;&gt;13035637392</title>\n<path fill=\"none\" stroke=\"black\" d=\"M1154.66,-1063.03C1157.24,-1053.45 1161.24,-1038.62 1164.5,-1026.5\"/>\n<polygon fill=\"black\" stroke=\"black\" points=\"1167.83,-1027.61 1167.06,-1017.04 1161.07,-1025.79 1167.83,-1027.61\"/>\n</g>\n<!-- 13035962144 -->\n<g id=\"node67\" class=\"node\">\n<title>13035962144</title>\n<polygon fill=\"lightblue\" stroke=\"black\" points=\"1202,-1159 1148,-1159 1148,-1126.25 1202,-1126.25 1202,-1159\"/>\n<text text-anchor=\"middle\" x=\"1175\" y=\"-1133.5\" font-family=\"monospace\" font-size=\"10.00\"> (128)</text>\n</g>\n<!-- 13035962144&#45;&gt;13035649680 -->\n<g id=\"edge65\" class=\"edge\">\n<title>13035962144&#45;&gt;13035649680</title>\n<path fill=\"none\" stroke=\"black\" d=\"M1169.55,-1125.81C1166.41,-1116.71 1162.44,-1105.17 1159.07,-1095.38\"/>\n<polygon fill=\"black\" stroke=\"black\" points=\"1162.41,-1094.33 1155.84,-1086.02 1155.79,-1096.61 1162.41,-1094.33\"/>\n</g>\n<!-- 13035642144 -->\n<g id=\"node68\" class=\"node\">\n<title>13035642144</title>\n<polygon fill=\"lightgrey\" stroke=\"black\" points=\"1320,-1084.25 1220,-1084.25 1220,-1063.5 1320,-1063.5 1320,-1084.25\"/>\n<text text-anchor=\"middle\" x=\"1270\" y=\"-1070.75\" font-family=\"monospace\" font-size=\"10.00\">AccumulateGrad</text>\n</g>\n<!-- 13035642144&#45;&gt;13035637392 -->\n<g id=\"edge66\" class=\"edge\">\n<title>13035642144&#45;&gt;13035637392</title>\n<path fill=\"none\" stroke=\"black\" d=\"M1255.24,-1063.03C1239.13,-1052.27 1213.07,-1034.87 1194,-1022.14\"/>\n<polygon fill=\"black\" stroke=\"black\" points=\"1196.01,-1019.28 1185.75,-1016.64 1192.12,-1025.1 1196.01,-1019.28\"/>\n</g>\n<!-- 13035961904 -->\n<g id=\"node69\" class=\"node\">\n<title>13035961904</title>\n<polygon fill=\"lightblue\" stroke=\"black\" points=\"1297,-1159 1243,-1159 1243,-1126.25 1297,-1126.25 1297,-1159\"/>\n<text text-anchor=\"middle\" x=\"1270\" y=\"-1133.5\" font-family=\"monospace\" font-size=\"10.00\"> (128)</text>\n</g>\n<!-- 13035961904&#45;&gt;13035642144 -->\n<g id=\"edge67\" class=\"edge\">\n<title>13035961904&#45;&gt;13035642144</title>\n<path fill=\"none\" stroke=\"black\" d=\"M1270,-1125.81C1270,-1116.91 1270,-1105.68 1270,-1096.03\"/>\n<polygon fill=\"black\" stroke=\"black\" points=\"1273.5,-1096.1 1270,-1086.1 1266.5,-1096.1 1273.5,-1096.1\"/>\n</g>\n<!-- 13035645696 -->\n<g id=\"node70\" class=\"node\">\n<title>13035645696</title>\n<polygon fill=\"lightgrey\" stroke=\"black\" points=\"1360,-952.75 1284,-952.75 1284,-932 1360,-932 1360,-952.75\"/>\n<text text-anchor=\"middle\" x=\"1322\" y=\"-939.25\" font-family=\"monospace\" font-size=\"10.00\">TBackward0</text>\n</g>\n<!-- 13035645696&#45;&gt;13035642336 -->\n<g id=\"edge68\" class=\"edge\">\n<title>13035645696&#45;&gt;13035642336</title>\n<path fill=\"none\" stroke=\"black\" d=\"M1295.36,-931.59C1271.7,-922.89 1236.88,-910.1 1210.43,-900.38\"/>\n<polygon fill=\"black\" stroke=\"black\" points=\"1211.67,-897.11 1201.08,-896.94 1209.26,-903.68 1211.67,-897.11\"/>\n</g>\n<!-- 13035640656 -->\n<g id=\"node71\" class=\"node\">\n<title>13035640656</title>\n<polygon fill=\"lightgrey\" stroke=\"black\" points=\"1404,-1015.5 1304,-1015.5 1304,-994.75 1404,-994.75 1404,-1015.5\"/>\n<text text-anchor=\"middle\" x=\"1354\" y=\"-1002\" font-family=\"monospace\" font-size=\"10.00\">AccumulateGrad</text>\n</g>\n<!-- 13035640656&#45;&gt;13035645696 -->\n<g id=\"edge69\" class=\"edge\">\n<title>13035640656&#45;&gt;13035645696</title>\n<path fill=\"none\" stroke=\"black\" d=\"M1348.86,-994.36C1344.4,-985.9 1337.81,-973.39 1332.28,-962.89\"/>\n<polygon fill=\"black\" stroke=\"black\" points=\"1335.49,-961.47 1327.73,-954.25 1329.29,-964.73 1335.49,-961.47\"/>\n</g>\n<!-- 13035950544 -->\n<g id=\"node72\" class=\"node\">\n<title>13035950544</title>\n<polygon fill=\"lightblue\" stroke=\"black\" points=\"1408,-1090.25 1338,-1090.25 1338,-1057.5 1408,-1057.5 1408,-1090.25\"/>\n<text text-anchor=\"middle\" x=\"1373\" y=\"-1064.75\" font-family=\"monospace\" font-size=\"10.00\"> (4, 128)</text>\n</g>\n<!-- 13035950544&#45;&gt;13035640656 -->\n<g id=\"edge70\" class=\"edge\">\n<title>13035950544&#45;&gt;13035640656</title>\n<path fill=\"none\" stroke=\"black\" d=\"M1368.5,-1057.06C1365.91,-1047.96 1362.62,-1036.42 1359.84,-1026.63\"/>\n<polygon fill=\"black\" stroke=\"black\" points=\"1363.28,-1025.95 1357.18,-1017.29 1356.55,-1027.87 1363.28,-1025.95\"/>\n</g>\n<!-- 13035644592 -->\n<g id=\"node73\" class=\"node\">\n<title>13035644592</title>\n<polygon fill=\"lightgrey\" stroke=\"black\" points=\"1163,-725.75 1051,-725.75 1051,-705 1163,-705 1163,-725.75\"/>\n<text text-anchor=\"middle\" x=\"1107\" y=\"-712.25\" font-family=\"monospace\" font-size=\"10.00\">SigmoidBackward0</text>\n</g>\n<!-- 13035644592&#45;&gt;13035637104 -->\n<g id=\"edge71\" class=\"edge\">\n<title>13035644592&#45;&gt;13035637104</title>\n<path fill=\"none\" stroke=\"black\" d=\"M1107,-704.59C1107,-697.97 1107,-688.97 1107,-680.77\"/>\n<polygon fill=\"black\" stroke=\"black\" points=\"1110.5,-680.84 1107,-670.84 1103.5,-680.84 1110.5,-680.84\"/>\n</g>\n<!-- 13035636816 -->\n<g id=\"node74\" class=\"node\">\n<title>13035636816</title>\n<polygon fill=\"lightgrey\" stroke=\"black\" points=\"1163,-782.5 1057,-782.5 1057,-761.75 1163,-761.75 1163,-782.5\"/>\n<text text-anchor=\"middle\" x=\"1110\" y=\"-769\" font-family=\"monospace\" font-size=\"10.00\">SelectBackward0</text>\n</g>\n<!-- 13035636816&#45;&gt;13035644592 -->\n<g id=\"edge72\" class=\"edge\">\n<title>13035636816&#45;&gt;13035644592</title>\n<path fill=\"none\" stroke=\"black\" d=\"M1109.46,-761.34C1109.1,-754.72 1108.61,-745.72 1108.16,-737.52\"/>\n<polygon fill=\"black\" stroke=\"black\" points=\"1111.66,-737.38 1107.61,-727.59 1104.67,-737.77 1111.66,-737.38\"/>\n</g>\n<!-- 13035641568&#45;&gt;13035636816 -->\n<g id=\"edge73\" class=\"edge\">\n<title>13035641568&#45;&gt;13035636816</title>\n<path fill=\"none\" stroke=\"black\" d=\"M1112.46,-818.09C1112.1,-811.47 1111.61,-802.47 1111.16,-794.27\"/>\n<polygon fill=\"black\" stroke=\"black\" points=\"1114.66,-794.13 1110.61,-784.34 1107.67,-794.52 1114.66,-794.13\"/>\n</g>\n<!-- 13036623120 -->\n<g id=\"node76\" class=\"node\">\n<title>13036623120</title>\n<polygon fill=\"lightgrey\" stroke=\"black\" points=\"1293,-486.75 1181,-486.75 1181,-466 1293,-466 1293,-486.75\"/>\n<text text-anchor=\"middle\" x=\"1237\" y=\"-473.25\" font-family=\"monospace\" font-size=\"10.00\">SigmoidBackward0</text>\n</g>\n<!-- 13036623120&#45;&gt;13036631808 -->\n<g id=\"edge75\" class=\"edge\">\n<title>13036623120&#45;&gt;13036631808</title>\n<path fill=\"none\" stroke=\"black\" d=\"M1225.38,-465.59C1216.14,-457.8 1202.99,-446.72 1192.05,-437.51\"/>\n<polygon fill=\"black\" stroke=\"black\" points=\"1194.58,-435.07 1184.68,-431.3 1190.07,-440.42 1194.58,-435.07\"/>\n</g>\n<!-- 13035644112 -->\n<g id=\"node77\" class=\"node\">\n<title>13035644112</title>\n<polygon fill=\"lightgrey\" stroke=\"black\" points=\"1281,-606.25 1193,-606.25 1193,-585.5 1281,-585.5 1281,-606.25\"/>\n<text text-anchor=\"middle\" x=\"1237\" y=\"-592.75\" font-family=\"monospace\" font-size=\"10.00\">MulBackward0</text>\n</g>\n<!-- 13035644112&#45;&gt;13036623120 -->\n<g id=\"edge76\" class=\"edge\">\n<title>13035644112&#45;&gt;13036623120</title>\n<path fill=\"none\" stroke=\"black\" d=\"M1237,-585.26C1237,-566.41 1237,-524.21 1237,-498.53\"/>\n<polygon fill=\"black\" stroke=\"black\" points=\"1240.5,-498.64 1237,-488.64 1233.5,-498.64 1240.5,-498.64\"/>\n</g>\n<!-- 13035646416 -->\n<g id=\"node78\" class=\"node\">\n<title>13035646416</title>\n<polygon fill=\"lightgrey\" stroke=\"black\" points=\"1281,-669 1193,-669 1193,-648.25 1281,-648.25 1281,-669\"/>\n<text text-anchor=\"middle\" x=\"1237\" y=\"-655.5\" font-family=\"monospace\" font-size=\"10.00\">SubBackward0</text>\n</g>\n<!-- 13035646416&#45;&gt;13035644112 -->\n<g id=\"edge77\" class=\"edge\">\n<title>13035646416&#45;&gt;13035644112</title>\n<path fill=\"none\" stroke=\"black\" d=\"M1237,-647.86C1237,-639.76 1237,-627.94 1237,-617.72\"/>\n<polygon fill=\"black\" stroke=\"black\" points=\"1240.5,-617.92 1237,-607.92 1233.5,-617.92 1240.5,-617.92\"/>\n</g>\n<!-- 13035650352 -->\n<g id=\"node79\" class=\"node\">\n<title>13035650352</title>\n<polygon fill=\"lightgrey\" stroke=\"black\" points=\"1293,-725.75 1181,-725.75 1181,-705 1293,-705 1293,-725.75\"/>\n<text text-anchor=\"middle\" x=\"1237\" y=\"-712.25\" font-family=\"monospace\" font-size=\"10.00\">SigmoidBackward0</text>\n</g>\n<!-- 13035650352&#45;&gt;13035646416 -->\n<g id=\"edge78\" class=\"edge\">\n<title>13035650352&#45;&gt;13035646416</title>\n<path fill=\"none\" stroke=\"black\" d=\"M1237,-704.59C1237,-697.97 1237,-688.97 1237,-680.77\"/>\n<polygon fill=\"black\" stroke=\"black\" points=\"1240.5,-680.84 1237,-670.84 1233.5,-680.84 1240.5,-680.84\"/>\n</g>\n<!-- 13035648096 -->\n<g id=\"node80\" class=\"node\">\n<title>13035648096</title>\n<polygon fill=\"lightgrey\" stroke=\"black\" points=\"1288,-782.5 1182,-782.5 1182,-761.75 1288,-761.75 1288,-782.5\"/>\n<text text-anchor=\"middle\" x=\"1235\" y=\"-769\" font-family=\"monospace\" font-size=\"10.00\">SelectBackward0</text>\n</g>\n<!-- 13035648096&#45;&gt;13035650352 -->\n<g id=\"edge79\" class=\"edge\">\n<title>13035648096&#45;&gt;13035650352</title>\n<path fill=\"none\" stroke=\"black\" d=\"M1235.36,-761.34C1235.6,-754.72 1235.93,-745.72 1236.23,-737.52\"/>\n<polygon fill=\"black\" stroke=\"black\" points=\"1239.72,-737.71 1236.59,-727.59 1232.73,-737.46 1239.72,-737.71\"/>\n</g>\n<!-- 13035647424&#45;&gt;13035648096 -->\n<g id=\"edge80\" class=\"edge\">\n<title>13035647424&#45;&gt;13035648096</title>\n<path fill=\"none\" stroke=\"black\" d=\"M1233.36,-818.09C1233.6,-811.47 1233.93,-802.47 1234.23,-794.27\"/>\n<polygon fill=\"black\" stroke=\"black\" points=\"1237.72,-794.46 1234.59,-784.34 1230.73,-794.21 1237.72,-794.46\"/>\n</g>\n<!-- 13035650736 -->\n<g id=\"node82\" class=\"node\">\n<title>13035650736</title>\n<polygon fill=\"lightgrey\" stroke=\"black\" points=\"1423,-725.75 1311,-725.75 1311,-705 1423,-705 1423,-725.75\"/>\n<text text-anchor=\"middle\" x=\"1367\" y=\"-712.25\" font-family=\"monospace\" font-size=\"10.00\">SigmoidBackward0</text>\n</g>\n<!-- 13035650736&#45;&gt;13035646416 -->\n<g id=\"edge82\" class=\"edge\">\n<title>13035650736&#45;&gt;13035646416</title>\n<path fill=\"none\" stroke=\"black\" d=\"M1343.76,-704.59C1323.33,-695.98 1293.36,-683.36 1270.37,-673.68\"/>\n<polygon fill=\"black\" stroke=\"black\" points=\"1272.01,-670.57 1261.44,-669.92 1269.29,-677.02 1272.01,-670.57\"/>\n</g>\n<!-- 13035635568 -->\n<g id=\"node83\" class=\"node\">\n<title>13035635568</title>\n<polygon fill=\"lightgrey\" stroke=\"black\" points=\"1416,-782.5 1310,-782.5 1310,-761.75 1416,-761.75 1416,-782.5\"/>\n<text text-anchor=\"middle\" x=\"1363\" y=\"-769\" font-family=\"monospace\" font-size=\"10.00\">SelectBackward0</text>\n</g>\n<!-- 13035635568&#45;&gt;13035650736 -->\n<g id=\"edge83\" class=\"edge\">\n<title>13035635568&#45;&gt;13035650736</title>\n<path fill=\"none\" stroke=\"black\" d=\"M1363.72,-761.34C1364.2,-754.72 1364.86,-745.72 1365.46,-737.52\"/>\n<polygon fill=\"black\" stroke=\"black\" points=\"1368.94,-737.82 1366.18,-727.59 1361.96,-737.31 1368.94,-737.82\"/>\n</g>\n<!-- 13035648672&#45;&gt;13035635568 -->\n<g id=\"edge84\" class=\"edge\">\n<title>13035648672&#45;&gt;13035635568</title>\n<path fill=\"none\" stroke=\"black\" d=\"M1358.07,-818.09C1358.8,-811.47 1359.78,-802.47 1360.68,-794.27\"/>\n<polygon fill=\"black\" stroke=\"black\" points=\"1364.16,-794.65 1361.77,-784.33 1357.2,-793.89 1364.16,-794.65\"/>\n</g>\n</g>\n</svg>\n",
      "text/plain": [
       "<graphviz.graphs.Digraph at 0x3090b2cf0>"
      ]
     },
     "execution_count": 136,
     "metadata": {},
     "output_type": "execute_result"
    }
   ],
   "execution_count": 136
  },
  {
   "metadata": {},
   "cell_type": "code",
   "outputs": [],
   "execution_count": null,
   "source": "",
   "id": "b7711d167eaaab8a"
  }
 ],
 "metadata": {
  "kernelspec": {
   "display_name": "Python 3",
   "language": "python",
   "name": "python3"
  },
  "language_info": {
   "codemirror_mode": {
    "name": "ipython",
    "version": 3
   },
   "file_extension": ".py",
   "mimetype": "text/x-python",
   "name": "python",
   "nbconvert_exporter": "python",
   "pygments_lexer": "ipython3",
   "version": "3.12.4"
  }
 },
 "nbformat": 4,
 "nbformat_minor": 5
}
