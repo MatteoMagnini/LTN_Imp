{
 "cells": [
  {
   "cell_type": "code",
   "execution_count": 1,
   "metadata": {
    "ExecuteTime": {
     "end_time": "2024-08-08T08:53:00.447406Z",
     "start_time": "2024-08-08T08:53:00.445019Z"
    }
   },
   "outputs": [],
   "source": [
    "from ltn_imp.parsing.parser import LTNConverter\n",
    "from ltn_imp.parsing.yaml_parsing import parse_yaml\n",
    "from ltn_imp.parsing.ancillary_modules import ModuleFactory\n",
    "import torch"
   ]
  },
  {
   "cell_type": "code",
   "execution_count": 5,
   "metadata": {},
   "outputs": [
    {
     "data": {
      "text/plain": [
       "tensor([0.3679, 0.3679, 0.3679, 0.0498], dtype=torch.float64)"
      ]
     },
     "execution_count": 5,
     "metadata": {},
     "output_type": "execute_result"
    }
   ],
   "source": [
    "LTNConverter()(\"t1 = t2\")({\"t1\": torch.tensor([20, 20, 30, 10], dtype=float), \"t2\": torch.tensor([20,20,30,-10], dtype=float)})"
   ]
  },
  {
   "cell_type": "code",
   "execution_count": 3,
   "metadata": {},
   "outputs": [
    {
     "data": {
      "text/plain": [
       "tensor([0.3208, 0.3097, 0.0993], dtype=torch.float64)"
      ]
     },
     "execution_count": 3,
     "metadata": {},
     "output_type": "execute_result"
    }
   ],
   "source": [
    "LTNConverter()(\"t1 = t2\")({\"t1\": torch.tensor([200, 200, 300], dtype=float), \"t2\": torch.tensor([90, 91, 92], dtype=float)})"
   ]
  },
  {
   "cell_type": "code",
   "execution_count": null,
   "metadata": {},
   "outputs": [],
   "source": []
  }
 ],
 "metadata": {
  "kernelspec": {
   "display_name": ".venv",
   "language": "python",
   "name": "python3"
  },
  "language_info": {
   "codemirror_mode": {
    "name": "ipython",
    "version": 3
   },
   "file_extension": ".py",
   "mimetype": "text/x-python",
   "name": "python",
   "nbconvert_exporter": "python",
   "pygments_lexer": "ipython3",
   "version": "3.12.4"
  }
 },
 "nbformat": 4,
 "nbformat_minor": 2
}
