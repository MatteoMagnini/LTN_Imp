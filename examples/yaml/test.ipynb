{
 "cells": [
  {
   "cell_type": "code",
   "execution_count": 1,
   "metadata": {},
   "outputs": [],
   "source": [
    "from ltn_imp.parsing.parser import LTNConverter\n",
    "import torch"
   ]
  },
  {
   "cell_type": "code",
   "execution_count": 2,
   "metadata": {},
   "outputs": [
    {
     "name": "stdout",
     "output_type": "stream",
     "text": [
      "Instances: ['flower']\n",
      "Features: {'flower': [{'in': 'sepal_length'}, {'in': 'sepal_width'}, {'in': 'petal_length'}, {'in': 'petal_width'}, {'out': 'class'}]}\n",
      "Constants: ['setosa', 'versicolor', 'virginica']\n",
      "Learnable: [{'predicate': 'Iris', 'args': [{'in': 'flower'}, {'out': 'type'}], 'structure': {'type': 'feed-forward', 'layers': {'in': 'flower', 'hidden': ['len(features) * 2', 'len(features)'], 'out': 'ohe(type)'}}}]\n",
      "Knowledge: [{'predicate': 'only_one_of_3', 'args': {'in': ['x', 'c1', 'c3', 'c3']}, 'if': ['x = c1 <-> not (flower = c2 or flower = c3)', 'x = c2 <-> not (flower = c1 or flower = c3)', 'x = c3 <-> not (flower = c1 or flower = c2)']}]\n",
      "Constraints: ['forall flower. exists c. (flower[class] = c) <-> Iris(flower, c)', 'forall flower. Iris(flower, c) and Only_one_of_three(c, setosa, versicolor, virginica)']\n"
     ]
    }
   ],
   "source": [
    "with open('test.yaml', 'r') as f:\n",
    "    converter = LTNConverter(yaml_file=f)"
   ]
  },
  {
   "cell_type": "code",
   "execution_count": 27,
   "metadata": {},
   "outputs": [],
   "source": [
    "rule = \"flower[class]\""
   ]
  },
  {
   "cell_type": "code",
   "execution_count": 28,
   "metadata": {},
   "outputs": [
    {
     "data": {
      "text/plain": [
       "tensor([5., 5.], dtype=torch.float64, grad_fn=<SelectBackward0>)"
      ]
     },
     "execution_count": 28,
     "metadata": {},
     "output_type": "execute_result"
    }
   ],
   "source": [
    "converter(rule)({\"flower\": torch.tensor( [[1, 2, 3, 4, 5],\n",
    "                                          [1, 2, 3, 4, 5]] , requires_grad=True, dtype=float), \"c\": torch.tensor([2])})"
   ]
  },
  {
   "cell_type": "code",
   "execution_count": null,
   "metadata": {},
   "outputs": [],
   "source": []
  }
 ],
 "metadata": {
  "kernelspec": {
   "display_name": ".venv",
   "language": "python",
   "name": "python3"
  },
  "language_info": {
   "codemirror_mode": {
    "name": "ipython",
    "version": 3
   },
   "file_extension": ".py",
   "mimetype": "text/x-python",
   "name": "python",
   "nbconvert_exporter": "python",
   "pygments_lexer": "ipython3",
   "version": "3.12.4"
  }
 },
 "nbformat": 4,
 "nbformat_minor": 2
}
