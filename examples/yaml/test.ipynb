{
 "cells": [
  {
   "cell_type": "code",
   "execution_count": 1,
   "metadata": {},
   "outputs": [],
   "source": [
    "from ltn_imp.parsing.parser import LTNConverter\n",
    "import torch\n",
    "from ltn_imp.automation.data_loaders import LoaderWrapper\n",
    "from ltn_imp.automation.knowledge_base import KnowledgeBase"
   ]
  },
  {
   "cell_type": "code",
   "execution_count": 2,
   "metadata": {},
   "outputs": [],
   "source": [
    "with open('test.yaml', 'r') as f:\n",
    "    converter = LTNConverter(yaml_file=f)"
   ]
  },
  {
   "cell_type": "code",
   "execution_count": 3,
   "metadata": {},
   "outputs": [
    {
     "data": {
      "text/plain": [
       "{<VariableExpression>: c,\n",
       " <VariableExpression>: flower,\n",
       " <VariableExpression>: flower2,\n",
       " <VariableExpression>: setosa,\n",
       " <VariableExpression>: versicolor,\n",
       " <VariableExpression>: virginica}"
      ]
     },
     "execution_count": 3,
     "metadata": {},
     "output_type": "execute_result"
    }
   ],
   "source": [
    "converter.parse(converter.yaml[\"constraints\"][1]).variables()"
   ]
  },
  {
   "cell_type": "code",
   "execution_count": 4,
   "metadata": {},
   "outputs": [
    {
     "data": {
      "text/plain": [
       "{'Iris': Ellipsis, 'Iris_2': Ellipsis}"
      ]
     },
     "execution_count": 4,
     "metadata": {},
     "output_type": "execute_result"
    }
   ],
   "source": [
    "learnables = converter.yaml[\"predicates\"]\n",
    "predicates = list(learnables.keys())\n",
    "predicates = { pred : ... for pred in predicates} # TODO: This part initializes the Neural Networks\n",
    "predicates"
   ]
  },
  {
   "cell_type": "code",
   "execution_count": 5,
   "metadata": {},
   "outputs": [],
   "source": [
    "loaders = []\n",
    "\n",
    "for pred in predicates.keys():\n",
    "\n",
    "    values = [ list(_.values())[0] for _ in converter.yaml[\"predicates\"][pred][\"args\"]]\n",
    "    keys = [ list(_.keys())[0] for _ in converter.yaml[\"predicates\"][pred][\"args\"]]\n",
    "\n",
    "    variables = []\n",
    "    targets = []\n",
    "\n",
    "    for k,v in zip(keys, values):\n",
    "        if k == \"in\":\n",
    "            variables.append(v)\n",
    "        else:\n",
    "            targets.append(v)\n",
    "\n",
    "    loaders.append(LoaderWrapper(loader=..., variables=variables, targets=targets)) # TODO: Decide how to map the Dataloader here"
   ]
  },
  {
   "cell_type": "code",
   "execution_count": 6,
   "metadata": {},
   "outputs": [
    {
     "data": {
      "text/plain": [
       "[<Loader>: ['flower'] -> ['type'], <Loader>: ['flower2'] -> ['type_2']]"
      ]
     },
     "execution_count": 6,
     "metadata": {},
     "output_type": "execute_result"
    }
   ],
   "source": [
    "loaders"
   ]
  },
  {
   "cell_type": "code",
   "execution_count": 7,
   "metadata": {},
   "outputs": [],
   "source": [
    "rule_to_loader_mapping = {}\n",
    "\n",
    "for rule in converter.yaml[\"constraints\"]:\n",
    "    variables = converter.parse(rule).variables()\n",
    "    for v in variables:\n",
    "        for loader in loaders:\n",
    "            if str(v) in loader.variables or str(v) in loader.targets:\n",
    "                if rule in rule_to_loader_mapping.keys():\n",
    "                    rule_to_loader_mapping[rule].append(loader)\n",
    "                else:\n",
    "                    rule_to_loader_mapping[rule] = [loader]"
   ]
  },
  {
   "cell_type": "code",
   "execution_count": 8,
   "metadata": {},
   "outputs": [
    {
     "data": {
      "text/plain": [
       "{'forall flower. exists c. (flower[class] = c) <-> Iris(flower, c)': [<Loader>: ['flower'] -> ['type']],\n",
       " 'forall flower2. Iris(flower, c) and Only_one_of_three(c, setosa, versicolor, virginica)': [<Loader>: ['flower2'] -> ['type_2'],\n",
       "  <Loader>: ['flower'] -> ['type']]}"
      ]
     },
     "execution_count": 8,
     "metadata": {},
     "output_type": "execute_result"
    }
   ],
   "source": [
    "rule_to_loader_mapping"
   ]
  }
 ],
 "metadata": {
  "kernelspec": {
   "display_name": ".venv",
   "language": "python",
   "name": "python3"
  },
  "language_info": {
   "codemirror_mode": {
    "name": "ipython",
    "version": 3
   },
   "file_extension": ".py",
   "mimetype": "text/x-python",
   "name": "python",
   "nbconvert_exporter": "python",
   "pygments_lexer": "ipython3",
   "version": "3.12.4"
  }
 },
 "nbformat": 4,
 "nbformat_minor": 2
}
