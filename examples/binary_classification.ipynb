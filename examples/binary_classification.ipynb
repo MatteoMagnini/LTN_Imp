{
 "cells": [
  {
   "cell_type": "code",
   "execution_count": 1,
   "metadata": {},
   "outputs": [],
   "source": [
    "import torch\n",
    "import ltn\n",
    "import numpy as np\n",
    "from ltn_imp.automation.knowledge_base import KnowledgeBase\n",
    "from sklearn.metrics import accuracy_score\n",
    "import numpy as np\n",
    "from ltn_imp.fuzzy_operators.aggregators import SatAgg"
   ]
  },
  {
   "cell_type": "markdown",
   "metadata": {},
   "source": [
    "## Data and Model Preparation"
   ]
  },
  {
   "cell_type": "code",
   "execution_count": 2,
   "metadata": {},
   "outputs": [],
   "source": [
    "class ModelA(torch.nn.Module):\n",
    "    def __init__(self):\n",
    "        super(ModelA, self).__init__()\n",
    "        self.elu = torch.nn.ELU()\n",
    "        self.layer1 = torch.nn.Linear(2, 16)\n",
    "        self.layer2 = torch.nn.Linear(16, 16)\n",
    "        self.layer3 = torch.nn.Linear(16, 2) \n",
    "\n",
    "    def forward(self, x):\n",
    "        x = self.elu(self.layer1(x))\n",
    "        x = self.elu(self.layer2(x))\n",
    "        logits = self.layer3(x)\n",
    "        return logits\n",
    "\n",
    "class LogitsToPredicate(torch.nn.Module):\n",
    "    def __init__(self, logits_model):\n",
    "        super(LogitsToPredicate, self).__init__()\n",
    "        self.logits_model = logits_model\n",
    "        self.softmax = torch.nn.Softmax(dim=1)\n",
    "\n",
    "    def forward(self, x, y, training=True):\n",
    "        logits = self.logits_model(x)\n",
    "        probs = self.softmax(logits)\n",
    "        # y is expected to be a one-hot encoded vector\n",
    "        out = torch.sum(probs * y, dim=1, keepdim=True)\n",
    "        return out"
   ]
  },
  {
   "cell_type": "code",
   "execution_count": 3,
   "metadata": {},
   "outputs": [],
   "source": [
    "nr_samples = 100\n",
    "dataset = torch.rand((nr_samples, 2))\n",
    "labels_dataset = torch.sum(torch.square(dataset - torch.tensor([.5, .5])), dim=1) < .09"
   ]
  },
  {
   "cell_type": "code",
   "execution_count": 4,
   "metadata": {},
   "outputs": [],
   "source": [
    "class DataLoader(object):\n",
    "    def __init__(self,\n",
    "                 data,\n",
    "                 labels,\n",
    "                 batch_size=1,\n",
    "                 shuffle=True):\n",
    "        \n",
    "        self.data = data\n",
    "        self.labels = labels\n",
    "        self.batch_size = batch_size\n",
    "        self.shuffle = shuffle\n",
    "\n",
    "    def __len__(self):\n",
    "        return int(np.ceil(self.data.shape[0] / self.batch_size))\n",
    "\n",
    "    def __iter__(self):\n",
    "        n = self.data.shape[0]\n",
    "        idxlist = list(range(n))\n",
    "        if self.shuffle:\n",
    "            np.random.shuffle(idxlist)\n",
    "\n",
    "        for _, start_idx in enumerate(range(0, n, self.batch_size)):\n",
    "            end_idx = min(start_idx + self.batch_size, n)\n",
    "            data = self.data[idxlist[start_idx:end_idx]]\n",
    "            labels = self.labels[idxlist[start_idx:end_idx]]\n",
    "            yield data, labels\n",
    "            \n",
    "train_loader = DataLoader(dataset[:50], labels_dataset[:50], batch_size=64, shuffle=True)\n",
    "test_loader = DataLoader(dataset[50:], labels_dataset[50:], batch_size=64, shuffle=False)"
   ]
  },
  {
   "cell_type": "code",
   "execution_count": 5,
   "metadata": {},
   "outputs": [],
   "source": [
    "def compute_accuracy(loader, model):\n",
    "    mean_accuracy = 0.0\n",
    "    for data, labels in loader:\n",
    "        predictions = model(data).detach().numpy()\n",
    "        predictions = np.argmax(predictions, axis=1)\n",
    "        mean_accuracy += accuracy_score(labels, predictions)\n",
    "    return mean_accuracy / len(loader)"
   ]
  },
  {
   "cell_type": "markdown",
   "metadata": {},
   "source": [
    "## My Implementation "
   ]
  },
  {
   "cell_type": "code",
   "execution_count": 6,
   "metadata": {},
   "outputs": [],
   "source": [
    "a = ModelA() # type: ignore\n",
    "model = LogitsToPredicate(a) # type: ignore\n",
    "predicates = {\"Classifier\": model}\n",
    "expression_1 = \"all x. (Classifier(x,y))\"\n",
    "rules = [expression_1]"
   ]
  },
  {
   "cell_type": "code",
   "execution_count": 7,
   "metadata": {},
   "outputs": [],
   "source": [
    "rule_to_data_loader_mapping={expression_1: [train_loader]}"
   ]
  },
  {
   "cell_type": "code",
   "execution_count": 8,
   "metadata": {},
   "outputs": [],
   "source": [
    "loader_to_variable = {train_loader: \"x\"}"
   ]
  },
  {
   "cell_type": "code",
   "execution_count": 9,
   "metadata": {},
   "outputs": [
    {
     "name": "stdout",
     "output_type": "stream",
     "text": [
      "Shape: torch.Size([16, 2])\n",
      "Requires Grad: True\n",
      "--------------------------------------------------\n",
      "Shape: torch.Size([16])\n",
      "Requires Grad: True\n",
      "--------------------------------------------------\n",
      "Shape: torch.Size([16, 16])\n",
      "Requires Grad: True\n",
      "--------------------------------------------------\n",
      "Shape: torch.Size([16])\n",
      "Requires Grad: True\n",
      "--------------------------------------------------\n",
      "Shape: torch.Size([2, 16])\n",
      "Requires Grad: True\n",
      "--------------------------------------------------\n",
      "Shape: torch.Size([2])\n",
      "Requires Grad: True\n",
      "--------------------------------------------------\n"
     ]
    }
   ],
   "source": [
    "kb = KnowledgeBase(rules=rules, predicates=predicates,\n",
    "                   rule_to_data_loader_mapping=rule_to_data_loader_mapping,\n",
    "                   num_classes=2,\n",
    "                   loader_to_variable=loader_to_variable, # type: ignore\n",
    "                   target_variable=\"y\",\n",
    "                   quantifier_impls={\"forall\" : \"pmean_error\"})"
   ]
  },
  {
   "cell_type": "code",
   "execution_count": 10,
   "metadata": {},
   "outputs": [
    {
     "data": {
      "text/plain": [
       "0.26"
      ]
     },
     "execution_count": 10,
     "metadata": {},
     "output_type": "execute_result"
    }
   ],
   "source": [
    "compute_accuracy(model = a, loader= test_loader)"
   ]
  },
  {
   "cell_type": "code",
   "execution_count": 11,
   "metadata": {},
   "outputs": [
    {
     "data": {
      "text/plain": [
       "0.28"
      ]
     },
     "execution_count": 11,
     "metadata": {},
     "output_type": "execute_result"
    }
   ],
   "source": [
    "compute_accuracy(model = a, loader= train_loader)"
   ]
  },
  {
   "cell_type": "code",
   "execution_count": 12,
   "metadata": {},
   "outputs": [
    {
     "name": "stdout",
     "output_type": "stream",
     "text": [
      "Rule <function ExpressionVisitor.visit_QuantifiedExpression.<locals>.<lambda> at 0x135d6fba0> produced output: 0.42747730016708374 for class 0\n",
      "Rule <function ExpressionVisitor.visit_QuantifiedExpression.<locals>.<lambda> at 0x135d6fba0> produced output: 0.5713341236114502 for class 1\n",
      "Epoch 1/801, Loss: 0.505735456943512\n",
      "\n",
      "Rule <function ExpressionVisitor.visit_QuantifiedExpression.<locals>.<lambda> at 0x135d6fba0> produced output: 0.4767915606498718 for class 0\n",
      "Rule <function ExpressionVisitor.visit_QuantifiedExpression.<locals>.<lambda> at 0x135d6fba0> produced output: 0.6507197618484497 for class 1\n",
      "Epoch 201/801, Loss: 0.4448279142379761\n",
      "\n",
      "Rule <function ExpressionVisitor.visit_QuantifiedExpression.<locals>.<lambda> at 0x135d6fba0> produced output: 0.5964967012405396 for class 0\n",
      "Rule <function ExpressionVisitor.visit_QuantifiedExpression.<locals>.<lambda> at 0x135d6fba0> produced output: 0.6684198975563049 for class 1\n",
      "Epoch 401/801, Loss: 0.3692967891693115\n",
      "\n",
      "Rule <function ExpressionVisitor.visit_QuantifiedExpression.<locals>.<lambda> at 0x135d6fba0> produced output: 0.8136535882949829 for class 0\n",
      "Rule <function ExpressionVisitor.visit_QuantifiedExpression.<locals>.<lambda> at 0x135d6fba0> produced output: 0.8305145502090454 for class 1\n",
      "Epoch 601/801, Loss: 0.17811554670333862\n",
      "\n",
      "Rule <function ExpressionVisitor.visit_QuantifiedExpression.<locals>.<lambda> at 0x135d6fba0> produced output: 0.9245547652244568 for class 0\n",
      "Rule <function ExpressionVisitor.visit_QuantifiedExpression.<locals>.<lambda> at 0x135d6fba0> produced output: 0.9275608062744141 for class 1\n",
      "Epoch 801/801, Loss: 0.07395750284194946\n",
      "\n"
     ]
    }
   ],
   "source": [
    "kb.optimize(801, log_steps=200)"
   ]
  },
  {
   "cell_type": "code",
   "execution_count": 13,
   "metadata": {},
   "outputs": [
    {
     "data": {
      "text/plain": [
       "1.0"
      ]
     },
     "execution_count": 13,
     "metadata": {},
     "output_type": "execute_result"
    }
   ],
   "source": [
    "compute_accuracy(model = a, loader= train_loader)"
   ]
  },
  {
   "cell_type": "code",
   "execution_count": 14,
   "metadata": {},
   "outputs": [
    {
     "data": {
      "text/plain": [
       "0.88"
      ]
     },
     "execution_count": 14,
     "metadata": {},
     "output_type": "execute_result"
    }
   ],
   "source": [
    "compute_accuracy(model = a, loader= test_loader)"
   ]
  },
  {
   "cell_type": "markdown",
   "metadata": {},
   "source": [
    "## LTN"
   ]
  },
  {
   "cell_type": "code",
   "execution_count": 15,
   "metadata": {},
   "outputs": [],
   "source": [
    "class ModelA(torch.nn.Module):\n",
    "    def __init__(self):\n",
    "        super(ModelA, self).__init__()\n",
    "        self.sigmoid = torch.nn.Sigmoid()\n",
    "        self.layer1 = torch.nn.Linear(2, 16)\n",
    "        self.layer2 = torch.nn.Linear(16, 16)\n",
    "        self.layer3 = torch.nn.Linear(16, 1)\n",
    "        self.elu = torch.nn.ELU() \n",
    "\n",
    "    def forward(self, x):\n",
    "        x = self.elu(self.layer1(x))\n",
    "        x = self.elu(self.layer2(x))\n",
    "        return self.sigmoid(self.layer3(x)) "
   ]
  },
  {
   "cell_type": "code",
   "execution_count": 16,
   "metadata": {},
   "outputs": [],
   "source": [
    "A = ltn.Predicate(ModelA()) # type: ignore\n",
    "Not = ltn.Connective(ltn.fuzzy_ops.NotStandard())\n",
    "Forall = ltn.Quantifier(ltn.fuzzy_ops.AggregPMeanError(p=2), quantifier=\"f\")\n",
    "SatAgg = ltn.fuzzy_ops.SatAgg()"
   ]
  },
  {
   "cell_type": "code",
   "execution_count": 17,
   "metadata": {},
   "outputs": [],
   "source": [
    "def compute_sat_level(loader):\n",
    "    mean_sat = 0\n",
    "    for data, labels in loader:\n",
    "        \n",
    "        x_A = ltn.Variable(\"x_A\", data[torch.nonzero(labels)])  # positive examples\n",
    "        x_not_A = ltn.Variable(\"x_not_A\", data[torch.nonzero(torch.logical_not(labels))])  # negative examples\n",
    "\n",
    "        mean_sat += SatAgg(\n",
    "            Forall(x_A, A(x_A)),\n",
    "            Forall(x_not_A, Not(A(x_not_A)))\n",
    "        )\n",
    "        \n",
    "    mean_sat /= len(loader)\n",
    "    return mean_sat\n",
    "\n",
    "def compute_accuracy(loader):\n",
    "    mean_accuracy = 0.0\n",
    "    for data, labels in loader:\n",
    "        predictions = A.model(data).detach().numpy()\n",
    "        predictions = np.where(predictions > 0.5, 1., 0.).flatten()\n",
    "        mean_accuracy += accuracy_score(labels, predictions)\n",
    "\n",
    "    return mean_accuracy / len(loader)"
   ]
  },
  {
   "cell_type": "code",
   "execution_count": 18,
   "metadata": {},
   "outputs": [
    {
     "name": "stdout",
     "output_type": "stream",
     "text": [
      " epoch 0 | loss 0.5054 | Train Sat 0.495 | Test Sat 0.496 | Train Acc 0.720 | Test Acc 0.740\n",
      "\n",
      "Positive LTNObject(value=tensor(0.4311, grad_fn=<RsubBackward1>), free_vars=[])\n",
      "Negative LTNObject(value=tensor(0.5687, grad_fn=<RsubBackward1>), free_vars=[])\n",
      "\n",
      " epoch 200 | loss 0.4411 | Train Sat 0.559 | Test Sat 0.477 | Train Acc 0.720 | Test Acc 0.540\n",
      "\n",
      "Positive LTNObject(value=tensor(0.6448, grad_fn=<RsubBackward1>), free_vars=[])\n",
      "Negative LTNObject(value=tensor(0.4875, grad_fn=<RsubBackward1>), free_vars=[])\n",
      "\n",
      " epoch 400 | loss 0.3516 | Train Sat 0.649 | Test Sat 0.523 | Train Acc 0.880 | Test Acc 0.600\n",
      "\n",
      "Positive LTNObject(value=tensor(0.7034, grad_fn=<RsubBackward1>), free_vars=[])\n",
      "Negative LTNObject(value=tensor(0.6023, grad_fn=<RsubBackward1>), free_vars=[])\n",
      "\n",
      " epoch 600 | loss 0.3002 | Train Sat 0.700 | Test Sat 0.525 | Train Acc 0.900 | Test Acc 0.640\n",
      "\n",
      "Positive LTNObject(value=tensor(0.7955, grad_fn=<RsubBackward1>), free_vars=[])\n",
      "Negative LTNObject(value=tensor(0.6282, grad_fn=<RsubBackward1>), free_vars=[])\n",
      "\n",
      " epoch 800 | loss 0.2417 | Train Sat 0.759 | Test Sat 0.611 | Train Acc 0.940 | Test Acc 0.740\n",
      "\n",
      "Positive LTNObject(value=tensor(0.8276, grad_fn=<RsubBackward1>), free_vars=[])\n",
      "Negative LTNObject(value=tensor(0.7057, grad_fn=<RsubBackward1>), free_vars=[])\n",
      "\n"
     ]
    }
   ],
   "source": [
    "optimizer = torch.optim.Adam(A.parameters(), lr=0.001)\n",
    "\n",
    "\n",
    "for epoch in range(801):\n",
    "    train_loss = 0.0\n",
    "    for batch_idx, (data, labels) in enumerate(train_loader):\n",
    "        optimizer.zero_grad()\n",
    "\n",
    "        x_A = ltn.Variable(\"x_A\", data[torch.nonzero(labels)]) # positive examples\n",
    "        x_not_A = ltn.Variable(\"x_not_A\", data[torch.nonzero(torch.logical_not(labels))]) # negative examples\n",
    "\n",
    "        sat_agg = SatAgg(\n",
    "            Forall(x_A, A(x_A)),\n",
    "            Forall(x_not_A, Not(A(x_not_A)))\n",
    "        )\n",
    "\n",
    "        loss = 1. - sat_agg\n",
    "        loss.backward()\n",
    "        optimizer.step()\n",
    "        train_loss += loss.item()\n",
    "\n",
    "    train_loss = train_loss / len(train_loader)\n",
    "\n",
    "    if epoch % 200 == 0:\n",
    "        print(\" epoch %d | loss %.4f | Train Sat %.3f | Test Sat %.3f | Train Acc %.3f | Test Acc %.3f\"\n",
    "        %(epoch, train_loss, compute_sat_level(train_loader), compute_sat_level(test_loader),\n",
    "            compute_accuracy(train_loader), compute_accuracy(test_loader)))\n",
    "        \n",
    "        print()\n",
    "        print(f\"Positive { Forall(x_A, A(x_A)) }\")\n",
    "        print(f\"Negative { Forall(x_not_A, Not(A(x_not_A)))}\") \n",
    "        print()"
   ]
  },
  {
   "cell_type": "code",
   "execution_count": null,
   "metadata": {},
   "outputs": [],
   "source": []
  }
 ],
 "metadata": {
  "kernelspec": {
   "display_name": ".venv",
   "language": "python",
   "name": "python3"
  },
  "language_info": {
   "codemirror_mode": {
    "name": "ipython",
    "version": 3
   },
   "file_extension": ".py",
   "mimetype": "text/x-python",
   "name": "python",
   "nbconvert_exporter": "python",
   "pygments_lexer": "ipython3",
   "version": "3.12.4"
  }
 },
 "nbformat": 4,
 "nbformat_minor": 2
}
