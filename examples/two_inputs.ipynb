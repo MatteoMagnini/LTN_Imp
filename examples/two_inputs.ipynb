{
 "cells": [
  {
   "cell_type": "code",
   "execution_count": 1,
   "metadata": {},
   "outputs": [],
   "source": [
    "import torch\n",
    "import pandas as pd\n",
    "import numpy as np\n",
    "from sklearn.metrics import accuracy_score\n",
    "from ltn_imp.automation.knowledge_base import KnowledgeBase\n",
    "from torch.utils.data import Dataset, DataLoader"
   ]
  },
  {
   "cell_type": "markdown",
   "metadata": {},
   "source": [
    "## Data Prep"
   ]
  },
  {
   "cell_type": "code",
   "execution_count": 2,
   "metadata": {},
   "outputs": [],
   "source": [
    "def create_dataset(n_samples, vector_size):\n",
    "    assert n_samples % 2 == 0, \"n_samples must be even\"\n",
    "    \n",
    "    # Generate random vectors\n",
    "    instances = np.random.rand(n_samples, vector_size)\n",
    "    \n",
    "    # Initialize lists to store pairs and labels\n",
    "    pairs = []\n",
    "    labels = []\n",
    "    \n",
    "    # Create same pairs\n",
    "    for i in range(n_samples // 2):\n",
    "        idx = np.random.choice(n_samples)\n",
    "        pair = (instances[idx], instances[idx])\n",
    "        pairs.append(pair)\n",
    "        labels.append(1)\n",
    "    \n",
    "    # Create different pairs\n",
    "    for _ in range(n_samples // 2):\n",
    "        idx1, idx2 = np.random.choice(n_samples, 2, replace=False)\n",
    "        pair = (instances[idx1], instances[idx2])\n",
    "        pairs.append(pair)\n",
    "        labels.append(0)\n",
    "    \n",
    "    # Convert to numpy arrays\n",
    "    pairs = np.array(pairs)\n",
    "    labels = np.array(labels)\n",
    "    \n",
    "    return pairs, labels"
   ]
  },
  {
   "cell_type": "code",
   "execution_count": 3,
   "metadata": {},
   "outputs": [],
   "source": [
    "class SameDataset(Dataset):\n",
    "    def __init__(self, pairs, labels):\n",
    "        self.pairs = pairs\n",
    "        self.labels = labels\n",
    "    \n",
    "    def __len__(self):\n",
    "        return len(self.labels)\n",
    "    \n",
    "    def __getitem__(self, idx):\n",
    "        x = self.pairs[idx][0]\n",
    "        y = self.pairs[idx][1]\n",
    "        label = self.labels[idx]\n",
    "        return torch.tensor(x, dtype=torch.float32), torch.tensor(y, dtype=torch.float32), torch.tensor(label, dtype=torch.float32)"
   ]
  },
  {
   "cell_type": "code",
   "execution_count": 4,
   "metadata": {},
   "outputs": [],
   "source": [
    "# Parameters\n",
    "n_samples = 1000  # Must be even\n",
    "vector_size = 10\n",
    "\n",
    "# Generate the dataset\n",
    "pairs, labels = create_dataset(n_samples, vector_size)\n",
    "\n",
    "# Create the dataset\n",
    "dataset = SameDataset(pairs, labels)\n",
    "\n",
    "# Create the DataLoader\n",
    "dataloader = DataLoader(dataset, batch_size=32, shuffle=True)"
   ]
  },
  {
   "cell_type": "markdown",
   "metadata": {},
   "source": [
    "## Model and Methods"
   ]
  },
  {
   "cell_type": "code",
   "execution_count": 5,
   "metadata": {},
   "outputs": [],
   "source": [
    "import torch.nn as nn\n",
    "\n",
    "class SameModel(nn.Module):\n",
    "    def __init__(self, input_size):\n",
    "        super(SameModel, self).__init__()\n",
    "        self.fc1 = nn.Linear(input_size * 2, 64)\n",
    "        self.fc2 = nn.Linear(64, 32)\n",
    "        self.fc3 = nn.Linear(32, 1)\n",
    "    \n",
    "    def forward(self, x1, x2):\n",
    "        x = torch.cat((x1, x2), dim=1)\n",
    "        x = torch.relu(self.fc1(x))\n",
    "        x = torch.relu(self.fc2(x))\n",
    "        x = self.fc3(x)\n",
    "        return x\n",
    "    \n",
    "class LogitsToPredicate(torch.nn.Module):\n",
    "    def __init__(self, logits_model):\n",
    "        super(LogitsToPredicate, self).__init__()\n",
    "        self.logits_model = logits_model\n",
    "        self.softmax = torch.nn.Softmax(dim=1)\n",
    "\n",
    "    def forward(self, x, y, training=True):\n",
    "        logits = self.logits_model(x)\n",
    "        probs = self.softmax(logits)\n",
    "        # y is expected to be a one-hot encoded vector\n",
    "        out = torch.sum(probs * y, dim=1, keepdim=True)\n",
    "        return out"
   ]
  },
  {
   "cell_type": "code",
   "execution_count": 6,
   "metadata": {},
   "outputs": [],
   "source": [
    "def compute_accuracy(loader, model):\n",
    "    mean_accuracy = 0.0\n",
    "    for x,y, labels in loader:\n",
    "        predictions = model.logits_model(x,y).detach().numpy()\n",
    "        predictions = np.argmax(predictions, axis=1)\n",
    "        mean_accuracy += accuracy_score(labels, predictions)\n",
    "    return mean_accuracy / len(loader)"
   ]
  },
  {
   "cell_type": "markdown",
   "metadata": {},
   "source": [
    "## Optimize "
   ]
  },
  {
   "cell_type": "code",
   "execution_count": 7,
   "metadata": {},
   "outputs": [],
   "source": [
    "a = SameModel(input_size=vector_size) # type: ignore\n",
    "model = LogitsToPredicate(a) # type: ignore\n",
    "predicates = {\"Classifier\": model}\n",
    "expression_1 = \"all x. (Classifier(x,y))\"\n",
    "rules = [expression_1]"
   ]
  },
  {
   "cell_type": "code",
   "execution_count": 8,
   "metadata": {},
   "outputs": [],
   "source": [
    "rule_to_data_loader_mapping={expression_1: [dataloader]}"
   ]
  },
  {
   "cell_type": "code",
   "execution_count": 9,
   "metadata": {},
   "outputs": [],
   "source": [
    "loader_to_variable = {dataloader: \"x\"}"
   ]
  },
  {
   "cell_type": "code",
   "execution_count": 10,
   "metadata": {},
   "outputs": [],
   "source": [
    "loader_to_target = {dataloader: \"y\"}"
   ]
  },
  {
   "cell_type": "code",
   "execution_count": 11,
   "metadata": {},
   "outputs": [],
   "source": [
    "loader_classes = { dataloader: 2}"
   ]
  },
  {
   "cell_type": "code",
   "execution_count": 12,
   "metadata": {},
   "outputs": [],
   "source": [
    "kb = KnowledgeBase(rules=rules, predicates=predicates,\n",
    "                   rule_to_data_loader_mapping=rule_to_data_loader_mapping,\n",
    "                   loader_classes=loader_classes, # type: ignore\n",
    "                   loader_to_variable=loader_to_variable, # type: ignore\n",
    "                   loader_to_target=loader_to_target, # type: ignore \n",
    "                   quantifier_impls={\"forall\" : \"pmean_error\"})"
   ]
  },
  {
   "cell_type": "code",
   "execution_count": 13,
   "metadata": {},
   "outputs": [
    {
     "data": {
      "text/plain": [
       "0.5029296875"
      ]
     },
     "execution_count": 13,
     "metadata": {},
     "output_type": "execute_result"
    }
   ],
   "source": [
    "compute_accuracy(model = model, loader= dataloader)"
   ]
  },
  {
   "cell_type": "code",
   "execution_count": 14,
   "metadata": {},
   "outputs": [
    {
     "ename": "ValueError",
     "evalue": "too many values to unpack (expected 2)",
     "output_type": "error",
     "traceback": [
      "\u001b[0;31m---------------------------------------------------------------------------\u001b[0m",
      "\u001b[0;31mValueError\u001b[0m                                Traceback (most recent call last)",
      "Cell \u001b[0;32mIn[14], line 1\u001b[0m\n\u001b[0;32m----> 1\u001b[0m \u001b[43mkb\u001b[49m\u001b[38;5;241;43m.\u001b[39;49m\u001b[43moptimize\u001b[49m\u001b[43m(\u001b[49m\u001b[43m)\u001b[49m\n",
      "File \u001b[0;32m~/Developer/LTN_Imp/ltn_imp/automation/knowledge_base.py:66\u001b[0m, in \u001b[0;36mKnowledgeBase.optimize\u001b[0;34m(self, num_epochs, log_steps)\u001b[0m\n\u001b[1;32m     64\u001b[0m     \u001b[38;5;28;01mif\u001b[39;00m \u001b[38;5;28mcls\u001b[39m \u001b[38;5;241m<\u001b[39m \u001b[38;5;28mself\u001b[39m\u001b[38;5;241m.\u001b[39mloader_classes[loader]: \n\u001b[1;32m     65\u001b[0m         batch \u001b[38;5;241m=\u001b[39m current_batches[loader]\n\u001b[0;32m---> 66\u001b[0m         \u001b[38;5;28;43mself\u001b[39;49m\u001b[38;5;241;43m.\u001b[39;49m\u001b[43mpartition_data\u001b[49m\u001b[43m(\u001b[49m\u001b[43mvar_mapping\u001b[49m\u001b[43m,\u001b[49m\u001b[43m \u001b[49m\u001b[43mbatch\u001b[49m\u001b[43m,\u001b[49m\u001b[43m \u001b[49m\u001b[43mloader\u001b[49m\u001b[43m,\u001b[49m\u001b[43m \u001b[49m\u001b[38;5;28;43mself\u001b[39;49m\u001b[38;5;241;43m.\u001b[39;49m\u001b[43mloader_classes\u001b[49m\u001b[43m[\u001b[49m\u001b[43mloader\u001b[49m\u001b[43m]\u001b[49m\u001b[43m,\u001b[49m\u001b[43m \u001b[49m\u001b[38;5;28;43mcls\u001b[39;49m\u001b[43m)\u001b[49m\n\u001b[1;32m     68\u001b[0m rule_output \u001b[38;5;241m=\u001b[39m rule(var_mapping)\n\u001b[1;32m     69\u001b[0m rule_outputs\u001b[38;5;241m.\u001b[39mappend(rule_output)\n",
      "File \u001b[0;32m~/Developer/LTN_Imp/ltn_imp/automation/knowledge_base.py:40\u001b[0m, in \u001b[0;36mKnowledgeBase.partition_data\u001b[0;34m(self, var_mapping, batch, loader, num_classes, cls)\u001b[0m\n\u001b[1;32m     36\u001b[0m \u001b[38;5;28;01mdef\u001b[39;00m \u001b[38;5;21mpartition_data\u001b[39m(\u001b[38;5;28mself\u001b[39m, var_mapping, batch, loader, num_classes, \u001b[38;5;28mcls\u001b[39m):\n\u001b[1;32m     38\u001b[0m     \u001b[38;5;28;01mfor\u001b[39;00m i, var \u001b[38;5;129;01min\u001b[39;00m \u001b[38;5;28menumerate\u001b[39m( \u001b[38;5;28mself\u001b[39m\u001b[38;5;241m.\u001b[39mloader_to_variable[loader] ) :\n\u001b[0;32m---> 40\u001b[0m         data, labels \u001b[38;5;241m=\u001b[39m batch \u001b[38;5;66;03m# TODO: If the dataloader is sending more than one instance ( Classifier(x,y,z) ), they need to be unpacked correctly here. \u001b[39;00m\n\u001b[1;32m     42\u001b[0m         indices \u001b[38;5;241m=\u001b[39m (labels \u001b[38;5;241m==\u001b[39m \u001b[38;5;28mcls\u001b[39m)\u001b[38;5;241m.\u001b[39mnonzero(as_tuple\u001b[38;5;241m=\u001b[39m\u001b[38;5;28;01mTrue\u001b[39;00m)[\u001b[38;5;241m0\u001b[39m]\n\u001b[1;32m     43\u001b[0m         var_mapping[\u001b[38;5;28mself\u001b[39m\u001b[38;5;241m.\u001b[39mloader_to_target[loader]] \u001b[38;5;241m=\u001b[39m torch\u001b[38;5;241m.\u001b[39meye(num_classes)[\u001b[38;5;28mcls\u001b[39m]\u001b[38;5;241m.\u001b[39munsqueeze(\u001b[38;5;241m0\u001b[39m) \n",
      "\u001b[0;31mValueError\u001b[0m: too many values to unpack (expected 2)"
     ]
    }
   ],
   "source": [
    "kb.optimize()"
   ]
  },
  {
   "cell_type": "code",
   "execution_count": 15,
   "metadata": {},
   "outputs": [
    {
     "data": {
      "text/plain": [
       "0.5029296875"
      ]
     },
     "execution_count": 15,
     "metadata": {},
     "output_type": "execute_result"
    }
   ],
   "source": [
    "compute_accuracy(model = model, loader= dataloader)"
   ]
  }
 ],
 "metadata": {
  "kernelspec": {
   "display_name": ".venv",
   "language": "python",
   "name": "python3"
  },
  "language_info": {
   "codemirror_mode": {
    "name": "ipython",
    "version": 3
   },
   "file_extension": ".py",
   "mimetype": "text/x-python",
   "name": "python",
   "nbconvert_exporter": "python",
   "pygments_lexer": "ipython3",
   "version": "3.12.4"
  }
 },
 "nbformat": 4,
 "nbformat_minor": 2
}
