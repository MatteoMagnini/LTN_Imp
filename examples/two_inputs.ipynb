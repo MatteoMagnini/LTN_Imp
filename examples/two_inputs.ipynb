{
 "cells": [
  {
   "cell_type": "code",
   "execution_count": 1,
   "metadata": {},
   "outputs": [],
   "source": [
    "import torch\n",
    "import pandas as pd\n",
    "import numpy as np\n",
    "from sklearn.metrics import accuracy_score\n",
    "from ltn_imp.automation.knowledge_base import KnowledgeBase\n",
    "from torch.utils.data import Dataset, DataLoader\n",
    "from ltn_imp.automation.data_loaders import LoaderWrapper"
   ]
  },
  {
   "cell_type": "markdown",
   "metadata": {},
   "source": [
    "## Data Prep"
   ]
  },
  {
   "cell_type": "code",
   "execution_count": 2,
   "metadata": {},
   "outputs": [],
   "source": [
    "def create_dataset(n_samples, vector_size):\n",
    "    assert n_samples % 2 == 0, \"n_samples must be even\"\n",
    "    \n",
    "    # Generate random vectors\n",
    "    instances = np.random.rand(n_samples, vector_size)\n",
    "    \n",
    "    # Initialize lists to store pairs and labels\n",
    "    pairs = []\n",
    "    labels = []\n",
    "    \n",
    "    # Create same pairs\n",
    "    for i in range(n_samples // 2):\n",
    "        idx = np.random.choice(n_samples)\n",
    "        pair = (instances[idx], instances[idx])\n",
    "        pairs.append(pair)\n",
    "        labels.append(1)\n",
    "    \n",
    "    # Create different pairs\n",
    "    for _ in range(n_samples // 2):\n",
    "        idx1, idx2 = np.random.choice(n_samples, 2, replace=False)\n",
    "        pair = (instances[idx1], instances[idx2])\n",
    "        pairs.append(pair)\n",
    "        labels.append(0)\n",
    "    \n",
    "    # Convert to numpy arrays\n",
    "    pairs = np.array(pairs)\n",
    "    labels = np.array(labels)\n",
    "    \n",
    "    return pairs, labels"
   ]
  },
  {
   "cell_type": "code",
   "execution_count": 3,
   "metadata": {},
   "outputs": [],
   "source": [
    "class SameDataset(Dataset):\n",
    "    def __init__(self, pairs, labels):\n",
    "        self.pairs = pairs\n",
    "        self.labels = labels\n",
    "    \n",
    "    def __len__(self):\n",
    "        return len(self.labels)\n",
    "    \n",
    "    def __getitem__(self, idx):\n",
    "        x = self.pairs[idx][0]\n",
    "        y = self.pairs[idx][1]\n",
    "        label = self.labels[idx]\n",
    "        return torch.tensor(x, dtype=torch.float32), torch.tensor(y, dtype=torch.float32), torch.tensor(label, dtype=torch.float32)"
   ]
  },
  {
   "cell_type": "code",
   "execution_count": 4,
   "metadata": {},
   "outputs": [],
   "source": [
    "# Parameters\n",
    "n_samples = 1000  # Must be even\n",
    "vector_size = 10\n",
    "\n",
    "# Generate the dataset\n",
    "pairs, labels = create_dataset(n_samples, vector_size)\n",
    "\n",
    "# Create the dataset\n",
    "dataset = SameDataset(pairs, labels)\n",
    "\n",
    "# Create the DataLoader\n",
    "dataloader = DataLoader(dataset, batch_size=32, shuffle=True)"
   ]
  },
  {
   "cell_type": "markdown",
   "metadata": {},
   "source": [
    "## Model and Methods"
   ]
  },
  {
   "cell_type": "code",
   "execution_count": 5,
   "metadata": {},
   "outputs": [],
   "source": [
    "import torch.nn as nn\n",
    "\n",
    "class SameModel(nn.Module):\n",
    "    def __init__(self, input_size):\n",
    "        super(SameModel, self).__init__()\n",
    "        self.fc1 = nn.Linear(input_size * 2, 64)\n",
    "        self.fc2 = nn.Linear(64, 32)\n",
    "        self.fc3 = nn.Linear(32, 2)\n",
    "    \n",
    "    def forward(self, x1, x2):\n",
    "        x = torch.cat((x1, x2), dim=1)\n",
    "        x = torch.relu(self.fc1(x))\n",
    "        x = torch.relu(self.fc2(x))\n",
    "        x = self.fc3(x)\n",
    "        return x\n",
    "    \n",
    "class LogitsToPredicate(torch.nn.Module):\n",
    "    def __init__(self, logits_model):\n",
    "        super(LogitsToPredicate, self).__init__()\n",
    "        self.logits_model = logits_model\n",
    "        self.softmax = torch.nn.Softmax(dim=1)\n",
    "\n",
    "    def forward(self, x, z, y):\n",
    "        logits = self.logits_model(x,z)\n",
    "        probs = self.softmax(logits)\n",
    "        # y is expected to be a one-hot encoded vector\n",
    "        out = torch.sum(probs * y, dim=1, keepdim=True)\n",
    "        return out"
   ]
  },
  {
   "cell_type": "code",
   "execution_count": 6,
   "metadata": {},
   "outputs": [],
   "source": [
    "def compute_accuracy(loader, model):\n",
    "    mean_accuracy = 0.0\n",
    "    for x,y, labels in loader:\n",
    "        predictions = model.logits_model(x,y).detach().numpy()\n",
    "        predictions = np.argmax(predictions, axis=1)\n",
    "        mean_accuracy += accuracy_score(labels, predictions)\n",
    "    return mean_accuracy / len(loader)"
   ]
  },
  {
   "cell_type": "markdown",
   "metadata": {},
   "source": [
    "## Optimize "
   ]
  },
  {
   "cell_type": "code",
   "execution_count": 7,
   "metadata": {},
   "outputs": [],
   "source": [
    "a = SameModel(input_size=vector_size) # type: ignore\n",
    "model = LogitsToPredicate(a) # type: ignore\n",
    "predicates = {\"Classifier\": model}\n",
    "expression_1 = \"all a. all b. (Classifier(a,b,c) )\"\n",
    "rules = [expression_1]"
   ]
  },
  {
   "cell_type": "code",
   "execution_count": 8,
   "metadata": {},
   "outputs": [],
   "source": [
    "loader = LoaderWrapper(variables=[\"a\", \"b\"], num_classes=2, target=\"c\", loader=dataloader)"
   ]
  },
  {
   "cell_type": "code",
   "execution_count": 9,
   "metadata": {},
   "outputs": [],
   "source": [
    "rule_to_data_loader_mapping={expression_1: [loader]} # type: ignore"
   ]
  },
  {
   "cell_type": "code",
   "execution_count": 10,
   "metadata": {},
   "outputs": [],
   "source": [
    "kb = KnowledgeBase(rules=rules, predicates=predicates,\n",
    "                   rule_to_data_loader_mapping=rule_to_data_loader_mapping,\n",
    "                   quantifier_impls={\"forall\" : \"pmean_error\"})"
   ]
  },
  {
   "cell_type": "code",
   "execution_count": 11,
   "metadata": {},
   "outputs": [
    {
     "data": {
      "text/plain": [
       "0.5087890625"
      ]
     },
     "execution_count": 11,
     "metadata": {},
     "output_type": "execute_result"
    }
   ],
   "source": [
    "compute_accuracy(model = model, loader= dataloader)"
   ]
  },
  {
   "cell_type": "code",
   "execution_count": 28,
   "metadata": {},
   "outputs": [
    {
     "name": "stdout",
     "output_type": "stream",
     "text": [
      "Epoch 1/15, Loss: 0.0034572482109069824\n",
      "\n",
      "Epoch 6/15, Loss: 0.00011670589447021484\n",
      "\n",
      "Epoch 11/15, Loss: 8.428096771240234e-05\n",
      "\n"
     ]
    }
   ],
   "source": [
    "kb.optimize(num_epochs=15, log_steps=5)"
   ]
  },
  {
   "cell_type": "code",
   "execution_count": 29,
   "metadata": {},
   "outputs": [
    {
     "data": {
      "text/plain": [
       "0.904296875"
      ]
     },
     "execution_count": 29,
     "metadata": {},
     "output_type": "execute_result"
    }
   ],
   "source": [
    "compute_accuracy(model = model, loader= dataloader)"
   ]
  },
  {
   "cell_type": "code",
   "execution_count": null,
   "metadata": {},
   "outputs": [],
   "source": [
    "temp ="
   ]
  },
  {
   "cell_type": "code",
   "execution_count": null,
   "metadata": {},
   "outputs": [],
   "source": []
  }
 ],
 "metadata": {
  "kernelspec": {
   "display_name": ".venv",
   "language": "python",
   "name": "python3"
  },
  "language_info": {
   "codemirror_mode": {
    "name": "ipython",
    "version": 3
   },
   "file_extension": ".py",
   "mimetype": "text/x-python",
   "name": "python",
   "nbconvert_exporter": "python",
   "pygments_lexer": "ipython3",
   "version": "3.12.4"
  }
 },
 "nbformat": 4,
 "nbformat_minor": 2
}
