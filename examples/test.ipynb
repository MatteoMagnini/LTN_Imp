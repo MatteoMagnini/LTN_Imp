{
 "cells": [
  {
   "cell_type": "code",
   "execution_count": 1,
   "metadata": {
    "ExecuteTime": {
     "end_time": "2024-08-08T08:53:00.447406Z",
     "start_time": "2024-08-08T08:53:00.445019Z"
    }
   },
   "outputs": [],
   "source": [
    "from ltn_imp.parsing.parser import LTNConverter\n",
    "import torch"
   ]
  },
  {
   "cell_type": "code",
   "execution_count": 8,
   "metadata": {
    "ExecuteTime": {
     "end_time": "2024-08-08T08:53:04.460628Z",
     "start_time": "2024-08-08T08:53:04.456031Z"
    }
   },
   "outputs": [
    {
     "data": {
      "text/plain": [
       "<AndExpression ((t1 < b1) & (t2 > b2))>"
      ]
     },
     "execution_count": 8,
     "metadata": {},
     "output_type": "execute_result"
    }
   ],
   "source": [
    "LTNConverter().parse(\"all i. ((t1 < b1) and (t2 > b2))\").term"
   ]
  },
  {
   "cell_type": "code",
   "execution_count": null,
   "metadata": {
    "ExecuteTime": {
     "end_time": "2024-08-08T08:30:39.922845Z",
     "start_time": "2024-08-08T08:30:39.921686Z"
    }
   },
   "outputs": [],
   "source": []
  }
 ],
 "metadata": {
  "kernelspec": {
   "display_name": ".venv",
   "language": "python",
   "name": "python3"
  },
  "language_info": {
   "codemirror_mode": {
    "name": "ipython",
    "version": 3
   },
   "file_extension": ".py",
   "mimetype": "text/x-python",
   "name": "python",
   "nbconvert_exporter": "python",
   "pygments_lexer": "ipython3",
   "version": "3.12.4"
  }
 },
 "nbformat": 4,
 "nbformat_minor": 2
}
