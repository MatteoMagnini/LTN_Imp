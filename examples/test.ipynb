{
 "cells": [
  {
   "cell_type": "code",
   "execution_count": 1,
   "metadata": {
    "ExecuteTime": {
     "end_time": "2024-08-08T08:53:00.447406Z",
     "start_time": "2024-08-08T08:53:00.445019Z"
    }
   },
   "outputs": [],
   "source": [
    "from ltn_imp.parsing.parser import LTNConverter\n",
    "import torch"
   ]
  },
  {
   "cell_type": "code",
   "execution_count": 2,
   "metadata": {
    "ExecuteTime": {
     "end_time": "2024-08-08T08:53:04.460628Z",
     "start_time": "2024-08-08T08:53:04.456031Z"
    }
   },
   "outputs": [
    {
     "name": "stdout",
     "output_type": "stream",
     "text": [
      "A:  tensor(0.9000)\n",
      "B:  tensor(0., requires_grad=True)\n",
      "\n",
      "A.shape torch.Size([])\n",
      "B.shape torch.Size([])\n"
     ]
    },
    {
     "data": {
      "text/plain": [
       "tensor(0.0007, grad_fn=<ExpBackward0>)"
      ]
     },
     "execution_count": 2,
     "metadata": {},
     "output_type": "execute_result"
    }
   ],
   "source": [
    "LTNConverter()(\"test = 0\")({\"test\": torch.tensor(0.9)})"
   ]
  },
  {
   "cell_type": "code",
   "execution_count": null,
   "metadata": {
    "ExecuteTime": {
     "end_time": "2024-08-08T08:30:39.922845Z",
     "start_time": "2024-08-08T08:30:39.921686Z"
    }
   },
   "outputs": [],
   "source": []
  }
 ],
 "metadata": {
  "kernelspec": {
   "display_name": ".venv",
   "language": "python",
   "name": "python3"
  },
  "language_info": {
   "codemirror_mode": {
    "name": "ipython",
    "version": 3
   },
   "file_extension": ".py",
   "mimetype": "text/x-python",
   "name": "python",
   "nbconvert_exporter": "python",
   "pygments_lexer": "ipython3",
   "version": "3.12.4"
  }
 },
 "nbformat": 4,
 "nbformat_minor": 2
}
