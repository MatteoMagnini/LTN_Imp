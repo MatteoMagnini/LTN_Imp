{
 "cells": [
  {
   "cell_type": "code",
   "execution_count": 1,
   "metadata": {},
   "outputs": [],
   "source": [
    "import torch\n",
    "from nltk.sem.logic import Expression\n",
    "from ltn_imp.parsing.expression_transformations import transform_expression\n",
    "from ltn_imp.parsing.parser import convert_to_ltn"
   ]
  },
  {
   "cell_type": "code",
   "execution_count": 2,
   "metadata": {},
   "outputs": [],
   "source": [
    "rules = [\n",
    "    \"PL(x,z) and z > 0.1\",\n",
    "    \"z <= 1.0 and PL(x,z)\",\n",
    "    \"all x. ( z > 1.0 and z <= 5.0 and Classifier(x,1) ) \",\n",
    "    \"all x. exist y. ( z < 1.0 or z >= 5.0 and Classifier(x,y))\",\n",
    "]"
   ]
  },
  {
   "cell_type": "code",
   "execution_count": 3,
   "metadata": {},
   "outputs": [],
   "source": [
    "class Man(torch.nn.Module):\n",
    "    def forward(self, x):\n",
    "        return torch.tensor([x+0.4])"
   ]
  },
  {
   "cell_type": "code",
   "execution_count": 4,
   "metadata": {},
   "outputs": [],
   "source": [
    "read_expr = Expression.fromstring"
   ]
  },
  {
   "cell_type": "code",
   "execution_count": 5,
   "metadata": {},
   "outputs": [
    {
     "name": "stdout",
     "output_type": "stream",
     "text": [
      "PL(x,z) and moreThan(z, 0.1)\n",
      "\n",
      "lessThan(z, 1.0) or (z = 1.0) and PL(x,z)\n",
      "\n",
      "all x. ( moreThan(z, 1.0) and lessThan(z, 5.0) or (z = 5.0) and Classifier(x,1) ) \n",
      "\n",
      "all x. exist y. ( lessThan(z, 1.0) or moreThan(z, 5.0) or (z = 5.0) and Classifier(x,y))\n",
      "\n"
     ]
    }
   ],
   "source": [
    "for rule in rules:\n",
    "    print(transform_expression(rule))\n",
    "    print()"
   ]
  },
  {
   "cell_type": "code",
   "execution_count": 6,
   "metadata": {},
   "outputs": [
    {
     "data": {
      "text/plain": [
       "tensor([1.])"
      ]
     },
     "execution_count": 6,
     "metadata": {},
     "output_type": "execute_result"
    }
   ],
   "source": [
    "convert_to_ltn( transform_expression(\"Man(x,z) and (z >= 0)\"), predicates={\"Man\": Man()})( {\"x\" : 0})"
   ]
  },
  {
   "cell_type": "code",
   "execution_count": 10,
   "metadata": {},
   "outputs": [
    {
     "data": {
      "text/plain": [
       "tensor([1.])"
      ]
     },
     "execution_count": 10,
     "metadata": {},
     "output_type": "execute_result"
    }
   ],
   "source": [
    "convert_to_ltn( transform_expression(\"(z >= 1) and Man(x,z)\"), predicates={\"Man\": Man()})({\"x\" : 1})"
   ]
  },
  {
   "cell_type": "code",
   "execution_count": null,
   "metadata": {},
   "outputs": [],
   "source": []
  }
 ],
 "metadata": {
  "kernelspec": {
   "display_name": ".venv",
   "language": "python",
   "name": "python3"
  },
  "language_info": {
   "codemirror_mode": {
    "name": "ipython",
    "version": 3
   },
   "file_extension": ".py",
   "mimetype": "text/x-python",
   "name": "python",
   "nbconvert_exporter": "python",
   "pygments_lexer": "ipython3",
   "version": "3.12.4"
  }
 },
 "nbformat": 4,
 "nbformat_minor": 2
}
