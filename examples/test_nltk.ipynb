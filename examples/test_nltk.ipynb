{
 "cells": [
  {
   "cell_type": "code",
   "execution_count": 1,
   "metadata": {},
   "outputs": [],
   "source": [
    "import torch\n",
    "from nltk.sem.logic import Expression\n",
    "from ltn_imp.parsing.expression_transformations import transform_expression\n",
    "from ltn_imp.parsing.parser import convert_to_ltn\n",
    "from ltn_imp.parsing.custom_parser import CustomLogicParser"
   ]
  },
  {
   "cell_type": "code",
   "execution_count": 2,
   "metadata": {},
   "outputs": [],
   "source": [
    "rules = [\n",
    "    \"PL(x,z) and z > 0.1\",\n",
    "    \"z <= 1.0 and PL(x,z)\",\n",
    "    \"all x. ( z > 1.0 and z <= 5.0 and Classifier(x,1) ) \",\n",
    "    \"all x. exist y. ( z < 1.0 or z >= 5.0 and Classifier(x,y))\",\n",
    "]"
   ]
  },
  {
   "cell_type": "code",
   "execution_count": 3,
   "metadata": {},
   "outputs": [],
   "source": [
    "class Man(torch.nn.Module):\n",
    "    def forward(self, x):\n",
    "        return torch.tensor([x+0.4])"
   ]
  },
  {
   "cell_type": "code",
   "execution_count": 4,
   "metadata": {},
   "outputs": [],
   "source": [
    "read_expr = Expression.fromstring"
   ]
  },
  {
   "cell_type": "code",
   "execution_count": 5,
   "metadata": {},
   "outputs": [],
   "source": [
    "parser = CustomLogicParser()"
   ]
  },
  {
   "cell_type": "code",
   "execution_count": 6,
   "metadata": {},
   "outputs": [
    {
     "ename": "UnexpectedTokenException",
     "evalue": "Unexpected token: ')'.  Expression expected.",
     "output_type": "error",
     "traceback": [
      "\u001b[0;31m---------------------------------------------------------------------------\u001b[0m",
      "\u001b[0;31mUnexpectedTokenException\u001b[0m                  Traceback (most recent call last)",
      "Cell \u001b[0;32mIn[6], line 1\u001b[0m\n\u001b[0;32m----> 1\u001b[0m \u001b[43mparser\u001b[49m\u001b[43m(\u001b[49m\u001b[38;5;124;43m\"\u001b[39;49m\u001b[38;5;124;43mMan(x) = 0.2\u001b[39;49m\u001b[38;5;124;43m\"\u001b[39;49m\u001b[43m)\u001b[49m\n",
      "File \u001b[0;32m~/Developer/LTN_Imp/ltn_imp/parsing/custom_parser.py:33\u001b[0m, in \u001b[0;36mCustomLogicParser.__call__\u001b[0;34m(self, data, signature)\u001b[0m\n\u001b[1;32m     31\u001b[0m \u001b[38;5;28mself\u001b[39m\u001b[38;5;241m.\u001b[39m_buffer \u001b[38;5;241m=\u001b[39m \u001b[38;5;28mself\u001b[39m\u001b[38;5;241m.\u001b[39mcustom_tokenize(data)\n\u001b[1;32m     32\u001b[0m \u001b[38;5;28mself\u001b[39m\u001b[38;5;241m.\u001b[39m_currentIndex \u001b[38;5;241m=\u001b[39m \u001b[38;5;241m0\u001b[39m\n\u001b[0;32m---> 33\u001b[0m expression \u001b[38;5;241m=\u001b[39m \u001b[38;5;28;43mself\u001b[39;49m\u001b[38;5;241;43m.\u001b[39;49m\u001b[43mprocess_next_expression\u001b[49m\u001b[43m(\u001b[49m\u001b[38;5;28;43;01mNone\u001b[39;49;00m\u001b[43m)\u001b[49m\n\u001b[1;32m     34\u001b[0m \u001b[38;5;28;01mif\u001b[39;00m \u001b[38;5;28mself\u001b[39m\u001b[38;5;241m.\u001b[39minRange(\u001b[38;5;241m0\u001b[39m):\n\u001b[1;32m     35\u001b[0m     \u001b[38;5;28;01mraise\u001b[39;00m LogicalExpressionException(\u001b[38;5;28mself\u001b[39m\u001b[38;5;241m.\u001b[39m_currentIndex, \u001b[38;5;124m\"\u001b[39m\u001b[38;5;124mUnexpected token(s) left over at end of input.\u001b[39m\u001b[38;5;124m\"\u001b[39m)\n",
      "File \u001b[0;32m~/Developer/LTN_Imp/ltn_imp/parsing/custom_parser.py:42\u001b[0m, in \u001b[0;36mCustomLogicParser.process_next_expression\u001b[0;34m(self, context)\u001b[0m\n\u001b[1;32m     40\u001b[0m \u001b[38;5;28;01mif\u001b[39;00m \u001b[38;5;28mself\u001b[39m\u001b[38;5;241m.\u001b[39mis_float(tok):\n\u001b[1;32m     41\u001b[0m     \u001b[38;5;28;01mreturn\u001b[39;00m \u001b[38;5;28mself\u001b[39m\u001b[38;5;241m.\u001b[39mhandle_float(tok)\n\u001b[0;32m---> 42\u001b[0m \u001b[38;5;28;01mreturn\u001b[39;00m \u001b[38;5;28;43msuper\u001b[39;49m\u001b[43m(\u001b[49m\u001b[43m)\u001b[49m\u001b[38;5;241;43m.\u001b[39;49m\u001b[43mprocess_next_expression\u001b[49m\u001b[43m(\u001b[49m\u001b[43mcontext\u001b[49m\u001b[43m)\u001b[49m\n",
      "File \u001b[0;32m~/Developer/LTN_Imp/.venv/lib/python3.12/site-packages/nltk/sem/logic.py:290\u001b[0m, in \u001b[0;36mLogicParser.process_next_expression\u001b[0;34m(self, context)\u001b[0m\n\u001b[1;32m    285\u001b[0m \u001b[38;5;28;01mexcept\u001b[39;00m ExpectedMoreTokensException \u001b[38;5;28;01mas\u001b[39;00m e:\n\u001b[1;32m    286\u001b[0m     \u001b[38;5;28;01mraise\u001b[39;00m ExpectedMoreTokensException(\n\u001b[1;32m    287\u001b[0m         \u001b[38;5;28mself\u001b[39m\u001b[38;5;241m.\u001b[39m_currentIndex \u001b[38;5;241m+\u001b[39m \u001b[38;5;241m1\u001b[39m, message\u001b[38;5;241m=\u001b[39m\u001b[38;5;124m\"\u001b[39m\u001b[38;5;124mExpression expected.\u001b[39m\u001b[38;5;124m\"\u001b[39m\n\u001b[1;32m    288\u001b[0m     ) \u001b[38;5;28;01mfrom\u001b[39;00m \u001b[38;5;21;01me\u001b[39;00m\n\u001b[0;32m--> 290\u001b[0m accum \u001b[38;5;241m=\u001b[39m \u001b[38;5;28;43mself\u001b[39;49m\u001b[38;5;241;43m.\u001b[39;49m\u001b[43mhandle\u001b[49m\u001b[43m(\u001b[49m\u001b[43mtok\u001b[49m\u001b[43m,\u001b[49m\u001b[43m \u001b[49m\u001b[43mcontext\u001b[49m\u001b[43m)\u001b[49m\n\u001b[1;32m    292\u001b[0m \u001b[38;5;28;01mif\u001b[39;00m \u001b[38;5;129;01mnot\u001b[39;00m accum:\n\u001b[1;32m    293\u001b[0m     \u001b[38;5;28;01mraise\u001b[39;00m UnexpectedTokenException(\n\u001b[1;32m    294\u001b[0m         \u001b[38;5;28mself\u001b[39m\u001b[38;5;241m.\u001b[39m_currentIndex, tok, message\u001b[38;5;241m=\u001b[39m\u001b[38;5;124m\"\u001b[39m\u001b[38;5;124mExpression expected.\u001b[39m\u001b[38;5;124m\"\u001b[39m\n\u001b[1;32m    295\u001b[0m     )\n",
      "File \u001b[0;32m~/Developer/LTN_Imp/.venv/lib/python3.12/site-packages/nltk/sem/logic.py:315\u001b[0m, in \u001b[0;36mLogicParser.handle\u001b[0;34m(self, tok, context)\u001b[0m\n\u001b[1;32m    312\u001b[0m     \u001b[38;5;28;01mreturn\u001b[39;00m \u001b[38;5;28mself\u001b[39m\u001b[38;5;241m.\u001b[39mhandle_quant(tok, context)\n\u001b[1;32m    314\u001b[0m \u001b[38;5;28;01melif\u001b[39;00m tok \u001b[38;5;241m==\u001b[39m Tokens\u001b[38;5;241m.\u001b[39mOPEN:\n\u001b[0;32m--> 315\u001b[0m     \u001b[38;5;28;01mreturn\u001b[39;00m \u001b[38;5;28;43mself\u001b[39;49m\u001b[38;5;241;43m.\u001b[39;49m\u001b[43mhandle_open\u001b[49m\u001b[43m(\u001b[49m\u001b[43mtok\u001b[49m\u001b[43m,\u001b[49m\u001b[43m \u001b[49m\u001b[43mcontext\u001b[49m\u001b[43m)\u001b[49m\n",
      "File \u001b[0;32m~/Developer/LTN_Imp/.venv/lib/python3.12/site-packages/nltk/sem/logic.py:449\u001b[0m, in \u001b[0;36mLogicParser.handle_open\u001b[0;34m(self, tok, context)\u001b[0m\n\u001b[1;32m    447\u001b[0m \u001b[38;5;28;01mdef\u001b[39;00m \u001b[38;5;21mhandle_open\u001b[39m(\u001b[38;5;28mself\u001b[39m, tok, context):\n\u001b[1;32m    448\u001b[0m     \u001b[38;5;66;03m# Expression is in parens\u001b[39;00m\n\u001b[0;32m--> 449\u001b[0m     accum \u001b[38;5;241m=\u001b[39m \u001b[38;5;28;43mself\u001b[39;49m\u001b[38;5;241;43m.\u001b[39;49m\u001b[43mprocess_next_expression\u001b[49m\u001b[43m(\u001b[49m\u001b[38;5;28;43;01mNone\u001b[39;49;00m\u001b[43m)\u001b[49m\n\u001b[1;32m    450\u001b[0m     \u001b[38;5;28mself\u001b[39m\u001b[38;5;241m.\u001b[39massertNextToken(Tokens\u001b[38;5;241m.\u001b[39mCLOSE)\n\u001b[1;32m    451\u001b[0m     \u001b[38;5;28;01mreturn\u001b[39;00m accum\n",
      "File \u001b[0;32m~/Developer/LTN_Imp/ltn_imp/parsing/custom_parser.py:42\u001b[0m, in \u001b[0;36mCustomLogicParser.process_next_expression\u001b[0;34m(self, context)\u001b[0m\n\u001b[1;32m     40\u001b[0m \u001b[38;5;28;01mif\u001b[39;00m \u001b[38;5;28mself\u001b[39m\u001b[38;5;241m.\u001b[39mis_float(tok):\n\u001b[1;32m     41\u001b[0m     \u001b[38;5;28;01mreturn\u001b[39;00m \u001b[38;5;28mself\u001b[39m\u001b[38;5;241m.\u001b[39mhandle_float(tok)\n\u001b[0;32m---> 42\u001b[0m \u001b[38;5;28;01mreturn\u001b[39;00m \u001b[38;5;28;43msuper\u001b[39;49m\u001b[43m(\u001b[49m\u001b[43m)\u001b[49m\u001b[38;5;241;43m.\u001b[39;49m\u001b[43mprocess_next_expression\u001b[49m\u001b[43m(\u001b[49m\u001b[43mcontext\u001b[49m\u001b[43m)\u001b[49m\n",
      "File \u001b[0;32m~/Developer/LTN_Imp/.venv/lib/python3.12/site-packages/nltk/sem/logic.py:293\u001b[0m, in \u001b[0;36mLogicParser.process_next_expression\u001b[0;34m(self, context)\u001b[0m\n\u001b[1;32m    290\u001b[0m accum \u001b[38;5;241m=\u001b[39m \u001b[38;5;28mself\u001b[39m\u001b[38;5;241m.\u001b[39mhandle(tok, context)\n\u001b[1;32m    292\u001b[0m \u001b[38;5;28;01mif\u001b[39;00m \u001b[38;5;129;01mnot\u001b[39;00m accum:\n\u001b[0;32m--> 293\u001b[0m     \u001b[38;5;28;01mraise\u001b[39;00m UnexpectedTokenException(\n\u001b[1;32m    294\u001b[0m         \u001b[38;5;28mself\u001b[39m\u001b[38;5;241m.\u001b[39m_currentIndex, tok, message\u001b[38;5;241m=\u001b[39m\u001b[38;5;124m\"\u001b[39m\u001b[38;5;124mExpression expected.\u001b[39m\u001b[38;5;124m\"\u001b[39m\n\u001b[1;32m    295\u001b[0m     )\n\u001b[1;32m    297\u001b[0m \u001b[38;5;28;01mreturn\u001b[39;00m \u001b[38;5;28mself\u001b[39m\u001b[38;5;241m.\u001b[39mattempt_adjuncts(accum, context)\n",
      "\u001b[0;31mUnexpectedTokenException\u001b[0m: Unexpected token: ')'.  Expression expected."
     ]
    }
   ],
   "source": [
    "parser(\"Man(x) = 0.2\")"
   ]
  },
  {
   "cell_type": "code",
   "execution_count": null,
   "metadata": {},
   "outputs": [
    {
     "name": "stdout",
     "output_type": "stream",
     "text": [
      "PL(x,z) and moreThan(z, 0.1)\n",
      "\n",
      "lessThan(z, 1.0) or (z = 1.0) and PL(x,z)\n",
      "\n",
      "all x. ( moreThan(z, 1.0) and lessThan(z, 5.0) or (z = 5.0) and Classifier(x,1) ) \n",
      "\n",
      "all x. exist y. ( lessThan(z, 1.0) or moreThan(z, 5.0) or (z = 5.0) and Classifier(x,y))\n",
      "\n"
     ]
    }
   ],
   "source": [
    "for rule in rules:\n",
    "    print(transform_expression(rule))\n",
    "    print()"
   ]
  },
  {
   "cell_type": "code",
   "execution_count": null,
   "metadata": {},
   "outputs": [
    {
     "ename": "LogicalExpressionException",
     "evalue": "Unexpected token: '.'.  Expected token ')'.\nMan(x,z) and (moreThan(z, 0.2))\n                           ^",
     "output_type": "error",
     "traceback": [
      "\u001b[0;31m---------------------------------------------------------------------------\u001b[0m",
      "\u001b[0;31mUnexpectedTokenException\u001b[0m                  Traceback (most recent call last)",
      "File \u001b[0;32m~/Developer/LTN_Imp/.venv/lib/python3.12/site-packages/nltk/sem/logic.py:154\u001b[0m, in \u001b[0;36mLogicParser.parse\u001b[0;34m(self, data, signature)\u001b[0m\n\u001b[1;32m    153\u001b[0m \u001b[38;5;28;01mtry\u001b[39;00m:\n\u001b[0;32m--> 154\u001b[0m     result \u001b[38;5;241m=\u001b[39m \u001b[38;5;28;43mself\u001b[39;49m\u001b[38;5;241;43m.\u001b[39;49m\u001b[43mprocess_next_expression\u001b[49m\u001b[43m(\u001b[49m\u001b[38;5;28;43;01mNone\u001b[39;49;00m\u001b[43m)\u001b[49m\n\u001b[1;32m    155\u001b[0m     \u001b[38;5;28;01mif\u001b[39;00m \u001b[38;5;28mself\u001b[39m\u001b[38;5;241m.\u001b[39minRange(\u001b[38;5;241m0\u001b[39m):\n",
      "File \u001b[0;32m~/Developer/LTN_Imp/.venv/lib/python3.12/site-packages/nltk/sem/logic.py:297\u001b[0m, in \u001b[0;36mLogicParser.process_next_expression\u001b[0;34m(self, context)\u001b[0m\n\u001b[1;32m    293\u001b[0m     \u001b[38;5;28;01mraise\u001b[39;00m UnexpectedTokenException(\n\u001b[1;32m    294\u001b[0m         \u001b[38;5;28mself\u001b[39m\u001b[38;5;241m.\u001b[39m_currentIndex, tok, message\u001b[38;5;241m=\u001b[39m\u001b[38;5;124m\"\u001b[39m\u001b[38;5;124mExpression expected.\u001b[39m\u001b[38;5;124m\"\u001b[39m\n\u001b[1;32m    295\u001b[0m     )\n\u001b[0;32m--> 297\u001b[0m \u001b[38;5;28;01mreturn\u001b[39;00m \u001b[38;5;28;43mself\u001b[39;49m\u001b[38;5;241;43m.\u001b[39;49m\u001b[43mattempt_adjuncts\u001b[49m\u001b[43m(\u001b[49m\u001b[43maccum\u001b[49m\u001b[43m,\u001b[49m\u001b[43m \u001b[49m\u001b[43mcontext\u001b[49m\u001b[43m)\u001b[49m\n",
      "File \u001b[0;32m~/Developer/LTN_Imp/.venv/lib/python3.12/site-packages/nltk/sem/logic.py:323\u001b[0m, in \u001b[0;36mLogicParser.attempt_adjuncts\u001b[0;34m(self, expression, context)\u001b[0m\n\u001b[1;32m    322\u001b[0m     expression \u001b[38;5;241m=\u001b[39m \u001b[38;5;28mself\u001b[39m\u001b[38;5;241m.\u001b[39mattempt_ApplicationExpression(expression, context)\n\u001b[0;32m--> 323\u001b[0m     expression \u001b[38;5;241m=\u001b[39m \u001b[38;5;28;43mself\u001b[39;49m\u001b[38;5;241;43m.\u001b[39;49m\u001b[43mattempt_BooleanExpression\u001b[49m\u001b[43m(\u001b[49m\u001b[43mexpression\u001b[49m\u001b[43m,\u001b[49m\u001b[43m \u001b[49m\u001b[43mcontext\u001b[49m\u001b[43m)\u001b[49m\n\u001b[1;32m    324\u001b[0m \u001b[38;5;28;01mreturn\u001b[39;00m expression\n",
      "File \u001b[0;32m~/Developer/LTN_Imp/.venv/lib/python3.12/site-packages/nltk/sem/logic.py:485\u001b[0m, in \u001b[0;36mLogicParser.attempt_BooleanExpression\u001b[0;34m(self, expression, context)\u001b[0m\n\u001b[1;32m    483\u001b[0m     \u001b[38;5;28mself\u001b[39m\u001b[38;5;241m.\u001b[39mtoken()  \u001b[38;5;66;03m# swallow the operator\u001b[39;00m\n\u001b[1;32m    484\u001b[0m     expression \u001b[38;5;241m=\u001b[39m \u001b[38;5;28mself\u001b[39m\u001b[38;5;241m.\u001b[39mmake_BooleanExpression(\n\u001b[0;32m--> 485\u001b[0m         factory, expression, \u001b[38;5;28;43mself\u001b[39;49m\u001b[38;5;241;43m.\u001b[39;49m\u001b[43mprocess_next_expression\u001b[49m\u001b[43m(\u001b[49m\u001b[43mtok\u001b[49m\u001b[43m)\u001b[49m\n\u001b[1;32m    486\u001b[0m     )\n\u001b[1;32m    487\u001b[0m \u001b[38;5;28;01melse\u001b[39;00m:\n",
      "File \u001b[0;32m~/Developer/LTN_Imp/.venv/lib/python3.12/site-packages/nltk/sem/logic.py:290\u001b[0m, in \u001b[0;36mLogicParser.process_next_expression\u001b[0;34m(self, context)\u001b[0m\n\u001b[1;32m    286\u001b[0m     \u001b[38;5;28;01mraise\u001b[39;00m ExpectedMoreTokensException(\n\u001b[1;32m    287\u001b[0m         \u001b[38;5;28mself\u001b[39m\u001b[38;5;241m.\u001b[39m_currentIndex \u001b[38;5;241m+\u001b[39m \u001b[38;5;241m1\u001b[39m, message\u001b[38;5;241m=\u001b[39m\u001b[38;5;124m\"\u001b[39m\u001b[38;5;124mExpression expected.\u001b[39m\u001b[38;5;124m\"\u001b[39m\n\u001b[1;32m    288\u001b[0m     ) \u001b[38;5;28;01mfrom\u001b[39;00m \u001b[38;5;21;01me\u001b[39;00m\n\u001b[0;32m--> 290\u001b[0m accum \u001b[38;5;241m=\u001b[39m \u001b[38;5;28;43mself\u001b[39;49m\u001b[38;5;241;43m.\u001b[39;49m\u001b[43mhandle\u001b[49m\u001b[43m(\u001b[49m\u001b[43mtok\u001b[49m\u001b[43m,\u001b[49m\u001b[43m \u001b[49m\u001b[43mcontext\u001b[49m\u001b[43m)\u001b[49m\n\u001b[1;32m    292\u001b[0m \u001b[38;5;28;01mif\u001b[39;00m \u001b[38;5;129;01mnot\u001b[39;00m accum:\n",
      "File \u001b[0;32m~/Developer/LTN_Imp/.venv/lib/python3.12/site-packages/nltk/sem/logic.py:315\u001b[0m, in \u001b[0;36mLogicParser.handle\u001b[0;34m(self, tok, context)\u001b[0m\n\u001b[1;32m    314\u001b[0m \u001b[38;5;28;01melif\u001b[39;00m tok \u001b[38;5;241m==\u001b[39m Tokens\u001b[38;5;241m.\u001b[39mOPEN:\n\u001b[0;32m--> 315\u001b[0m     \u001b[38;5;28;01mreturn\u001b[39;00m \u001b[38;5;28;43mself\u001b[39;49m\u001b[38;5;241;43m.\u001b[39;49m\u001b[43mhandle_open\u001b[49m\u001b[43m(\u001b[49m\u001b[43mtok\u001b[49m\u001b[43m,\u001b[49m\u001b[43m \u001b[49m\u001b[43mcontext\u001b[49m\u001b[43m)\u001b[49m\n",
      "File \u001b[0;32m~/Developer/LTN_Imp/.venv/lib/python3.12/site-packages/nltk/sem/logic.py:449\u001b[0m, in \u001b[0;36mLogicParser.handle_open\u001b[0;34m(self, tok, context)\u001b[0m\n\u001b[1;32m    447\u001b[0m \u001b[38;5;28;01mdef\u001b[39;00m \u001b[38;5;21mhandle_open\u001b[39m(\u001b[38;5;28mself\u001b[39m, tok, context):\n\u001b[1;32m    448\u001b[0m     \u001b[38;5;66;03m# Expression is in parens\u001b[39;00m\n\u001b[0;32m--> 449\u001b[0m     accum \u001b[38;5;241m=\u001b[39m \u001b[38;5;28;43mself\u001b[39;49m\u001b[38;5;241;43m.\u001b[39;49m\u001b[43mprocess_next_expression\u001b[49m\u001b[43m(\u001b[49m\u001b[38;5;28;43;01mNone\u001b[39;49;00m\u001b[43m)\u001b[49m\n\u001b[1;32m    450\u001b[0m     \u001b[38;5;28mself\u001b[39m\u001b[38;5;241m.\u001b[39massertNextToken(Tokens\u001b[38;5;241m.\u001b[39mCLOSE)\n",
      "File \u001b[0;32m~/Developer/LTN_Imp/.venv/lib/python3.12/site-packages/nltk/sem/logic.py:290\u001b[0m, in \u001b[0;36mLogicParser.process_next_expression\u001b[0;34m(self, context)\u001b[0m\n\u001b[1;32m    286\u001b[0m     \u001b[38;5;28;01mraise\u001b[39;00m ExpectedMoreTokensException(\n\u001b[1;32m    287\u001b[0m         \u001b[38;5;28mself\u001b[39m\u001b[38;5;241m.\u001b[39m_currentIndex \u001b[38;5;241m+\u001b[39m \u001b[38;5;241m1\u001b[39m, message\u001b[38;5;241m=\u001b[39m\u001b[38;5;124m\"\u001b[39m\u001b[38;5;124mExpression expected.\u001b[39m\u001b[38;5;124m\"\u001b[39m\n\u001b[1;32m    288\u001b[0m     ) \u001b[38;5;28;01mfrom\u001b[39;00m \u001b[38;5;21;01me\u001b[39;00m\n\u001b[0;32m--> 290\u001b[0m accum \u001b[38;5;241m=\u001b[39m \u001b[38;5;28;43mself\u001b[39;49m\u001b[38;5;241;43m.\u001b[39;49m\u001b[43mhandle\u001b[49m\u001b[43m(\u001b[49m\u001b[43mtok\u001b[49m\u001b[43m,\u001b[49m\u001b[43m \u001b[49m\u001b[43mcontext\u001b[49m\u001b[43m)\u001b[49m\n\u001b[1;32m    292\u001b[0m \u001b[38;5;28;01mif\u001b[39;00m \u001b[38;5;129;01mnot\u001b[39;00m accum:\n",
      "File \u001b[0;32m~/Developer/LTN_Imp/.venv/lib/python3.12/site-packages/nltk/sem/logic.py:303\u001b[0m, in \u001b[0;36mLogicParser.handle\u001b[0;34m(self, tok, context)\u001b[0m\n\u001b[1;32m    302\u001b[0m \u001b[38;5;28;01mif\u001b[39;00m \u001b[38;5;28mself\u001b[39m\u001b[38;5;241m.\u001b[39misvariable(tok):\n\u001b[0;32m--> 303\u001b[0m     \u001b[38;5;28;01mreturn\u001b[39;00m \u001b[38;5;28;43mself\u001b[39;49m\u001b[38;5;241;43m.\u001b[39;49m\u001b[43mhandle_variable\u001b[49m\u001b[43m(\u001b[49m\u001b[43mtok\u001b[49m\u001b[43m,\u001b[49m\u001b[43m \u001b[49m\u001b[43mcontext\u001b[49m\u001b[43m)\u001b[49m\n\u001b[1;32m    305\u001b[0m \u001b[38;5;28;01melif\u001b[39;00m tok \u001b[38;5;129;01min\u001b[39;00m Tokens\u001b[38;5;241m.\u001b[39mNOT_LIST:\n",
      "File \u001b[0;32m~/Developer/LTN_Imp/.venv/lib/python3.12/site-packages/nltk/sem/logic.py:359\u001b[0m, in \u001b[0;36mLogicParser.handle_variable\u001b[0;34m(self, tok, context)\u001b[0m\n\u001b[1;32m    356\u001b[0m         accum \u001b[38;5;241m=\u001b[39m \u001b[38;5;28mself\u001b[39m\u001b[38;5;241m.\u001b[39mmake_ApplicationExpression(\n\u001b[1;32m    357\u001b[0m             accum, \u001b[38;5;28mself\u001b[39m\u001b[38;5;241m.\u001b[39mprocess_next_expression(APP)\n\u001b[1;32m    358\u001b[0m         )\n\u001b[0;32m--> 359\u001b[0m     \u001b[38;5;28;43mself\u001b[39;49m\u001b[38;5;241;43m.\u001b[39;49m\u001b[43massertNextToken\u001b[49m\u001b[43m(\u001b[49m\u001b[43mTokens\u001b[49m\u001b[38;5;241;43m.\u001b[39;49m\u001b[43mCLOSE\u001b[49m\u001b[43m)\u001b[49m\n\u001b[1;32m    360\u001b[0m \u001b[38;5;28;01mreturn\u001b[39;00m accum\n",
      "File \u001b[0;32m~/Developer/LTN_Imp/.venv/lib/python3.12/site-packages/nltk/sem/logic.py:573\u001b[0m, in \u001b[0;36mLogicParser.assertNextToken\u001b[0;34m(self, expected)\u001b[0m\n\u001b[1;32m    572\u001b[0m \u001b[38;5;28;01mif\u001b[39;00m tok \u001b[38;5;241m!=\u001b[39m expected:\n\u001b[0;32m--> 573\u001b[0m     \u001b[38;5;28;01mraise\u001b[39;00m UnexpectedTokenException(\u001b[38;5;28mself\u001b[39m\u001b[38;5;241m.\u001b[39m_currentIndex, tok, expected)\n",
      "\u001b[0;31mUnexpectedTokenException\u001b[0m: Unexpected token: '.'.  Expected token ')'.",
      "\nThe above exception was the direct cause of the following exception:\n",
      "\u001b[0;31mLogicalExpressionException\u001b[0m                Traceback (most recent call last)",
      "Cell \u001b[0;32mIn[8], line 1\u001b[0m\n\u001b[0;32m----> 1\u001b[0m \u001b[43mconvert_to_ltn\u001b[49m\u001b[43m(\u001b[49m\u001b[43m \u001b[49m\u001b[43mtransform_expression\u001b[49m\u001b[43m(\u001b[49m\u001b[38;5;124;43m\"\u001b[39;49m\u001b[38;5;124;43mMan(x,z) and (z > 0.2)\u001b[39;49m\u001b[38;5;124;43m\"\u001b[39;49m\u001b[43m)\u001b[49m\u001b[43m,\u001b[49m\u001b[43m \u001b[49m\u001b[43mpredicates\u001b[49m\u001b[38;5;241;43m=\u001b[39;49m\u001b[43m{\u001b[49m\u001b[38;5;124;43m\"\u001b[39;49m\u001b[38;5;124;43mMan\u001b[39;49m\u001b[38;5;124;43m\"\u001b[39;49m\u001b[43m:\u001b[49m\u001b[43m \u001b[49m\u001b[43mMan\u001b[49m\u001b[43m(\u001b[49m\u001b[43m)\u001b[49m\u001b[43m}\u001b[49m\u001b[43m)\u001b[49m( {\u001b[38;5;124m\"\u001b[39m\u001b[38;5;124mx\u001b[39m\u001b[38;5;124m\"\u001b[39m : \u001b[38;5;241m0\u001b[39m})\n",
      "File \u001b[0;32m~/Developer/LTN_Imp/ltn_imp/parsing/parser.py:202\u001b[0m, in \u001b[0;36mconvert_to_ltn\u001b[0;34m(expression, predicates, functions, connective_impls, quantifier_impls)\u001b[0m\n\u001b[1;32m    199\u001b[0m functions[\u001b[38;5;124m\"\u001b[39m\u001b[38;5;124mmoreThan\u001b[39m\u001b[38;5;124m\"\u001b[39m] \u001b[38;5;241m=\u001b[39m MoreThan()\n\u001b[1;32m    201\u001b[0m expression \u001b[38;5;241m=\u001b[39m transform_expression(expression)\n\u001b[0;32m--> 202\u001b[0m expression \u001b[38;5;241m=\u001b[39m \u001b[43mExpression\u001b[49m\u001b[38;5;241;43m.\u001b[39;49m\u001b[43mfromstring\u001b[49m\u001b[43m(\u001b[49m\u001b[43mexpression\u001b[49m\u001b[43m)\u001b[49m\n\u001b[1;32m    203\u001b[0m visitor \u001b[38;5;241m=\u001b[39m ExpressionVisitor(predicates, functions, connective_impls \u001b[38;5;241m=\u001b[39m connective_impls, quantifier_impls \u001b[38;5;241m=\u001b[39m quantifier_impls )\n\u001b[1;32m    204\u001b[0m \u001b[38;5;28;01mreturn\u001b[39;00m expression\u001b[38;5;241m.\u001b[39maccept(visitor)\n",
      "File \u001b[0;32m~/Developer/LTN_Imp/.venv/lib/python3.12/site-packages/nltk/sem/logic.py:957\u001b[0m, in \u001b[0;36mExpression.fromstring\u001b[0;34m(cls, s, type_check, signature)\u001b[0m\n\u001b[1;32m    955\u001b[0m     \u001b[38;5;28;01mreturn\u001b[39;00m \u001b[38;5;28mcls\u001b[39m\u001b[38;5;241m.\u001b[39m_type_checking_logic_parser\u001b[38;5;241m.\u001b[39mparse(s, signature)\n\u001b[1;32m    956\u001b[0m \u001b[38;5;28;01melse\u001b[39;00m:\n\u001b[0;32m--> 957\u001b[0m     \u001b[38;5;28;01mreturn\u001b[39;00m \u001b[38;5;28;43mcls\u001b[39;49m\u001b[38;5;241;43m.\u001b[39;49m\u001b[43m_logic_parser\u001b[49m\u001b[38;5;241;43m.\u001b[39;49m\u001b[43mparse\u001b[49m\u001b[43m(\u001b[49m\u001b[43ms\u001b[49m\u001b[43m,\u001b[49m\u001b[43m \u001b[49m\u001b[43msignature\u001b[49m\u001b[43m)\u001b[49m\n",
      "File \u001b[0;32m~/Developer/LTN_Imp/.venv/lib/python3.12/site-packages/nltk/sem/logic.py:159\u001b[0m, in \u001b[0;36mLogicParser.parse\u001b[0;34m(self, data, signature)\u001b[0m\n\u001b[1;32m    157\u001b[0m \u001b[38;5;28;01mexcept\u001b[39;00m LogicalExpressionException \u001b[38;5;28;01mas\u001b[39;00m e:\n\u001b[1;32m    158\u001b[0m     msg \u001b[38;5;241m=\u001b[39m \u001b[38;5;124m\"\u001b[39m\u001b[38;5;132;01m{}\u001b[39;00m\u001b[38;5;130;01m\\n\u001b[39;00m\u001b[38;5;132;01m{}\u001b[39;00m\u001b[38;5;130;01m\\n\u001b[39;00m\u001b[38;5;132;01m{}\u001b[39;00m\u001b[38;5;124m^\u001b[39m\u001b[38;5;124m\"\u001b[39m\u001b[38;5;241m.\u001b[39mformat(e, data, \u001b[38;5;124m\"\u001b[39m\u001b[38;5;124m \u001b[39m\u001b[38;5;124m\"\u001b[39m \u001b[38;5;241m*\u001b[39m mapping[e\u001b[38;5;241m.\u001b[39mindex \u001b[38;5;241m-\u001b[39m \u001b[38;5;241m1\u001b[39m])\n\u001b[0;32m--> 159\u001b[0m     \u001b[38;5;28;01mraise\u001b[39;00m LogicalExpressionException(\u001b[38;5;28;01mNone\u001b[39;00m, msg) \u001b[38;5;28;01mfrom\u001b[39;00m \u001b[38;5;21;01me\u001b[39;00m\n\u001b[1;32m    161\u001b[0m \u001b[38;5;28;01mif\u001b[39;00m \u001b[38;5;28mself\u001b[39m\u001b[38;5;241m.\u001b[39mtype_check:\n\u001b[1;32m    162\u001b[0m     result\u001b[38;5;241m.\u001b[39mtypecheck(signature)\n",
      "\u001b[0;31mLogicalExpressionException\u001b[0m: Unexpected token: '.'.  Expected token ')'.\nMan(x,z) and (moreThan(z, 0.2))\n                           ^"
     ]
    }
   ],
   "source": [
    "convert_to_ltn( transform_expression(\"Man(x,z) and (z > 0.2)\"), predicates={\"Man\": Man()})( {\"x\" : 0})"
   ]
  },
  {
   "cell_type": "code",
   "execution_count": null,
   "metadata": {},
   "outputs": [
    {
     "data": {
      "text/plain": [
       "tensor([1.])"
      ]
     },
     "execution_count": 7,
     "metadata": {},
     "output_type": "execute_result"
    }
   ],
   "source": [
    "convert_to_ltn( transform_expression(\"(z >= 1) and Man(x,z)\"), predicates={\"Man\": Man()})({\"x\" : 1})"
   ]
  }
 ],
 "metadata": {
  "kernelspec": {
   "display_name": ".venv",
   "language": "python",
   "name": "python3"
  },
  "language_info": {
   "codemirror_mode": {
    "name": "ipython",
    "version": 3
   },
   "file_extension": ".py",
   "mimetype": "text/x-python",
   "name": "python",
   "nbconvert_exporter": "python",
   "pygments_lexer": "ipython3",
   "version": "3.12.4"
  }
 },
 "nbformat": 4,
 "nbformat_minor": 2
}
