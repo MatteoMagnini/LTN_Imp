{
 "cells": [
  {
   "cell_type": "code",
   "execution_count": 1,
   "metadata": {},
   "outputs": [],
   "source": [
    "# Data Processing\n",
    "import pandas as pd\n",
    "from PIL import Image\n",
    "from examples.generator import generate_dataset\n",
    "import numpy as np\n",
    "import matplotlib.pyplot as plt\n",
    "from sklearn.model_selection import train_test_split\n",
    "\n",
    "# Torch \n",
    "import torch\n",
    "import torch.nn as nn\n",
    "import torch.functional as F\n",
    "import pytorch_lightning as pl\n",
    "from torch.utils.data import DataLoader, Dataset\n",
    "\n",
    "# LTN\n",
    "from ltn_imp.automation.knowledge_base import KnowledgeBase\n",
    "from ltn_imp.automation.data_loaders import LoaderWrapper"
   ]
  },
  {
   "cell_type": "markdown",
   "metadata": {},
   "source": [
    "## Data Processing"
   ]
  },
  {
   "cell_type": "code",
   "execution_count": 2,
   "metadata": {},
   "outputs": [],
   "source": [
    "data = pd.DataFrame(generate_dataset(100))"
   ]
  },
  {
   "cell_type": "code",
   "execution_count": 3,
   "metadata": {},
   "outputs": [],
   "source": [
    "image_paths = [item for item in data[0]]\n",
    "images = []\n",
    "for path in image_paths:\n",
    "    try:\n",
    "        img = Image.open(path).convert('RGB')  # Convert to RGB to ensure consistency\n",
    "        img = np.array(img)\n",
    "        img_tensor = torch.tensor(img, dtype=torch.float32)  # Convert to PyTorch tensor\n",
    "        images.append(img_tensor)\n",
    "    except Exception as e:\n",
    "        print(f\"Error loading image {path}: {e}\")\n",
    "        \n",
    "labels = torch.tensor(data[1])"
   ]
  },
  {
   "cell_type": "code",
   "execution_count": 4,
   "metadata": {},
   "outputs": [],
   "source": [
    "class ImageDataset(Dataset):\n",
    "    def __init__(self, images, labels):\n",
    "        self.images = images\n",
    "        self.labels = labels\n",
    "\n",
    "    def __len__(self):\n",
    "        return len(self.images)\n",
    "\n",
    "    def __getitem__(self, idx):\n",
    "        image = self.images[idx]\n",
    "        label = self.labels[idx]\n",
    "        return image, label\n",
    "    \n",
    "batch_size = 25\n",
    "\n",
    "# Split the data into training and test sets\n",
    "train_data, test_data, train_labels, test_labels = train_test_split(images,labels, test_size=0.2, random_state=42)\n",
    "\n",
    "# Create the training dataset\n",
    "train_dataset = ImageDataset(train_data, train_labels)\n",
    "\n",
    "# Create the test dataset\n",
    "test_dataset = ImageDataset(test_data, test_labels)\n",
    "\n",
    "# Create the training dataloader\n",
    "train_dataloader = DataLoader(train_dataset, batch_size=batch_size, shuffle=True)\n",
    "\n",
    "# Create the test dataloader\n",
    "test_dataloader = DataLoader(test_dataset, batch_size=batch_size, shuffle=False)\n",
    "        "
   ]
  },
  {
   "cell_type": "code",
   "execution_count": 5,
   "metadata": {},
   "outputs": [],
   "source": [
    "train_dataloader = LoaderWrapper(variables=[\"i\"],num_classes=3, target=\"y\", loader=train_dataloader)"
   ]
  },
  {
   "cell_type": "code",
   "execution_count": 6,
   "metadata": {},
   "outputs": [
    {
     "name": "stdout",
     "output_type": "stream",
     "text": [
      "Number of training images: 80\n",
      "Number of training labels: 80\n",
      "Number of test images: 20\n",
      "Number of test labels: 20\n"
     ]
    }
   ],
   "source": [
    "print(f\"Number of training images: {len(train_data)}\")\n",
    "print(f\"Number of training labels: {len(train_labels)}\")\n",
    "print(f\"Number of test images: {len(test_data)}\")\n",
    "print(f\"Number of test labels: {len(test_labels)}\")"
   ]
  },
  {
   "cell_type": "code",
   "execution_count": 7,
   "metadata": {},
   "outputs": [
    {
     "data": {
      "text/plain": [
       "<matplotlib.image.AxesImage at 0x14d8ad670>"
      ]
     },
     "execution_count": 7,
     "metadata": {},
     "output_type": "execute_result"
    },
    {
     "data": {
      "image/png": "[encoded data removed]",
      "text/plain": [
       "<Figure size 640x480 with 1 Axes>"
      ]
     },
     "metadata": {},
     "output_type": "display_data"
    }
   ],
   "source": [
    "plt.imshow(train_data[0].numpy().astype(np.uint8))"
   ]
  },
  {
   "cell_type": "markdown",
   "metadata": {},
   "source": [
    "## Models"
   ]
  },
  {
   "cell_type": "code",
   "execution_count": 8,
   "metadata": {},
   "outputs": [],
   "source": [
    "class CircleDetector(pl.LightningModule):\n",
    "    def __init__(self):\n",
    "        super(CircleDetector, self).__init__()\n",
    "        self.conv1 = nn.Conv2d(1, 16, kernel_size=3, stride=1, padding=1)\n",
    "        self.conv2 = nn.Conv2d(16, 32, kernel_size=3, stride=1, padding=1)\n",
    "        self.conv3 = nn.Conv2d(32, 64, kernel_size=3, stride=1, padding=1)\n",
    "        self.fc1 = nn.Linear(64 * 8 * 8, 128)\n",
    "        self.fc2 = nn.Linear(128, 3)  # Output: (x_center, y_center, radius)\n",
    "\n",
    "    def forward(self, x):\n",
    "        x = F.relu(self.conv1(x))\n",
    "        x = F.max_pool2d(x, 2)\n",
    "        x = F.relu(self.conv2(x))\n",
    "        x = F.max_pool2d(x, 2)\n",
    "        x = F.relu(self.conv3(x))\n",
    "        x = F.max_pool2d(x, 2)\n",
    "        x = x.view(x.size(0), -1)\n",
    "        x = F.relu(self.fc1(x))\n",
    "        x = self.fc2(x)\n",
    "        return x\n",
    "\n",
    "    def training_step(self, batch, batch_idx):\n",
    "        images, labels = batch\n",
    "        outputs = self(images)\n",
    "        loss = F.mse_loss(outputs, labels)\n",
    "        return loss\n",
    "\n",
    "    def configure_optimizers(self):\n",
    "        optimizer = torch.optim.Adam(self.parameters(), lr=0.001)\n",
    "        return optimizer"
   ]
  },
  {
   "cell_type": "code",
   "execution_count": 9,
   "metadata": {},
   "outputs": [],
   "source": [
    "class RectangleDetector(pl.LightningModule):\n",
    "    def __init__(self):\n",
    "        super(RectangleDetector, self).__init__()\n",
    "        self.conv1 = nn.Conv2d(1, 16, kernel_size=3, stride=1, padding=1)\n",
    "        self.conv2 = nn.Conv2d(16, 32, kernel_size=3, stride=1, padding=1)\n",
    "        self.conv3 = nn.Conv2d(32, 64, kernel_size=3, stride=1, padding=1)\n",
    "        self.fc1 = nn.Linear(64 * 8 * 8, 128)\n",
    "        self.fc2 = nn.Linear(128, 4)  # Output: (x_top_left, y_top_left, x_br, y_br)\n",
    "\n",
    "    def forward(self, x):\n",
    "        x = F.relu(self.conv1(x))\n",
    "        x = F.max_pool2d(x, 2)\n",
    "        x = F.relu(self.conv2(x))\n",
    "        x = F.max_pool2d(x, 2)\n",
    "        x = F.relu(self.conv3(x))\n",
    "        x = F.max_pool2d(x, 2)\n",
    "        x = x.view(x.size(0), -1)\n",
    "        x = F.relu(self.fc1(x))\n",
    "        x = self.fc2(x)\n",
    "        return x\n",
    "\n",
    "    def training_step(self, batch, batch_idx):\n",
    "        images, labels = batch\n",
    "        outputs = self(images)\n",
    "        loss = F.mse_loss(outputs, labels)\n",
    "        return loss\n",
    "\n",
    "    def configure_optimizers(self):\n",
    "        optimizer = torch.optim.Adam(self.parameters(), lr=0.001)\n",
    "        return optimizer"
   ]
  },
  {
   "cell_type": "markdown",
   "metadata": {},
   "source": [
    "## Rules and Functions"
   ]
  },
  {
   "cell_type": "code",
   "execution_count": 10,
   "metadata": {},
   "outputs": [],
   "source": [
    "class BoundingBox(torch.nn.Module):\n",
    "    def forward(self, C, R, TL, BR):\n",
    "        pass\n",
    "\n",
    "    def __call__(self, *args):\n",
    "        return self.forward(args)\n",
    "    \n",
    "class Inside(torch.nn.Module):\n",
    "    def forward(self, TL1, BR1, TL2, BR2):\n",
    "        return (TL1 < TL2).all() and (BR1 < BR2).all()\n",
    "\n",
    "    def __call__(self, *args):\n",
    "        return self.forward(args)\n",
    "    \n",
    "class Outside(torch.nn.Module):\n",
    "    def forward(self, TL1, BR1, TL2, BR2):\n",
    "        return (TL1 > BR2).any() or (BR1 > TL2).any()\n",
    "\n",
    "    def __call__(self, *args):\n",
    "        return self.forward(args)\n",
    "    \n",
    "class Intersect(torch.nn.Module):\n",
    "    def __init__(self):\n",
    "        super(Intersect, self).__init__()\n",
    "        self.outside = Outside()\n",
    "        self.inside = Inside()\n",
    "\n",
    "    def forward(self, TL1, BR1, TL2, BR2):\n",
    "        return not self.outside(TL1, BR1, TL2, BR2) and not self.inside(TL1, BR1, TL2, BR2)\n",
    "\n",
    "    def __call__(self, *args):\n",
    "        return self.forward(args)"
   ]
  },
  {
   "cell_type": "code",
   "execution_count": 11,
   "metadata": {},
   "outputs": [],
   "source": [
    "from ltn_imp.parsing.expression_transformations import transform\n",
    "from ltn_imp.parsing.parser import LTNConverter\n",
    "\n",
    "converter = LTNConverter(predicates={\"Circle\" : ..., \"Rect\" : ... , \"bounding_box\": ..., \"inside\" : ..., \"outside\": ..., \"intersect\": ...})\n",
    "\n",
    "# TODO: NLTK doesnt allow 2 letter variables. so x1 -> means X left, x2 -> means X right \n",
    "\n",
    "ancillary_rules = [\n",
    "    \"forall c r. exists t1 b1. bounding_box(c, r, t1, b1) <-> (t1 = c - r / 2 and b1 = c + r / 2)\",\n",
    "    \"forall t1 b1 t2 b2. inside(t1, b1, t2, b2) <-> (t1 < t2 and b1 < b2)\",\n",
    "    \"forall t1 b1 t2 b2. outside(t1, b1, t2, b2) <-> (t1 > b2 or b1 > b2)\",\n",
    "    \"forall t1 b1 t2 b2. intersect(t1, b1, t2, b2) <-> (not outside(t1, b1, t2, b2) and not inside(t1, b1, t2, b2))\"\n",
    "]\n",
    "\n",
    "learning_rules = [\n",
    "    \"forall i. Circle(i, c, r) and Rect(i, t1, b2) and bounding_box(c, r, t1, b2) and inside(t1, b2, t1, b2) -> y = in\",\n",
    "    \"forall i. Circle(i, c, r) and Rect(i, t1, b2) and bounding_box(c, r, t1, b2) and outside(t1, b2, t1, b2) -> y = out\",\n",
    "    \"forall i. Circle(i, c, r) and Rect(i, t1, b2) and bounding_box(c, r, t1, b2) and intersect(t1, b2, t1, b2) -> y = int\"\n",
    "]"
   ]
  },
  {
   "cell_type": "code",
   "execution_count": 15,
   "metadata": {},
   "outputs": [
    {
     "name": "stdout",
     "output_type": "stream",
     "text": [
      "(all c r.exists t1 b1.bounding_box(c,r,t1,b1) <-> ((t1 = sub(c,div(r,2))) & (b1 = add(c,div(r,2)))))\n",
      "(all t1 b1 t2 b2.inside(t1,b1,t2,b2) <-> (lt(t1,t2) & lt(b1,b2)))\n",
      "(all t1 b1 t2 b2.outside(t1,b1,t2,b2) <-> (mt(t1,b2) | mt(b1,b2)))\n",
      "(all t1 b1 t2 b2.intersect(t1,b1,t2,b2) <-> (-outside(t1,b1,t2,b2) & -inside(t1,b1,t2,b2)))\n"
     ]
    }
   ],
   "source": [
    "for rule in ancillary_rules:\n",
    "    converter(rule)\n",
    "    print(str(converter))"
   ]
  },
  {
   "cell_type": "code",
   "execution_count": 16,
   "metadata": {},
   "outputs": [
    {
     "name": "stdout",
     "output_type": "stream",
     "text": [
      "((all i.Circle(i,c,r) & Rect(i,t1,b2) & bounding_box(c,r,t1,b2) & inside(t1,b2,t1,b2)) -> (y = in))\n",
      "((all i.Circle(i,c,r) & Rect(i,t1,b2) & bounding_box(c,r,t1,b2) & outside(t1,b2,t1,b2)) -> (y = out))\n",
      "((all i.Circle(i,c,r) & Rect(i,t1,b2) & bounding_box(c,r,t1,b2) & intersect(t1,b2,t1,b2)) -> (y = int))\n"
     ]
    }
   ],
   "source": [
    "for rule in learning_rules:\n",
    "    converter(rule)\n",
    "    print(str(converter))"
   ]
  },
  {
   "cell_type": "markdown",
   "metadata": {},
   "source": [
    "## Training"
   ]
  },
  {
   "cell_type": "code",
   "execution_count": 14,
   "metadata": {},
   "outputs": [
    {
     "ename": "AttributeError",
     "evalue": "'KnowledgeBase' object has no attribute 'converter'",
     "output_type": "error",
     "traceback": [
      "\u001b[0;31m---------------------------------------------------------------------------\u001b[0m",
      "\u001b[0;31mAttributeError\u001b[0m                            Traceback (most recent call last)",
      "Cell \u001b[0;32mIn[14], line 19\u001b[0m\n\u001b[1;32m     16\u001b[0m quantifier_impls\u001b[38;5;241m=\u001b[39m{}\n\u001b[1;32m     17\u001b[0m constant_mapping \u001b[38;5;241m=\u001b[39m {\u001b[38;5;124m\"\u001b[39m\u001b[38;5;124min\u001b[39m\u001b[38;5;124m\"\u001b[39m : torch\u001b[38;5;241m.\u001b[39mtensor([\u001b[38;5;241m1\u001b[39m,\u001b[38;5;241m0\u001b[39m,\u001b[38;5;241m0\u001b[39m]), \u001b[38;5;124m\"\u001b[39m\u001b[38;5;124mout\u001b[39m\u001b[38;5;124m\"\u001b[39m : torch\u001b[38;5;241m.\u001b[39mtensor([\u001b[38;5;241m0\u001b[39m,\u001b[38;5;241m1\u001b[39m,\u001b[38;5;241m0\u001b[39m]), \u001b[38;5;124m\"\u001b[39m\u001b[38;5;124mint\u001b[39m\u001b[38;5;124m\"\u001b[39m : torch\u001b[38;5;241m.\u001b[39mtensor([\u001b[38;5;241m0\u001b[39m,\u001b[38;5;241m0\u001b[39m,\u001b[38;5;241m1\u001b[39m])}\n\u001b[0;32m---> 19\u001b[0m kb \u001b[38;5;241m=\u001b[39m \u001b[43mKnowledgeBase\u001b[49m\u001b[43m(\u001b[49m\n\u001b[1;32m     20\u001b[0m \u001b[43m    \u001b[49m\u001b[43mexpressions\u001b[49m\u001b[43m \u001b[49m\u001b[38;5;241;43m=\u001b[39;49m\u001b[43m \u001b[49m\u001b[43mexpresssions\u001b[49m\u001b[43m,\u001b[49m\n\u001b[1;32m     21\u001b[0m \u001b[43m    \u001b[49m\u001b[43mrule_to_data_loader_mapping\u001b[49m\u001b[43m \u001b[49m\u001b[38;5;241;43m=\u001b[39;49m\u001b[43m \u001b[49m\u001b[43mrule_to_data_loader_mapping\u001b[49m\u001b[43m,\u001b[49m\n\u001b[1;32m     22\u001b[0m \u001b[43m    \u001b[49m\u001b[43mpredicates\u001b[49m\u001b[43m \u001b[49m\u001b[38;5;241;43m=\u001b[39;49m\u001b[43m \u001b[49m\u001b[43mpredicates\u001b[49m\u001b[43m,\u001b[49m\n\u001b[1;32m     23\u001b[0m \u001b[43m    \u001b[49m\u001b[43mfunctions\u001b[49m\u001b[43m \u001b[49m\u001b[38;5;241;43m=\u001b[39;49m\u001b[43m \u001b[49m\u001b[43mfunctions\u001b[49m\u001b[43m,\u001b[49m\n\u001b[1;32m     24\u001b[0m \u001b[43m    \u001b[49m\u001b[43mconnective_impls\u001b[49m\u001b[43m \u001b[49m\u001b[38;5;241;43m=\u001b[39;49m\u001b[43m \u001b[49m\u001b[43mconnective_impls\u001b[49m\u001b[43m,\u001b[49m\n\u001b[1;32m     25\u001b[0m \u001b[43m    \u001b[49m\u001b[43mquantifier_impls\u001b[49m\u001b[43m \u001b[49m\u001b[38;5;241;43m=\u001b[39;49m\u001b[43m \u001b[49m\u001b[43mquantifier_impls\u001b[49m\u001b[43m,\u001b[49m\n\u001b[1;32m     26\u001b[0m \u001b[43m    \u001b[49m\u001b[43mconstant_mapping\u001b[49m\u001b[38;5;241;43m=\u001b[39;49m\u001b[43mconstant_mapping\u001b[49m\n\u001b[1;32m     27\u001b[0m \u001b[43m)\u001b[49m\n",
      "File \u001b[0;32m~/Developer/LTN_Imp/ltn_imp/automation/knowledge_base.py:18\u001b[0m, in \u001b[0;36mKnowledgeBase.__init__\u001b[0;34m(self, expressions, rule_to_data_loader_mapping, predicates, functions, connective_impls, quantifier_impls, lr, constant_mapping)\u001b[0m\n\u001b[1;32m     16\u001b[0m \u001b[38;5;28mself\u001b[39m\u001b[38;5;241m.\u001b[39mrule_to_data_loader_mapping \u001b[38;5;241m=\u001b[39m rule_to_data_loader_mapping\n\u001b[1;32m     17\u001b[0m \u001b[38;5;28mself\u001b[39m\u001b[38;5;241m.\u001b[39mconstant_mapping \u001b[38;5;241m=\u001b[39m constant_mapping\n\u001b[0;32m---> 18\u001b[0m \u001b[38;5;28;43mself\u001b[39;49m\u001b[38;5;241;43m.\u001b[39;49m\u001b[43mset_rules\u001b[49m\u001b[43m(\u001b[49m\u001b[43m)\u001b[49m\n\u001b[1;32m     19\u001b[0m \u001b[38;5;28mself\u001b[39m\u001b[38;5;241m.\u001b[39mconverter \u001b[38;5;241m=\u001b[39m LTNConverter(predicates\u001b[38;5;241m=\u001b[39m\u001b[38;5;28mself\u001b[39m\u001b[38;5;241m.\u001b[39mpredicates, functions\u001b[38;5;241m=\u001b[39m\u001b[38;5;28mself\u001b[39m\u001b[38;5;241m.\u001b[39mfunctions, connective_impls\u001b[38;5;241m=\u001b[39m\u001b[38;5;28mself\u001b[39m\u001b[38;5;241m.\u001b[39mconnective_impls, \n\u001b[1;32m     20\u001b[0m                               quantifier_impls\u001b[38;5;241m=\u001b[39m\u001b[38;5;28mself\u001b[39m\u001b[38;5;241m.\u001b[39mquantifier_impls, declerations \u001b[38;5;241m=\u001b[39m  \u001b[38;5;28mself\u001b[39m\u001b[38;5;241m.\u001b[39mdeclerations, declerars \u001b[38;5;241m=\u001b[39m \u001b[38;5;28mself\u001b[39m\u001b[38;5;241m.\u001b[39mdeclerars)\n\u001b[1;32m     22\u001b[0m \u001b[38;5;28;01mtry\u001b[39;00m:\n",
      "File \u001b[0;32m~/Developer/LTN_Imp/ltn_imp/automation/knowledge_base.py:30\u001b[0m, in \u001b[0;36mKnowledgeBase.set_rules\u001b[0;34m(self)\u001b[0m\n\u001b[1;32m     28\u001b[0m \u001b[38;5;28mself\u001b[39m\u001b[38;5;241m.\u001b[39mdeclerations \u001b[38;5;241m=\u001b[39m {}\n\u001b[1;32m     29\u001b[0m \u001b[38;5;28mself\u001b[39m\u001b[38;5;241m.\u001b[39mdeclerars \u001b[38;5;241m=\u001b[39m {}\n\u001b[0;32m---> 30\u001b[0m \u001b[38;5;28mself\u001b[39m\u001b[38;5;241m.\u001b[39mrules \u001b[38;5;241m=\u001b[39m [ \u001b[38;5;28;43mself\u001b[39;49m\u001b[38;5;241;43m.\u001b[39;49m\u001b[43mconverter\u001b[49m(rule) \u001b[38;5;28;01mfor\u001b[39;00m rule \u001b[38;5;129;01min\u001b[39;00m \u001b[38;5;28mself\u001b[39m\u001b[38;5;241m.\u001b[39mexpressions ]\n\u001b[1;32m     32\u001b[0m \u001b[38;5;28mself\u001b[39m\u001b[38;5;241m.\u001b[39mrule_to_data_loader_mapping \u001b[38;5;241m=\u001b[39m { \u001b[38;5;28mself\u001b[39m\u001b[38;5;241m.\u001b[39mrules[i] : \u001b[38;5;28mself\u001b[39m\u001b[38;5;241m.\u001b[39mrule_to_data_loader_mapping[expression] \u001b[38;5;28;01mfor\u001b[39;00m i, expression \u001b[38;5;129;01min\u001b[39;00m \u001b[38;5;28menumerate\u001b[39m( \u001b[38;5;28mself\u001b[39m\u001b[38;5;241m.\u001b[39mrule_to_data_loader_mapping) }\n",
      "\u001b[0;31mAttributeError\u001b[0m: 'KnowledgeBase' object has no attribute 'converter'"
     ]
    }
   ],
   "source": [
    "expresssions = [*ancillary_rules, ]\n",
    "rule_to_data_loader_mapping = {}\n",
    "\n",
    "for rule in ancillary_rules:\n",
    "    rule_to_data_loader_mapping[rule] = None\n",
    "\n",
    "predicates={\"Circle\" : CircleDetector(),\n",
    "            \"Rect\" : RectangleDetector(),    \n",
    "            \"bounding_box\": BoundingBox(),   # type: ignore\n",
    "            \"inside\" : Inside(),             # type: ignore\n",
    "            \"outside\": Outside(),            # type: ignore\n",
    "            \"intersect\": Intersect() }      # type: ignore\n",
    "\n",
    "functions = {}\n",
    "connective_impls={}\n",
    "quantifier_impls={}\n",
    "constant_mapping = {\"in\" : torch.tensor([1,0,0]), \"out\" : torch.tensor([0,1,0]), \"int\" : torch.tensor([0,0,1])}\n",
    "\n",
    "kb = KnowledgeBase(\n",
    "    expressions = expresssions,\n",
    "    rule_to_data_loader_mapping = rule_to_data_loader_mapping,\n",
    "    predicates = predicates,\n",
    "    functions = functions,\n",
    "    connective_impls = connective_impls,\n",
    "    quantifier_impls = quantifier_impls,\n",
    "    constant_mapping=constant_mapping\n",
    ")"
   ]
  },
  {
   "cell_type": "code",
   "execution_count": null,
   "metadata": {},
   "outputs": [
    {
     "ename": "ValueError",
     "evalue": "Model expects 2 arguments, but got 0.",
     "output_type": "error",
     "traceback": [
      "\u001b[0;31m---------------------------------------------------------------------------\u001b[0m",
      "\u001b[0;31mKeyError\u001b[0m                                  Traceback (most recent call last)",
      "File \u001b[0;32m~/Developer/LTN_Imp/ltn_imp/parsing/parser.py:241\u001b[0m, in \u001b[0;36mExpressionVisitor.handle_variable\u001b[0;34m(self, variable_mapping, expression)\u001b[0m\n\u001b[1;32m    240\u001b[0m \u001b[38;5;28;01mtry\u001b[39;00m:\n\u001b[0;32m--> 241\u001b[0m     \u001b[38;5;28;01mreturn\u001b[39;00m \u001b[43mvariable_mapping\u001b[49m\u001b[43m[\u001b[49m\u001b[38;5;28;43mstr\u001b[39;49m\u001b[43m(\u001b[49m\u001b[43mvar\u001b[49m\u001b[43m)\u001b[49m\u001b[43m]\u001b[49m\n\u001b[1;32m    242\u001b[0m \u001b[38;5;28;01mexcept\u001b[39;00m \u001b[38;5;167;01mKeyError\u001b[39;00m \u001b[38;5;28;01mas\u001b[39;00m e:\n",
      "\u001b[0;31mKeyError\u001b[0m: 'c'",
      "\nDuring handling of the above exception, another exception occurred:\n",
      "\u001b[0;31mKeyError\u001b[0m                                  Traceback (most recent call last)",
      "File \u001b[0;32m~/Developer/LTN_Imp/ltn_imp/parsing/parser.py:244\u001b[0m, in \u001b[0;36mExpressionVisitor.handle_variable\u001b[0;34m(self, variable_mapping, expression)\u001b[0m\n\u001b[1;32m    243\u001b[0m \u001b[38;5;28;01mtry\u001b[39;00m:\n\u001b[0;32m--> 244\u001b[0m     \u001b[38;5;28;01mreturn\u001b[39;00m \u001b[38;5;28;43mself\u001b[39;49m\u001b[38;5;241;43m.\u001b[39;49m\u001b[43mdeclerations\u001b[49m\u001b[43m[\u001b[49m\u001b[38;5;28;43mstr\u001b[39;49m\u001b[43m(\u001b[49m\u001b[43mvar\u001b[49m\u001b[43m)\u001b[49m\u001b[43m]\u001b[49m\n\u001b[1;32m    245\u001b[0m \u001b[38;5;28;01mexcept\u001b[39;00m \u001b[38;5;167;01mKeyError\u001b[39;00m \u001b[38;5;28;01mas\u001b[39;00m e:\n",
      "\u001b[0;31mKeyError\u001b[0m: 'c'",
      "\nDuring handling of the above exception, another exception occurred:\n",
      "\u001b[0;31mKeyError\u001b[0m                                  Traceback (most recent call last)",
      "File \u001b[0;32m~/Developer/LTN_Imp/ltn_imp/parsing/parser.py:134\u001b[0m, in \u001b[0;36mExpressionVisitor.handle_predicate\u001b[0;34m(self, variables, functor, var_mapping, expression)\u001b[0m\n\u001b[1;32m    132\u001b[0m \u001b[38;5;28;01mtry\u001b[39;00m:\n\u001b[1;32m    133\u001b[0m     \u001b[38;5;66;03m# Attempt to retrieve and process each variable\u001b[39;00m\n\u001b[0;32m--> 134\u001b[0m     variable_value \u001b[38;5;241m=\u001b[39m \u001b[38;5;28;43mself\u001b[39;49m\u001b[38;5;241;43m.\u001b[39;49m\u001b[43mvisit\u001b[49m\u001b[43m(\u001b[49m\u001b[43mvar\u001b[49m\u001b[43m)\u001b[49m\u001b[43m(\u001b[49m\u001b[43mvar_mapping\u001b[49m\u001b[43m)\u001b[49m\n\u001b[1;32m    135\u001b[0m     results\u001b[38;5;241m.\u001b[39mappend(variable_value)\n",
      "File \u001b[0;32m~/Developer/LTN_Imp/ltn_imp/parsing/parser.py:249\u001b[0m, in \u001b[0;36mExpressionVisitor.visit_IndividualVariableExpression.<locals>.<lambda>\u001b[0;34m(variable_mapping)\u001b[0m\n\u001b[1;32m    248\u001b[0m \u001b[38;5;28;01mdef\u001b[39;00m \u001b[38;5;21mvisit_IndividualVariableExpression\u001b[39m(\u001b[38;5;28mself\u001b[39m, expression):\n\u001b[0;32m--> 249\u001b[0m     \u001b[38;5;28;01mreturn\u001b[39;00m \u001b[38;5;28;01mlambda\u001b[39;00m variable_mapping: \u001b[38;5;28;43mself\u001b[39;49m\u001b[38;5;241;43m.\u001b[39;49m\u001b[43mhandle_variable\u001b[49m\u001b[43m(\u001b[49m\u001b[43mvariable_mapping\u001b[49m\u001b[43m,\u001b[49m\u001b[43m \u001b[49m\u001b[43mexpression\u001b[49m\u001b[43m)\u001b[49m\n",
      "File \u001b[0;32m~/Developer/LTN_Imp/ltn_imp/parsing/parser.py:246\u001b[0m, in \u001b[0;36mExpressionVisitor.handle_variable\u001b[0;34m(self, variable_mapping, expression)\u001b[0m\n\u001b[1;32m    245\u001b[0m \u001b[38;5;28;01mexcept\u001b[39;00m \u001b[38;5;167;01mKeyError\u001b[39;00m \u001b[38;5;28;01mas\u001b[39;00m e:\n\u001b[0;32m--> 246\u001b[0m     \u001b[38;5;28;01mraise\u001b[39;00m \u001b[38;5;167;01mKeyError\u001b[39;00m(\u001b[38;5;124mf\u001b[39m\u001b[38;5;124m\"\u001b[39m\u001b[38;5;124mVariable \u001b[39m\u001b[38;5;132;01m{\u001b[39;00mvar\u001b[38;5;132;01m}\u001b[39;00m\u001b[38;5;124m not recognized\u001b[39m\u001b[38;5;124m\"\u001b[39m)\n",
      "\u001b[0;31mKeyError\u001b[0m: 'Variable c not recognized'",
      "\nDuring handling of the above exception, another exception occurred:\n",
      "\u001b[0;31mTypeError\u001b[0m                                 Traceback (most recent call last)",
      "File \u001b[0;32m~/Developer/LTN_Imp/ltn_imp/parsing/parser.py:199\u001b[0m, in \u001b[0;36mExpressionVisitor.delay_execution\u001b[0;34m(self, left, right, var_mapping, connective, expression)\u001b[0m\n\u001b[1;32m    198\u001b[0m \u001b[38;5;28;01mtry\u001b[39;00m:\n\u001b[0;32m--> 199\u001b[0m     left_value \u001b[38;5;241m=\u001b[39m \u001b[43mleft\u001b[49m\u001b[43m(\u001b[49m\u001b[43mvar_mapping\u001b[49m\u001b[43m)\u001b[49m\n\u001b[1;32m    200\u001b[0m     right_value \u001b[38;5;241m=\u001b[39m right(var_mapping)\n",
      "File \u001b[0;32m~/Developer/LTN_Imp/ltn_imp/parsing/parser.py:225\u001b[0m, in \u001b[0;36mExpressionVisitor.visit_QuantifiedExpression.<locals>.<lambda>\u001b[0;34m(variable_mapping)\u001b[0m\n\u001b[1;32m    224\u001b[0m     term \u001b[38;5;241m=\u001b[39m \u001b[38;5;28mself\u001b[39m\u001b[38;5;241m.\u001b[39mvisit(expression\u001b[38;5;241m.\u001b[39mterm)\n\u001b[0;32m--> 225\u001b[0m     \u001b[38;5;28;01mreturn\u001b[39;00m \u001b[38;5;28;01mlambda\u001b[39;00m variable_mapping: quantifier(\u001b[43mterm\u001b[49m\u001b[43m(\u001b[49m\u001b[43mvariable_mapping\u001b[49m\u001b[43m)\u001b[49m)\n\u001b[1;32m    226\u001b[0m \u001b[38;5;28;01melse\u001b[39;00m:\n",
      "File \u001b[0;32m~/Developer/LTN_Imp/ltn_imp/parsing/parser.py:225\u001b[0m, in \u001b[0;36mExpressionVisitor.visit_QuantifiedExpression.<locals>.<lambda>\u001b[0;34m(variable_mapping)\u001b[0m\n\u001b[1;32m    224\u001b[0m     term \u001b[38;5;241m=\u001b[39m \u001b[38;5;28mself\u001b[39m\u001b[38;5;241m.\u001b[39mvisit(expression\u001b[38;5;241m.\u001b[39mterm)\n\u001b[0;32m--> 225\u001b[0m     \u001b[38;5;28;01mreturn\u001b[39;00m \u001b[38;5;28;01mlambda\u001b[39;00m variable_mapping: quantifier(\u001b[43mterm\u001b[49m\u001b[43m(\u001b[49m\u001b[43mvariable_mapping\u001b[49m\u001b[43m)\u001b[49m)\n\u001b[1;32m    226\u001b[0m \u001b[38;5;28;01melse\u001b[39;00m:\n",
      "    \u001b[0;31m[... skipping similar frames: ExpressionVisitor.visit_QuantifiedExpression.<locals>.<lambda> at line 225 (1 times)]\u001b[0m\n",
      "File \u001b[0;32m~/Developer/LTN_Imp/ltn_imp/parsing/parser.py:225\u001b[0m, in \u001b[0;36mExpressionVisitor.visit_QuantifiedExpression.<locals>.<lambda>\u001b[0;34m(variable_mapping)\u001b[0m\n\u001b[1;32m    224\u001b[0m     term \u001b[38;5;241m=\u001b[39m \u001b[38;5;28mself\u001b[39m\u001b[38;5;241m.\u001b[39mvisit(expression\u001b[38;5;241m.\u001b[39mterm)\n\u001b[0;32m--> 225\u001b[0m     \u001b[38;5;28;01mreturn\u001b[39;00m \u001b[38;5;28;01mlambda\u001b[39;00m variable_mapping: quantifier(\u001b[43mterm\u001b[49m\u001b[43m(\u001b[49m\u001b[43mvariable_mapping\u001b[49m\u001b[43m)\u001b[49m)\n\u001b[1;32m    226\u001b[0m \u001b[38;5;28;01melse\u001b[39;00m:\n",
      "File \u001b[0;32m~/Developer/LTN_Imp/ltn_imp/parsing/parser.py:190\u001b[0m, in \u001b[0;36mExpressionVisitor.visit_ApplicationExpression.<locals>.<lambda>\u001b[0;34m(var_mapping)\u001b[0m\n\u001b[1;32m    189\u001b[0m \u001b[38;5;28;01mif\u001b[39;00m functor \u001b[38;5;129;01min\u001b[39;00m \u001b[38;5;28mself\u001b[39m\u001b[38;5;241m.\u001b[39mpredicates:\n\u001b[0;32m--> 190\u001b[0m     \u001b[38;5;28;01mreturn\u001b[39;00m \u001b[38;5;28;01mlambda\u001b[39;00m var_mapping: \u001b[38;5;28;43mself\u001b[39;49m\u001b[38;5;241;43m.\u001b[39;49m\u001b[43mhandle_predicate\u001b[49m\u001b[43m(\u001b[49m\u001b[43mvariables\u001b[49m\u001b[38;5;241;43m=\u001b[39;49m\u001b[43mvariables\u001b[49m\u001b[43m,\u001b[49m\u001b[43m \u001b[49m\u001b[43mfunctor\u001b[49m\u001b[38;5;241;43m=\u001b[39;49m\u001b[43mfunctor\u001b[49m\u001b[43m,\u001b[49m\u001b[43m \u001b[49m\u001b[43mvar_mapping\u001b[49m\u001b[38;5;241;43m=\u001b[39;49m\u001b[43mvar_mapping\u001b[49m\u001b[43m,\u001b[49m\u001b[43m  \u001b[49m\u001b[43mexpression\u001b[49m\u001b[38;5;241;43m=\u001b[39;49m\u001b[43mexpression\u001b[49m\u001b[43m)\u001b[49m\n\u001b[1;32m    191\u001b[0m \u001b[38;5;28;01melif\u001b[39;00m functor \u001b[38;5;129;01min\u001b[39;00m \u001b[38;5;28mself\u001b[39m\u001b[38;5;241m.\u001b[39mfunctions:\n",
      "File \u001b[0;32m~/Developer/LTN_Imp/ltn_imp/parsing/parser.py:144\u001b[0m, in \u001b[0;36mExpressionVisitor.handle_predicate\u001b[0;34m(self, variables, functor, var_mapping, expression)\u001b[0m\n\u001b[1;32m    143\u001b[0m \u001b[38;5;28;01melse\u001b[39;00m:\n\u001b[0;32m--> 144\u001b[0m     \u001b[38;5;28mself\u001b[39m\u001b[38;5;241m.\u001b[39mdeclerations[\u001b[38;5;28mstr\u001b[39m(var)] \u001b[38;5;241m=\u001b[39m \u001b[43mPredicate\u001b[49m\u001b[43m(\u001b[49m\u001b[38;5;28;43mself\u001b[39;49m\u001b[38;5;241;43m.\u001b[39;49m\u001b[43mpredicates\u001b[49m\u001b[43m[\u001b[49m\u001b[43mfunctor\u001b[49m\u001b[43m]\u001b[49m\u001b[43m)\u001b[49m\u001b[43m(\u001b[49m\u001b[38;5;241;43m*\u001b[39;49m\u001b[43mresults\u001b[49m\u001b[43m)\u001b[49m\n\u001b[1;32m    145\u001b[0m     \u001b[38;5;28mself\u001b[39m\u001b[38;5;241m.\u001b[39mdeclerars[\u001b[38;5;28mstr\u001b[39m(var)] \u001b[38;5;241m=\u001b[39m expression \n",
      "File \u001b[0;32m~/Developer/LTN_Imp/ltn_imp/fuzzy_operators/predicates.py:26\u001b[0m, in \u001b[0;36mPredicate.__call__\u001b[0;34m(self, *args, **kwargs)\u001b[0m\n\u001b[1;32m     25\u001b[0m \u001b[38;5;28;01mdef\u001b[39;00m \u001b[38;5;21m__call__\u001b[39m(\u001b[38;5;28mself\u001b[39m, \u001b[38;5;241m*\u001b[39margs, \u001b[38;5;241m*\u001b[39m\u001b[38;5;241m*\u001b[39mkwargs):\n\u001b[0;32m---> 26\u001b[0m     \u001b[38;5;28;01mreturn\u001b[39;00m \u001b[38;5;28;43mself\u001b[39;49m\u001b[38;5;241;43m.\u001b[39;49m\u001b[43mforward\u001b[49m\u001b[43m(\u001b[49m\u001b[38;5;241;43m*\u001b[39;49m\u001b[43margs\u001b[49m\u001b[43m,\u001b[49m\u001b[43m \u001b[49m\u001b[38;5;241;43m*\u001b[39;49m\u001b[38;5;241;43m*\u001b[39;49m\u001b[43mkwargs\u001b[49m\u001b[43m)\u001b[49m\n",
      "File \u001b[0;32m~/Developer/LTN_Imp/ltn_imp/fuzzy_operators/predicates.py:23\u001b[0m, in \u001b[0;36mPredicate.forward\u001b[0;34m(self, *args, **kwargs)\u001b[0m\n\u001b[1;32m     22\u001b[0m bound_args\u001b[38;5;241m.\u001b[39mapply_defaults()\n\u001b[0;32m---> 23\u001b[0m \u001b[38;5;28;01mreturn\u001b[39;00m \u001b[38;5;28;43mself\u001b[39;49m\u001b[38;5;241;43m.\u001b[39;49m\u001b[43mmodel\u001b[49m\u001b[43m(\u001b[49m\u001b[38;5;241;43m*\u001b[39;49m\u001b[43mbound_args\u001b[49m\u001b[38;5;241;43m.\u001b[39;49m\u001b[43margs\u001b[49m\u001b[43m,\u001b[49m\u001b[43m \u001b[49m\u001b[38;5;241;43m*\u001b[39;49m\u001b[38;5;241;43m*\u001b[39;49m\u001b[43mbound_args\u001b[49m\u001b[38;5;241;43m.\u001b[39;49m\u001b[43mkwargs\u001b[49m\u001b[43m)\u001b[49m\n",
      "Cell \u001b[0;32mIn[13], line 8\u001b[0m, in \u001b[0;36mBoundingBox.__call__\u001b[0;34m(self, *args)\u001b[0m\n\u001b[1;32m      7\u001b[0m \u001b[38;5;28;01mdef\u001b[39;00m \u001b[38;5;21m__call__\u001b[39m(\u001b[38;5;28mself\u001b[39m, \u001b[38;5;241m*\u001b[39margs):\n\u001b[0;32m----> 8\u001b[0m     \u001b[38;5;28;01mreturn\u001b[39;00m \u001b[38;5;28;43mself\u001b[39;49m\u001b[38;5;241;43m.\u001b[39;49m\u001b[43mforward\u001b[49m\u001b[43m(\u001b[49m\u001b[43margs\u001b[49m\u001b[43m)\u001b[49m\n",
      "\u001b[0;31mTypeError\u001b[0m: BoundingBox.forward() missing 1 required positional argument: 'R'",
      "\nDuring handling of the above exception, another exception occurred:\n",
      "\u001b[0;31mKeyError\u001b[0m                                  Traceback (most recent call last)",
      "File \u001b[0;32m~/Developer/LTN_Imp/ltn_imp/parsing/parser.py:241\u001b[0m, in \u001b[0;36mExpressionVisitor.handle_variable\u001b[0;34m(self, variable_mapping, expression)\u001b[0m\n\u001b[1;32m    240\u001b[0m \u001b[38;5;28;01mtry\u001b[39;00m:\n\u001b[0;32m--> 241\u001b[0m     \u001b[38;5;28;01mreturn\u001b[39;00m \u001b[43mvariable_mapping\u001b[49m\u001b[43m[\u001b[49m\u001b[38;5;28;43mstr\u001b[39;49m\u001b[43m(\u001b[49m\u001b[43mvar\u001b[49m\u001b[43m)\u001b[49m\u001b[43m]\u001b[49m\n\u001b[1;32m    242\u001b[0m \u001b[38;5;28;01mexcept\u001b[39;00m \u001b[38;5;167;01mKeyError\u001b[39;00m \u001b[38;5;28;01mas\u001b[39;00m e:\n",
      "\u001b[0;31mKeyError\u001b[0m: 't1'",
      "\nDuring handling of the above exception, another exception occurred:\n",
      "\u001b[0;31mKeyError\u001b[0m                                  Traceback (most recent call last)",
      "File \u001b[0;32m~/Developer/LTN_Imp/ltn_imp/parsing/parser.py:244\u001b[0m, in \u001b[0;36mExpressionVisitor.handle_variable\u001b[0;34m(self, variable_mapping, expression)\u001b[0m\n\u001b[1;32m    243\u001b[0m \u001b[38;5;28;01mtry\u001b[39;00m:\n\u001b[0;32m--> 244\u001b[0m     \u001b[38;5;28;01mreturn\u001b[39;00m \u001b[38;5;28;43mself\u001b[39;49m\u001b[38;5;241;43m.\u001b[39;49m\u001b[43mdeclerations\u001b[49m\u001b[43m[\u001b[49m\u001b[38;5;28;43mstr\u001b[39;49m\u001b[43m(\u001b[49m\u001b[43mvar\u001b[49m\u001b[43m)\u001b[49m\u001b[43m]\u001b[49m\n\u001b[1;32m    245\u001b[0m \u001b[38;5;28;01mexcept\u001b[39;00m \u001b[38;5;167;01mKeyError\u001b[39;00m \u001b[38;5;28;01mas\u001b[39;00m e:\n",
      "\u001b[0;31mKeyError\u001b[0m: 't1'",
      "\nDuring handling of the above exception, another exception occurred:\n",
      "\u001b[0;31mKeyError\u001b[0m                                  Traceback (most recent call last)",
      "File \u001b[0;32m~/Developer/LTN_Imp/ltn_imp/parsing/parser.py:199\u001b[0m, in \u001b[0;36mExpressionVisitor.delay_execution\u001b[0;34m(self, left, right, var_mapping, connective, expression)\u001b[0m\n\u001b[1;32m    198\u001b[0m \u001b[38;5;28;01mtry\u001b[39;00m:\n\u001b[0;32m--> 199\u001b[0m     left_value \u001b[38;5;241m=\u001b[39m \u001b[43mleft\u001b[49m\u001b[43m(\u001b[49m\u001b[43mvar_mapping\u001b[49m\u001b[43m)\u001b[49m\n\u001b[1;32m    200\u001b[0m     right_value \u001b[38;5;241m=\u001b[39m right(var_mapping)\n",
      "File \u001b[0;32m~/Developer/LTN_Imp/ltn_imp/parsing/parser.py:249\u001b[0m, in \u001b[0;36mExpressionVisitor.visit_IndividualVariableExpression.<locals>.<lambda>\u001b[0;34m(variable_mapping)\u001b[0m\n\u001b[1;32m    248\u001b[0m \u001b[38;5;28;01mdef\u001b[39;00m \u001b[38;5;21mvisit_IndividualVariableExpression\u001b[39m(\u001b[38;5;28mself\u001b[39m, expression):\n\u001b[0;32m--> 249\u001b[0m     \u001b[38;5;28;01mreturn\u001b[39;00m \u001b[38;5;28;01mlambda\u001b[39;00m variable_mapping: \u001b[38;5;28;43mself\u001b[39;49m\u001b[38;5;241;43m.\u001b[39;49m\u001b[43mhandle_variable\u001b[49m\u001b[43m(\u001b[49m\u001b[43mvariable_mapping\u001b[49m\u001b[43m,\u001b[49m\u001b[43m \u001b[49m\u001b[43mexpression\u001b[49m\u001b[43m)\u001b[49m\n",
      "File \u001b[0;32m~/Developer/LTN_Imp/ltn_imp/parsing/parser.py:246\u001b[0m, in \u001b[0;36mExpressionVisitor.handle_variable\u001b[0;34m(self, variable_mapping, expression)\u001b[0m\n\u001b[1;32m    245\u001b[0m \u001b[38;5;28;01mexcept\u001b[39;00m \u001b[38;5;167;01mKeyError\u001b[39;00m \u001b[38;5;28;01mas\u001b[39;00m e:\n\u001b[0;32m--> 246\u001b[0m     \u001b[38;5;28;01mraise\u001b[39;00m \u001b[38;5;167;01mKeyError\u001b[39;00m(\u001b[38;5;124mf\u001b[39m\u001b[38;5;124m\"\u001b[39m\u001b[38;5;124mVariable \u001b[39m\u001b[38;5;132;01m{\u001b[39;00mvar\u001b[38;5;132;01m}\u001b[39;00m\u001b[38;5;124m not recognized\u001b[39m\u001b[38;5;124m\"\u001b[39m)\n",
      "\u001b[0;31mKeyError\u001b[0m: 'Variable t1 not recognized'",
      "\nDuring handling of the above exception, another exception occurred:\n",
      "\u001b[0;31mKeyError\u001b[0m                                  Traceback (most recent call last)",
      "File \u001b[0;32m~/Developer/LTN_Imp/ltn_imp/parsing/parser.py:241\u001b[0m, in \u001b[0;36mExpressionVisitor.handle_variable\u001b[0;34m(self, variable_mapping, expression)\u001b[0m\n\u001b[1;32m    240\u001b[0m \u001b[38;5;28;01mtry\u001b[39;00m:\n\u001b[0;32m--> 241\u001b[0m     \u001b[38;5;28;01mreturn\u001b[39;00m \u001b[43mvariable_mapping\u001b[49m\u001b[43m[\u001b[49m\u001b[38;5;28;43mstr\u001b[39;49m\u001b[43m(\u001b[49m\u001b[43mvar\u001b[49m\u001b[43m)\u001b[49m\u001b[43m]\u001b[49m\n\u001b[1;32m    242\u001b[0m \u001b[38;5;28;01mexcept\u001b[39;00m \u001b[38;5;167;01mKeyError\u001b[39;00m \u001b[38;5;28;01mas\u001b[39;00m e:\n",
      "\u001b[0;31mKeyError\u001b[0m: 'c'",
      "\nDuring handling of the above exception, another exception occurred:\n",
      "\u001b[0;31mKeyError\u001b[0m                                  Traceback (most recent call last)",
      "File \u001b[0;32m~/Developer/LTN_Imp/ltn_imp/parsing/parser.py:244\u001b[0m, in \u001b[0;36mExpressionVisitor.handle_variable\u001b[0;34m(self, variable_mapping, expression)\u001b[0m\n\u001b[1;32m    243\u001b[0m \u001b[38;5;28;01mtry\u001b[39;00m:\n\u001b[0;32m--> 244\u001b[0m     \u001b[38;5;28;01mreturn\u001b[39;00m \u001b[38;5;28;43mself\u001b[39;49m\u001b[38;5;241;43m.\u001b[39;49m\u001b[43mdeclerations\u001b[49m\u001b[43m[\u001b[49m\u001b[38;5;28;43mstr\u001b[39;49m\u001b[43m(\u001b[49m\u001b[43mvar\u001b[49m\u001b[43m)\u001b[49m\u001b[43m]\u001b[49m\n\u001b[1;32m    245\u001b[0m \u001b[38;5;28;01mexcept\u001b[39;00m \u001b[38;5;167;01mKeyError\u001b[39;00m \u001b[38;5;28;01mas\u001b[39;00m e:\n",
      "\u001b[0;31mKeyError\u001b[0m: 'c'",
      "\nDuring handling of the above exception, another exception occurred:\n",
      "\u001b[0;31mKeyError\u001b[0m                                  Traceback (most recent call last)",
      "File \u001b[0;32m~/Developer/LTN_Imp/ltn_imp/parsing/parser.py:159\u001b[0m, in \u001b[0;36mExpressionVisitor.handle_function\u001b[0;34m(self, variables, functor, var_mapping, expression)\u001b[0m\n\u001b[1;32m    157\u001b[0m \u001b[38;5;28;01mtry\u001b[39;00m:\n\u001b[1;32m    158\u001b[0m     \u001b[38;5;66;03m# Attempt to retrieve and process each variable\u001b[39;00m\n\u001b[0;32m--> 159\u001b[0m     variable_value \u001b[38;5;241m=\u001b[39m \u001b[38;5;28;43mself\u001b[39;49m\u001b[38;5;241;43m.\u001b[39;49m\u001b[43mvisit\u001b[49m\u001b[43m(\u001b[49m\u001b[43mvar\u001b[49m\u001b[43m)\u001b[49m\u001b[43m(\u001b[49m\u001b[43mvar_mapping\u001b[49m\u001b[43m)\u001b[49m\n\u001b[1;32m    160\u001b[0m     results\u001b[38;5;241m.\u001b[39mappend(variable_value)\n",
      "File \u001b[0;32m~/Developer/LTN_Imp/ltn_imp/parsing/parser.py:249\u001b[0m, in \u001b[0;36mExpressionVisitor.visit_IndividualVariableExpression.<locals>.<lambda>\u001b[0;34m(variable_mapping)\u001b[0m\n\u001b[1;32m    248\u001b[0m \u001b[38;5;28;01mdef\u001b[39;00m \u001b[38;5;21mvisit_IndividualVariableExpression\u001b[39m(\u001b[38;5;28mself\u001b[39m, expression):\n\u001b[0;32m--> 249\u001b[0m     \u001b[38;5;28;01mreturn\u001b[39;00m \u001b[38;5;28;01mlambda\u001b[39;00m variable_mapping: \u001b[38;5;28;43mself\u001b[39;49m\u001b[38;5;241;43m.\u001b[39;49m\u001b[43mhandle_variable\u001b[49m\u001b[43m(\u001b[49m\u001b[43mvariable_mapping\u001b[49m\u001b[43m,\u001b[49m\u001b[43m \u001b[49m\u001b[43mexpression\u001b[49m\u001b[43m)\u001b[49m\n",
      "File \u001b[0;32m~/Developer/LTN_Imp/ltn_imp/parsing/parser.py:246\u001b[0m, in \u001b[0;36mExpressionVisitor.handle_variable\u001b[0;34m(self, variable_mapping, expression)\u001b[0m\n\u001b[1;32m    245\u001b[0m \u001b[38;5;28;01mexcept\u001b[39;00m \u001b[38;5;167;01mKeyError\u001b[39;00m \u001b[38;5;28;01mas\u001b[39;00m e:\n\u001b[0;32m--> 246\u001b[0m     \u001b[38;5;28;01mraise\u001b[39;00m \u001b[38;5;167;01mKeyError\u001b[39;00m(\u001b[38;5;124mf\u001b[39m\u001b[38;5;124m\"\u001b[39m\u001b[38;5;124mVariable \u001b[39m\u001b[38;5;132;01m{\u001b[39;00mvar\u001b[38;5;132;01m}\u001b[39;00m\u001b[38;5;124m not recognized\u001b[39m\u001b[38;5;124m\"\u001b[39m)\n",
      "\u001b[0;31mKeyError\u001b[0m: 'Variable c not recognized'",
      "\nDuring handling of the above exception, another exception occurred:\n",
      "\u001b[0;31mValueError\u001b[0m                                Traceback (most recent call last)",
      "File \u001b[0;32m~/Developer/LTN_Imp/ltn_imp/parsing/parser.py:199\u001b[0m, in \u001b[0;36mExpressionVisitor.delay_execution\u001b[0;34m(self, left, right, var_mapping, connective, expression)\u001b[0m\n\u001b[1;32m    198\u001b[0m \u001b[38;5;28;01mtry\u001b[39;00m:\n\u001b[0;32m--> 199\u001b[0m     left_value \u001b[38;5;241m=\u001b[39m \u001b[43mleft\u001b[49m\u001b[43m(\u001b[49m\u001b[43mvar_mapping\u001b[49m\u001b[43m)\u001b[49m\n\u001b[1;32m    200\u001b[0m     right_value \u001b[38;5;241m=\u001b[39m right(var_mapping)\n",
      "File \u001b[0;32m~/Developer/LTN_Imp/ltn_imp/parsing/parser.py:212\u001b[0m, in \u001b[0;36mExpressionVisitor.visit_BinaryExpression.<locals>.<lambda>\u001b[0;34m(var_mapping)\u001b[0m\n\u001b[1;32m    211\u001b[0m     right \u001b[38;5;241m=\u001b[39m \u001b[38;5;28mself\u001b[39m\u001b[38;5;241m.\u001b[39mvisit(expression\u001b[38;5;241m.\u001b[39msecond)\n\u001b[0;32m--> 212\u001b[0m     \u001b[38;5;28;01mreturn\u001b[39;00m \u001b[38;5;28;01mlambda\u001b[39;00m var_mapping: \u001b[38;5;28;43mself\u001b[39;49m\u001b[38;5;241;43m.\u001b[39;49m\u001b[43mdelay_execution\u001b[49m\u001b[43m(\u001b[49m\u001b[43mleft\u001b[49m\u001b[43m,\u001b[49m\u001b[43m \u001b[49m\u001b[43mright\u001b[49m\u001b[43m,\u001b[49m\u001b[43m \u001b[49m\u001b[43mvar_mapping\u001b[49m\u001b[43m,\u001b[49m\u001b[43m \u001b[49m\u001b[43mconnective\u001b[49m\u001b[43m,\u001b[49m\u001b[43m \u001b[49m\u001b[43mexpression\u001b[49m\u001b[43m)\u001b[49m\n\u001b[1;32m    213\u001b[0m \u001b[38;5;28;01melse\u001b[39;00m:\n",
      "File \u001b[0;32m~/Developer/LTN_Imp/ltn_imp/parsing/parser.py:202\u001b[0m, in \u001b[0;36mExpressionVisitor.delay_execution\u001b[0;34m(self, left, right, var_mapping, connective, expression)\u001b[0m\n\u001b[1;32m    201\u001b[0m \u001b[38;5;28;01mexcept\u001b[39;00m:\n\u001b[0;32m--> 202\u001b[0m     right_value \u001b[38;5;241m=\u001b[39m \u001b[43mright\u001b[49m\u001b[43m(\u001b[49m\u001b[43mvar_mapping\u001b[49m\u001b[43m)\u001b[49m\n\u001b[1;32m    203\u001b[0m     left_value \u001b[38;5;241m=\u001b[39m left(var_mapping)\n",
      "File \u001b[0;32m~/Developer/LTN_Imp/ltn_imp/parsing/parser.py:192\u001b[0m, in \u001b[0;36mExpressionVisitor.visit_ApplicationExpression.<locals>.<lambda>\u001b[0;34m(var_mapping)\u001b[0m\n\u001b[1;32m    191\u001b[0m \u001b[38;5;28;01melif\u001b[39;00m functor \u001b[38;5;129;01min\u001b[39;00m \u001b[38;5;28mself\u001b[39m\u001b[38;5;241m.\u001b[39mfunctions:\n\u001b[0;32m--> 192\u001b[0m     \u001b[38;5;28;01mreturn\u001b[39;00m \u001b[38;5;28;01mlambda\u001b[39;00m var_mapping: \u001b[38;5;28;43mself\u001b[39;49m\u001b[38;5;241;43m.\u001b[39;49m\u001b[43mhandle_function\u001b[49m\u001b[43m(\u001b[49m\u001b[43mvariables\u001b[49m\u001b[38;5;241;43m=\u001b[39;49m\u001b[43mvariables\u001b[49m\u001b[43m,\u001b[49m\u001b[43m \u001b[49m\u001b[43mfunctor\u001b[49m\u001b[38;5;241;43m=\u001b[39;49m\u001b[43mfunctor\u001b[49m\u001b[43m,\u001b[49m\u001b[43m \u001b[49m\u001b[43mvar_mapping\u001b[49m\u001b[38;5;241;43m=\u001b[39;49m\u001b[43mvar_mapping\u001b[49m\u001b[43m,\u001b[49m\u001b[43m \u001b[49m\u001b[43mexpression\u001b[49m\u001b[38;5;241;43m=\u001b[39;49m\u001b[43mexpression\u001b[49m\u001b[43m)\u001b[49m\n\u001b[1;32m    193\u001b[0m \u001b[38;5;28;01melse\u001b[39;00m:\n",
      "File \u001b[0;32m~/Developer/LTN_Imp/ltn_imp/parsing/parser.py:169\u001b[0m, in \u001b[0;36mExpressionVisitor.handle_function\u001b[0;34m(self, variables, functor, var_mapping, expression)\u001b[0m\n\u001b[1;32m    168\u001b[0m \u001b[38;5;28;01melse\u001b[39;00m:\n\u001b[0;32m--> 169\u001b[0m     \u001b[38;5;28mself\u001b[39m\u001b[38;5;241m.\u001b[39mdeclerations[\u001b[38;5;28mstr\u001b[39m(var)] \u001b[38;5;241m=\u001b[39m \u001b[43mFunction\u001b[49m\u001b[43m(\u001b[49m\u001b[38;5;28;43mself\u001b[39;49m\u001b[38;5;241;43m.\u001b[39;49m\u001b[43mfunctions\u001b[49m\u001b[43m[\u001b[49m\u001b[43mfunctor\u001b[49m\u001b[43m]\u001b[49m\u001b[43m)\u001b[49m\u001b[43m(\u001b[49m\u001b[38;5;241;43m*\u001b[39;49m\u001b[43mresults\u001b[49m\u001b[43m)\u001b[49m\n\u001b[1;32m    170\u001b[0m     \u001b[38;5;28mself\u001b[39m\u001b[38;5;241m.\u001b[39mdeclerars[\u001b[38;5;28mstr\u001b[39m(var)] \u001b[38;5;241m=\u001b[39m expression \n",
      "File \u001b[0;32m~/Developer/LTN_Imp/ltn_imp/fuzzy_operators/functions.py:19\u001b[0m, in \u001b[0;36mFunction.__call__\u001b[0;34m(self, *args)\u001b[0m\n\u001b[1;32m     18\u001b[0m \u001b[38;5;28;01mdef\u001b[39;00m \u001b[38;5;21m__call__\u001b[39m(\u001b[38;5;28mself\u001b[39m, \u001b[38;5;241m*\u001b[39margs):\n\u001b[0;32m---> 19\u001b[0m     \u001b[38;5;28;01mreturn\u001b[39;00m \u001b[38;5;28;43mself\u001b[39;49m\u001b[38;5;241;43m.\u001b[39;49m\u001b[43mforward\u001b[49m\u001b[43m(\u001b[49m\u001b[38;5;241;43m*\u001b[39;49m\u001b[43margs\u001b[49m\u001b[43m)\u001b[49m\n",
      "File \u001b[0;32m~/Developer/LTN_Imp/ltn_imp/fuzzy_operators/functions.py:16\u001b[0m, in \u001b[0;36mFunction.forward\u001b[0;34m(self, *args)\u001b[0m\n\u001b[1;32m     15\u001b[0m \u001b[38;5;28;01melse\u001b[39;00m:\n\u001b[0;32m---> 16\u001b[0m     \u001b[38;5;28;01mraise\u001b[39;00m \u001b[38;5;167;01mValueError\u001b[39;00m(\u001b[38;5;124mf\u001b[39m\u001b[38;5;124m\"\u001b[39m\u001b[38;5;124mModel expects \u001b[39m\u001b[38;5;132;01m{\u001b[39;00mnum_args\u001b[38;5;132;01m}\u001b[39;00m\u001b[38;5;124m arguments, but got \u001b[39m\u001b[38;5;132;01m{\u001b[39;00m\u001b[38;5;28mlen\u001b[39m(args)\u001b[38;5;132;01m}\u001b[39;00m\u001b[38;5;124m.\u001b[39m\u001b[38;5;124m\"\u001b[39m)\n",
      "\u001b[0;31mValueError\u001b[0m: Model expects 2 arguments, but got 0.",
      "\nDuring handling of the above exception, another exception occurred:\n",
      "\u001b[0;31mKeyError\u001b[0m                                  Traceback (most recent call last)",
      "File \u001b[0;32m~/Developer/LTN_Imp/ltn_imp/parsing/parser.py:241\u001b[0m, in \u001b[0;36mExpressionVisitor.handle_variable\u001b[0;34m(self, variable_mapping, expression)\u001b[0m\n\u001b[1;32m    240\u001b[0m \u001b[38;5;28;01mtry\u001b[39;00m:\n\u001b[0;32m--> 241\u001b[0m     \u001b[38;5;28;01mreturn\u001b[39;00m \u001b[43mvariable_mapping\u001b[49m\u001b[43m[\u001b[49m\u001b[38;5;28;43mstr\u001b[39;49m\u001b[43m(\u001b[49m\u001b[43mvar\u001b[49m\u001b[43m)\u001b[49m\u001b[43m]\u001b[49m\n\u001b[1;32m    242\u001b[0m \u001b[38;5;28;01mexcept\u001b[39;00m \u001b[38;5;167;01mKeyError\u001b[39;00m \u001b[38;5;28;01mas\u001b[39;00m e:\n",
      "\u001b[0;31mKeyError\u001b[0m: 'b1'",
      "\nDuring handling of the above exception, another exception occurred:\n",
      "\u001b[0;31mKeyError\u001b[0m                                  Traceback (most recent call last)",
      "File \u001b[0;32m~/Developer/LTN_Imp/ltn_imp/parsing/parser.py:244\u001b[0m, in \u001b[0;36mExpressionVisitor.handle_variable\u001b[0;34m(self, variable_mapping, expression)\u001b[0m\n\u001b[1;32m    243\u001b[0m \u001b[38;5;28;01mtry\u001b[39;00m:\n\u001b[0;32m--> 244\u001b[0m     \u001b[38;5;28;01mreturn\u001b[39;00m \u001b[38;5;28;43mself\u001b[39;49m\u001b[38;5;241;43m.\u001b[39;49m\u001b[43mdeclerations\u001b[49m\u001b[43m[\u001b[49m\u001b[38;5;28;43mstr\u001b[39;49m\u001b[43m(\u001b[49m\u001b[43mvar\u001b[49m\u001b[43m)\u001b[49m\u001b[43m]\u001b[49m\n\u001b[1;32m    245\u001b[0m \u001b[38;5;28;01mexcept\u001b[39;00m \u001b[38;5;167;01mKeyError\u001b[39;00m \u001b[38;5;28;01mas\u001b[39;00m e:\n",
      "\u001b[0;31mKeyError\u001b[0m: 'b1'",
      "\nDuring handling of the above exception, another exception occurred:\n",
      "\u001b[0;31mKeyError\u001b[0m                                  Traceback (most recent call last)",
      "File \u001b[0;32m~/Developer/LTN_Imp/ltn_imp/parsing/parser.py:199\u001b[0m, in \u001b[0;36mExpressionVisitor.delay_execution\u001b[0;34m(self, left, right, var_mapping, connective, expression)\u001b[0m\n\u001b[1;32m    198\u001b[0m \u001b[38;5;28;01mtry\u001b[39;00m:\n\u001b[0;32m--> 199\u001b[0m     left_value \u001b[38;5;241m=\u001b[39m \u001b[43mleft\u001b[49m\u001b[43m(\u001b[49m\u001b[43mvar_mapping\u001b[49m\u001b[43m)\u001b[49m\n\u001b[1;32m    200\u001b[0m     right_value \u001b[38;5;241m=\u001b[39m right(var_mapping)\n",
      "File \u001b[0;32m~/Developer/LTN_Imp/ltn_imp/parsing/parser.py:249\u001b[0m, in \u001b[0;36mExpressionVisitor.visit_IndividualVariableExpression.<locals>.<lambda>\u001b[0;34m(variable_mapping)\u001b[0m\n\u001b[1;32m    248\u001b[0m \u001b[38;5;28;01mdef\u001b[39;00m \u001b[38;5;21mvisit_IndividualVariableExpression\u001b[39m(\u001b[38;5;28mself\u001b[39m, expression):\n\u001b[0;32m--> 249\u001b[0m     \u001b[38;5;28;01mreturn\u001b[39;00m \u001b[38;5;28;01mlambda\u001b[39;00m variable_mapping: \u001b[38;5;28;43mself\u001b[39;49m\u001b[38;5;241;43m.\u001b[39;49m\u001b[43mhandle_variable\u001b[49m\u001b[43m(\u001b[49m\u001b[43mvariable_mapping\u001b[49m\u001b[43m,\u001b[49m\u001b[43m \u001b[49m\u001b[43mexpression\u001b[49m\u001b[43m)\u001b[49m\n",
      "File \u001b[0;32m~/Developer/LTN_Imp/ltn_imp/parsing/parser.py:246\u001b[0m, in \u001b[0;36mExpressionVisitor.handle_variable\u001b[0;34m(self, variable_mapping, expression)\u001b[0m\n\u001b[1;32m    245\u001b[0m \u001b[38;5;28;01mexcept\u001b[39;00m \u001b[38;5;167;01mKeyError\u001b[39;00m \u001b[38;5;28;01mas\u001b[39;00m e:\n\u001b[0;32m--> 246\u001b[0m     \u001b[38;5;28;01mraise\u001b[39;00m \u001b[38;5;167;01mKeyError\u001b[39;00m(\u001b[38;5;124mf\u001b[39m\u001b[38;5;124m\"\u001b[39m\u001b[38;5;124mVariable \u001b[39m\u001b[38;5;132;01m{\u001b[39;00mvar\u001b[38;5;132;01m}\u001b[39;00m\u001b[38;5;124m not recognized\u001b[39m\u001b[38;5;124m\"\u001b[39m)\n",
      "\u001b[0;31mKeyError\u001b[0m: 'Variable b1 not recognized'",
      "\nDuring handling of the above exception, another exception occurred:\n",
      "\u001b[0;31mKeyError\u001b[0m                                  Traceback (most recent call last)",
      "File \u001b[0;32m~/Developer/LTN_Imp/ltn_imp/parsing/parser.py:241\u001b[0m, in \u001b[0;36mExpressionVisitor.handle_variable\u001b[0;34m(self, variable_mapping, expression)\u001b[0m\n\u001b[1;32m    240\u001b[0m \u001b[38;5;28;01mtry\u001b[39;00m:\n\u001b[0;32m--> 241\u001b[0m     \u001b[38;5;28;01mreturn\u001b[39;00m \u001b[43mvariable_mapping\u001b[49m\u001b[43m[\u001b[49m\u001b[38;5;28;43mstr\u001b[39;49m\u001b[43m(\u001b[49m\u001b[43mvar\u001b[49m\u001b[43m)\u001b[49m\u001b[43m]\u001b[49m\n\u001b[1;32m    242\u001b[0m \u001b[38;5;28;01mexcept\u001b[39;00m \u001b[38;5;167;01mKeyError\u001b[39;00m \u001b[38;5;28;01mas\u001b[39;00m e:\n",
      "\u001b[0;31mKeyError\u001b[0m: 'c'",
      "\nDuring handling of the above exception, another exception occurred:\n",
      "\u001b[0;31mKeyError\u001b[0m                                  Traceback (most recent call last)",
      "File \u001b[0;32m~/Developer/LTN_Imp/ltn_imp/parsing/parser.py:244\u001b[0m, in \u001b[0;36mExpressionVisitor.handle_variable\u001b[0;34m(self, variable_mapping, expression)\u001b[0m\n\u001b[1;32m    243\u001b[0m \u001b[38;5;28;01mtry\u001b[39;00m:\n\u001b[0;32m--> 244\u001b[0m     \u001b[38;5;28;01mreturn\u001b[39;00m \u001b[38;5;28;43mself\u001b[39;49m\u001b[38;5;241;43m.\u001b[39;49m\u001b[43mdeclerations\u001b[49m\u001b[43m[\u001b[49m\u001b[38;5;28;43mstr\u001b[39;49m\u001b[43m(\u001b[49m\u001b[43mvar\u001b[49m\u001b[43m)\u001b[49m\u001b[43m]\u001b[49m\n\u001b[1;32m    245\u001b[0m \u001b[38;5;28;01mexcept\u001b[39;00m \u001b[38;5;167;01mKeyError\u001b[39;00m \u001b[38;5;28;01mas\u001b[39;00m e:\n",
      "\u001b[0;31mKeyError\u001b[0m: 'c'",
      "\nDuring handling of the above exception, another exception occurred:\n",
      "\u001b[0;31mKeyError\u001b[0m                                  Traceback (most recent call last)",
      "File \u001b[0;32m~/Developer/LTN_Imp/ltn_imp/parsing/parser.py:159\u001b[0m, in \u001b[0;36mExpressionVisitor.handle_function\u001b[0;34m(self, variables, functor, var_mapping, expression)\u001b[0m\n\u001b[1;32m    157\u001b[0m \u001b[38;5;28;01mtry\u001b[39;00m:\n\u001b[1;32m    158\u001b[0m     \u001b[38;5;66;03m# Attempt to retrieve and process each variable\u001b[39;00m\n\u001b[0;32m--> 159\u001b[0m     variable_value \u001b[38;5;241m=\u001b[39m \u001b[38;5;28;43mself\u001b[39;49m\u001b[38;5;241;43m.\u001b[39;49m\u001b[43mvisit\u001b[49m\u001b[43m(\u001b[49m\u001b[43mvar\u001b[49m\u001b[43m)\u001b[49m\u001b[43m(\u001b[49m\u001b[43mvar_mapping\u001b[49m\u001b[43m)\u001b[49m\n\u001b[1;32m    160\u001b[0m     results\u001b[38;5;241m.\u001b[39mappend(variable_value)\n",
      "File \u001b[0;32m~/Developer/LTN_Imp/ltn_imp/parsing/parser.py:249\u001b[0m, in \u001b[0;36mExpressionVisitor.visit_IndividualVariableExpression.<locals>.<lambda>\u001b[0;34m(variable_mapping)\u001b[0m\n\u001b[1;32m    248\u001b[0m \u001b[38;5;28;01mdef\u001b[39;00m \u001b[38;5;21mvisit_IndividualVariableExpression\u001b[39m(\u001b[38;5;28mself\u001b[39m, expression):\n\u001b[0;32m--> 249\u001b[0m     \u001b[38;5;28;01mreturn\u001b[39;00m \u001b[38;5;28;01mlambda\u001b[39;00m variable_mapping: \u001b[38;5;28;43mself\u001b[39;49m\u001b[38;5;241;43m.\u001b[39;49m\u001b[43mhandle_variable\u001b[49m\u001b[43m(\u001b[49m\u001b[43mvariable_mapping\u001b[49m\u001b[43m,\u001b[49m\u001b[43m \u001b[49m\u001b[43mexpression\u001b[49m\u001b[43m)\u001b[49m\n",
      "File \u001b[0;32m~/Developer/LTN_Imp/ltn_imp/parsing/parser.py:246\u001b[0m, in \u001b[0;36mExpressionVisitor.handle_variable\u001b[0;34m(self, variable_mapping, expression)\u001b[0m\n\u001b[1;32m    245\u001b[0m \u001b[38;5;28;01mexcept\u001b[39;00m \u001b[38;5;167;01mKeyError\u001b[39;00m \u001b[38;5;28;01mas\u001b[39;00m e:\n\u001b[0;32m--> 246\u001b[0m     \u001b[38;5;28;01mraise\u001b[39;00m \u001b[38;5;167;01mKeyError\u001b[39;00m(\u001b[38;5;124mf\u001b[39m\u001b[38;5;124m\"\u001b[39m\u001b[38;5;124mVariable \u001b[39m\u001b[38;5;132;01m{\u001b[39;00mvar\u001b[38;5;132;01m}\u001b[39;00m\u001b[38;5;124m not recognized\u001b[39m\u001b[38;5;124m\"\u001b[39m)\n",
      "\u001b[0;31mKeyError\u001b[0m: 'Variable c not recognized'",
      "\nDuring handling of the above exception, another exception occurred:\n",
      "\u001b[0;31mValueError\u001b[0m                                Traceback (most recent call last)",
      "Cell \u001b[0;32mIn[15], line 1\u001b[0m\n\u001b[0;32m----> 1\u001b[0m \u001b[43mkb\u001b[49m\u001b[38;5;241;43m.\u001b[39;49m\u001b[43moptimize\u001b[49m\u001b[43m(\u001b[49m\u001b[43mnum_epochs\u001b[49m\u001b[38;5;241;43m=\u001b[39;49m\u001b[38;5;241;43m100\u001b[39;49m\u001b[43m,\u001b[49m\u001b[43m \u001b[49m\u001b[43mlog_steps\u001b[49m\u001b[38;5;241;43m=\u001b[39;49m\u001b[38;5;241;43m11\u001b[39;49m\u001b[43m)\u001b[49m\n",
      "File \u001b[0;32m~/Developer/LTN_Imp/ltn_imp/automation/knowledge_base.py:81\u001b[0m, in \u001b[0;36mKnowledgeBase.optimize\u001b[0;34m(self, num_epochs, log_steps)\u001b[0m\n\u001b[1;32m     78\u001b[0m var_mapping \u001b[38;5;241m=\u001b[39m \u001b[38;5;28mself\u001b[39m\u001b[38;5;241m.\u001b[39mconstant_mapping\u001b[38;5;241m.\u001b[39mcopy()\n\u001b[1;32m     80\u001b[0m \u001b[38;5;28;01mif\u001b[39;00m loaders \u001b[38;5;241m==\u001b[39m \u001b[38;5;28;01mNone\u001b[39;00m:\n\u001b[0;32m---> 81\u001b[0m     rule_outputs\u001b[38;5;241m.\u001b[39mappend(\u001b[43mrule\u001b[49m\u001b[43m(\u001b[49m\u001b[43mvar_mapping\u001b[49m\u001b[43m)\u001b[49m)\n\u001b[1;32m     83\u001b[0m \u001b[38;5;28;01melse\u001b[39;00m:                    \n\u001b[1;32m     84\u001b[0m     max_classes \u001b[38;5;241m=\u001b[39m \u001b[38;5;28mmax\u001b[39m(loader\u001b[38;5;241m.\u001b[39mnum_classes \u001b[38;5;28;01mfor\u001b[39;00m loader \u001b[38;5;129;01min\u001b[39;00m loaders)\n",
      "File \u001b[0;32m~/Developer/LTN_Imp/ltn_imp/parsing/parser.py:212\u001b[0m, in \u001b[0;36mExpressionVisitor.visit_BinaryExpression.<locals>.<lambda>\u001b[0;34m(var_mapping)\u001b[0m\n\u001b[1;32m    210\u001b[0m     left \u001b[38;5;241m=\u001b[39m \u001b[38;5;28mself\u001b[39m\u001b[38;5;241m.\u001b[39mvisit(expression\u001b[38;5;241m.\u001b[39mfirst)\n\u001b[1;32m    211\u001b[0m     right \u001b[38;5;241m=\u001b[39m \u001b[38;5;28mself\u001b[39m\u001b[38;5;241m.\u001b[39mvisit(expression\u001b[38;5;241m.\u001b[39msecond)\n\u001b[0;32m--> 212\u001b[0m     \u001b[38;5;28;01mreturn\u001b[39;00m \u001b[38;5;28;01mlambda\u001b[39;00m var_mapping: \u001b[38;5;28;43mself\u001b[39;49m\u001b[38;5;241;43m.\u001b[39;49m\u001b[43mdelay_execution\u001b[49m\u001b[43m(\u001b[49m\u001b[43mleft\u001b[49m\u001b[43m,\u001b[49m\u001b[43m \u001b[49m\u001b[43mright\u001b[49m\u001b[43m,\u001b[49m\u001b[43m \u001b[49m\u001b[43mvar_mapping\u001b[49m\u001b[43m,\u001b[49m\u001b[43m \u001b[49m\u001b[43mconnective\u001b[49m\u001b[43m,\u001b[49m\u001b[43m \u001b[49m\u001b[43mexpression\u001b[49m\u001b[43m)\u001b[49m\n\u001b[1;32m    213\u001b[0m \u001b[38;5;28;01melse\u001b[39;00m:\n\u001b[1;32m    214\u001b[0m     \u001b[38;5;28;01mraise\u001b[39;00m \u001b[38;5;167;01mNotImplementedError\u001b[39;00m(\u001b[38;5;124mf\u001b[39m\u001b[38;5;124m\"\u001b[39m\u001b[38;5;124mUnsupported binary expression type: \u001b[39m\u001b[38;5;132;01m{\u001b[39;00m\u001b[38;5;28mtype\u001b[39m(expression)\u001b[38;5;132;01m}\u001b[39;00m\u001b[38;5;124m\"\u001b[39m)\n",
      "File \u001b[0;32m~/Developer/LTN_Imp/ltn_imp/parsing/parser.py:202\u001b[0m, in \u001b[0;36mExpressionVisitor.delay_execution\u001b[0;34m(self, left, right, var_mapping, connective, expression)\u001b[0m\n\u001b[1;32m    200\u001b[0m     right_value \u001b[38;5;241m=\u001b[39m right(var_mapping)\n\u001b[1;32m    201\u001b[0m \u001b[38;5;28;01mexcept\u001b[39;00m:\n\u001b[0;32m--> 202\u001b[0m     right_value \u001b[38;5;241m=\u001b[39m \u001b[43mright\u001b[49m\u001b[43m(\u001b[49m\u001b[43mvar_mapping\u001b[49m\u001b[43m)\u001b[49m\n\u001b[1;32m    203\u001b[0m     left_value \u001b[38;5;241m=\u001b[39m left(var_mapping)\n\u001b[1;32m    205\u001b[0m \u001b[38;5;28;01mreturn\u001b[39;00m connective(left_value, right_value)\n",
      "File \u001b[0;32m~/Developer/LTN_Imp/ltn_imp/parsing/parser.py:212\u001b[0m, in \u001b[0;36mExpressionVisitor.visit_BinaryExpression.<locals>.<lambda>\u001b[0;34m(var_mapping)\u001b[0m\n\u001b[1;32m    210\u001b[0m     left \u001b[38;5;241m=\u001b[39m \u001b[38;5;28mself\u001b[39m\u001b[38;5;241m.\u001b[39mvisit(expression\u001b[38;5;241m.\u001b[39mfirst)\n\u001b[1;32m    211\u001b[0m     right \u001b[38;5;241m=\u001b[39m \u001b[38;5;28mself\u001b[39m\u001b[38;5;241m.\u001b[39mvisit(expression\u001b[38;5;241m.\u001b[39msecond)\n\u001b[0;32m--> 212\u001b[0m     \u001b[38;5;28;01mreturn\u001b[39;00m \u001b[38;5;28;01mlambda\u001b[39;00m var_mapping: \u001b[38;5;28;43mself\u001b[39;49m\u001b[38;5;241;43m.\u001b[39;49m\u001b[43mdelay_execution\u001b[49m\u001b[43m(\u001b[49m\u001b[43mleft\u001b[49m\u001b[43m,\u001b[49m\u001b[43m \u001b[49m\u001b[43mright\u001b[49m\u001b[43m,\u001b[49m\u001b[43m \u001b[49m\u001b[43mvar_mapping\u001b[49m\u001b[43m,\u001b[49m\u001b[43m \u001b[49m\u001b[43mconnective\u001b[49m\u001b[43m,\u001b[49m\u001b[43m \u001b[49m\u001b[43mexpression\u001b[49m\u001b[43m)\u001b[49m\n\u001b[1;32m    213\u001b[0m \u001b[38;5;28;01melse\u001b[39;00m:\n\u001b[1;32m    214\u001b[0m     \u001b[38;5;28;01mraise\u001b[39;00m \u001b[38;5;167;01mNotImplementedError\u001b[39;00m(\u001b[38;5;124mf\u001b[39m\u001b[38;5;124m\"\u001b[39m\u001b[38;5;124mUnsupported binary expression type: \u001b[39m\u001b[38;5;132;01m{\u001b[39;00m\u001b[38;5;28mtype\u001b[39m(expression)\u001b[38;5;132;01m}\u001b[39;00m\u001b[38;5;124m\"\u001b[39m)\n",
      "File \u001b[0;32m~/Developer/LTN_Imp/ltn_imp/parsing/parser.py:202\u001b[0m, in \u001b[0;36mExpressionVisitor.delay_execution\u001b[0;34m(self, left, right, var_mapping, connective, expression)\u001b[0m\n\u001b[1;32m    200\u001b[0m     right_value \u001b[38;5;241m=\u001b[39m right(var_mapping)\n\u001b[1;32m    201\u001b[0m \u001b[38;5;28;01mexcept\u001b[39;00m:\n\u001b[0;32m--> 202\u001b[0m     right_value \u001b[38;5;241m=\u001b[39m \u001b[43mright\u001b[49m\u001b[43m(\u001b[49m\u001b[43mvar_mapping\u001b[49m\u001b[43m)\u001b[49m\n\u001b[1;32m    203\u001b[0m     left_value \u001b[38;5;241m=\u001b[39m left(var_mapping)\n\u001b[1;32m    205\u001b[0m \u001b[38;5;28;01mreturn\u001b[39;00m connective(left_value, right_value)\n",
      "File \u001b[0;32m~/Developer/LTN_Imp/ltn_imp/parsing/parser.py:212\u001b[0m, in \u001b[0;36mExpressionVisitor.visit_BinaryExpression.<locals>.<lambda>\u001b[0;34m(var_mapping)\u001b[0m\n\u001b[1;32m    210\u001b[0m     left \u001b[38;5;241m=\u001b[39m \u001b[38;5;28mself\u001b[39m\u001b[38;5;241m.\u001b[39mvisit(expression\u001b[38;5;241m.\u001b[39mfirst)\n\u001b[1;32m    211\u001b[0m     right \u001b[38;5;241m=\u001b[39m \u001b[38;5;28mself\u001b[39m\u001b[38;5;241m.\u001b[39mvisit(expression\u001b[38;5;241m.\u001b[39msecond)\n\u001b[0;32m--> 212\u001b[0m     \u001b[38;5;28;01mreturn\u001b[39;00m \u001b[38;5;28;01mlambda\u001b[39;00m var_mapping: \u001b[38;5;28;43mself\u001b[39;49m\u001b[38;5;241;43m.\u001b[39;49m\u001b[43mdelay_execution\u001b[49m\u001b[43m(\u001b[49m\u001b[43mleft\u001b[49m\u001b[43m,\u001b[49m\u001b[43m \u001b[49m\u001b[43mright\u001b[49m\u001b[43m,\u001b[49m\u001b[43m \u001b[49m\u001b[43mvar_mapping\u001b[49m\u001b[43m,\u001b[49m\u001b[43m \u001b[49m\u001b[43mconnective\u001b[49m\u001b[43m,\u001b[49m\u001b[43m \u001b[49m\u001b[43mexpression\u001b[49m\u001b[43m)\u001b[49m\n\u001b[1;32m    213\u001b[0m \u001b[38;5;28;01melse\u001b[39;00m:\n\u001b[1;32m    214\u001b[0m     \u001b[38;5;28;01mraise\u001b[39;00m \u001b[38;5;167;01mNotImplementedError\u001b[39;00m(\u001b[38;5;124mf\u001b[39m\u001b[38;5;124m\"\u001b[39m\u001b[38;5;124mUnsupported binary expression type: \u001b[39m\u001b[38;5;132;01m{\u001b[39;00m\u001b[38;5;28mtype\u001b[39m(expression)\u001b[38;5;132;01m}\u001b[39;00m\u001b[38;5;124m\"\u001b[39m)\n",
      "File \u001b[0;32m~/Developer/LTN_Imp/ltn_imp/parsing/parser.py:202\u001b[0m, in \u001b[0;36mExpressionVisitor.delay_execution\u001b[0;34m(self, left, right, var_mapping, connective, expression)\u001b[0m\n\u001b[1;32m    200\u001b[0m     right_value \u001b[38;5;241m=\u001b[39m right(var_mapping)\n\u001b[1;32m    201\u001b[0m \u001b[38;5;28;01mexcept\u001b[39;00m:\n\u001b[0;32m--> 202\u001b[0m     right_value \u001b[38;5;241m=\u001b[39m \u001b[43mright\u001b[49m\u001b[43m(\u001b[49m\u001b[43mvar_mapping\u001b[49m\u001b[43m)\u001b[49m\n\u001b[1;32m    203\u001b[0m     left_value \u001b[38;5;241m=\u001b[39m left(var_mapping)\n\u001b[1;32m    205\u001b[0m \u001b[38;5;28;01mreturn\u001b[39;00m connective(left_value, right_value)\n",
      "File \u001b[0;32m~/Developer/LTN_Imp/ltn_imp/parsing/parser.py:192\u001b[0m, in \u001b[0;36mExpressionVisitor.visit_ApplicationExpression.<locals>.<lambda>\u001b[0;34m(var_mapping)\u001b[0m\n\u001b[1;32m    190\u001b[0m     \u001b[38;5;28;01mreturn\u001b[39;00m \u001b[38;5;28;01mlambda\u001b[39;00m var_mapping: \u001b[38;5;28mself\u001b[39m\u001b[38;5;241m.\u001b[39mhandle_predicate(variables\u001b[38;5;241m=\u001b[39mvariables, functor\u001b[38;5;241m=\u001b[39mfunctor, var_mapping\u001b[38;5;241m=\u001b[39mvar_mapping,  expression\u001b[38;5;241m=\u001b[39mexpression)\n\u001b[1;32m    191\u001b[0m \u001b[38;5;28;01melif\u001b[39;00m functor \u001b[38;5;129;01min\u001b[39;00m \u001b[38;5;28mself\u001b[39m\u001b[38;5;241m.\u001b[39mfunctions:\n\u001b[0;32m--> 192\u001b[0m     \u001b[38;5;28;01mreturn\u001b[39;00m \u001b[38;5;28;01mlambda\u001b[39;00m var_mapping: \u001b[38;5;28;43mself\u001b[39;49m\u001b[38;5;241;43m.\u001b[39;49m\u001b[43mhandle_function\u001b[49m\u001b[43m(\u001b[49m\u001b[43mvariables\u001b[49m\u001b[38;5;241;43m=\u001b[39;49m\u001b[43mvariables\u001b[49m\u001b[43m,\u001b[49m\u001b[43m \u001b[49m\u001b[43mfunctor\u001b[49m\u001b[38;5;241;43m=\u001b[39;49m\u001b[43mfunctor\u001b[49m\u001b[43m,\u001b[49m\u001b[43m \u001b[49m\u001b[43mvar_mapping\u001b[49m\u001b[38;5;241;43m=\u001b[39;49m\u001b[43mvar_mapping\u001b[49m\u001b[43m,\u001b[49m\u001b[43m \u001b[49m\u001b[43mexpression\u001b[49m\u001b[38;5;241;43m=\u001b[39;49m\u001b[43mexpression\u001b[49m\u001b[43m)\u001b[49m\n\u001b[1;32m    193\u001b[0m \u001b[38;5;28;01melse\u001b[39;00m:\n\u001b[1;32m    194\u001b[0m     \u001b[38;5;28;01mraise\u001b[39;00m \u001b[38;5;167;01mValueError\u001b[39;00m(\u001b[38;5;124mf\u001b[39m\u001b[38;5;124m\"\u001b[39m\u001b[38;5;124mUnknown functor: \u001b[39m\u001b[38;5;132;01m{\u001b[39;00mfunctor\u001b[38;5;132;01m}\u001b[39;00m\u001b[38;5;124m\"\u001b[39m)\n",
      "File \u001b[0;32m~/Developer/LTN_Imp/ltn_imp/parsing/parser.py:169\u001b[0m, in \u001b[0;36mExpressionVisitor.handle_function\u001b[0;34m(self, variables, functor, var_mapping, expression)\u001b[0m\n\u001b[1;32m    167\u001b[0m         \u001b[38;5;28;01mcontinue\u001b[39;00m\n\u001b[1;32m    168\u001b[0m \u001b[38;5;28;01melse\u001b[39;00m:\n\u001b[0;32m--> 169\u001b[0m     \u001b[38;5;28mself\u001b[39m\u001b[38;5;241m.\u001b[39mdeclerations[\u001b[38;5;28mstr\u001b[39m(var)] \u001b[38;5;241m=\u001b[39m \u001b[43mFunction\u001b[49m\u001b[43m(\u001b[49m\u001b[38;5;28;43mself\u001b[39;49m\u001b[38;5;241;43m.\u001b[39;49m\u001b[43mfunctions\u001b[49m\u001b[43m[\u001b[49m\u001b[43mfunctor\u001b[49m\u001b[43m]\u001b[49m\u001b[43m)\u001b[49m\u001b[43m(\u001b[49m\u001b[38;5;241;43m*\u001b[39;49m\u001b[43mresults\u001b[49m\u001b[43m)\u001b[49m\n\u001b[1;32m    170\u001b[0m     \u001b[38;5;28mself\u001b[39m\u001b[38;5;241m.\u001b[39mdeclerars[\u001b[38;5;28mstr\u001b[39m(var)] \u001b[38;5;241m=\u001b[39m expression \n\u001b[1;32m    171\u001b[0m     \u001b[38;5;28;01mreturn\u001b[39;00m torch\u001b[38;5;241m.\u001b[39mtensor([\u001b[38;5;241m1.0\u001b[39m])\n",
      "File \u001b[0;32m~/Developer/LTN_Imp/ltn_imp/fuzzy_operators/functions.py:19\u001b[0m, in \u001b[0;36mFunction.__call__\u001b[0;34m(self, *args)\u001b[0m\n\u001b[1;32m     18\u001b[0m \u001b[38;5;28;01mdef\u001b[39;00m \u001b[38;5;21m__call__\u001b[39m(\u001b[38;5;28mself\u001b[39m, \u001b[38;5;241m*\u001b[39margs):\n\u001b[0;32m---> 19\u001b[0m     \u001b[38;5;28;01mreturn\u001b[39;00m \u001b[38;5;28;43mself\u001b[39;49m\u001b[38;5;241;43m.\u001b[39;49m\u001b[43mforward\u001b[49m\u001b[43m(\u001b[49m\u001b[38;5;241;43m*\u001b[39;49m\u001b[43margs\u001b[49m\u001b[43m)\u001b[49m\n",
      "File \u001b[0;32m~/Developer/LTN_Imp/ltn_imp/fuzzy_operators/functions.py:16\u001b[0m, in \u001b[0;36mFunction.forward\u001b[0;34m(self, *args)\u001b[0m\n\u001b[1;32m     14\u001b[0m     \u001b[38;5;28;01mreturn\u001b[39;00m \u001b[38;5;28mself\u001b[39m\u001b[38;5;241m.\u001b[39mmodel(\u001b[38;5;241m*\u001b[39margs)\n\u001b[1;32m     15\u001b[0m \u001b[38;5;28;01melse\u001b[39;00m:\n\u001b[0;32m---> 16\u001b[0m     \u001b[38;5;28;01mraise\u001b[39;00m \u001b[38;5;167;01mValueError\u001b[39;00m(\u001b[38;5;124mf\u001b[39m\u001b[38;5;124m\"\u001b[39m\u001b[38;5;124mModel expects \u001b[39m\u001b[38;5;132;01m{\u001b[39;00mnum_args\u001b[38;5;132;01m}\u001b[39;00m\u001b[38;5;124m arguments, but got \u001b[39m\u001b[38;5;132;01m{\u001b[39;00m\u001b[38;5;28mlen\u001b[39m(args)\u001b[38;5;132;01m}\u001b[39;00m\u001b[38;5;124m.\u001b[39m\u001b[38;5;124m\"\u001b[39m)\n",
      "\u001b[0;31mValueError\u001b[0m: Model expects 2 arguments, but got 0."
     ]
    }
   ],
   "source": [
    "kb.optimize(num_epochs=100, log_steps=11)"
   ]
  },
  {
   "cell_type": "code",
   "execution_count": null,
   "metadata": {},
   "outputs": [],
   "source": []
  }
 ],
 "metadata": {
  "kernelspec": {
   "display_name": ".venv",
   "language": "python",
   "name": "python3"
  },
  "language_info": {
   "codemirror_mode": {
    "name": "ipython",
    "version": 3
   },
   "file_extension": ".py",
   "mimetype": "text/x-python",
   "name": "python",
   "nbconvert_exporter": "python",
   "pygments_lexer": "ipython3",
   "version": "3.12.4"
  }
 },
 "nbformat": 4,
 "nbformat_minor": 2
}
