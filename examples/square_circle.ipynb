{
 "cells": [
  {
   "cell_type": "code",
   "execution_count": 1,
   "metadata": {},
   "outputs": [],
   "source": [
    "# Data Processing\n",
    "import pandas as pd\n",
    "from PIL import Image\n",
    "from examples.generator import generate_dataset\n",
    "import numpy as np\n",
    "import matplotlib.pyplot as plt\n",
    "from sklearn.model_selection import train_test_split\n",
    "\n",
    "# Torch \n",
    "import torch\n",
    "import torch.nn as nn\n",
    "import torch.functional as F\n",
    "from torch.utils.data import DataLoader, Dataset\n",
    "\n",
    "# LTN\n",
    "from ltn_imp.automation.knowledge_base import KnowledgeBase\n",
    "from ltn_imp.automation.data_loaders import LoaderWrapper"
   ]
  },
  {
   "cell_type": "markdown",
   "metadata": {},
   "source": [
    "## Data Processing"
   ]
  },
  {
   "cell_type": "code",
   "execution_count": 2,
   "metadata": {},
   "outputs": [],
   "source": [
    "data = pd.DataFrame(generate_dataset(100))"
   ]
  },
  {
   "cell_type": "code",
   "execution_count": 3,
   "metadata": {},
   "outputs": [],
   "source": [
    "image_paths = [item for item in data[0]]\n",
    "images = []\n",
    "for path in image_paths:\n",
    "    try:\n",
    "        img = Image.open(path).convert('RGB')  # Convert to RGB to ensure consistency\n",
    "        img = np.array(img)\n",
    "        img_tensor = torch.tensor(img, dtype=torch.float32)  # Convert to PyTorch tensor\n",
    "        images.append(img_tensor)\n",
    "    except Exception as e:\n",
    "        print(f\"Error loading image {path}: {e}\")\n",
    "        \n",
    "labels = torch.tensor(data[1])"
   ]
  },
  {
   "cell_type": "code",
   "execution_count": 4,
   "metadata": {},
   "outputs": [],
   "source": [
    "class ImageDataset(Dataset):\n",
    "    def __init__(self, images, labels):\n",
    "        self.images = images\n",
    "        self.labels = labels\n",
    "\n",
    "    def __len__(self):\n",
    "        return len(self.images)\n",
    "\n",
    "    def __getitem__(self, idx):\n",
    "        image = self.images[idx]\n",
    "        label = self.labels[idx]\n",
    "        return image, label\n",
    "    \n",
    "batch_size = 25\n",
    "\n",
    "# Split the data into training and test sets\n",
    "train_data, test_data, train_labels, test_labels = train_test_split(images,labels, test_size=0.2, random_state=42)\n",
    "\n",
    "# Create the training dataset\n",
    "train_dataset = ImageDataset(train_data, train_labels)\n",
    "\n",
    "# Create the test dataset\n",
    "test_dataset = ImageDataset(test_data, test_labels)\n",
    "\n",
    "# Create the training dataloader\n",
    "train_dataloader = DataLoader(train_dataset, batch_size=batch_size, shuffle=True)\n",
    "\n",
    "# Create the test dataloader\n",
    "test_dataloader = DataLoader(test_dataset, batch_size=batch_size, shuffle=False)\n",
    "        "
   ]
  },
  {
   "cell_type": "code",
   "execution_count": 5,
   "metadata": {},
   "outputs": [],
   "source": [
    "train_dataloader = LoaderWrapper(variables=[\"i\"],num_classes=3, target=\"y\", loader=train_dataloader)"
   ]
  },
  {
   "cell_type": "code",
   "execution_count": 6,
   "metadata": {},
   "outputs": [
    {
     "name": "stdout",
     "output_type": "stream",
     "text": [
      "Number of training images: 80\n",
      "Number of training labels: 80\n",
      "Number of test images: 20\n",
      "Number of test labels: 20\n"
     ]
    }
   ],
   "source": [
    "print(f\"Number of training images: {len(train_data)}\")\n",
    "print(f\"Number of training labels: {len(train_labels)}\")\n",
    "print(f\"Number of test images: {len(test_data)}\")\n",
    "print(f\"Number of test labels: {len(test_labels)}\")"
   ]
  },
  {
   "cell_type": "code",
   "execution_count": 7,
   "metadata": {},
   "outputs": [
    {
     "data": {
      "text/plain": [
       "<matplotlib.image.AxesImage at 0x1176788c0>"
      ]
     },
     "execution_count": 7,
     "metadata": {},
     "output_type": "execute_result"
    },
    {
     "data": {
      "image/png": "[encoded data removed]",
      "text/plain": [
       "<Figure size 640x480 with 1 Axes>"
      ]
     },
     "metadata": {},
     "output_type": "display_data"
    }
   ],
   "source": [
    "plt.imshow(train_data[0].numpy().astype(np.uint8))"
   ]
  },
  {
   "cell_type": "markdown",
   "metadata": {},
   "source": [
    "## Models"
   ]
  },
  {
   "cell_type": "code",
   "execution_count": 8,
   "metadata": {},
   "outputs": [],
   "source": [
    "class CircleDetector(torch.nn.Module):\n",
    "    def __init__(self):\n",
    "        super(CircleDetector, self).__init__()\n",
    "        self.conv1 = nn.Conv2d(1, 16, kernel_size=3, stride=1, padding=1)\n",
    "        self.conv2 = nn.Conv2d(16, 32, kernel_size=3, stride=1, padding=1)\n",
    "        self.conv3 = nn.Conv2d(32, 64, kernel_size=3, stride=1, padding=1)\n",
    "        self.fc1 = nn.Linear(64 * 8 * 8, 128)\n",
    "        self.fc2 = nn.Linear(128, 3)  # Output: (x_center, y_center, radius)\n",
    "\n",
    "    def forward(self, x):\n",
    "        x = F.relu(self.conv1(x))\n",
    "        x = F.max_pool2d(x, 2)\n",
    "        x = F.relu(self.conv2(x))\n",
    "        x = F.max_pool2d(x, 2)\n",
    "        x = F.relu(self.conv3(x))\n",
    "        x = F.max_pool2d(x, 2)\n",
    "        x = x.view(x.size(0), -1)\n",
    "        x = F.relu(self.fc1(x))\n",
    "        x = self.fc2(x)\n",
    "        return x"
   ]
  },
  {
   "cell_type": "code",
   "execution_count": 9,
   "metadata": {},
   "outputs": [],
   "source": [
    "class RectangleDetector(torch.nn.Module):\n",
    "    def __init__(self):\n",
    "        super(RectangleDetector, self).__init__()\n",
    "        self.conv1 = nn.Conv2d(1, 16, kernel_size=3, stride=1, padding=1)\n",
    "        self.conv2 = nn.Conv2d(16, 32, kernel_size=3, stride=1, padding=1)\n",
    "        self.conv3 = nn.Conv2d(32, 64, kernel_size=3, stride=1, padding=1)\n",
    "        self.fc1 = nn.Linear(64 * 8 * 8, 128)\n",
    "        self.fc2 = nn.Linear(128, 4)  # Output: (x_top_left, y_top_left, x_br, y_br)\n",
    "\n",
    "    def forward(self, x):\n",
    "        x = F.relu(self.conv1(x))\n",
    "        x = F.max_pool2d(x, 2)\n",
    "        x = F.relu(self.conv2(x))\n",
    "        x = F.max_pool2d(x, 2)\n",
    "        x = F.relu(self.conv3(x))\n",
    "        x = F.max_pool2d(x, 2)\n",
    "        x = x.view(x.size(0), -1)\n",
    "        x = F.relu(self.fc1(x))\n",
    "        x = self.fc2(x)\n",
    "        return x"
   ]
  },
  {
   "cell_type": "markdown",
   "metadata": {},
   "source": [
    "## Rules and Functions"
   ]
  },
  {
   "cell_type": "code",
   "execution_count": 10,
   "metadata": {},
   "outputs": [],
   "source": [
    "#TODO: What is point of these functions if they just do the same operation as the right side of the equality operator ?\n",
    "\n",
    "class BoundingBox(torch.nn.Module): # TODO: What is this predicate suppose to do?\n",
    "    def forward(self, C, R, TL, BR):\n",
    "        pass\n",
    "\n",
    "    def __call__(self, *args):\n",
    "        return self.forward(args)\n",
    "    \n",
    "class Inside(torch.nn.Module):\n",
    "    def forward(self, TL1, BR1, TL2, BR2):\n",
    "        return (TL1 < TL2).all() and (BR1 < BR2).all()\n",
    "\n",
    "    def __call__(self, *args):\n",
    "        return self.forward(args)\n",
    "    \n",
    "class Outside(torch.nn.Module):\n",
    "    def forward(self, TL1, BR1, TL2, BR2):\n",
    "        return (TL1 > BR2).any() or (BR1 > TL2).any()\n",
    "\n",
    "    def __call__(self, *args):\n",
    "        return self.forward(args)\n",
    "    \n",
    "class Intersect(torch.nn.Module):\n",
    "    def __init__(self):\n",
    "        super(Intersect, self).__init__()\n",
    "        self.outside = Outside()\n",
    "        self.inside = Inside()\n",
    "\n",
    "    def forward(self, TL1, BR1, TL2, BR2):\n",
    "        return not self.outside(TL1, BR1, TL2, BR2) and not self.inside(TL1, BR1, TL2, BR2)\n",
    "\n",
    "    def __call__(self, *args):\n",
    "        return self.forward(args)"
   ]
  },
  {
   "cell_type": "code",
   "execution_count": 11,
   "metadata": {},
   "outputs": [],
   "source": [
    "from ltn_imp.parsing.parser import LTNConverter\n",
    "\n",
    "converter = LTNConverter(predicates={\"Circle\" : ..., \"Rect\" : ... , \"bounding_box\": ..., \"inside\" : ..., \"outside\": ..., \"intersect\": ...})\n",
    "\n",
    "# TODO: NLTK doesnt allow 2 letter variables. so x1 -> means X left, x2 -> means X right \n",
    "\n",
    "ancillary_rules = [\n",
    "    \"forall c r. exists t1 b1. bounding_box(c, r, t1, b1) <-> (t1 = c - r / 2 and b1 = c + r / 2)\",\n",
    "    \"forall t1 b1 t2 b2. inside(t1, b1, t2, b2) <-> (t1 < t2 and b1 < b2)\",\n",
    "    \"forall t1 b1 t2 b2. outside(t1, b1, t2, b2) <-> (t1 > b2 or b1 > b2)\",\n",
    "    \"forall t1 b1 t2 b2. intersect(t1, b1, t2, b2) <-> (not outside(t1, b1, t2, b2) and not inside(t1, b1, t2, b2))\"\n",
    "]\n",
    "\n",
    "learning_rules = [\n",
    "    \"forall i. Circle(i, c, r) and Rect(i, t1, b2) and bounding_box(c, r, t1, b2) and inside(t1, b2, t1, b2) -> y = in\",\n",
    "    \"forall i. Circle(i, c, r) and Rect(i, t1, b2) and bounding_box(c, r, t1, b2) and outside(t1, b2, t1, b2) -> y = out\",\n",
    "    \"forall i. Circle(i, c, r) and Rect(i, t1, b2) and bounding_box(c, r, t1, b2) and intersect(t1, b2, t1, b2) -> y = int\"\n",
    "]"
   ]
  },
  {
   "cell_type": "code",
   "execution_count": 12,
   "metadata": {},
   "outputs": [
    {
     "name": "stdout",
     "output_type": "stream",
     "text": [
      "(all c r.exists t1 b1.bounding_box(c,r,t1,b1) <-> ((t1 = sub(c,div(r,2))) & (b1 = add(c,div(r,2)))))\n",
      "(all t1 b1 t2 b2.inside(t1,b1,t2,b2) <-> (lt(t1,t2) & lt(b1,b2)))\n",
      "(all t1 b1 t2 b2.outside(t1,b1,t2,b2) <-> (mt(t1,b2) | mt(b1,b2)))\n",
      "(all t1 b1 t2 b2.intersect(t1,b1,t2,b2) <-> (-outside(t1,b1,t2,b2) & -inside(t1,b1,t2,b2)))\n"
     ]
    }
   ],
   "source": [
    "for rule in ancillary_rules:\n",
    "    print(converter(rule))"
   ]
  },
  {
   "cell_type": "code",
   "execution_count": 13,
   "metadata": {},
   "outputs": [
    {
     "name": "stdout",
     "output_type": "stream",
     "text": [
      "((all i.Circle(i,c,r) & Rect(i,t1,b2) & bounding_box(c,r,t1,b2) & inside(t1,b2,t1,b2)) -> (y = in))\n",
      "((all i.Circle(i,c,r) & Rect(i,t1,b2) & bounding_box(c,r,t1,b2) & outside(t1,b2,t1,b2)) -> (y = out))\n",
      "((all i.Circle(i,c,r) & Rect(i,t1,b2) & bounding_box(c,r,t1,b2) & intersect(t1,b2,t1,b2)) -> (y = int))\n"
     ]
    }
   ],
   "source": [
    "for rule in learning_rules:\n",
    "    print(converter(rule))"
   ]
  },
  {
   "cell_type": "markdown",
   "metadata": {},
   "source": [
    "## Training"
   ]
  },
  {
   "cell_type": "code",
   "execution_count": 14,
   "metadata": {},
   "outputs": [],
   "source": [
    "expresssions = [*ancillary_rules, *learning_rules]\n",
    "rule_to_data_loader_mapping = {}\n",
    "\n",
    "for rule in ancillary_rules:\n",
    "    rule_to_data_loader_mapping[rule] = None\n",
    "\n",
    "for rule in learning_rules:\n",
    "    rule_to_data_loader_mapping[rule] = [train_dataloader]\n",
    "\n",
    "predicates={\"Circle\" : CircleDetector(),\n",
    "            \"Rect\" : RectangleDetector(),    \n",
    "            \"bounding_box\": BoundingBox(),   # type: ignore\n",
    "            \"inside\" : Inside(),             # type: ignore\n",
    "            \"outside\": Outside(),            # type: ignore\n",
    "            \"intersect\": Intersect() }      # type: ignore\n",
    "\n",
    "functions = {}\n",
    "connective_impls={}\n",
    "quantifier_impls={}\n",
    "\n",
    "constant_mapping = {\"in\" : torch.tensor([1,0,0]), \"out\" : torch.tensor([0,1,0]), \"int\" : torch.tensor([0,0,1])}\n",
    "\n",
    "kb = KnowledgeBase(\n",
    "    expressions = expresssions,\n",
    "    rule_to_data_loader_mapping = rule_to_data_loader_mapping,\n",
    "    predicates = predicates,\n",
    "    functions = functions,\n",
    "    connective_impls = connective_impls,\n",
    "    quantifier_impls = quantifier_impls,\n",
    "    constant_mapping=constant_mapping\n",
    ")"
   ]
  },
  {
   "cell_type": "code",
   "execution_count": 15,
   "metadata": {},
   "outputs": [
    {
     "data": {
      "text/plain": [
       "['(all c r.exists t1 b1.bounding_box(c,r,t1,b1) <-> ((t1 = sub(c,div(r,2))) & (b1 = add(c,div(r,2)))))',\n",
       " '(all t1 b1 t2 b2.inside(t1,b1,t2,b2) <-> (lt(t1,t2) & lt(b1,b2)))',\n",
       " '(all t1 b1 t2 b2.outside(t1,b1,t2,b2) <-> (mt(t1,b2) | mt(b1,b2)))',\n",
       " '(all t1 b1 t2 b2.intersect(t1,b1,t2,b2) <-> (-outside(t1,b1,t2,b2) & -inside(t1,b1,t2,b2)))',\n",
       " '((all i.Circle(i,c,r) & Rect(i,t1,b2) & bounding_box(c,r,t1,b2) & inside(t1,b2,t1,b2)) -> (y = in))',\n",
       " '((all i.Circle(i,c,r) & Rect(i,t1,b2) & bounding_box(c,r,t1,b2) & outside(t1,b2,t1,b2)) -> (y = out))',\n",
       " '((all i.Circle(i,c,r) & Rect(i,t1,b2) & bounding_box(c,r,t1,b2) & intersect(t1,b2,t1,b2)) -> (y = int))']"
      ]
     },
     "execution_count": 15,
     "metadata": {},
     "output_type": "execute_result"
    }
   ],
   "source": [
    "[str(rule) for rule in kb.rules]"
   ]
  },
  {
   "cell_type": "code",
   "execution_count": 16,
   "metadata": {},
   "outputs": [],
   "source": [
    "# kb.optimize()"
   ]
  }
 ],
 "metadata": {
  "kernelspec": {
   "display_name": ".venv",
   "language": "python",
   "name": "python3"
  },
  "language_info": {
   "codemirror_mode": {
    "name": "ipython",
    "version": 3
   },
   "file_extension": ".py",
   "mimetype": "text/x-python",
   "name": "python",
   "nbconvert_exporter": "python",
   "pygments_lexer": "ipython3",
   "version": "3.12.4"
  }
 },
 "nbformat": 4,
 "nbformat_minor": 2
}
