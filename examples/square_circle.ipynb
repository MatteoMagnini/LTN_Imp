{
 "cells": [
  {
   "cell_type": "code",
   "execution_count": 1,
   "metadata": {},
   "outputs": [],
   "source": [
    "# Data Processing\n",
    "import pandas as pd\n",
    "from PIL import Image\n",
    "from examples.generator import generate_balanced_dataset\n",
    "import numpy as np\n",
    "import matplotlib.pyplot as plt\n",
    "from sklearn.model_selection import train_test_split\n",
    "\n",
    "# Torch \n",
    "import torch\n",
    "import torch.nn as nn\n",
    "import torch.nn.functional as F\n",
    "from torch.utils.data import DataLoader, Dataset\n",
    "\n",
    "# LTN\n",
    "from nltk.sem.logic import Expression\n",
    "from ltn_imp.automation.knowledge_base import KnowledgeBase\n",
    "from ltn_imp.automation.data_loaders import LoaderWrapper"
   ]
  },
  {
   "cell_type": "markdown",
   "metadata": {},
   "source": [
    "## Data Processing"
   ]
  },
  {
   "cell_type": "code",
   "execution_count": 2,
   "metadata": {},
   "outputs": [],
   "source": [
    "data = pd.DataFrame(generate_balanced_dataset(100))"
   ]
  },
  {
   "cell_type": "code",
   "execution_count": 3,
   "metadata": {},
   "outputs": [],
   "source": [
    "image_paths = [item for item in data[0]]\n",
    "images = []\n",
    "for path in image_paths:\n",
    "    try:\n",
    "        img = Image.open(path).convert('RGB')  # Convert to RGB to ensure consistency\n",
    "        img = np.array(img)\n",
    "        img_tensor = torch.tensor(img, dtype=torch.float32)  # Convert to PyTorch tensor\n",
    "        images.append(img_tensor)\n",
    "    except Exception as e:\n",
    "        print(f\"Error loading image {path}: {e}\")\n",
    "        \n",
    "labels = torch.tensor(data[1], dtype=torch.float32)"
   ]
  },
  {
   "cell_type": "code",
   "execution_count": 4,
   "metadata": {},
   "outputs": [
    {
     "name": "stderr",
     "output_type": "stream",
     "text": [
      "/var/folders/mv/_dg3pqgn2zdf7f95_1dg07rw0000gn/T/ipykernel_39594/3823677747.py:4: UserWarning: To copy construct from a tensor, it is recommended to use sourceTensor.clone().detach() or sourceTensor.clone().detach().requires_grad_(True), rather than torch.tensor(sourceTensor).\n",
      "  self.images = torch.stack([torch.tensor(image).permute(2, 0, 1) for image in images])\n",
      "/var/folders/mv/_dg3pqgn2zdf7f95_1dg07rw0000gn/T/ipykernel_39594/3823677747.py:5: UserWarning: To copy construct from a tensor, it is recommended to use sourceTensor.clone().detach() or sourceTensor.clone().detach().requires_grad_(True), rather than torch.tensor(sourceTensor).\n",
      "  self.labels = torch.tensor(labels).float()\n"
     ]
    }
   ],
   "source": [
    "class ImageDataset(Dataset):\n",
    "    def __init__(self, images, labels):\n",
    "        # Convert the list of images to a tensor and permute dimensions to [batch_size, channels, height, width]\n",
    "        self.images = torch.stack([torch.tensor(image).permute(2, 0, 1) for image in images])\n",
    "        self.labels = torch.tensor(labels).float()\n",
    "\n",
    "    def __len__(self):\n",
    "        return len(self.images)\n",
    "\n",
    "    def __getitem__(self, idx):\n",
    "        image = self.images[idx]\n",
    "        label = self.labels[idx]\n",
    "        return image, label\n",
    "    \n",
    "batch_size = 25\n",
    "\n",
    "# Split the data into training and test sets\n",
    "train_data, test_data, train_labels, test_labels = train_test_split(images,labels, test_size=0.2, random_state=42)\n",
    "\n",
    "# Create the training dataset\n",
    "train_dataset = ImageDataset(train_data, train_labels)\n",
    "\n",
    "# Create the test dataset\n",
    "test_dataset = ImageDataset(test_data, test_labels)\n",
    "\n",
    "# Create the training dataloader\n",
    "train_dataloader = DataLoader(train_dataset, batch_size=batch_size, shuffle=True)\n",
    "\n",
    "# Create the test dataloader\n",
    "test_dataloader = DataLoader(test_dataset, batch_size=batch_size, shuffle=False)\n",
    "        "
   ]
  },
  {
   "cell_type": "code",
   "execution_count": 5,
   "metadata": {},
   "outputs": [
    {
     "data": {
      "text/plain": [
       "<Axes: xlabel='0'>"
      ]
     },
     "execution_count": 5,
     "metadata": {},
     "output_type": "execute_result"
    },
    {
     "data": {
      "image/png": "[encoded data removed]",
      "text/plain": [
       "<Figure size 640x480 with 1 Axes>"
      ]
     },
     "metadata": {},
     "output_type": "display_data"
    }
   ],
   "source": [
    "pd.DataFrame(labels).value_counts().plot(kind='bar')"
   ]
  },
  {
   "cell_type": "code",
   "execution_count": 6,
   "metadata": {},
   "outputs": [
    {
     "name": "stdout",
     "output_type": "stream",
     "text": [
      "Number of training images: 240\n",
      "Number of training labels: 240\n",
      "Number of test images: 60\n",
      "Number of test labels: 60\n"
     ]
    }
   ],
   "source": [
    "print(f\"Number of training images: {len(train_data)}\")\n",
    "print(f\"Number of training labels: {len(train_labels)}\")\n",
    "print(f\"Number of test images: {len(test_data)}\")\n",
    "print(f\"Number of test labels: {len(test_labels)}\")"
   ]
  },
  {
   "cell_type": "code",
   "execution_count": 7,
   "metadata": {},
   "outputs": [
    {
     "data": {
      "text/plain": [
       "<matplotlib.image.AxesImage at 0x15656c6b0>"
      ]
     },
     "execution_count": 7,
     "metadata": {},
     "output_type": "execute_result"
    },
    {
     "data": {
      "image/png": "[encoded data removed]",
      "text/plain": [
       "<Figure size 640x480 with 1 Axes>"
      ]
     },
     "metadata": {},
     "output_type": "display_data"
    }
   ],
   "source": [
    "plt.imshow(train_data[0].numpy().astype(np.uint8))"
   ]
  },
  {
   "cell_type": "markdown",
   "metadata": {},
   "source": [
    "## Models"
   ]
  },
  {
   "cell_type": "code",
   "execution_count": 8,
   "metadata": {},
   "outputs": [],
   "source": [
    "class CircleDetector(nn.Module):\n",
    "    def __init__(self):\n",
    "        super(CircleDetector, self).__init__()\n",
    "        self.conv1 = nn.Conv2d(in_channels=3, out_channels=16, kernel_size=3, stride=1, padding=1)\n",
    "        self.bn1 = nn.BatchNorm2d(16)\n",
    "        self.conv2 = nn.Conv2d(in_channels=16, out_channels=32, kernel_size=3, stride=1, padding=1)\n",
    "        self.bn2 = nn.BatchNorm2d(32)\n",
    "        self.conv3 = nn.Conv2d(in_channels=32, out_channels=64, kernel_size=3, stride=1, padding=1)\n",
    "        self.bn3 = nn.BatchNorm2d(64)\n",
    "        self.fc1 = nn.Linear(in_features=64*16*16, out_features=128)\n",
    "        self.bn_fc1 = nn.BatchNorm1d(128)\n",
    "        self.fc2 = nn.Linear(in_features=128, out_features=3)\n",
    "\n",
    "    def forward(self, x):\n",
    "        x = F.leaky_relu(self.bn1(self.conv1(x)))\n",
    "        x = F.max_pool2d(x, 2)\n",
    "        x = F.leaky_relu(self.bn2(self.conv2(x)))\n",
    "        x = F.max_pool2d(x, 2)\n",
    "        x = F.leaky_relu(self.bn3(self.conv3(x)))\n",
    "        x = F.max_pool2d(x, 2)\n",
    "        x = x.view(x.size(0), -1)\n",
    "        x = F.leaky_relu(self.bn_fc1(self.fc1(x)))\n",
    "        x = self.fc2(x)\n",
    "        c_x, c_y, r = torch.tanh(x[:, 0]), torch.tanh(x[:, 1]), torch.sigmoid(x[:, 2])\n",
    "        return c_x, c_y, r"
   ]
  },
  {
   "cell_type": "code",
   "execution_count": 9,
   "metadata": {},
   "outputs": [],
   "source": [
    "class RectangleDetector(torch.nn.Module):\n",
    "    def __init__(self):\n",
    "        super(RectangleDetector, self).__init__()\n",
    "        self.conv1 = nn.Conv2d(in_channels=3, out_channels=16, kernel_size=3, stride=1, padding=1)\n",
    "        self.bn1 = nn.BatchNorm2d(16)\n",
    "        self.conv2 = nn.Conv2d(in_channels=16, out_channels=32, kernel_size=3, stride=1, padding=1)\n",
    "        self.bn2 = nn.BatchNorm2d(32)\n",
    "        self.conv3 = nn.Conv2d(in_channels=32, out_channels=64, kernel_size=3, stride=1, padding=1)\n",
    "        self.bn3 = nn.BatchNorm2d(64)\n",
    "        self.fc1 = nn.Linear(in_features=64*16*16, out_features=128)\n",
    "        self.bn_fc1 = nn.BatchNorm1d(128)\n",
    "        self.fc2 = nn.Linear(in_features=128, out_features=4)\n",
    "\n",
    "    def forward(self, x):\n",
    "        x = F.leaky_relu(self.bn1(self.conv1(x)))\n",
    "        x = F.max_pool2d(x, 2)\n",
    "        x = F.leaky_relu(self.bn2(self.conv2(x)))\n",
    "        x = F.max_pool2d(x, 2)\n",
    "        x = F.leaky_relu(self.bn3(self.conv3(x)))\n",
    "        x = F.max_pool2d(x, 2)\n",
    "        x = x.view(x.size(0), -1)\n",
    "        x = F.leaky_relu(self.bn_fc1(self.fc1(x)))\n",
    "        x = self.fc2(x)\n",
    "        t_x, t_y,b_x, b_y = torch.tanh(x[:, 0]), torch.tanh(x[:, 1]), torch.tanh(x[:, 2]), torch.tanh(x[:, 3])\n",
    "        return t_x, t_y, b_x, b_y"
   ]
  },
  {
   "cell_type": "markdown",
   "metadata": {},
   "source": [
    "## Rules"
   ]
  },
  {
   "cell_type": "code",
   "execution_count": 10,
   "metadata": {},
   "outputs": [],
   "source": [
    "import torch\n",
    "import torch.nn as nn\n",
    "import torch.nn.functional as F\n",
    "\n",
    "class BoundingBox(nn.Module):\n",
    "    def __init__(self):\n",
    "        super(BoundingBox, self).__init__()\n",
    "\n",
    "    def forward(self, c1, c2, r, t21=None, t22=None, b21=None, b22=None):\n",
    "        if t21 is None and t22 is None and b21 is None and b22 is None:\n",
    "            t21 = c1 - r\n",
    "            t22 = c2 - r\n",
    "            b21 = c1 + r\n",
    "            b22 = c2 + r\n",
    "            return t21, t22, b21, b22\n",
    "        else:\n",
    "            t21_check = 1 - torch.tanh(torch.abs(t21 - (c1 - r)))**2\n",
    "            t22_check = 1 - torch.tanh(torch.abs(t22 - (c2 - r)))**2\n",
    "            b21_check = 1 - torch.tanh(torch.abs(b21 - (c1 + r)))**2\n",
    "            b22_check = 1 - torch.tanh(torch.abs(b22 - (c2 + r)))**2\n",
    "            return t21_check * t22_check * b21_check * b22_check\n",
    "\n",
    "    def __call__(self, *args):\n",
    "        return self.forward(*args)\n",
    "\n",
    "class Inside(nn.Module):\n",
    "    def __init__(self):\n",
    "        super(Inside, self).__init__()\n",
    "\n",
    "    def forward(self, t11, t12, b11, b12, t21, t22, b21, b22):\n",
    "        smooth_lt_t11_t21 = torch.sigmoid(10 * (t21 - t11))\n",
    "        smooth_lt_t12_t22 = torch.sigmoid(10 * (t22 - t12))\n",
    "        smooth_lt_b11_b21 = torch.sigmoid(10 * (b21 - b11))\n",
    "        smooth_lt_b12_b22 = torch.sigmoid(10 * (b22 - b12))\n",
    "        return smooth_lt_t11_t21 * smooth_lt_t12_t22 * smooth_lt_b11_b21 * smooth_lt_b12_b22\n",
    "\n",
    "    def __call__(self, *args):\n",
    "        return self.forward(*args)\n",
    "\n",
    "class Outside(nn.Module):\n",
    "    def __init__(self):\n",
    "        super(Outside, self).__init__()\n",
    "\n",
    "    def forward(self, t11, t12, b11, b12, t21, t22, b21, b22):\n",
    "        smooth_gt_t11_t21 = torch.sigmoid(10 * (t11 - t21))\n",
    "        smooth_gt_t12_t22 = torch.sigmoid(10 * (t12 - t22))\n",
    "        smooth_gt_b11_b21 = torch.sigmoid(10 * (b11 - b21))\n",
    "        smooth_gt_b12_b22 = torch.sigmoid(10 * (b12 - b22))\n",
    "        return smooth_gt_t11_t21 * smooth_gt_t12_t22 * smooth_gt_b11_b21 * smooth_gt_b12_b22\n",
    "\n",
    "    def __call__(self, *args):\n",
    "        return self.forward(*args)\n",
    "\n",
    "class Intersect(nn.Module):\n",
    "    def __init__(self):\n",
    "        super(Intersect, self).__init__()\n",
    "\n",
    "    def forward(self, t11, t12, b11, b12, t21, t22, b21, b22):\n",
    "        smooth_lt_t11_t21 = torch.sigmoid(10 * (t21 - t11))\n",
    "        smooth_lt_t12_t22 = torch.sigmoid(10 * (t22 - t12))\n",
    "        smooth_lt_b11_b21 = torch.sigmoid(10 * (b21 - b11))\n",
    "        smooth_lt_b12_b22 = torch.sigmoid(10 * (b22 - b12))\n",
    "        smooth_gt_t11_t21 = torch.sigmoid(10 * (t11 - t21))\n",
    "        smooth_gt_t12_t22 = torch.sigmoid(10 * (t12 - t22))\n",
    "        smooth_gt_b11_b21 = torch.sigmoid(10 * (b11 - b21))\n",
    "        smooth_gt_b12_b22 = torch.sigmoid(10 * (b12 - b22))\n",
    "        inside = smooth_lt_t11_t21 * smooth_lt_t12_t22 * smooth_lt_b11_b21 * smooth_lt_b12_b22\n",
    "        outside = smooth_gt_t11_t21 * smooth_gt_t12_t22 * smooth_gt_b11_b21 * smooth_gt_b12_b22\n",
    "        return 1 - (inside + outside - inside * outside)  # Smooth approximation of NOT OR (XOR)\n",
    "\n",
    "    def __call__(self, *args):\n",
    "        return self.forward(*args)"
   ]
  },
  {
   "cell_type": "code",
   "execution_count": 11,
   "metadata": {},
   "outputs": [],
   "source": [
    "\n",
    "def compute_accuracy(circle_model, rect_model, bounding_box, inside_model, outside_model, intersect_model, test_dataloader, device):\n",
    "    # Set models to evaluation mode\n",
    "    circle_model.eval()\n",
    "    rect_model.eval()\n",
    "    bounding_box.eval()\n",
    "    inside_model.eval()\n",
    "    outside_model.eval()\n",
    "    intersect_model.eval()\n",
    "    \n",
    "    correct = 0\n",
    "    total = 0\n",
    "\n",
    "    class_correct = [0, 0, 0]\n",
    "    class_total = [0, 0, 0]\n",
    "\n",
    "    with torch.no_grad():\n",
    "        for batch_idx, (img_batch, label_batch) in enumerate(test_dataloader):\n",
    "            img_batch, label_batch = img_batch.to(device), label_batch.to(device)\n",
    "            \n",
    "            # Predict the circle parameters\n",
    "            c_x, c_y, r = circle_model(img_batch)\n",
    "\n",
    "            # Get the bounding box for the predicted circle\n",
    "            t21, t22, b21, b22 = bounding_box(c_x, c_y, r)\n",
    "            \n",
    "            # Get the bounding box for the true circle\n",
    "            t11, t12, b11, b12 = rect_model(img_batch)\n",
    "            \n",
    "            for i in range(len(img_batch)):\n",
    "                # Extract the true one-hot encoded label\n",
    "                true_class = int(label_batch[i].item())\n",
    "                \n",
    "                # Compute probabilities for being inside, outside, and intersecting\n",
    "                inside_prob = inside_model(t11[i], t12[i], b11[i], b12[i], t21[i], t22[i], b21[i], b22[i])\n",
    "                outside_prob = outside_model(t11[i], t12[i], b11[i], b12[i], t21[i], t22[i], b21[i], b22[i])\n",
    "                intersect_prob = intersect_model(t11[i], t12[i], b11[i], b12[i], t21[i], t22[i], b21[i], b22[i])\n",
    "                \n",
    "                # Stack probabilities to form a tensor\n",
    "                class_probs = torch.tensor([inside_prob, intersect_prob, outside_prob,], device=device)\n",
    "                predicted_class = torch.argmax(class_probs).item()\n",
    "                \n",
    "                # Update overall accuracy\n",
    "                if predicted_class == true_class:\n",
    "                    correct += 1\n",
    "                    class_correct[true_class] += 1\n",
    "                class_total[true_class] += 1\n",
    "                total += 1\n",
    "\n",
    "    accuracy = correct / total\n",
    "    class_accuracies = [class_correct[i] / class_total[i] if class_total[i] > 0 else 0 for i in range(3)]\n",
    "    \n",
    "    # Debug: print class-wise accuracies\n",
    "    for i, class_acc in enumerate(class_accuracies):\n",
    "        print(f\"Accuracy for class {i}: {class_acc * 100:.2f}%\")\n",
    "    print(f\"Overall accuracy: {accuracy * 100:.2f}%\")\n",
    "    \n",
    "    # Set models back to training mode\n",
    "    circle_model.train()\n",
    "    rect_model.train()\n",
    "    bounding_box.train()\n",
    "    inside_model.train()\n",
    "    outside_model.train()\n",
    "    intersect_model.train()\n",
    "\n",
    "    return accuracy, class_accuracies"
   ]
  },
  {
   "cell_type": "markdown",
   "metadata": {},
   "source": [
    "## Training"
   ]
  },
  {
   "cell_type": "code",
   "execution_count": 12,
   "metadata": {},
   "outputs": [],
   "source": [
    "# ancillary_rules = [\n",
    "#     \"forall c1 c2 r t21 t22 b21 b22. box(c1, c2, r, t21, t22, b21, b22) <-> (t21 = c1 - r and t22 = c2 - r and b21 = c1 + r and b22 = c2 + r)\",\n",
    "#     \"forall t11 t12 b11 b12 t21 t22 b21 b22. in(t11, t12, b11, b12, t21, t22, b21, b22) <-> (t11 >= t21 and t12 >= t22 and b11 <= b21 and b12 <= b22)\",\n",
    "#     \"forall t11 t12 b11 b12 t21 t22 b21 b22. out(t11, t12, b11, b12, t21, t22, b21, b22) <-> (t11 > b21 and t12 > b22 and b11 < t21 and b12 < t22)\",\n",
    "#     \"forall t11 t12 b11 b12 t21 t22 b21 b22. int(t11, t12, b11, b12, t21, t22, b21, b22) <-> (not out(t11, t12, b11, b12, t21, t22, b21, b22) and not in(t11, t12, b11, b12, t21, t22, b21, b22))\"\n",
    "# ]\n",
    "\n",
    "learning_rules = [\n",
    "    \"all i. ((y = in) -> (Circle(i, c1, c2, r) and Rect(i, t11, t12, b11, b12) and box(c1, c2, r, t21, t22, b21, b22) and in(t11, t12, b11, b12, t21, t22, b21, b22)))\",\n",
    "    \"all i. ((y = int) -> (Circle(i, c1, c2, r) and Rect(i, t11, t12, b11, b12) and box(c1, c2, r, t21, t22, b21, b22) and int(t11, t12, b11, b12, t21, t22, b21, b22)))\",\n",
    "    \"all i. ((y = out) -> (Circle(i, c1, c2, r) and Rect(i, t11, t12, b11, b12) and box(c1, c2, r, t21, t22, b21, b22) and out(t11, t12, b11, b12, t21, t22, b21, b22)))\"\n",
    "]"
   ]
  },
  {
   "cell_type": "code",
   "execution_count": 13,
   "metadata": {},
   "outputs": [
    {
     "data": {
      "text/plain": [
       "['all i.((y = in) -> (Circle(i,c1,c2,r) & Rect(i,t11,t12,b11,b12) & box(c1,c2,r,t21,t22,b21,b22) & in(t11,t12,b11,b12,t21,t22,b21,b22)))',\n",
       " 'all i.((y = int) -> (Circle(i,c1,c2,r) & Rect(i,t11,t12,b11,b12) & box(c1,c2,r,t21,t22,b21,b22) & int(t11,t12,b11,b12,t21,t22,b21,b22)))',\n",
       " 'all i.((y = out) -> (Circle(i,c1,c2,r) & Rect(i,t11,t12,b11,b12) & box(c1,c2,r,t21,t22,b21,b22) & out(t11,t12,b11,b12,t21,t22,b21,b22)))']"
      ]
     },
     "execution_count": 13,
     "metadata": {},
     "output_type": "execute_result"
    }
   ],
   "source": [
    "circle = CircleDetector()\n",
    "rectangle = RectangleDetector()\n",
    "\n",
    "predicates = {\n",
    "    \"Circle\": circle,\n",
    "    \"Rect\": rectangle,\n",
    "    \"box\": BoundingBox(),\n",
    "    \"in\": Inside(),\n",
    "    \"out\": Outside(),\n",
    "    \"int\": Intersect()\n",
    "}\n",
    "\n",
    "loader = LoaderWrapper(loader=train_dataloader, variables=[\"i\"], targets=[\"y\"])\n",
    "\n",
    "rule_to_loader = {rule: [loader] for rule in learning_rules } \n",
    "\n",
    "quantifier_imp = {\"forall\" : \"pmean_error\"}\n",
    "\n",
    "connective_imp = {\"eq\": \"tan\"}\n",
    "\n",
    "constants = { \n",
    "    \"in\" : torch.tensor([0.]),\n",
    "    \"int\" : torch.tensor([1.]),\n",
    "    \"out\" : torch.tensor([2.]),\n",
    "}\n",
    "\n",
    "kb = KnowledgeBase(\n",
    "    predicates=predicates,\n",
    "    ancillary_rules=[],\n",
    "    learning_rules=learning_rules,\n",
    "    rule_to_data_loader_mapping=rule_to_loader,\n",
    "    quantifier_impls=quantifier_imp,\n",
    "    connective_impls=connective_imp,\n",
    "    constant_mapping=constants\n",
    ")\n",
    "\n",
    "[ str(rule) for rule in kb.rules ]"
   ]
  },
  {
   "cell_type": "code",
   "execution_count": 14,
   "metadata": {},
   "outputs": [
    {
     "name": "stdout",
     "output_type": "stream",
     "text": [
      "Accuracy for class 0: 0.00%\n",
      "Accuracy for class 1: 100.00%\n",
      "Accuracy for class 2: 0.00%\n",
      "Overall accuracy: 25.00%\n"
     ]
    },
    {
     "data": {
      "text/plain": [
       "(0.25, [0.0, 1.0, 0.0])"
      ]
     },
     "execution_count": 14,
     "metadata": {},
     "output_type": "execute_result"
    }
   ],
   "source": [
    "compute_accuracy(circle,rectangle,BoundingBox(), Inside(), Outside(), Intersect(), test_dataloader, torch.device(\"cpu\"))"
   ]
  },
  {
   "cell_type": "code",
   "execution_count": 15,
   "metadata": {},
   "outputs": [
    {
     "name": "stdout",
     "output_type": "stream",
     "text": [
      "['all i.((y = in) -> (Circle(i,c1,c2,r) & Rect(i,t11,t12,b11,b12) & box(c1,c2,r,t21,t22,b21,b22) & in(t11,t12,b11,b12,t21,t22,b21,b22)))', 'all i.((y = int) -> (Circle(i,c1,c2,r) & Rect(i,t11,t12,b11,b12) & box(c1,c2,r,t21,t22,b21,b22) & int(t11,t12,b11,b12,t21,t22,b21,b22)))', 'all i.((y = out) -> (Circle(i,c1,c2,r) & Rect(i,t11,t12,b11,b12) & box(c1,c2,r,t21,t22,b21,b22) & out(t11,t12,b11,b12,t21,t22,b21,b22)))']\n",
      "Rule Outputs:  [tensor(0.6102, grad_fn=<RsubBackward1>), tensor(0.7344, grad_fn=<RsubBackward1>), tensor(0.5617, grad_fn=<RsubBackward1>)]\n",
      "Epoch 1/51, Loss: 0.3717721700668335\n",
      "\n",
      "['all i.((y = in) -> (Circle(i,c1,c2,r) & Rect(i,t11,t12,b11,b12) & box(c1,c2,r,t21,t22,b21,b22) & in(t11,t12,b11,b12,t21,t22,b21,b22)))', 'all i.((y = int) -> (Circle(i,c1,c2,r) & Rect(i,t11,t12,b11,b12) & box(c1,c2,r,t21,t22,b21,b22) & int(t11,t12,b11,b12,t21,t22,b21,b22)))', 'all i.((y = out) -> (Circle(i,c1,c2,r) & Rect(i,t11,t12,b11,b12) & box(c1,c2,r,t21,t22,b21,b22) & out(t11,t12,b11,b12,t21,t22,b21,b22)))']\n",
      "Rule Outputs:  [tensor(0.6654, grad_fn=<RsubBackward1>), tensor(0.7214, grad_fn=<RsubBackward1>), tensor(0.5617, grad_fn=<RsubBackward1>)]\n",
      "Epoch 11/51, Loss: 0.35669994354248047\n",
      "\n",
      "['all i.((y = in) -> (Circle(i,c1,c2,r) & Rect(i,t11,t12,b11,b12) & box(c1,c2,r,t21,t22,b21,b22) & in(t11,t12,b11,b12,t21,t22,b21,b22)))', 'all i.((y = int) -> (Circle(i,c1,c2,r) & Rect(i,t11,t12,b11,b12) & box(c1,c2,r,t21,t22,b21,b22) & int(t11,t12,b11,b12,t21,t22,b21,b22)))', 'all i.((y = out) -> (Circle(i,c1,c2,r) & Rect(i,t11,t12,b11,b12) & box(c1,c2,r,t21,t22,b21,b22) & out(t11,t12,b11,b12,t21,t22,b21,b22)))']\n",
      "Rule Outputs:  [tensor(0.6654, grad_fn=<RsubBackward1>), tensor(0.7214, grad_fn=<RsubBackward1>), tensor(0.5617, grad_fn=<RsubBackward1>)]\n",
      "Epoch 21/51, Loss: 0.3566998243331909\n",
      "\n",
      "['all i.((y = in) -> (Circle(i,c1,c2,r) & Rect(i,t11,t12,b11,b12) & box(c1,c2,r,t21,t22,b21,b22) & in(t11,t12,b11,b12,t21,t22,b21,b22)))', 'all i.((y = int) -> (Circle(i,c1,c2,r) & Rect(i,t11,t12,b11,b12) & box(c1,c2,r,t21,t22,b21,b22) & int(t11,t12,b11,b12,t21,t22,b21,b22)))', 'all i.((y = out) -> (Circle(i,c1,c2,r) & Rect(i,t11,t12,b11,b12) & box(c1,c2,r,t21,t22,b21,b22) & out(t11,t12,b11,b12,t21,t22,b21,b22)))']\n",
      "Rule Outputs:  [tensor(0.6654, grad_fn=<RsubBackward1>), tensor(0.7214, grad_fn=<RsubBackward1>), tensor(0.5617, grad_fn=<RsubBackward1>)]\n",
      "Epoch 31/51, Loss: 0.3566998243331909\n",
      "\n"
     ]
    },
    {
     "ename": "KeyboardInterrupt",
     "evalue": "",
     "output_type": "error",
     "traceback": [
      "\u001b[0;31m---------------------------------------------------------------------------\u001b[0m",
      "\u001b[0;31mKeyboardInterrupt\u001b[0m                         Traceback (most recent call last)",
      "Cell \u001b[0;32mIn[15], line 1\u001b[0m\n\u001b[0;32m----> 1\u001b[0m \u001b[43mkb\u001b[49m\u001b[38;5;241;43m.\u001b[39;49m\u001b[43moptimize\u001b[49m\u001b[43m(\u001b[49m\u001b[43mnum_epochs\u001b[49m\u001b[38;5;241;43m=\u001b[39;49m\u001b[38;5;241;43m51\u001b[39;49m\u001b[43m,\u001b[49m\u001b[43m \u001b[49m\u001b[43mlr\u001b[49m\u001b[38;5;241;43m=\u001b[39;49m\u001b[38;5;241;43m0.0001\u001b[39;49m\u001b[43m)\u001b[49m\n",
      "File \u001b[0;32m~/Developer/LTN_Imp/ltn_imp/automation/knowledge_base.py:104\u001b[0m, in \u001b[0;36mKnowledgeBase.optimize\u001b[0;34m(self, num_epochs, log_steps, lr)\u001b[0m\n\u001b[1;32m    102\u001b[0m     \u001b[38;5;28mself\u001b[39m\u001b[38;5;241m.\u001b[39moptimizer\u001b[38;5;241m.\u001b[39mzero_grad()\n\u001b[1;32m    103\u001b[0m     loss \u001b[38;5;241m=\u001b[39m \u001b[38;5;28mself\u001b[39m\u001b[38;5;241m.\u001b[39mloss(rule_outputs)\n\u001b[0;32m--> 104\u001b[0m     \u001b[43mloss\u001b[49m\u001b[38;5;241;43m.\u001b[39;49m\u001b[43mbackward\u001b[49m\u001b[43m(\u001b[49m\u001b[43m)\u001b[49m\n\u001b[1;32m    105\u001b[0m     \u001b[38;5;28mself\u001b[39m\u001b[38;5;241m.\u001b[39moptimizer\u001b[38;5;241m.\u001b[39mstep()\n\u001b[1;32m    107\u001b[0m \u001b[38;5;28;01mif\u001b[39;00m epoch \u001b[38;5;241m%\u001b[39m log_steps \u001b[38;5;241m==\u001b[39m \u001b[38;5;241m0\u001b[39m:\n",
      "File \u001b[0;32m~/Developer/LTN_Imp/.venv/lib/python3.12/site-packages/torch/_tensor.py:525\u001b[0m, in \u001b[0;36mTensor.backward\u001b[0;34m(self, gradient, retain_graph, create_graph, inputs)\u001b[0m\n\u001b[1;32m    515\u001b[0m \u001b[38;5;28;01mif\u001b[39;00m has_torch_function_unary(\u001b[38;5;28mself\u001b[39m):\n\u001b[1;32m    516\u001b[0m     \u001b[38;5;28;01mreturn\u001b[39;00m handle_torch_function(\n\u001b[1;32m    517\u001b[0m         Tensor\u001b[38;5;241m.\u001b[39mbackward,\n\u001b[1;32m    518\u001b[0m         (\u001b[38;5;28mself\u001b[39m,),\n\u001b[0;32m   (...)\u001b[0m\n\u001b[1;32m    523\u001b[0m         inputs\u001b[38;5;241m=\u001b[39minputs,\n\u001b[1;32m    524\u001b[0m     )\n\u001b[0;32m--> 525\u001b[0m \u001b[43mtorch\u001b[49m\u001b[38;5;241;43m.\u001b[39;49m\u001b[43mautograd\u001b[49m\u001b[38;5;241;43m.\u001b[39;49m\u001b[43mbackward\u001b[49m\u001b[43m(\u001b[49m\n\u001b[1;32m    526\u001b[0m \u001b[43m    \u001b[49m\u001b[38;5;28;43mself\u001b[39;49m\u001b[43m,\u001b[49m\u001b[43m \u001b[49m\u001b[43mgradient\u001b[49m\u001b[43m,\u001b[49m\u001b[43m \u001b[49m\u001b[43mretain_graph\u001b[49m\u001b[43m,\u001b[49m\u001b[43m \u001b[49m\u001b[43mcreate_graph\u001b[49m\u001b[43m,\u001b[49m\u001b[43m \u001b[49m\u001b[43minputs\u001b[49m\u001b[38;5;241;43m=\u001b[39;49m\u001b[43minputs\u001b[49m\n\u001b[1;32m    527\u001b[0m \u001b[43m\u001b[49m\u001b[43m)\u001b[49m\n",
      "File \u001b[0;32m~/Developer/LTN_Imp/.venv/lib/python3.12/site-packages/torch/autograd/__init__.py:267\u001b[0m, in \u001b[0;36mbackward\u001b[0;34m(tensors, grad_tensors, retain_graph, create_graph, grad_variables, inputs)\u001b[0m\n\u001b[1;32m    262\u001b[0m     retain_graph \u001b[38;5;241m=\u001b[39m create_graph\n\u001b[1;32m    264\u001b[0m \u001b[38;5;66;03m# The reason we repeat the same comment below is that\u001b[39;00m\n\u001b[1;32m    265\u001b[0m \u001b[38;5;66;03m# some Python versions print out the first line of a multi-line function\u001b[39;00m\n\u001b[1;32m    266\u001b[0m \u001b[38;5;66;03m# calls in the traceback and some print out the last line\u001b[39;00m\n\u001b[0;32m--> 267\u001b[0m \u001b[43m_engine_run_backward\u001b[49m\u001b[43m(\u001b[49m\n\u001b[1;32m    268\u001b[0m \u001b[43m    \u001b[49m\u001b[43mtensors\u001b[49m\u001b[43m,\u001b[49m\n\u001b[1;32m    269\u001b[0m \u001b[43m    \u001b[49m\u001b[43mgrad_tensors_\u001b[49m\u001b[43m,\u001b[49m\n\u001b[1;32m    270\u001b[0m \u001b[43m    \u001b[49m\u001b[43mretain_graph\u001b[49m\u001b[43m,\u001b[49m\n\u001b[1;32m    271\u001b[0m \u001b[43m    \u001b[49m\u001b[43mcreate_graph\u001b[49m\u001b[43m,\u001b[49m\n\u001b[1;32m    272\u001b[0m \u001b[43m    \u001b[49m\u001b[43minputs\u001b[49m\u001b[43m,\u001b[49m\n\u001b[1;32m    273\u001b[0m \u001b[43m    \u001b[49m\u001b[43mallow_unreachable\u001b[49m\u001b[38;5;241;43m=\u001b[39;49m\u001b[38;5;28;43;01mTrue\u001b[39;49;00m\u001b[43m,\u001b[49m\n\u001b[1;32m    274\u001b[0m \u001b[43m    \u001b[49m\u001b[43maccumulate_grad\u001b[49m\u001b[38;5;241;43m=\u001b[39;49m\u001b[38;5;28;43;01mTrue\u001b[39;49;00m\u001b[43m,\u001b[49m\n\u001b[1;32m    275\u001b[0m \u001b[43m\u001b[49m\u001b[43m)\u001b[49m\n",
      "File \u001b[0;32m~/Developer/LTN_Imp/.venv/lib/python3.12/site-packages/torch/autograd/graph.py:744\u001b[0m, in \u001b[0;36m_engine_run_backward\u001b[0;34m(t_outputs, *args, **kwargs)\u001b[0m\n\u001b[1;32m    742\u001b[0m     unregister_hooks \u001b[38;5;241m=\u001b[39m _register_logging_hooks_on_whole_graph(t_outputs)\n\u001b[1;32m    743\u001b[0m \u001b[38;5;28;01mtry\u001b[39;00m:\n\u001b[0;32m--> 744\u001b[0m     \u001b[38;5;28;01mreturn\u001b[39;00m \u001b[43mVariable\u001b[49m\u001b[38;5;241;43m.\u001b[39;49m\u001b[43m_execution_engine\u001b[49m\u001b[38;5;241;43m.\u001b[39;49m\u001b[43mrun_backward\u001b[49m\u001b[43m(\u001b[49m\u001b[43m  \u001b[49m\u001b[38;5;66;43;03m# Calls into the C++ engine to run the backward pass\u001b[39;49;00m\n\u001b[1;32m    745\u001b[0m \u001b[43m        \u001b[49m\u001b[43mt_outputs\u001b[49m\u001b[43m,\u001b[49m\u001b[43m \u001b[49m\u001b[38;5;241;43m*\u001b[39;49m\u001b[43margs\u001b[49m\u001b[43m,\u001b[49m\u001b[43m \u001b[49m\u001b[38;5;241;43m*\u001b[39;49m\u001b[38;5;241;43m*\u001b[39;49m\u001b[43mkwargs\u001b[49m\n\u001b[1;32m    746\u001b[0m \u001b[43m    \u001b[49m\u001b[43m)\u001b[49m  \u001b[38;5;66;03m# Calls into the C++ engine to run the backward pass\u001b[39;00m\n\u001b[1;32m    747\u001b[0m \u001b[38;5;28;01mfinally\u001b[39;00m:\n\u001b[1;32m    748\u001b[0m     \u001b[38;5;28;01mif\u001b[39;00m attach_logging_hooks:\n",
      "\u001b[0;31mKeyboardInterrupt\u001b[0m: "
     ]
    }
   ],
   "source": [
    "kb.optimize(num_epochs=51, lr=0.0001)"
   ]
  },
  {
   "cell_type": "code",
   "execution_count": null,
   "metadata": {},
   "outputs": [],
   "source": [
    "compute_accuracy(circle,rectangle,BoundingBox(), Inside(), Outside(), Intersect(), test_dataloader, torch.device(\"cpu\"))"
   ]
  },
  {
   "cell_type": "code",
   "execution_count": null,
   "metadata": {},
   "outputs": [],
   "source": [
    "kb.declarations"
   ]
  },
  {
   "cell_type": "markdown",
   "metadata": {},
   "source": [
    "## Computation Graph "
   ]
  },
  {
   "cell_type": "code",
   "execution_count": null,
   "metadata": {},
   "outputs": [],
   "source": [
    "batch = next(iter(test_dataloader))\n",
    "\n",
    "var_mapping = {}\n",
    "\n",
    "kb.partition_data(var_mapping,batch, loader )\n",
    "\n",
    "kb.rules[0].comp_graph(var_mapping)"
   ]
  }
 ],
 "metadata": {
  "kernelspec": {
   "display_name": ".venv",
   "language": "python",
   "name": "python3"
  },
  "language_info": {
   "codemirror_mode": {
    "name": "ipython",
    "version": 3
   },
   "file_extension": ".py",
   "mimetype": "text/x-python",
   "name": "python",
   "nbconvert_exporter": "python",
   "pygments_lexer": "ipython3",
   "version": "3.12.4"
  }
 },
 "nbformat": 4,
 "nbformat_minor": 2
}
